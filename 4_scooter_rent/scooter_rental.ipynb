{
 "cells": [
  {
   "cell_type": "markdown",
   "id": "23c8ca06",
   "metadata": {},
   "source": [
    "# Исследование перспектив развития GoFast"
   ]
  },
  {
   "cell_type": "markdown",
   "id": "0cb5d8a3",
   "metadata": {},
   "source": [
    "Необходимо исслодовать данные пользователей и их поездок для сервиса аренды самокатов GoFast. Следует выдвинуть и проверить некоторые гипотезы для роста бизнеса."
   ]
  },
  {
   "cell_type": "markdown",
   "id": "9bf4bc30",
   "metadata": {},
   "source": [
    "Данные тарифов:\n",
    "- без подписки\n",
    "    1. Абонентская плата - отсутствует;\n",
    "    2. Стоимость одной минуты поездки - 8 рублей;\n",
    "    3. Стаимость старта (начала поездки) - 50 рублей;\n",
    "- с подпиской Ultra\n",
    "    1. Абонентская плата - 199 руб/мес;\n",
    "    2. Стоимость одной минуты поездкки - 6 рублей;\n",
    "    3. Стоимость старта - бесплатно."
   ]
  },
  {
   "cell_type": "code",
   "execution_count": 1,
   "id": "9a9d0ed3",
   "metadata": {},
   "outputs": [],
   "source": [
    "import pandas as pd\n",
    "import numpy as np\n",
    "import matplotlib.pyplot as plt\n",
    "import seaborn as sns\n",
    "from scipy import stats as st"
   ]
  },
  {
   "cell_type": "markdown",
   "id": "c42cbe00",
   "metadata": {},
   "source": [
    "#### Шаг 1. Загрузка данных"
   ]
  },
  {
   "cell_type": "code",
   "execution_count": 2,
   "id": "eff9f206",
   "metadata": {},
   "outputs": [],
   "source": [
    "#БД пользователей\n",
    "data_users = pd.read_csv('/datasets/users_go.csv')\n",
    "#БД поездок\n",
    "data_rides = pd.read_csv('/datasets/rides_go.csv')\n",
    "#БД подписок\n",
    "data_subs = pd.read_csv('/datasets/subscriptions_go.csv')"
   ]
  },
  {
   "cell_type": "code",
   "execution_count": 3,
   "id": "4a66cec6",
   "metadata": {},
   "outputs": [],
   "source": [
    "#функция вывода информации\n",
    "def information(dataset):\n",
    "    return (\n",
    "        print( display(dataset.head(10)),\n",
    "              display(dataset.info()),\n",
    "              display(dataset.describe(percentiles=[0.05,0.1,1/4,1/2,3/4,0.9,0.95,0.99]).T),\n",
    "              display(dataset.hist(bins=50, figsize=(20,5)), \"Явные дубликаты:\",\n",
    "                     dataset.duplicated().sum())\n",
    "              \n",
    "              ))\n",
    "    "
   ]
  },
  {
   "cell_type": "markdown",
   "id": "64bbdf58",
   "metadata": {},
   "source": [
    "##### Изучение данных"
   ]
  },
  {
   "cell_type": "markdown",
   "id": "df99c1fe",
   "metadata": {},
   "source": [
    "###### Информация о пользователях"
   ]
  },
  {
   "cell_type": "code",
   "execution_count": 4,
   "id": "42765a6a",
   "metadata": {
    "scrolled": true
   },
   "outputs": [
    {
     "data": {
      "text/html": [
       "<div>\n",
       "<style scoped>\n",
       "    .dataframe tbody tr th:only-of-type {\n",
       "        vertical-align: middle;\n",
       "    }\n",
       "\n",
       "    .dataframe tbody tr th {\n",
       "        vertical-align: top;\n",
       "    }\n",
       "\n",
       "    .dataframe thead th {\n",
       "        text-align: right;\n",
       "    }\n",
       "</style>\n",
       "<table border=\"1\" class=\"dataframe\">\n",
       "  <thead>\n",
       "    <tr style=\"text-align: right;\">\n",
       "      <th></th>\n",
       "      <th>user_id</th>\n",
       "      <th>name</th>\n",
       "      <th>age</th>\n",
       "      <th>city</th>\n",
       "      <th>subscription_type</th>\n",
       "    </tr>\n",
       "  </thead>\n",
       "  <tbody>\n",
       "    <tr>\n",
       "      <th>0</th>\n",
       "      <td>1</td>\n",
       "      <td>Кира</td>\n",
       "      <td>22</td>\n",
       "      <td>Тюмень</td>\n",
       "      <td>ultra</td>\n",
       "    </tr>\n",
       "    <tr>\n",
       "      <th>1</th>\n",
       "      <td>2</td>\n",
       "      <td>Станислав</td>\n",
       "      <td>31</td>\n",
       "      <td>Омск</td>\n",
       "      <td>ultra</td>\n",
       "    </tr>\n",
       "    <tr>\n",
       "      <th>2</th>\n",
       "      <td>3</td>\n",
       "      <td>Алексей</td>\n",
       "      <td>20</td>\n",
       "      <td>Москва</td>\n",
       "      <td>ultra</td>\n",
       "    </tr>\n",
       "    <tr>\n",
       "      <th>3</th>\n",
       "      <td>4</td>\n",
       "      <td>Константин</td>\n",
       "      <td>26</td>\n",
       "      <td>Ростов-на-Дону</td>\n",
       "      <td>ultra</td>\n",
       "    </tr>\n",
       "    <tr>\n",
       "      <th>4</th>\n",
       "      <td>5</td>\n",
       "      <td>Адель</td>\n",
       "      <td>28</td>\n",
       "      <td>Омск</td>\n",
       "      <td>ultra</td>\n",
       "    </tr>\n",
       "    <tr>\n",
       "      <th>5</th>\n",
       "      <td>6</td>\n",
       "      <td>Регина</td>\n",
       "      <td>25</td>\n",
       "      <td>Краснодар</td>\n",
       "      <td>ultra</td>\n",
       "    </tr>\n",
       "    <tr>\n",
       "      <th>6</th>\n",
       "      <td>7</td>\n",
       "      <td>Игорь</td>\n",
       "      <td>23</td>\n",
       "      <td>Омск</td>\n",
       "      <td>ultra</td>\n",
       "    </tr>\n",
       "    <tr>\n",
       "      <th>7</th>\n",
       "      <td>8</td>\n",
       "      <td>Юрий</td>\n",
       "      <td>23</td>\n",
       "      <td>Краснодар</td>\n",
       "      <td>ultra</td>\n",
       "    </tr>\n",
       "    <tr>\n",
       "      <th>8</th>\n",
       "      <td>9</td>\n",
       "      <td>Ян</td>\n",
       "      <td>21</td>\n",
       "      <td>Пятигорск</td>\n",
       "      <td>ultra</td>\n",
       "    </tr>\n",
       "    <tr>\n",
       "      <th>9</th>\n",
       "      <td>10</td>\n",
       "      <td>Валерий</td>\n",
       "      <td>18</td>\n",
       "      <td>Екатеринбург</td>\n",
       "      <td>ultra</td>\n",
       "    </tr>\n",
       "  </tbody>\n",
       "</table>\n",
       "</div>"
      ],
      "text/plain": [
       "   user_id        name  age            city subscription_type\n",
       "0        1        Кира   22          Тюмень             ultra\n",
       "1        2   Станислав   31            Омск             ultra\n",
       "2        3     Алексей   20          Москва             ultra\n",
       "3        4  Константин   26  Ростов-на-Дону             ultra\n",
       "4        5       Адель   28            Омск             ultra\n",
       "5        6      Регина   25       Краснодар             ultra\n",
       "6        7       Игорь   23            Омск             ultra\n",
       "7        8        Юрий   23       Краснодар             ultra\n",
       "8        9          Ян   21       Пятигорск             ultra\n",
       "9       10     Валерий   18    Екатеринбург             ultra"
      ]
     },
     "metadata": {},
     "output_type": "display_data"
    },
    {
     "name": "stdout",
     "output_type": "stream",
     "text": [
      "<class 'pandas.core.frame.DataFrame'>\n",
      "RangeIndex: 1565 entries, 0 to 1564\n",
      "Data columns (total 5 columns):\n",
      " #   Column             Non-Null Count  Dtype \n",
      "---  ------             --------------  ----- \n",
      " 0   user_id            1565 non-null   int64 \n",
      " 1   name               1565 non-null   object\n",
      " 2   age                1565 non-null   int64 \n",
      " 3   city               1565 non-null   object\n",
      " 4   subscription_type  1565 non-null   object\n",
      "dtypes: int64(2), object(3)\n",
      "memory usage: 61.3+ KB\n"
     ]
    },
    {
     "data": {
      "text/plain": [
       "None"
      ]
     },
     "metadata": {},
     "output_type": "display_data"
    },
    {
     "data": {
      "text/html": [
       "<div>\n",
       "<style scoped>\n",
       "    .dataframe tbody tr th:only-of-type {\n",
       "        vertical-align: middle;\n",
       "    }\n",
       "\n",
       "    .dataframe tbody tr th {\n",
       "        vertical-align: top;\n",
       "    }\n",
       "\n",
       "    .dataframe thead th {\n",
       "        text-align: right;\n",
       "    }\n",
       "</style>\n",
       "<table border=\"1\" class=\"dataframe\">\n",
       "  <thead>\n",
       "    <tr style=\"text-align: right;\">\n",
       "      <th></th>\n",
       "      <th>count</th>\n",
       "      <th>mean</th>\n",
       "      <th>std</th>\n",
       "      <th>min</th>\n",
       "      <th>5%</th>\n",
       "      <th>10%</th>\n",
       "      <th>25%</th>\n",
       "      <th>50%</th>\n",
       "      <th>75%</th>\n",
       "      <th>90%</th>\n",
       "      <th>95%</th>\n",
       "      <th>99%</th>\n",
       "      <th>max</th>\n",
       "    </tr>\n",
       "  </thead>\n",
       "  <tbody>\n",
       "    <tr>\n",
       "      <th>user_id</th>\n",
       "      <td>1565.0</td>\n",
       "      <td>762.633866</td>\n",
       "      <td>443.260155</td>\n",
       "      <td>1.0</td>\n",
       "      <td>75.2</td>\n",
       "      <td>149.4</td>\n",
       "      <td>378.0</td>\n",
       "      <td>762.0</td>\n",
       "      <td>1146.0</td>\n",
       "      <td>1377.6</td>\n",
       "      <td>1455.8</td>\n",
       "      <td>1518.36</td>\n",
       "      <td>1534.0</td>\n",
       "    </tr>\n",
       "    <tr>\n",
       "      <th>age</th>\n",
       "      <td>1565.0</td>\n",
       "      <td>24.922045</td>\n",
       "      <td>4.553496</td>\n",
       "      <td>12.0</td>\n",
       "      <td>17.2</td>\n",
       "      <td>19.0</td>\n",
       "      <td>22.0</td>\n",
       "      <td>25.0</td>\n",
       "      <td>28.0</td>\n",
       "      <td>31.0</td>\n",
       "      <td>33.0</td>\n",
       "      <td>35.00</td>\n",
       "      <td>43.0</td>\n",
       "    </tr>\n",
       "  </tbody>\n",
       "</table>\n",
       "</div>"
      ],
      "text/plain": [
       "          count        mean         std   min    5%    10%    25%    50%  \\\n",
       "user_id  1565.0  762.633866  443.260155   1.0  75.2  149.4  378.0  762.0   \n",
       "age      1565.0   24.922045    4.553496  12.0  17.2   19.0   22.0   25.0   \n",
       "\n",
       "            75%     90%     95%      99%     max  \n",
       "user_id  1146.0  1377.6  1455.8  1518.36  1534.0  \n",
       "age        28.0    31.0    33.0    35.00    43.0  "
      ]
     },
     "metadata": {},
     "output_type": "display_data"
    },
    {
     "data": {
      "text/plain": [
       "array([[<AxesSubplot:title={'center':'user_id'}>,\n",
       "        <AxesSubplot:title={'center':'age'}>]], dtype=object)"
      ]
     },
     "metadata": {},
     "output_type": "display_data"
    },
    {
     "data": {
      "text/plain": [
       "'Явные дубликаты:'"
      ]
     },
     "metadata": {},
     "output_type": "display_data"
    },
    {
     "data": {
      "text/plain": [
       "31"
      ]
     },
     "metadata": {},
     "output_type": "display_data"
    },
    {
     "name": "stdout",
     "output_type": "stream",
     "text": [
      "None None None None\n"
     ]
    },
    {
     "data": {
      "image/png": "[encoded data removed]",
      "text/plain": [
       "<Figure size 1440x360 with 2 Axes>"
      ]
     },
     "metadata": {
      "needs_background": "light"
     },
     "output_type": "display_data"
    }
   ],
   "source": [
    "#Вывод информации о пользователях\n",
    "information(data_users)"
   ]
  },
  {
   "cell_type": "markdown",
   "id": "23bf3b9a",
   "metadata": {},
   "source": [
    "**Представленные данные**"
   ]
  },
  {
   "cell_type": "markdown",
   "id": "15d1f8ec",
   "metadata": {},
   "source": [
    "Представлены следующие данные:\n",
    "- `user_id` - индентификатор пользователя;\n",
    "- `name` - имя пользователя;\n",
    "- `age` - возраст пользователя;\n",
    "- `city` - город активности пользователя;\n",
    "- `subscription_type` - тип подписки (free/ultra);"
   ]
  },
  {
   "cell_type": "markdown",
   "id": "279850d9",
   "metadata": {},
   "source": [
    "**Информация о данных**"
   ]
  },
  {
   "cell_type": "markdown",
   "id": "f3500d96",
   "metadata": {},
   "source": [
    "- Необнаружено неопределенных значений, присутствует 31 дублирующаяся строка;\n",
    "- Распределение данных о возрасте является нормальным - отсутствуют выбросы, пик в районе среднего и медианного значений - 25 лет;\n",
    "- Требуется перевод формата данных следующих столбцов: `name`,`city`,`subscription_type`."
   ]
  },
  {
   "cell_type": "markdown",
   "id": "cbb6576d",
   "metadata": {},
   "source": [
    "###### Информация о поездках пользователей"
   ]
  },
  {
   "cell_type": "code",
   "execution_count": 5,
   "id": "536f1b60",
   "metadata": {
    "scrolled": true
   },
   "outputs": [
    {
     "data": {
      "text/html": [
       "<div>\n",
       "<style scoped>\n",
       "    .dataframe tbody tr th:only-of-type {\n",
       "        vertical-align: middle;\n",
       "    }\n",
       "\n",
       "    .dataframe tbody tr th {\n",
       "        vertical-align: top;\n",
       "    }\n",
       "\n",
       "    .dataframe thead th {\n",
       "        text-align: right;\n",
       "    }\n",
       "</style>\n",
       "<table border=\"1\" class=\"dataframe\">\n",
       "  <thead>\n",
       "    <tr style=\"text-align: right;\">\n",
       "      <th></th>\n",
       "      <th>user_id</th>\n",
       "      <th>distance</th>\n",
       "      <th>duration</th>\n",
       "      <th>date</th>\n",
       "    </tr>\n",
       "  </thead>\n",
       "  <tbody>\n",
       "    <tr>\n",
       "      <th>0</th>\n",
       "      <td>1</td>\n",
       "      <td>4409.919140</td>\n",
       "      <td>25.599769</td>\n",
       "      <td>2021-01-01</td>\n",
       "    </tr>\n",
       "    <tr>\n",
       "      <th>1</th>\n",
       "      <td>1</td>\n",
       "      <td>2617.592153</td>\n",
       "      <td>15.816871</td>\n",
       "      <td>2021-01-18</td>\n",
       "    </tr>\n",
       "    <tr>\n",
       "      <th>2</th>\n",
       "      <td>1</td>\n",
       "      <td>754.159807</td>\n",
       "      <td>6.232113</td>\n",
       "      <td>2021-04-20</td>\n",
       "    </tr>\n",
       "    <tr>\n",
       "      <th>3</th>\n",
       "      <td>1</td>\n",
       "      <td>2694.783254</td>\n",
       "      <td>18.511000</td>\n",
       "      <td>2021-08-11</td>\n",
       "    </tr>\n",
       "    <tr>\n",
       "      <th>4</th>\n",
       "      <td>1</td>\n",
       "      <td>4028.687306</td>\n",
       "      <td>26.265803</td>\n",
       "      <td>2021-08-28</td>\n",
       "    </tr>\n",
       "    <tr>\n",
       "      <th>5</th>\n",
       "      <td>1</td>\n",
       "      <td>2770.890808</td>\n",
       "      <td>16.650138</td>\n",
       "      <td>2021-10-09</td>\n",
       "    </tr>\n",
       "    <tr>\n",
       "      <th>6</th>\n",
       "      <td>1</td>\n",
       "      <td>3039.020292</td>\n",
       "      <td>14.927879</td>\n",
       "      <td>2021-10-19</td>\n",
       "    </tr>\n",
       "    <tr>\n",
       "      <th>7</th>\n",
       "      <td>1</td>\n",
       "      <td>2842.118050</td>\n",
       "      <td>23.117468</td>\n",
       "      <td>2021-11-06</td>\n",
       "    </tr>\n",
       "    <tr>\n",
       "      <th>8</th>\n",
       "      <td>1</td>\n",
       "      <td>3412.690668</td>\n",
       "      <td>15.238072</td>\n",
       "      <td>2021-11-14</td>\n",
       "    </tr>\n",
       "    <tr>\n",
       "      <th>9</th>\n",
       "      <td>1</td>\n",
       "      <td>748.690645</td>\n",
       "      <td>15.041884</td>\n",
       "      <td>2021-11-22</td>\n",
       "    </tr>\n",
       "  </tbody>\n",
       "</table>\n",
       "</div>"
      ],
      "text/plain": [
       "   user_id     distance   duration        date\n",
       "0        1  4409.919140  25.599769  2021-01-01\n",
       "1        1  2617.592153  15.816871  2021-01-18\n",
       "2        1   754.159807   6.232113  2021-04-20\n",
       "3        1  2694.783254  18.511000  2021-08-11\n",
       "4        1  4028.687306  26.265803  2021-08-28\n",
       "5        1  2770.890808  16.650138  2021-10-09\n",
       "6        1  3039.020292  14.927879  2021-10-19\n",
       "7        1  2842.118050  23.117468  2021-11-06\n",
       "8        1  3412.690668  15.238072  2021-11-14\n",
       "9        1   748.690645  15.041884  2021-11-22"
      ]
     },
     "metadata": {},
     "output_type": "display_data"
    },
    {
     "name": "stdout",
     "output_type": "stream",
     "text": [
      "<class 'pandas.core.frame.DataFrame'>\n",
      "RangeIndex: 18068 entries, 0 to 18067\n",
      "Data columns (total 4 columns):\n",
      " #   Column    Non-Null Count  Dtype  \n",
      "---  ------    --------------  -----  \n",
      " 0   user_id   18068 non-null  int64  \n",
      " 1   distance  18068 non-null  float64\n",
      " 2   duration  18068 non-null  float64\n",
      " 3   date      18068 non-null  object \n",
      "dtypes: float64(2), int64(1), object(1)\n",
      "memory usage: 564.8+ KB\n"
     ]
    },
    {
     "data": {
      "text/plain": [
       "None"
      ]
     },
     "metadata": {},
     "output_type": "display_data"
    },
    {
     "data": {
      "text/html": [
       "<div>\n",
       "<style scoped>\n",
       "    .dataframe tbody tr th:only-of-type {\n",
       "        vertical-align: middle;\n",
       "    }\n",
       "\n",
       "    .dataframe tbody tr th {\n",
       "        vertical-align: top;\n",
       "    }\n",
       "\n",
       "    .dataframe thead th {\n",
       "        text-align: right;\n",
       "    }\n",
       "</style>\n",
       "<table border=\"1\" class=\"dataframe\">\n",
       "  <thead>\n",
       "    <tr style=\"text-align: right;\">\n",
       "      <th></th>\n",
       "      <th>count</th>\n",
       "      <th>mean</th>\n",
       "      <th>std</th>\n",
       "      <th>min</th>\n",
       "      <th>5%</th>\n",
       "      <th>10%</th>\n",
       "      <th>25%</th>\n",
       "      <th>50%</th>\n",
       "      <th>75%</th>\n",
       "      <th>90%</th>\n",
       "      <th>95%</th>\n",
       "      <th>99%</th>\n",
       "      <th>max</th>\n",
       "    </tr>\n",
       "  </thead>\n",
       "  <tbody>\n",
       "    <tr>\n",
       "      <th>user_id</th>\n",
       "      <td>18068.0</td>\n",
       "      <td>842.869936</td>\n",
       "      <td>434.734317</td>\n",
       "      <td>1.000000</td>\n",
       "      <td>96.000000</td>\n",
       "      <td>196.000000</td>\n",
       "      <td>487.000000</td>\n",
       "      <td>889.000000</td>\n",
       "      <td>1213.250000</td>\n",
       "      <td>1407.000000</td>\n",
       "      <td>1471.000000</td>\n",
       "      <td>1523.000000</td>\n",
       "      <td>1534.000000</td>\n",
       "    </tr>\n",
       "    <tr>\n",
       "      <th>distance</th>\n",
       "      <td>18068.0</td>\n",
       "      <td>3070.659976</td>\n",
       "      <td>1116.831209</td>\n",
       "      <td>0.855683</td>\n",
       "      <td>689.007279</td>\n",
       "      <td>1517.693302</td>\n",
       "      <td>2543.226360</td>\n",
       "      <td>3133.609994</td>\n",
       "      <td>3776.222735</td>\n",
       "      <td>4392.129872</td>\n",
       "      <td>4740.088596</td>\n",
       "      <td>5478.621528</td>\n",
       "      <td>7211.007745</td>\n",
       "    </tr>\n",
       "    <tr>\n",
       "      <th>duration</th>\n",
       "      <td>18068.0</td>\n",
       "      <td>17.805011</td>\n",
       "      <td>6.091051</td>\n",
       "      <td>0.500000</td>\n",
       "      <td>8.244528</td>\n",
       "      <td>10.293593</td>\n",
       "      <td>13.597563</td>\n",
       "      <td>17.678395</td>\n",
       "      <td>21.724800</td>\n",
       "      <td>25.760508</td>\n",
       "      <td>28.428730</td>\n",
       "      <td>32.503580</td>\n",
       "      <td>40.823963</td>\n",
       "    </tr>\n",
       "  </tbody>\n",
       "</table>\n",
       "</div>"
      ],
      "text/plain": [
       "            count         mean          std       min          5%  \\\n",
       "user_id   18068.0   842.869936   434.734317  1.000000   96.000000   \n",
       "distance  18068.0  3070.659976  1116.831209  0.855683  689.007279   \n",
       "duration  18068.0    17.805011     6.091051  0.500000    8.244528   \n",
       "\n",
       "                  10%          25%          50%          75%          90%  \\\n",
       "user_id    196.000000   487.000000   889.000000  1213.250000  1407.000000   \n",
       "distance  1517.693302  2543.226360  3133.609994  3776.222735  4392.129872   \n",
       "duration    10.293593    13.597563    17.678395    21.724800    25.760508   \n",
       "\n",
       "                  95%          99%          max  \n",
       "user_id   1471.000000  1523.000000  1534.000000  \n",
       "distance  4740.088596  5478.621528  7211.007745  \n",
       "duration    28.428730    32.503580    40.823963  "
      ]
     },
     "metadata": {},
     "output_type": "display_data"
    },
    {
     "data": {
      "text/plain": [
       "array([[<AxesSubplot:title={'center':'user_id'}>,\n",
       "        <AxesSubplot:title={'center':'distance'}>],\n",
       "       [<AxesSubplot:title={'center':'duration'}>, <AxesSubplot:>]],\n",
       "      dtype=object)"
      ]
     },
     "metadata": {},
     "output_type": "display_data"
    },
    {
     "data": {
      "text/plain": [
       "'Явные дубликаты:'"
      ]
     },
     "metadata": {},
     "output_type": "display_data"
    },
    {
     "data": {
      "text/plain": [
       "0"
      ]
     },
     "metadata": {},
     "output_type": "display_data"
    },
    {
     "name": "stdout",
     "output_type": "stream",
     "text": [
      "None None None None\n"
     ]
    },
    {
     "data": {
      "image/png": "[encoded data removed]",
      "text/plain": [
       "<Figure size 1440x360 with 4 Axes>"
      ]
     },
     "metadata": {
      "needs_background": "light"
     },
     "output_type": "display_data"
    }
   ],
   "source": [
    "#Вывод информации о поездках пользователей\n",
    "information(data_rides)"
   ]
  },
  {
   "cell_type": "markdown",
   "id": "e33ba53b",
   "metadata": {},
   "source": [
    "**Представленные данные**"
   ]
  },
  {
   "cell_type": "markdown",
   "id": "1e867934",
   "metadata": {},
   "source": [
    "Представлены следующие данные:\n",
    "- `user_id` - индентификатор пользователя;\n",
    "- `distance` - расстояние, которое пользователь проехал за одну сессию (в метрах);\n",
    "- `duration` - продолжительность сессии (в минутах), момент с активации до окончания сессии пользователем;\n",
    "- `date` - дата поездки."
   ]
  },
  {
   "cell_type": "markdown",
   "id": "f24c499a",
   "metadata": {},
   "source": [
    "**Информация о данных**"
   ]
  },
  {
   "cell_type": "markdown",
   "id": "440a2614",
   "metadata": {},
   "source": [
    "- Необнаружено неопределенных значений и явных дубликатов;\n",
    "- Распределение в дистанции поездки является нормальным, за исключением возрастания до 1000м и спада в районе 1500м;\n",
    "- Распределение в продолжительности сессии являтся нормальным, за исключением выброса в первую минуту;\n",
    "- Требуется перевод формата данных столбца: `date`."
   ]
  },
  {
   "cell_type": "markdown",
   "id": "1502818d",
   "metadata": {},
   "source": [
    "###### Информация о тарифах"
   ]
  },
  {
   "cell_type": "code",
   "execution_count": 6,
   "id": "7b5746dd",
   "metadata": {},
   "outputs": [
    {
     "data": {
      "text/html": [
       "<div>\n",
       "<style scoped>\n",
       "    .dataframe tbody tr th:only-of-type {\n",
       "        vertical-align: middle;\n",
       "    }\n",
       "\n",
       "    .dataframe tbody tr th {\n",
       "        vertical-align: top;\n",
       "    }\n",
       "\n",
       "    .dataframe thead th {\n",
       "        text-align: right;\n",
       "    }\n",
       "</style>\n",
       "<table border=\"1\" class=\"dataframe\">\n",
       "  <thead>\n",
       "    <tr style=\"text-align: right;\">\n",
       "      <th></th>\n",
       "      <th>subscription_type</th>\n",
       "      <th>minute_price</th>\n",
       "      <th>start_ride_price</th>\n",
       "      <th>subscription_fee</th>\n",
       "    </tr>\n",
       "  </thead>\n",
       "  <tbody>\n",
       "    <tr>\n",
       "      <th>0</th>\n",
       "      <td>free</td>\n",
       "      <td>8</td>\n",
       "      <td>50</td>\n",
       "      <td>0</td>\n",
       "    </tr>\n",
       "    <tr>\n",
       "      <th>1</th>\n",
       "      <td>ultra</td>\n",
       "      <td>6</td>\n",
       "      <td>0</td>\n",
       "      <td>199</td>\n",
       "    </tr>\n",
       "  </tbody>\n",
       "</table>\n",
       "</div>"
      ],
      "text/plain": [
       "  subscription_type  minute_price  start_ride_price  subscription_fee\n",
       "0              free             8                50                 0\n",
       "1             ultra             6                 0               199"
      ]
     },
     "metadata": {},
     "output_type": "display_data"
    },
    {
     "name": "stdout",
     "output_type": "stream",
     "text": [
      "<class 'pandas.core.frame.DataFrame'>\n",
      "RangeIndex: 2 entries, 0 to 1\n",
      "Data columns (total 4 columns):\n",
      " #   Column             Non-Null Count  Dtype \n",
      "---  ------             --------------  ----- \n",
      " 0   subscription_type  2 non-null      object\n",
      " 1   minute_price       2 non-null      int64 \n",
      " 2   start_ride_price   2 non-null      int64 \n",
      " 3   subscription_fee   2 non-null      int64 \n",
      "dtypes: int64(3), object(1)\n",
      "memory usage: 192.0+ bytes\n"
     ]
    },
    {
     "data": {
      "text/plain": [
       "None"
      ]
     },
     "metadata": {},
     "output_type": "display_data"
    },
    {
     "name": "stdout",
     "output_type": "stream",
     "text": [
      "None None\n"
     ]
    }
   ],
   "source": [
    "print(display(data_subs),\n",
    "      display(data_subs.info()))"
   ]
  },
  {
   "cell_type": "markdown",
   "id": "636c7203",
   "metadata": {},
   "source": [
    "**Представленные данные**"
   ]
  },
  {
   "cell_type": "markdown",
   "id": "d751573b",
   "metadata": {},
   "source": [
    "Представлены следующие данные:\n",
    "- `subscription_type` - тип подписки;\n",
    "- `minute_price` - стоимость (руб.) за минуту;\n",
    "- `start_ride_price` - стоимость начала поездки;\n",
    "- `subscription_fee` - стоимость ежемесячного платежа."
   ]
  },
  {
   "cell_type": "markdown",
   "id": "6a2276d8",
   "metadata": {},
   "source": [
    "**Информация о данных**"
   ]
  },
  {
   "cell_type": "markdown",
   "id": "38941e5c",
   "metadata": {},
   "source": [
    "- Необнаружено неопределенных значений и явных дубликатов;\n",
    "- Требуется перевод формата данных столбца: `subscription_type`."
   ]
  },
  {
   "cell_type": "markdown",
   "id": "d693b0e9",
   "metadata": {},
   "source": [
    "###### Вывод"
   ]
  },
  {
   "cell_type": "markdown",
   "id": "288b6982",
   "metadata": {},
   "source": [
    "**Информация о пользователях**"
   ]
  },
  {
   "cell_type": "markdown",
   "id": "cc0f2808",
   "metadata": {},
   "source": [
    "Необходимо:\n",
    "1. Проверить и исправить дублириющаяся значения;\n",
    "2. Изменить формат следующих столбцов: `name`,`city`,`subscription_type`."
   ]
  },
  {
   "cell_type": "markdown",
   "id": "d82a129b",
   "metadata": {},
   "source": [
    "**Информация о поездах пользователей**"
   ]
  },
  {
   "cell_type": "markdown",
   "id": "e96fcf1f",
   "metadata": {},
   "source": [
    "Необходимо:\n",
    "- Исследовать причины повышения количества пользователей на дистанции поездок от 0м до 1500м;\n",
    "- Исследовать выброс на продолжительности поездки в районе одной минуты;\n",
    "- Требуется перевод формата данных столбца: `date`."
   ]
  },
  {
   "cell_type": "markdown",
   "id": "b6d4a496",
   "metadata": {},
   "source": [
    "**Информация о тарифах**"
   ]
  },
  {
   "cell_type": "markdown",
   "id": "aa115aa4",
   "metadata": {},
   "source": [
    "Необходимо:\n",
    "- Требуется перевод формата данных столбца: `subscription_type`."
   ]
  },
  {
   "cell_type": "markdown",
   "id": "e95ebca7",
   "metadata": {},
   "source": [
    "#### Шаг 2. Предобработка данных"
   ]
  },
  {
   "cell_type": "code",
   "execution_count": 7,
   "id": "b8bb7569",
   "metadata": {},
   "outputs": [],
   "source": [
    "df_users = data_users.copy()\n",
    "df_rides = data_rides.copy()\n",
    "df_subs = data_subs.copy()"
   ]
  },
  {
   "cell_type": "markdown",
   "id": "b9bab389",
   "metadata": {},
   "source": [
    "Изменим названия столбцов для удобства работы с данными"
   ]
  },
  {
   "cell_type": "code",
   "execution_count": 8,
   "id": "70bc457f",
   "metadata": {},
   "outputs": [],
   "source": [
    "df_users = df_users.rename(columns={'subscription_type':'subs_type'})\n",
    "df_subs = df_subs.rename(columns={'subscription_type':'subs_type', 'subscription_fee':'subs_fee'})"
   ]
  },
  {
   "cell_type": "code",
   "execution_count": 9,
   "id": "0273d713",
   "metadata": {},
   "outputs": [
    {
     "data": {
      "text/plain": [
       "Index(['user_id', 'name', 'age', 'city', 'subs_type'], dtype='object')"
      ]
     },
     "execution_count": 9,
     "metadata": {},
     "output_type": "execute_result"
    }
   ],
   "source": [
    "df_users.columns"
   ]
  },
  {
   "cell_type": "code",
   "execution_count": 10,
   "id": "4e026362",
   "metadata": {},
   "outputs": [
    {
     "data": {
      "text/plain": [
       "Index(['subs_type', 'minute_price', 'start_ride_price', 'subs_fee'], dtype='object')"
      ]
     },
     "execution_count": 10,
     "metadata": {},
     "output_type": "execute_result"
    }
   ],
   "source": [
    "df_subs.columns"
   ]
  },
  {
   "cell_type": "markdown",
   "id": "341bdbf2",
   "metadata": {},
   "source": [
    "##### Изменение форматов столбцов"
   ]
  },
  {
   "cell_type": "code",
   "execution_count": 11,
   "id": "4e8fcd5b",
   "metadata": {},
   "outputs": [
    {
     "name": "stdout",
     "output_type": "stream",
     "text": [
      "<class 'pandas.core.frame.DataFrame'>\n",
      "RangeIndex: 18068 entries, 0 to 18067\n",
      "Data columns (total 4 columns):\n",
      " #   Column    Non-Null Count  Dtype         \n",
      "---  ------    --------------  -----         \n",
      " 0   user_id   18068 non-null  int64         \n",
      " 1   distance  18068 non-null  float64       \n",
      " 2   duration  18068 non-null  float64       \n",
      " 3   date      18068 non-null  datetime64[ns]\n",
      "dtypes: datetime64[ns](1), float64(2), int64(1)\n",
      "memory usage: 564.8 KB\n"
     ]
    }
   ],
   "source": [
    "#Приведение 'date' к типу даты pandas\n",
    "df_rides['date'] = pd.to_datetime(df_rides['date'], format='%Y-%m-%d')\n",
    "df_rides.info()"
   ]
  },
  {
   "cell_type": "code",
   "execution_count": 12,
   "id": "f7da4729",
   "metadata": {},
   "outputs": [
    {
     "name": "stdout",
     "output_type": "stream",
     "text": [
      "<class 'pandas.core.frame.DataFrame'>\n",
      "RangeIndex: 1565 entries, 0 to 1564\n",
      "Data columns (total 5 columns):\n",
      " #   Column     Non-Null Count  Dtype \n",
      "---  ------     --------------  ----- \n",
      " 0   user_id    1565 non-null   int64 \n",
      " 1   name       1565 non-null   string\n",
      " 2   age        1565 non-null   int64 \n",
      " 3   city       1565 non-null   string\n",
      " 4   subs_type  1565 non-null   string\n",
      "dtypes: int64(2), string(3)\n",
      "memory usage: 61.3 KB\n"
     ]
    }
   ],
   "source": [
    "#Приведение столбцов 'name', 'city', 'subs_type' в датасете df_users в string\n",
    "df_users['name'] = df_users['name'].astype('string')\n",
    "df_users['city'] = df_users['city'].astype('string')\n",
    "df_users['subs_type'] = df_users['subs_type'].astype('string')\n",
    "df_users.info()"
   ]
  },
  {
   "cell_type": "code",
   "execution_count": 13,
   "id": "bd16d726",
   "metadata": {},
   "outputs": [
    {
     "name": "stdout",
     "output_type": "stream",
     "text": [
      "<class 'pandas.core.frame.DataFrame'>\n",
      "RangeIndex: 2 entries, 0 to 1\n",
      "Data columns (total 4 columns):\n",
      " #   Column            Non-Null Count  Dtype \n",
      "---  ------            --------------  ----- \n",
      " 0   subs_type         2 non-null      string\n",
      " 1   minute_price      2 non-null      int64 \n",
      " 2   start_ride_price  2 non-null      int64 \n",
      " 3   subs_fee          2 non-null      int64 \n",
      "dtypes: int64(3), string(1)\n",
      "memory usage: 192.0 bytes\n"
     ]
    }
   ],
   "source": [
    "#Приведение столбца 'subs_type' из df_subs в string\n",
    "df_subs['subs_type'] = df_subs['subs_type'].astype('string')\n",
    "df_subs.info()"
   ]
  },
  {
   "cell_type": "markdown",
   "id": "bddc5c76",
   "metadata": {},
   "source": [
    "##### Создание столбца с номером месяца"
   ]
  },
  {
   "cell_type": "markdown",
   "id": "76ec90a1",
   "metadata": {},
   "source": [
    "Для анализа периодов стоит создать столбец, учитывающий сезонность поездок. Так, например, количество поездок в феврале должно быть равно нулю или быть минимальным. Также этот столбец позволит определять месячную выручку."
   ]
  },
  {
   "cell_type": "code",
   "execution_count": 14,
   "id": "a99df069",
   "metadata": {},
   "outputs": [
    {
     "data": {
      "text/html": [
       "<div>\n",
       "<style scoped>\n",
       "    .dataframe tbody tr th:only-of-type {\n",
       "        vertical-align: middle;\n",
       "    }\n",
       "\n",
       "    .dataframe tbody tr th {\n",
       "        vertical-align: top;\n",
       "    }\n",
       "\n",
       "    .dataframe thead th {\n",
       "        text-align: right;\n",
       "    }\n",
       "</style>\n",
       "<table border=\"1\" class=\"dataframe\">\n",
       "  <thead>\n",
       "    <tr style=\"text-align: right;\">\n",
       "      <th></th>\n",
       "      <th>user_id</th>\n",
       "      <th>distance</th>\n",
       "      <th>duration</th>\n",
       "      <th>date</th>\n",
       "      <th>month</th>\n",
       "    </tr>\n",
       "  </thead>\n",
       "  <tbody>\n",
       "    <tr>\n",
       "      <th>0</th>\n",
       "      <td>1</td>\n",
       "      <td>4409.919140</td>\n",
       "      <td>25.599769</td>\n",
       "      <td>2021-01-01</td>\n",
       "      <td>1</td>\n",
       "    </tr>\n",
       "    <tr>\n",
       "      <th>1</th>\n",
       "      <td>1</td>\n",
       "      <td>2617.592153</td>\n",
       "      <td>15.816871</td>\n",
       "      <td>2021-01-18</td>\n",
       "      <td>1</td>\n",
       "    </tr>\n",
       "    <tr>\n",
       "      <th>2</th>\n",
       "      <td>1</td>\n",
       "      <td>754.159807</td>\n",
       "      <td>6.232113</td>\n",
       "      <td>2021-04-20</td>\n",
       "      <td>4</td>\n",
       "    </tr>\n",
       "    <tr>\n",
       "      <th>3</th>\n",
       "      <td>1</td>\n",
       "      <td>2694.783254</td>\n",
       "      <td>18.511000</td>\n",
       "      <td>2021-08-11</td>\n",
       "      <td>8</td>\n",
       "    </tr>\n",
       "    <tr>\n",
       "      <th>4</th>\n",
       "      <td>1</td>\n",
       "      <td>4028.687306</td>\n",
       "      <td>26.265803</td>\n",
       "      <td>2021-08-28</td>\n",
       "      <td>8</td>\n",
       "    </tr>\n",
       "  </tbody>\n",
       "</table>\n",
       "</div>"
      ],
      "text/plain": [
       "   user_id     distance   duration       date  month\n",
       "0        1  4409.919140  25.599769 2021-01-01      1\n",
       "1        1  2617.592153  15.816871 2021-01-18      1\n",
       "2        1   754.159807   6.232113 2021-04-20      4\n",
       "3        1  2694.783254  18.511000 2021-08-11      8\n",
       "4        1  4028.687306  26.265803 2021-08-28      8"
      ]
     },
     "execution_count": 14,
     "metadata": {},
     "output_type": "execute_result"
    }
   ],
   "source": [
    "df_rides['month'] = df_rides['date'].dt.month\n",
    "df_rides.head()"
   ]
  },
  {
   "cell_type": "code",
   "execution_count": 15,
   "id": "18dffac6",
   "metadata": {},
   "outputs": [
    {
     "data": {
      "text/plain": [
       "Text(0.5, 1.0, 'Распределение поездок по месяцам')"
      ]
     },
     "execution_count": 15,
     "metadata": {},
     "output_type": "execute_result"
    },
    {
     "data": {
      "image/png": "[encoded data removed]",
      "text/plain": [
       "<Figure size 720x360 with 1 Axes>"
      ]
     },
     "metadata": {
      "needs_background": "light"
     },
     "output_type": "display_data"
    }
   ],
   "source": [
    "df_rides['month'].hist(bins=36, figsize = (10,5))\n",
    "plt.xlabel('Месяцы, (1) - январь, (12) -  декабрь')\n",
    "plt.ylabel('Количество поездок')\n",
    "plt.title('Распределение поездок по месяцам', size = 14)"
   ]
  },
  {
   "cell_type": "markdown",
   "id": "c5250214",
   "metadata": {},
   "source": [
    "Присутствуют данные за 12 месяцев"
   ]
  },
  {
   "cell_type": "markdown",
   "id": "4384220f",
   "metadata": {},
   "source": [
    "##### Пропущенные значения и дубликаты в датафреймах"
   ]
  },
  {
   "cell_type": "markdown",
   "id": "f4c5f8ed",
   "metadata": {},
   "source": [
    "Как было отмечено ранее, в датасетах отсутствуют пропущенные значения. В `df_users` найден 31 дубликат."
   ]
  },
  {
   "cell_type": "code",
   "execution_count": 16,
   "id": "9cdfdf43",
   "metadata": {},
   "outputs": [
    {
     "name": "stdout",
     "output_type": "stream",
     "text": [
      "<class 'pandas.core.frame.DataFrame'>\n",
      "RangeIndex: 1565 entries, 0 to 1564\n",
      "Data columns (total 5 columns):\n",
      " #   Column     Non-Null Count  Dtype \n",
      "---  ------     --------------  ----- \n",
      " 0   user_id    1565 non-null   int64 \n",
      " 1   name       1565 non-null   string\n",
      " 2   age        1565 non-null   int64 \n",
      " 3   city       1565 non-null   string\n",
      " 4   subs_type  1565 non-null   string\n",
      "dtypes: int64(2), string(3)\n",
      "memory usage: 61.3 KB\n"
     ]
    },
    {
     "data": {
      "text/plain": [
       "None"
      ]
     },
     "metadata": {},
     "output_type": "display_data"
    },
    {
     "name": "stdout",
     "output_type": "stream",
     "text": [
      "<class 'pandas.core.frame.DataFrame'>\n",
      "RangeIndex: 18068 entries, 0 to 18067\n",
      "Data columns (total 5 columns):\n",
      " #   Column    Non-Null Count  Dtype         \n",
      "---  ------    --------------  -----         \n",
      " 0   user_id   18068 non-null  int64         \n",
      " 1   distance  18068 non-null  float64       \n",
      " 2   duration  18068 non-null  float64       \n",
      " 3   date      18068 non-null  datetime64[ns]\n",
      " 4   month     18068 non-null  int64         \n",
      "dtypes: datetime64[ns](1), float64(2), int64(2)\n",
      "memory usage: 705.9 KB\n"
     ]
    },
    {
     "data": {
      "text/plain": [
       "None"
      ]
     },
     "metadata": {},
     "output_type": "display_data"
    },
    {
     "name": "stdout",
     "output_type": "stream",
     "text": [
      "<class 'pandas.core.frame.DataFrame'>\n",
      "RangeIndex: 2 entries, 0 to 1\n",
      "Data columns (total 4 columns):\n",
      " #   Column            Non-Null Count  Dtype \n",
      "---  ------            --------------  ----- \n",
      " 0   subs_type         2 non-null      string\n",
      " 1   minute_price      2 non-null      int64 \n",
      " 2   start_ride_price  2 non-null      int64 \n",
      " 3   subs_fee          2 non-null      int64 \n",
      "dtypes: int64(3), string(1)\n",
      "memory usage: 192.0 bytes\n"
     ]
    },
    {
     "data": {
      "text/plain": [
       "None"
      ]
     },
     "metadata": {},
     "output_type": "display_data"
    }
   ],
   "source": [
    "#информация\n",
    "display(df_users.info())\n",
    "display(df_rides.info())\n",
    "display(df_subs.info())"
   ]
  },
  {
   "cell_type": "code",
   "execution_count": 17,
   "id": "624f7032",
   "metadata": {},
   "outputs": [
    {
     "name": "stdout",
     "output_type": "stream",
     "text": [
      "Количество дублирующихся значений в df_users: 31\n",
      "Количество дублирующихся значений в df_rides: 0\n"
     ]
    }
   ],
   "source": [
    "#дубликаты\n",
    "print('Количество дублирующихся значений в df_users:', df_users.duplicated().sum())\n",
    "print('Количество дублирующихся значений в df_rides:', df_rides.duplicated().sum())"
   ]
  },
  {
   "cell_type": "code",
   "execution_count": 18,
   "id": "f2c1c23d",
   "metadata": {},
   "outputs": [
    {
     "data": {
      "text/html": [
       "<div>\n",
       "<style scoped>\n",
       "    .dataframe tbody tr th:only-of-type {\n",
       "        vertical-align: middle;\n",
       "    }\n",
       "\n",
       "    .dataframe tbody tr th {\n",
       "        vertical-align: top;\n",
       "    }\n",
       "\n",
       "    .dataframe thead th {\n",
       "        text-align: right;\n",
       "    }\n",
       "</style>\n",
       "<table border=\"1\" class=\"dataframe\">\n",
       "  <thead>\n",
       "    <tr style=\"text-align: right;\">\n",
       "      <th></th>\n",
       "      <th>user_id</th>\n",
       "      <th>name</th>\n",
       "      <th>age</th>\n",
       "      <th>city</th>\n",
       "      <th>subs_type</th>\n",
       "    </tr>\n",
       "  </thead>\n",
       "  <tbody>\n",
       "    <tr>\n",
       "      <th>1535</th>\n",
       "      <td>16</td>\n",
       "      <td>Амалия</td>\n",
       "      <td>27</td>\n",
       "      <td>Краснодар</td>\n",
       "      <td>ultra</td>\n",
       "    </tr>\n",
       "    <tr>\n",
       "      <th>1539</th>\n",
       "      <td>43</td>\n",
       "      <td>Стефания</td>\n",
       "      <td>22</td>\n",
       "      <td>Омск</td>\n",
       "      <td>ultra</td>\n",
       "    </tr>\n",
       "    <tr>\n",
       "      <th>1563</th>\n",
       "      <td>47</td>\n",
       "      <td>Юрий</td>\n",
       "      <td>28</td>\n",
       "      <td>Тюмень</td>\n",
       "      <td>ultra</td>\n",
       "    </tr>\n",
       "    <tr>\n",
       "      <th>1555</th>\n",
       "      <td>72</td>\n",
       "      <td>Никита</td>\n",
       "      <td>25</td>\n",
       "      <td>Москва</td>\n",
       "      <td>ultra</td>\n",
       "    </tr>\n",
       "    <tr>\n",
       "      <th>1549</th>\n",
       "      <td>108</td>\n",
       "      <td>Влада</td>\n",
       "      <td>29</td>\n",
       "      <td>Тюмень</td>\n",
       "      <td>ultra</td>\n",
       "    </tr>\n",
       "    <tr>\n",
       "      <th>1553</th>\n",
       "      <td>121</td>\n",
       "      <td>Алина</td>\n",
       "      <td>25</td>\n",
       "      <td>Пятигорск</td>\n",
       "      <td>ultra</td>\n",
       "    </tr>\n",
       "    <tr>\n",
       "      <th>1540</th>\n",
       "      <td>127</td>\n",
       "      <td>Павел</td>\n",
       "      <td>25</td>\n",
       "      <td>Пятигорск</td>\n",
       "      <td>ultra</td>\n",
       "    </tr>\n",
       "    <tr>\n",
       "      <th>1548</th>\n",
       "      <td>136</td>\n",
       "      <td>Марсель</td>\n",
       "      <td>25</td>\n",
       "      <td>Тюмень</td>\n",
       "      <td>ultra</td>\n",
       "    </tr>\n",
       "    <tr>\n",
       "      <th>1543</th>\n",
       "      <td>153</td>\n",
       "      <td>Герман</td>\n",
       "      <td>23</td>\n",
       "      <td>Москва</td>\n",
       "      <td>ultra</td>\n",
       "    </tr>\n",
       "    <tr>\n",
       "      <th>1542</th>\n",
       "      <td>204</td>\n",
       "      <td>Руслан</td>\n",
       "      <td>30</td>\n",
       "      <td>Пятигорск</td>\n",
       "      <td>ultra</td>\n",
       "    </tr>\n",
       "  </tbody>\n",
       "</table>\n",
       "</div>"
      ],
      "text/plain": [
       "      user_id      name  age       city subs_type\n",
       "1535       16    Амалия   27  Краснодар     ultra\n",
       "1539       43  Стефания   22       Омск     ultra\n",
       "1563       47      Юрий   28     Тюмень     ultra\n",
       "1555       72    Никита   25     Москва     ultra\n",
       "1549      108     Влада   29     Тюмень     ultra\n",
       "1553      121     Алина   25  Пятигорск     ultra\n",
       "1540      127     Павел   25  Пятигорск     ultra\n",
       "1548      136   Марсель   25     Тюмень     ultra\n",
       "1543      153    Герман   23     Москва     ultra\n",
       "1542      204    Руслан   30  Пятигорск     ultra"
      ]
     },
     "execution_count": 18,
     "metadata": {},
     "output_type": "execute_result"
    }
   ],
   "source": [
    "#первые дублирующиеся значения\n",
    "df_users[df_users.duplicated()].sort_values(by='user_id').head(10)"
   ]
  },
  {
   "cell_type": "code",
   "execution_count": 19,
   "id": "0029cbea",
   "metadata": {},
   "outputs": [
    {
     "data": {
      "text/html": [
       "<div>\n",
       "<style scoped>\n",
       "    .dataframe tbody tr th:only-of-type {\n",
       "        vertical-align: middle;\n",
       "    }\n",
       "\n",
       "    .dataframe tbody tr th {\n",
       "        vertical-align: top;\n",
       "    }\n",
       "\n",
       "    .dataframe thead th {\n",
       "        text-align: right;\n",
       "    }\n",
       "</style>\n",
       "<table border=\"1\" class=\"dataframe\">\n",
       "  <thead>\n",
       "    <tr style=\"text-align: right;\">\n",
       "      <th></th>\n",
       "      <th>user_id</th>\n",
       "      <th>name</th>\n",
       "      <th>age</th>\n",
       "      <th>city</th>\n",
       "      <th>subs_type</th>\n",
       "    </tr>\n",
       "  </thead>\n",
       "  <tbody>\n",
       "    <tr>\n",
       "      <th>15</th>\n",
       "      <td>16</td>\n",
       "      <td>Амалия</td>\n",
       "      <td>27</td>\n",
       "      <td>Краснодар</td>\n",
       "      <td>ultra</td>\n",
       "    </tr>\n",
       "    <tr>\n",
       "      <th>42</th>\n",
       "      <td>43</td>\n",
       "      <td>Стефания</td>\n",
       "      <td>22</td>\n",
       "      <td>Омск</td>\n",
       "      <td>ultra</td>\n",
       "    </tr>\n",
       "    <tr>\n",
       "      <th>46</th>\n",
       "      <td>47</td>\n",
       "      <td>Юрий</td>\n",
       "      <td>28</td>\n",
       "      <td>Тюмень</td>\n",
       "      <td>ultra</td>\n",
       "    </tr>\n",
       "    <tr>\n",
       "      <th>71</th>\n",
       "      <td>72</td>\n",
       "      <td>Никита</td>\n",
       "      <td>25</td>\n",
       "      <td>Москва</td>\n",
       "      <td>ultra</td>\n",
       "    </tr>\n",
       "    <tr>\n",
       "      <th>107</th>\n",
       "      <td>108</td>\n",
       "      <td>Влада</td>\n",
       "      <td>29</td>\n",
       "      <td>Тюмень</td>\n",
       "      <td>ultra</td>\n",
       "    </tr>\n",
       "    <tr>\n",
       "      <th>120</th>\n",
       "      <td>121</td>\n",
       "      <td>Алина</td>\n",
       "      <td>25</td>\n",
       "      <td>Пятигорск</td>\n",
       "      <td>ultra</td>\n",
       "    </tr>\n",
       "    <tr>\n",
       "      <th>126</th>\n",
       "      <td>127</td>\n",
       "      <td>Павел</td>\n",
       "      <td>25</td>\n",
       "      <td>Пятигорск</td>\n",
       "      <td>ultra</td>\n",
       "    </tr>\n",
       "    <tr>\n",
       "      <th>135</th>\n",
       "      <td>136</td>\n",
       "      <td>Марсель</td>\n",
       "      <td>25</td>\n",
       "      <td>Тюмень</td>\n",
       "      <td>ultra</td>\n",
       "    </tr>\n",
       "    <tr>\n",
       "      <th>152</th>\n",
       "      <td>153</td>\n",
       "      <td>Герман</td>\n",
       "      <td>23</td>\n",
       "      <td>Москва</td>\n",
       "      <td>ultra</td>\n",
       "    </tr>\n",
       "    <tr>\n",
       "      <th>203</th>\n",
       "      <td>204</td>\n",
       "      <td>Руслан</td>\n",
       "      <td>30</td>\n",
       "      <td>Пятигорск</td>\n",
       "      <td>ultra</td>\n",
       "    </tr>\n",
       "  </tbody>\n",
       "</table>\n",
       "</div>"
      ],
      "text/plain": [
       "     user_id      name  age       city subs_type\n",
       "15        16    Амалия   27  Краснодар     ultra\n",
       "42        43  Стефания   22       Омск     ultra\n",
       "46        47      Юрий   28     Тюмень     ultra\n",
       "71        72    Никита   25     Москва     ultra\n",
       "107      108     Влада   29     Тюмень     ultra\n",
       "120      121     Алина   25  Пятигорск     ultra\n",
       "126      127     Павел   25  Пятигорск     ultra\n",
       "135      136   Марсель   25     Тюмень     ultra\n",
       "152      153    Герман   23     Москва     ultra\n",
       "203      204    Руслан   30  Пятигорск     ultra"
      ]
     },
     "execution_count": 19,
     "metadata": {},
     "output_type": "execute_result"
    }
   ],
   "source": [
    "#вторые дублирующиеся значения\n",
    "df_users[df_users.duplicated(keep='last')].sort_values(by='user_id').head(10)"
   ]
  },
  {
   "cell_type": "markdown",
   "id": "07e70cb6",
   "metadata": {},
   "source": [
    "Подобная ошибка могла произойти по техническим причинам."
   ]
  },
  {
   "cell_type": "code",
   "execution_count": 20,
   "id": "24cb8d3b",
   "metadata": {},
   "outputs": [
    {
     "name": "stdout",
     "output_type": "stream",
     "text": [
      "Количество дублирующихся значений в df_users: 0\n"
     ]
    }
   ],
   "source": [
    "#удаление дубликатов\n",
    "df_users = df_users.drop_duplicates()\n",
    "print('Количество дублирующихся значений в df_users:', df_users.duplicated().sum())"
   ]
  },
  {
   "cell_type": "markdown",
   "id": "1a1c42ab",
   "metadata": {},
   "source": [
    "Проверим неявные повторяющиеся значения в текстовых ячейках, в частности, по городам и названию типа подписки. В столбце с именами могут присутствовать имена, где буква буква \"ё\" может писаться, как \"е\", но это не имеет значения."
   ]
  },
  {
   "cell_type": "code",
   "execution_count": 21,
   "id": "1cb580b3",
   "metadata": {
    "scrolled": true
   },
   "outputs": [
    {
     "data": {
      "text/plain": [
       "<StringArray>\n",
       "[        'Тюмень',           'Омск',         'Москва', 'Ростов-на-Дону',\n",
       "      'Краснодар',      'Пятигорск',   'Екатеринбург',           'Сочи']\n",
       "Length: 8, dtype: string"
      ]
     },
     "execution_count": 21,
     "metadata": {},
     "output_type": "execute_result"
    }
   ],
   "source": [
    "#поиск неявных дубликатов по городам в df_users\n",
    "df_users['city'].unique()"
   ]
  },
  {
   "cell_type": "code",
   "execution_count": 22,
   "id": "6f9fb8be",
   "metadata": {},
   "outputs": [
    {
     "data": {
      "text/plain": [
       "<StringArray>\n",
       "['ultra', 'free']\n",
       "Length: 2, dtype: string"
      ]
     },
     "execution_count": 22,
     "metadata": {},
     "output_type": "execute_result"
    }
   ],
   "source": [
    "#поиск неявных дубликатов по подпискам в df_users\n",
    "df_users['subs_type'].unique()"
   ]
  },
  {
   "cell_type": "markdown",
   "id": "afa985a9",
   "metadata": {},
   "source": [
    "##### Вывод"
   ]
  },
  {
   "cell_type": "markdown",
   "id": "3dbbb8f8",
   "metadata": {},
   "source": [
    "1. Были изменены форматы данных в датафреймах пользователей и поездок;\n",
    "2. Был создан отдельный столюец с обозначением месяца для определения сезонности поездок и определением месячной выручки;\n",
    "3. Были найдены и обработаны явные дубликаты в датафрейме пользователей. Других дублирующихся значений найдено не было."
   ]
  },
  {
   "cell_type": "markdown",
   "id": "212593c7",
   "metadata": {},
   "source": [
    "#### Шаг 3. Исследовательский анализ данных"
   ]
  },
  {
   "cell_type": "markdown",
   "id": "3c7831ee",
   "metadata": {},
   "source": [
    "##### Частота встречаемости городов"
   ]
  },
  {
   "cell_type": "code",
   "execution_count": 23,
   "id": "eeacd9fc",
   "metadata": {},
   "outputs": [
    {
     "data": {
      "text/html": [
       "<div>\n",
       "<style scoped>\n",
       "    .dataframe tbody tr th:only-of-type {\n",
       "        vertical-align: middle;\n",
       "    }\n",
       "\n",
       "    .dataframe tbody tr th {\n",
       "        vertical-align: top;\n",
       "    }\n",
       "\n",
       "    .dataframe thead th {\n",
       "        text-align: right;\n",
       "    }\n",
       "</style>\n",
       "<table border=\"1\" class=\"dataframe\">\n",
       "  <thead>\n",
       "    <tr style=\"text-align: right;\">\n",
       "      <th></th>\n",
       "      <th>city</th>\n",
       "      <th>user_count</th>\n",
       "      <th>user_fraction</th>\n",
       "    </tr>\n",
       "  </thead>\n",
       "  <tbody>\n",
       "    <tr>\n",
       "      <th>0</th>\n",
       "      <td>Пятигорск</td>\n",
       "      <td>219</td>\n",
       "      <td>0.143</td>\n",
       "    </tr>\n",
       "    <tr>\n",
       "      <th>1</th>\n",
       "      <td>Екатеринбург</td>\n",
       "      <td>204</td>\n",
       "      <td>0.133</td>\n",
       "    </tr>\n",
       "    <tr>\n",
       "      <th>2</th>\n",
       "      <td>Ростов-на-Дону</td>\n",
       "      <td>198</td>\n",
       "      <td>0.129</td>\n",
       "    </tr>\n",
       "    <tr>\n",
       "      <th>3</th>\n",
       "      <td>Краснодар</td>\n",
       "      <td>193</td>\n",
       "      <td>0.126</td>\n",
       "    </tr>\n",
       "    <tr>\n",
       "      <th>4</th>\n",
       "      <td>Сочи</td>\n",
       "      <td>189</td>\n",
       "      <td>0.123</td>\n",
       "    </tr>\n",
       "    <tr>\n",
       "      <th>5</th>\n",
       "      <td>Омск</td>\n",
       "      <td>183</td>\n",
       "      <td>0.119</td>\n",
       "    </tr>\n",
       "    <tr>\n",
       "      <th>6</th>\n",
       "      <td>Тюмень</td>\n",
       "      <td>180</td>\n",
       "      <td>0.117</td>\n",
       "    </tr>\n",
       "    <tr>\n",
       "      <th>7</th>\n",
       "      <td>Москва</td>\n",
       "      <td>168</td>\n",
       "      <td>0.110</td>\n",
       "    </tr>\n",
       "  </tbody>\n",
       "</table>\n",
       "</div>"
      ],
      "text/plain": [
       "             city  user_count  user_fraction\n",
       "0       Пятигорск         219          0.143\n",
       "1    Екатеринбург         204          0.133\n",
       "2  Ростов-на-Дону         198          0.129\n",
       "3       Краснодар         193          0.126\n",
       "4            Сочи         189          0.123\n",
       "5            Омск         183          0.119\n",
       "6          Тюмень         180          0.117\n",
       "7          Москва         168          0.110"
      ]
     },
     "execution_count": 23,
     "metadata": {},
     "output_type": "execute_result"
    }
   ],
   "source": [
    "df_users_city = df_users.pivot_table(\n",
    "    index='city',\n",
    "    values='user_id',\n",
    "    aggfunc='count')\n",
    "df_users_city = (df_users_city.rename(\n",
    "    columns={'user_id':'user_count'}).sort_values(\n",
    "    by='user_count', ascending=False).reset_index()\n",
    "                )\n",
    "df_users_city['user_fraction'] = round(\n",
    "    df_users_city['user_count']/(df_users_city['user_count'].sum()),3)\n",
    "df_users_city"
   ]
  },
  {
   "cell_type": "code",
   "execution_count": 24,
   "id": "3a562bd1",
   "metadata": {},
   "outputs": [
    {
     "name": "stdout",
     "output_type": "stream",
     "text": [
      "Среднее количество пользователей в каждом городе: 191.75\n",
      "Средняя доля пользователей в каждом городе: 0.125\n",
      "Разница между max средним количеством и min средним количеством: 51\n"
     ]
    }
   ],
   "source": [
    "print('Среднее количество пользователей в каждом городе:', df_users_city['user_count'].mean())\n",
    "print('Средняя доля пользователей в каждом городе:', df_users_city['user_fraction'].mean())\n",
    "print('Разница между max средним количеством и min средним количеством:',\n",
    "      df_users_city['user_count'].max()-df_users_city['user_count'].min())"
   ]
  },
  {
   "cell_type": "markdown",
   "id": "4e580651",
   "metadata": {},
   "source": [
    "Доля пользователей в каждом городе варьируется вокруг 12,5% с погрешностью 1,5%. Наиболее приближенный город к среднему - Краснодар. Рассмотрим распредение пользователей по городам на графике"
   ]
  },
  {
   "cell_type": "code",
   "execution_count": 25,
   "id": "709ff072",
   "metadata": {
    "scrolled": false
   },
   "outputs": [
    {
     "data": {
      "text/plain": [
       "Text(0.5, 1.0, 'Распределение пользователей по городам')"
      ]
     },
     "execution_count": 25,
     "metadata": {},
     "output_type": "execute_result"
    },
    {
     "data": {
      "image/png": "[encoded data removed]",
      "text/plain": [
       "<Figure size 1440x360 with 1 Axes>"
      ]
     },
     "metadata": {},
     "output_type": "display_data"
    }
   ],
   "source": [
    "sns.set(rc={'figure.figsize':(20,5)})\n",
    "sns.barplot(data = df_users_city,\n",
    "            x = 'city',\n",
    "            y = 'user_count')\n",
    "plt.xlabel('Города')\n",
    "plt.ylabel('Количество пользователей')\n",
    "plt.title('Распределение пользователей по городам', size = 14)"
   ]
  },
  {
   "cell_type": "markdown",
   "id": "198a8422",
   "metadata": {},
   "source": [
    "Наибольшее количество пользователей находится в Пятигорске (219), среднее количество пользователей находится в Краснодаре (193), наименьшее - в Москве (168)."
   ]
  },
  {
   "cell_type": "markdown",
   "id": "b8609db8",
   "metadata": {},
   "source": [
    "##### Соотношение пользователей с подпиской и без подписки"
   ]
  },
  {
   "cell_type": "code",
   "execution_count": 26,
   "id": "9203b6a8",
   "metadata": {},
   "outputs": [
    {
     "data": {
      "text/html": [
       "<div>\n",
       "<style scoped>\n",
       "    .dataframe tbody tr th:only-of-type {\n",
       "        vertical-align: middle;\n",
       "    }\n",
       "\n",
       "    .dataframe tbody tr th {\n",
       "        vertical-align: top;\n",
       "    }\n",
       "\n",
       "    .dataframe thead th {\n",
       "        text-align: right;\n",
       "    }\n",
       "</style>\n",
       "<table border=\"1\" class=\"dataframe\">\n",
       "  <thead>\n",
       "    <tr style=\"text-align: right;\">\n",
       "      <th></th>\n",
       "      <th>subs_type</th>\n",
       "      <th>user_count</th>\n",
       "      <th>user_fraction</th>\n",
       "    </tr>\n",
       "  </thead>\n",
       "  <tbody>\n",
       "    <tr>\n",
       "      <th>0</th>\n",
       "      <td>free</td>\n",
       "      <td>835</td>\n",
       "      <td>0.544</td>\n",
       "    </tr>\n",
       "    <tr>\n",
       "      <th>1</th>\n",
       "      <td>ultra</td>\n",
       "      <td>699</td>\n",
       "      <td>0.456</td>\n",
       "    </tr>\n",
       "  </tbody>\n",
       "</table>\n",
       "</div>"
      ],
      "text/plain": [
       "  subs_type  user_count  user_fraction\n",
       "0      free         835          0.544\n",
       "1     ultra         699          0.456"
      ]
     },
     "execution_count": 26,
     "metadata": {},
     "output_type": "execute_result"
    }
   ],
   "source": [
    "df_users_subs = df_users.pivot_table(index = 'subs_type',\n",
    "                                     values = 'user_id',\n",
    "                                     aggfunc = 'count')\n",
    "df_users_subs = (df_users_subs.rename(\n",
    "    columns={'user_id':'user_count'}).sort_values(\n",
    "    by='user_count', ascending=False).reset_index()\n",
    "                )\n",
    "df_users_subs['user_fraction'] = round(\n",
    "    df_users_subs['user_count']/(df_users_subs['user_count'].sum()),3)\n",
    "df_users_subs"
   ]
  },
  {
   "cell_type": "markdown",
   "id": "fdd9d998",
   "metadata": {},
   "source": [
    "Ожидаемо, количество пользователей с подпиской меньше количества пользователей без подписки."
   ]
  },
  {
   "cell_type": "code",
   "execution_count": 27,
   "id": "3522320f",
   "metadata": {},
   "outputs": [
    {
     "name": "stdout",
     "output_type": "stream",
     "text": [
      "Разница между пользователями без подписки и с подпиской: 136\n",
      "Пользователей без подписки больше на 9%\n"
     ]
    }
   ],
   "source": [
    "print('Разница между пользователями без подписки и с подпиской:',\n",
    "      df_users_subs['user_count'].max()-df_users_subs['user_count'].min())\n",
    "print('Пользователей без подписки больше на', '{:.0%}'.format(df_users_subs['user_fraction'].max()-df_users_subs['user_fraction'].min()))"
   ]
  },
  {
   "cell_type": "code",
   "execution_count": 28,
   "id": "9218a933",
   "metadata": {},
   "outputs": [
    {
     "data": {
      "text/plain": [
       "Text(0.5, 1.0, 'Распределение пользователей по типу подписки')"
      ]
     },
     "execution_count": 28,
     "metadata": {},
     "output_type": "execute_result"
    },
    {
     "data": {
      "image/png": "[encoded data removed]",
      "text/plain": [
       "<Figure size 360x360 with 1 Axes>"
      ]
     },
     "metadata": {},
     "output_type": "display_data"
    }
   ],
   "source": [
    "sns.set(rc={'figure.figsize':(5,5)})\n",
    "sns.barplot(data = df_users_subs, x = 'subs_type', y = 'user_count')\n",
    "plt.xlabel('Подписка')\n",
    "plt.ylabel('Количество пользователей')\n",
    "plt.title('Распределение пользователей по типу подписки', size = 14)"
   ]
  },
  {
   "cell_type": "markdown",
   "id": "43755c2e",
   "metadata": {},
   "source": [
    "Пользователей без подписки (835), что на 9% от исходного количества больше количества пользователей с подпиской(699)."
   ]
  },
  {
   "cell_type": "markdown",
   "id": "cf2a8e23",
   "metadata": {},
   "source": [
    "##### Возраст пользователей"
   ]
  },
  {
   "cell_type": "code",
   "execution_count": 29,
   "id": "98190f29",
   "metadata": {},
   "outputs": [
    {
     "data": {
      "text/plain": [
       "count    1534.000000\n",
       "mean       24.903520\n",
       "std         4.572367\n",
       "min        12.000000\n",
       "5%         17.000000\n",
       "10%        19.000000\n",
       "20%        21.000000\n",
       "25%        22.000000\n",
       "50%        25.000000\n",
       "75%        28.000000\n",
       "80%        29.000000\n",
       "90%        31.000000\n",
       "95%        33.000000\n",
       "99%        35.000000\n",
       "max        43.000000\n",
       "Name: age, dtype: float64"
      ]
     },
     "execution_count": 29,
     "metadata": {},
     "output_type": "execute_result"
    }
   ],
   "source": [
    "df_users['age'].describe(percentiles=[0.05,0.1, 0.2,1/4,1/2,3/4, 0.8,0.9,0.95,0.99])"
   ]
  },
  {
   "cell_type": "code",
   "execution_count": 30,
   "id": "9ecea9bf",
   "metadata": {},
   "outputs": [
    {
     "data": {
      "text/plain": [
       "Text(0, 0.5, 'Возраст пользователей')"
      ]
     },
     "execution_count": 30,
     "metadata": {},
     "output_type": "execute_result"
    },
    {
     "data": {
      "image/png": "[encoded data removed]",
      "text/plain": [
       "<Figure size 360x576 with 1 Axes>"
      ]
     },
     "metadata": {},
     "output_type": "display_data"
    }
   ],
   "source": [
    "df_users.boxplot(column='age', figsize =(5, 8))\n",
    "plt.title('Размах возраста пользователей')\n",
    "plt.ylabel('Возраст пользователей')"
   ]
  },
  {
   "cell_type": "code",
   "execution_count": 31,
   "id": "d77fe65e",
   "metadata": {},
   "outputs": [
    {
     "data": {
      "text/plain": [
       "0.25    22.0\n",
       "0.50    25.0\n",
       "0.75    28.0\n",
       "Name: age, dtype: float64"
      ]
     },
     "execution_count": 31,
     "metadata": {},
     "output_type": "execute_result"
    }
   ],
   "source": [
    "df_users['age'].quantile([0.25, 0.5, 0.75])\n"
   ]
  },
  {
   "cell_type": "code",
   "execution_count": 32,
   "id": "d505662d",
   "metadata": {},
   "outputs": [
    {
     "data": {
      "text/plain": [
       "Text(0.5, 1.0, 'Распределение пользователей по возрасту')"
      ]
     },
     "execution_count": 32,
     "metadata": {},
     "output_type": "execute_result"
    },
    {
     "data": {
      "image/png": "[encoded data removed]",
      "text/plain": [
       "<Figure size 1080x360 with 1 Axes>"
      ]
     },
     "metadata": {},
     "output_type": "display_data"
    }
   ],
   "source": [
    "df_users['age'].hist(bins=30, figsize =(15,5))\n",
    "plt.xlabel('Возраст пользователей')\n",
    "plt.ylabel('Количество пользователей')\n",
    "plt.title('Распределение пользователей по возрасту', size = 14)"
   ]
  },
  {
   "cell_type": "markdown",
   "id": "c161dc05",
   "metadata": {},
   "source": [
    "Основную аудиторию представляют люди возрастом от 22 до 28 лет."
   ]
  },
  {
   "cell_type": "markdown",
   "id": "a3bdc0cc",
   "metadata": {},
   "source": [
    "##### Расстояние, которое пользователь преодолел за одну поездку"
   ]
  },
  {
   "cell_type": "markdown",
   "id": "e4e4af7a",
   "metadata": {},
   "source": [
    "Рассмотрим общую модель"
   ]
  },
  {
   "cell_type": "code",
   "execution_count": 33,
   "id": "e4610863",
   "metadata": {},
   "outputs": [
    {
     "data": {
      "text/plain": [
       "count    18068.000000\n",
       "mean      3070.659976\n",
       "std       1116.831209\n",
       "min          0.855683\n",
       "5%         689.007279\n",
       "10%       1517.693302\n",
       "20%       2375.491135\n",
       "25%       2543.226360\n",
       "50%       3133.609994\n",
       "75%       3776.222735\n",
       "80%       3975.359574\n",
       "90%       4392.129872\n",
       "95%       4740.088596\n",
       "99%       5478.621528\n",
       "max       7211.007745\n",
       "Name: distance, dtype: float64"
      ]
     },
     "execution_count": 33,
     "metadata": {},
     "output_type": "execute_result"
    }
   ],
   "source": [
    "df_rides['distance'].describe(percentiles=[0.05,0.1, 0.2,1/4,1/2,3/4, 0.8,0.9,0.95,0.99])"
   ]
  },
  {
   "cell_type": "code",
   "execution_count": 34,
   "id": "ae090770",
   "metadata": {},
   "outputs": [
    {
     "data": {
      "text/plain": [
       "Text(0, 0.5, 'Дистанции поездок')"
      ]
     },
     "execution_count": 34,
     "metadata": {},
     "output_type": "execute_result"
    },
    {
     "data": {
      "image/png": "[encoded data removed]",
      "text/plain": [
       "<Figure size 360x576 with 1 Axes>"
      ]
     },
     "metadata": {},
     "output_type": "display_data"
    }
   ],
   "source": [
    "df_rides.boxplot(column='distance', figsize =(5, 8))\n",
    "plt.title('Размах дистанций поездок')\n",
    "plt.ylabel('Дистанции поездок')"
   ]
  },
  {
   "cell_type": "code",
   "execution_count": 35,
   "id": "248ef7e9",
   "metadata": {},
   "outputs": [
    {
     "data": {
      "text/plain": [
       "Text(0.5, 1.0, 'Распределение дистанций каждой поездки')"
      ]
     },
     "execution_count": 35,
     "metadata": {},
     "output_type": "execute_result"
    },
    {
     "data": {
      "image/png": "[encoded data removed]",
      "text/plain": [
       "<Figure size 1440x360 with 1 Axes>"
      ]
     },
     "metadata": {},
     "output_type": "display_data"
    }
   ],
   "source": [
    "df_rides['distance'].hist(bins=100, figsize = (20, 5))\n",
    "plt.xlabel('Дистанция')\n",
    "plt.ylabel('Количество пользователей')\n",
    "plt.title('Распределение дистанций каждой поездки', size = 14)"
   ]
  },
  {
   "cell_type": "markdown",
   "id": "4b89d89e",
   "metadata": {},
   "source": [
    "Как видно из полученных данных, в основном сервис используется для преодоления дистанций от 2,5 до 3,8км, однако присутствует выброс на дистанции до 1500км. Данный выброс может быть связан с наличием платного старта для пользователей с бесплатной подпиской."
   ]
  },
  {
   "cell_type": "markdown",
   "id": "ac9dbc7f",
   "metadata": {},
   "source": [
    "Проверим данную гипотезу"
   ]
  },
  {
   "cell_type": "code",
   "execution_count": 36,
   "id": "94677676",
   "metadata": {},
   "outputs": [
    {
     "data": {
      "text/html": [
       "<div>\n",
       "<style scoped>\n",
       "    .dataframe tbody tr th:only-of-type {\n",
       "        vertical-align: middle;\n",
       "    }\n",
       "\n",
       "    .dataframe tbody tr th {\n",
       "        vertical-align: top;\n",
       "    }\n",
       "\n",
       "    .dataframe thead th {\n",
       "        text-align: right;\n",
       "    }\n",
       "</style>\n",
       "<table border=\"1\" class=\"dataframe\">\n",
       "  <thead>\n",
       "    <tr style=\"text-align: right;\">\n",
       "      <th></th>\n",
       "      <th>user_id</th>\n",
       "      <th>subs_type</th>\n",
       "      <th>distance</th>\n",
       "    </tr>\n",
       "  </thead>\n",
       "  <tbody>\n",
       "    <tr>\n",
       "      <th>0</th>\n",
       "      <td>1</td>\n",
       "      <td>ultra</td>\n",
       "      <td>4409.919140</td>\n",
       "    </tr>\n",
       "    <tr>\n",
       "      <th>1</th>\n",
       "      <td>1</td>\n",
       "      <td>ultra</td>\n",
       "      <td>2617.592153</td>\n",
       "    </tr>\n",
       "    <tr>\n",
       "      <th>2</th>\n",
       "      <td>1</td>\n",
       "      <td>ultra</td>\n",
       "      <td>754.159807</td>\n",
       "    </tr>\n",
       "    <tr>\n",
       "      <th>3</th>\n",
       "      <td>1</td>\n",
       "      <td>ultra</td>\n",
       "      <td>2694.783254</td>\n",
       "    </tr>\n",
       "    <tr>\n",
       "      <th>4</th>\n",
       "      <td>1</td>\n",
       "      <td>ultra</td>\n",
       "      <td>4028.687306</td>\n",
       "    </tr>\n",
       "  </tbody>\n",
       "</table>\n",
       "</div>"
      ],
      "text/plain": [
       "   user_id subs_type     distance\n",
       "0        1     ultra  4409.919140\n",
       "1        1     ultra  2617.592153\n",
       "2        1     ultra   754.159807\n",
       "3        1     ultra  2694.783254\n",
       "4        1     ultra  4028.687306"
      ]
     },
     "execution_count": 36,
     "metadata": {},
     "output_type": "execute_result"
    }
   ],
   "source": [
    "#Объявление временного датафрейма\n",
    "users_dist_subs = pd.merge(df_users[['user_id', 'subs_type']], df_rides[['user_id','distance']])\n",
    "users_dist_subs.head()"
   ]
  },
  {
   "cell_type": "code",
   "execution_count": 37,
   "id": "2f902594",
   "metadata": {},
   "outputs": [
    {
     "data": {
      "text/plain": [
       "Text(0.5, 1.0, 'Распределение дистанций каждой поездки пользователей без подписки')"
      ]
     },
     "execution_count": 37,
     "metadata": {},
     "output_type": "execute_result"
    },
    {
     "data": {
      "image/png": "[encoded data removed]",
      "text/plain": [
       "<Figure size 1440x360 with 1 Axes>"
      ]
     },
     "metadata": {},
     "output_type": "display_data"
    }
   ],
   "source": [
    "users_dist_subs[users_dist_subs['subs_type'] == 'free'].distance.hist(bins=100, figsize = (20, 5))\n",
    "plt.xlabel('Дистанция')\n",
    "plt.ylabel('Количество пользователей')\n",
    "plt.title('Распределение дистанций каждой поездки пользователей без подписки', size = 14)"
   ]
  },
  {
   "cell_type": "code",
   "execution_count": 38,
   "id": "ed65e2bb",
   "metadata": {},
   "outputs": [
    {
     "data": {
      "text/plain": [
       "Text(0.5, 1.0, 'Распределение дистанций каждой поездки пользователей с подпиской')"
      ]
     },
     "execution_count": 38,
     "metadata": {},
     "output_type": "execute_result"
    },
    {
     "data": {
      "image/png": "[encoded data removed]",
      "text/plain": [
       "<Figure size 1440x360 with 1 Axes>"
      ]
     },
     "metadata": {},
     "output_type": "display_data"
    }
   ],
   "source": [
    "users_dist_subs[users_dist_subs['subs_type'] == 'ultra'].distance.hist(bins=100, figsize = (20, 5))\n",
    "plt.xlabel('Дистанция')\n",
    "plt.ylabel('Количество пользователей')\n",
    "plt.title('С подпиской')\n",
    "plt.title('Распределение дистанций каждой поездки пользователей с подпиской', size = 14)"
   ]
  },
  {
   "cell_type": "markdown",
   "id": "a577a4a8",
   "metadata": {},
   "source": [
    "Как видно из распределений, выброс связан с тем, что пользователи без подписки на данной дистанции пользуются самокатами чаще, чем пользователи с подпиской."
   ]
  },
  {
   "cell_type": "markdown",
   "id": "9f8980b0",
   "metadata": {},
   "source": [
    "##### Продолжительность поездок"
   ]
  },
  {
   "cell_type": "code",
   "execution_count": 39,
   "id": "e0e03cbc",
   "metadata": {},
   "outputs": [
    {
     "data": {
      "text/plain": [
       "count    18068.000000\n",
       "mean        17.805011\n",
       "std          6.091051\n",
       "min          0.500000\n",
       "5%           8.244528\n",
       "10%         10.293593\n",
       "20%         12.657143\n",
       "25%         13.597563\n",
       "50%         17.678395\n",
       "75%         21.724800\n",
       "80%         22.780542\n",
       "90%         25.760508\n",
       "95%         28.428730\n",
       "99%         32.503580\n",
       "max         40.823963\n",
       "Name: duration, dtype: float64"
      ]
     },
     "execution_count": 39,
     "metadata": {},
     "output_type": "execute_result"
    }
   ],
   "source": [
    "df_rides['duration'].describe(percentiles=[0.05,0.1, 0.2,1/4,1/2,3/4, 0.8,0.9,0.95,0.99])"
   ]
  },
  {
   "cell_type": "code",
   "execution_count": 40,
   "id": "37792a38",
   "metadata": {},
   "outputs": [
    {
     "data": {
      "text/plain": [
       "<AxesSubplot:>"
      ]
     },
     "execution_count": 40,
     "metadata": {},
     "output_type": "execute_result"
    },
    {
     "data": {
      "image/png": "[encoded data removed]",
      "text/plain": [
       "<Figure size 360x576 with 1 Axes>"
      ]
     },
     "metadata": {},
     "output_type": "display_data"
    }
   ],
   "source": [
    "df_rides.boxplot(column='duration', figsize =(5, 8))"
   ]
  },
  {
   "cell_type": "code",
   "execution_count": 41,
   "id": "11c2af0b",
   "metadata": {},
   "outputs": [
    {
     "data": {
      "text/plain": [
       "Text(0.5, 1.0, 'Распределение продолжительности каждой поездки пользователей')"
      ]
     },
     "execution_count": 41,
     "metadata": {},
     "output_type": "execute_result"
    },
    {
     "data": {
      "image/png": "[encoded data removed]",
      "text/plain": [
       "<Figure size 1440x360 with 1 Axes>"
      ]
     },
     "metadata": {},
     "output_type": "display_data"
    }
   ],
   "source": [
    "df_rides['duration'].hist(bins=100, figsize = (20, 5))\n",
    "plt.xlabel('Продолжительность поездки')\n",
    "plt.ylabel('Количество пользователей')\n",
    "plt.title('Распределение продолжительности каждой поездки пользователей', size = 14)"
   ]
  },
  {
   "cell_type": "markdown",
   "id": "b62dbb4c",
   "metadata": {},
   "source": [
    "В среднем пользователи тратят от 14 до 22 минут на поездку. При этом заметен выброс в начале распределения."
   ]
  },
  {
   "cell_type": "code",
   "execution_count": 42,
   "id": "5de3da3b",
   "metadata": {},
   "outputs": [
    {
     "data": {
      "text/plain": [
       "Text(0.5, 1.0, 'Распределение продолжительности каждой поездки пользователей на промежутке до 4 минут')"
      ]
     },
     "execution_count": 42,
     "metadata": {},
     "output_type": "execute_result"
    },
    {
     "data": {
      "image/png": "[encoded data removed]",
      "text/plain": [
       "<Figure size 1440x360 with 1 Axes>"
      ]
     },
     "metadata": {},
     "output_type": "display_data"
    }
   ],
   "source": [
    "df_rides['duration'].hist(bins=100, figsize = (20, 5), range = (0, 4))\n",
    "plt.xlabel('Продолжительность поездки')\n",
    "plt.ylabel('Количество пользователей')\n",
    "plt.title('Распределение продолжительности каждой поездки пользователей на промежутке до 4 минут', size = 14)"
   ]
  },
  {
   "cell_type": "code",
   "execution_count": 43,
   "id": "9d50d50c",
   "metadata": {},
   "outputs": [
    {
     "data": {
      "text/plain": [
       "95"
      ]
     },
     "execution_count": 43,
     "metadata": {},
     "output_type": "execute_result"
    }
   ],
   "source": [
    "df_rides[df_rides['duration']==0.5].duration.count()"
   ]
  },
  {
   "cell_type": "markdown",
   "id": "beea5d1b",
   "metadata": {},
   "source": [
    "Выброс заметен на 30 секундах и составляет 95 поездок. Данный выброс может быть связан с тем, что пользователь передумал использовать самокат."
   ]
  },
  {
   "cell_type": "markdown",
   "id": "7837cff6",
   "metadata": {},
   "source": [
    "##### Вывод"
   ]
  },
  {
   "cell_type": "markdown",
   "id": "6cac16a5",
   "metadata": {},
   "source": [
    "1. Доля пользователей от их общего количества варьируется вокруг 12,5% с разбросом 1,5%. Наиболее приблеженный город к среднему значению - Краснодар. Наибольшее каличество пользователей находится в Пятигорске, а наименьшее - в Москве;\n",
    "2. Пользователей без подписки (835) больше, чем пользователей с подпиской (699), т.е. на 9%;\n",
    "3. Основную аудиторию сервиса представляют пользователи от 22 до 28 лет;\n",
    "4. В основом сервисом пользуются для преодоления дистанций от 2,5 до 3,8км. Замечен выброс на дистанции до 1500км, связанный с преобладанием пользователей без подписки для пользования сервиса на данной дистанции. Предполагается, что на данной дистанции действует функция \"Платный старт\";\n",
    "5. В среднем пользователи используют сервис от 14 до 22 минут на поездку. При этом замечен выброс на продолжительности в 30 секунд, который может быть связан с тем, что пользользователь передумал использовать самокат в качестве средства передвижения."
   ]
  },
  {
   "cell_type": "markdown",
   "id": "4ef51331",
   "metadata": {},
   "source": [
    "#### Шаг 4. Объединение данных"
   ]
  },
  {
   "cell_type": "markdown",
   "id": "83bec512",
   "metadata": {},
   "source": [
    "##### Объединение данных о пользователях, поездках и подписках"
   ]
  },
  {
   "cell_type": "code",
   "execution_count": 44,
   "id": "76501569",
   "metadata": {},
   "outputs": [
    {
     "name": "stdout",
     "output_type": "stream",
     "text": [
      "Размер датасета с информацией о пользователях: (1534, 5)\n",
      "Размер датасета с информацией о поездках: (18068, 5)\n"
     ]
    }
   ],
   "source": [
    "print('Размер датасета с информацией о пользователях:', df_users.shape)\n",
    "print('Размер датасета с информацией о поездках:', df_rides.shape)"
   ]
  },
  {
   "cell_type": "markdown",
   "id": "fb658f3b",
   "metadata": {},
   "source": [
    "В датасете с информацией о пользователях: 1534 записи и 5 столбцов;\n",
    "\n",
    "В датасете с информацией о поездках: 18068 записей и 5 столбцов."
   ]
  },
  {
   "cell_type": "code",
   "execution_count": 45,
   "id": "6bf288b5",
   "metadata": {},
   "outputs": [
    {
     "data": {
      "text/html": [
       "<div>\n",
       "<style scoped>\n",
       "    .dataframe tbody tr th:only-of-type {\n",
       "        vertical-align: middle;\n",
       "    }\n",
       "\n",
       "    .dataframe tbody tr th {\n",
       "        vertical-align: top;\n",
       "    }\n",
       "\n",
       "    .dataframe thead th {\n",
       "        text-align: right;\n",
       "    }\n",
       "</style>\n",
       "<table border=\"1\" class=\"dataframe\">\n",
       "  <thead>\n",
       "    <tr style=\"text-align: right;\">\n",
       "      <th></th>\n",
       "      <th>user_id</th>\n",
       "      <th>name</th>\n",
       "      <th>age</th>\n",
       "      <th>city</th>\n",
       "      <th>subs_type</th>\n",
       "      <th>distance</th>\n",
       "      <th>duration</th>\n",
       "      <th>date</th>\n",
       "      <th>month</th>\n",
       "    </tr>\n",
       "  </thead>\n",
       "  <tbody>\n",
       "    <tr>\n",
       "      <th>0</th>\n",
       "      <td>1</td>\n",
       "      <td>Кира</td>\n",
       "      <td>22</td>\n",
       "      <td>Тюмень</td>\n",
       "      <td>ultra</td>\n",
       "      <td>4409.919140</td>\n",
       "      <td>25.599769</td>\n",
       "      <td>2021-01-01</td>\n",
       "      <td>1</td>\n",
       "    </tr>\n",
       "    <tr>\n",
       "      <th>1</th>\n",
       "      <td>1</td>\n",
       "      <td>Кира</td>\n",
       "      <td>22</td>\n",
       "      <td>Тюмень</td>\n",
       "      <td>ultra</td>\n",
       "      <td>2617.592153</td>\n",
       "      <td>15.816871</td>\n",
       "      <td>2021-01-18</td>\n",
       "      <td>1</td>\n",
       "    </tr>\n",
       "    <tr>\n",
       "      <th>2</th>\n",
       "      <td>1</td>\n",
       "      <td>Кира</td>\n",
       "      <td>22</td>\n",
       "      <td>Тюмень</td>\n",
       "      <td>ultra</td>\n",
       "      <td>754.159807</td>\n",
       "      <td>6.232113</td>\n",
       "      <td>2021-04-20</td>\n",
       "      <td>4</td>\n",
       "    </tr>\n",
       "    <tr>\n",
       "      <th>3</th>\n",
       "      <td>1</td>\n",
       "      <td>Кира</td>\n",
       "      <td>22</td>\n",
       "      <td>Тюмень</td>\n",
       "      <td>ultra</td>\n",
       "      <td>2694.783254</td>\n",
       "      <td>18.511000</td>\n",
       "      <td>2021-08-11</td>\n",
       "      <td>8</td>\n",
       "    </tr>\n",
       "    <tr>\n",
       "      <th>4</th>\n",
       "      <td>1</td>\n",
       "      <td>Кира</td>\n",
       "      <td>22</td>\n",
       "      <td>Тюмень</td>\n",
       "      <td>ultra</td>\n",
       "      <td>4028.687306</td>\n",
       "      <td>26.265803</td>\n",
       "      <td>2021-08-28</td>\n",
       "      <td>8</td>\n",
       "    </tr>\n",
       "  </tbody>\n",
       "</table>\n",
       "</div>"
      ],
      "text/plain": [
       "   user_id  name  age    city subs_type     distance   duration       date  \\\n",
       "0        1  Кира   22  Тюмень     ultra  4409.919140  25.599769 2021-01-01   \n",
       "1        1  Кира   22  Тюмень     ultra  2617.592153  15.816871 2021-01-18   \n",
       "2        1  Кира   22  Тюмень     ultra   754.159807   6.232113 2021-04-20   \n",
       "3        1  Кира   22  Тюмень     ultra  2694.783254  18.511000 2021-08-11   \n",
       "4        1  Кира   22  Тюмень     ultra  4028.687306  26.265803 2021-08-28   \n",
       "\n",
       "   month  \n",
       "0      1  \n",
       "1      1  \n",
       "2      4  \n",
       "3      8  \n",
       "4      8  "
      ]
     },
     "execution_count": 45,
     "metadata": {},
     "output_type": "execute_result"
    }
   ],
   "source": [
    "#Формирование БД о поездках пользователей\n",
    "df_all = pd.merge(df_users, df_rides, on = 'user_id')\n",
    "df_all.head()"
   ]
  },
  {
   "cell_type": "code",
   "execution_count": 46,
   "id": "01511bbf",
   "metadata": {},
   "outputs": [
    {
     "name": "stdout",
     "output_type": "stream",
     "text": [
      "<class 'pandas.core.frame.DataFrame'>\n",
      "Int64Index: 18068 entries, 0 to 18067\n",
      "Data columns (total 9 columns):\n",
      " #   Column     Non-Null Count  Dtype         \n",
      "---  ------     --------------  -----         \n",
      " 0   user_id    18068 non-null  int64         \n",
      " 1   name       18068 non-null  string        \n",
      " 2   age        18068 non-null  int64         \n",
      " 3   city       18068 non-null  string        \n",
      " 4   subs_type  18068 non-null  string        \n",
      " 5   distance   18068 non-null  float64       \n",
      " 6   duration   18068 non-null  float64       \n",
      " 7   date       18068 non-null  datetime64[ns]\n",
      " 8   month      18068 non-null  int64         \n",
      "dtypes: datetime64[ns](1), float64(2), int64(3), string(3)\n",
      "memory usage: 1.4 MB\n"
     ]
    }
   ],
   "source": [
    "df_all.info()"
   ]
  },
  {
   "cell_type": "code",
   "execution_count": 47,
   "id": "17f171d8",
   "metadata": {},
   "outputs": [
    {
     "data": {
      "text/plain": [
       "(18068, 9)"
      ]
     },
     "execution_count": 47,
     "metadata": {},
     "output_type": "execute_result"
    }
   ],
   "source": [
    "df_all.shape"
   ]
  },
  {
   "cell_type": "markdown",
   "id": "918584c7",
   "metadata": {},
   "source": [
    "В новом датасете 18068 записей и 9 столбцов. Потеря одного столбца связана с объединением по столбцу `user_id`."
   ]
  },
  {
   "cell_type": "markdown",
   "id": "bfd6b477",
   "metadata": {},
   "source": [
    "Данные не были потеряны"
   ]
  },
  {
   "cell_type": "code",
   "execution_count": 48,
   "id": "3a04e751",
   "metadata": {},
   "outputs": [
    {
     "data": {
      "text/plain": [
       "(2, 4)"
      ]
     },
     "execution_count": 48,
     "metadata": {},
     "output_type": "execute_result"
    }
   ],
   "source": [
    "df_subs.shape"
   ]
  },
  {
   "cell_type": "markdown",
   "id": "2d583dda",
   "metadata": {},
   "source": [
    "В информации о тарифах 2 записи и 4 столбца"
   ]
  },
  {
   "cell_type": "code",
   "execution_count": 49,
   "id": "e50fa1e9",
   "metadata": {},
   "outputs": [
    {
     "data": {
      "text/html": [
       "<div>\n",
       "<style scoped>\n",
       "    .dataframe tbody tr th:only-of-type {\n",
       "        vertical-align: middle;\n",
       "    }\n",
       "\n",
       "    .dataframe tbody tr th {\n",
       "        vertical-align: top;\n",
       "    }\n",
       "\n",
       "    .dataframe thead th {\n",
       "        text-align: right;\n",
       "    }\n",
       "</style>\n",
       "<table border=\"1\" class=\"dataframe\">\n",
       "  <thead>\n",
       "    <tr style=\"text-align: right;\">\n",
       "      <th></th>\n",
       "      <th>user_id</th>\n",
       "      <th>name</th>\n",
       "      <th>age</th>\n",
       "      <th>city</th>\n",
       "      <th>subs_type</th>\n",
       "      <th>distance</th>\n",
       "      <th>duration</th>\n",
       "      <th>date</th>\n",
       "      <th>month</th>\n",
       "      <th>minute_price</th>\n",
       "      <th>start_ride_price</th>\n",
       "      <th>subs_fee</th>\n",
       "    </tr>\n",
       "  </thead>\n",
       "  <tbody>\n",
       "    <tr>\n",
       "      <th>0</th>\n",
       "      <td>1</td>\n",
       "      <td>Кира</td>\n",
       "      <td>22</td>\n",
       "      <td>Тюмень</td>\n",
       "      <td>ultra</td>\n",
       "      <td>4409.919140</td>\n",
       "      <td>25.599769</td>\n",
       "      <td>2021-01-01</td>\n",
       "      <td>1</td>\n",
       "      <td>6</td>\n",
       "      <td>0</td>\n",
       "      <td>199</td>\n",
       "    </tr>\n",
       "    <tr>\n",
       "      <th>1</th>\n",
       "      <td>1</td>\n",
       "      <td>Кира</td>\n",
       "      <td>22</td>\n",
       "      <td>Тюмень</td>\n",
       "      <td>ultra</td>\n",
       "      <td>2617.592153</td>\n",
       "      <td>15.816871</td>\n",
       "      <td>2021-01-18</td>\n",
       "      <td>1</td>\n",
       "      <td>6</td>\n",
       "      <td>0</td>\n",
       "      <td>199</td>\n",
       "    </tr>\n",
       "    <tr>\n",
       "      <th>2</th>\n",
       "      <td>1</td>\n",
       "      <td>Кира</td>\n",
       "      <td>22</td>\n",
       "      <td>Тюмень</td>\n",
       "      <td>ultra</td>\n",
       "      <td>754.159807</td>\n",
       "      <td>6.232113</td>\n",
       "      <td>2021-04-20</td>\n",
       "      <td>4</td>\n",
       "      <td>6</td>\n",
       "      <td>0</td>\n",
       "      <td>199</td>\n",
       "    </tr>\n",
       "    <tr>\n",
       "      <th>3</th>\n",
       "      <td>1</td>\n",
       "      <td>Кира</td>\n",
       "      <td>22</td>\n",
       "      <td>Тюмень</td>\n",
       "      <td>ultra</td>\n",
       "      <td>2694.783254</td>\n",
       "      <td>18.511000</td>\n",
       "      <td>2021-08-11</td>\n",
       "      <td>8</td>\n",
       "      <td>6</td>\n",
       "      <td>0</td>\n",
       "      <td>199</td>\n",
       "    </tr>\n",
       "    <tr>\n",
       "      <th>4</th>\n",
       "      <td>1</td>\n",
       "      <td>Кира</td>\n",
       "      <td>22</td>\n",
       "      <td>Тюмень</td>\n",
       "      <td>ultra</td>\n",
       "      <td>4028.687306</td>\n",
       "      <td>26.265803</td>\n",
       "      <td>2021-08-28</td>\n",
       "      <td>8</td>\n",
       "      <td>6</td>\n",
       "      <td>0</td>\n",
       "      <td>199</td>\n",
       "    </tr>\n",
       "  </tbody>\n",
       "</table>\n",
       "</div>"
      ],
      "text/plain": [
       "   user_id  name  age    city subs_type     distance   duration       date  \\\n",
       "0        1  Кира   22  Тюмень     ultra  4409.919140  25.599769 2021-01-01   \n",
       "1        1  Кира   22  Тюмень     ultra  2617.592153  15.816871 2021-01-18   \n",
       "2        1  Кира   22  Тюмень     ultra   754.159807   6.232113 2021-04-20   \n",
       "3        1  Кира   22  Тюмень     ultra  2694.783254  18.511000 2021-08-11   \n",
       "4        1  Кира   22  Тюмень     ultra  4028.687306  26.265803 2021-08-28   \n",
       "\n",
       "   month  minute_price  start_ride_price  subs_fee  \n",
       "0      1             6                 0       199  \n",
       "1      1             6                 0       199  \n",
       "2      4             6                 0       199  \n",
       "3      8             6                 0       199  \n",
       "4      8             6                 0       199  "
      ]
     },
     "execution_count": 49,
     "metadata": {},
     "output_type": "execute_result"
    }
   ],
   "source": [
    "#объединение с тарифами\n",
    "df_all = pd.merge(df_all, df_subs, on = 'subs_type')\n",
    "df_all.head()"
   ]
  },
  {
   "cell_type": "code",
   "execution_count": 50,
   "id": "10259493",
   "metadata": {},
   "outputs": [
    {
     "data": {
      "text/plain": [
       "(18068, 12)"
      ]
     },
     "execution_count": 50,
     "metadata": {},
     "output_type": "execute_result"
    }
   ],
   "source": [
    "df_all.shape"
   ]
  },
  {
   "cell_type": "markdown",
   "id": "428d07cb",
   "metadata": {},
   "source": [
    "В конечном датасете 18069 записей, как в самом крупном изначальном датасете, и 12 столбцов:\n",
    " - по 5 из датасетов из информации по пользователям и их поездкам с объединением по столбцу `user_id`;\n",
    " - 3 столбца из информации о тарифах с объединением по столбцу `subs_type` - тип подписки."
   ]
  },
  {
   "cell_type": "code",
   "execution_count": 51,
   "id": "fa69cc9e",
   "metadata": {},
   "outputs": [
    {
     "name": "stdout",
     "output_type": "stream",
     "text": [
      "<class 'pandas.core.frame.DataFrame'>\n",
      "Int64Index: 18068 entries, 0 to 18067\n",
      "Data columns (total 12 columns):\n",
      " #   Column            Non-Null Count  Dtype         \n",
      "---  ------            --------------  -----         \n",
      " 0   user_id           18068 non-null  int64         \n",
      " 1   name              18068 non-null  string        \n",
      " 2   age               18068 non-null  int64         \n",
      " 3   city              18068 non-null  string        \n",
      " 4   subs_type         18068 non-null  string        \n",
      " 5   distance          18068 non-null  float64       \n",
      " 6   duration          18068 non-null  float64       \n",
      " 7   date              18068 non-null  datetime64[ns]\n",
      " 8   month             18068 non-null  int64         \n",
      " 9   minute_price      18068 non-null  int64         \n",
      " 10  start_ride_price  18068 non-null  int64         \n",
      " 11  subs_fee          18068 non-null  int64         \n",
      "dtypes: datetime64[ns](1), float64(2), int64(6), string(3)\n",
      "memory usage: 1.8 MB\n"
     ]
    }
   ],
   "source": [
    "df_all.info()"
   ]
  },
  {
   "cell_type": "markdown",
   "id": "88effd9c",
   "metadata": {},
   "source": [
    "В ходе объединения не было потери записей, а неопределенных значений не обнаружено"
   ]
  },
  {
   "cell_type": "markdown",
   "id": "2baa3a0e",
   "metadata": {},
   "source": [
    "##### Создание общей БД о пользователях без подписки и общей БД о пользователях с подписков"
   ]
  },
  {
   "cell_type": "code",
   "execution_count": 52,
   "id": "1a80ffc2",
   "metadata": {},
   "outputs": [
    {
     "data": {
      "text/html": [
       "<div>\n",
       "<style scoped>\n",
       "    .dataframe tbody tr th:only-of-type {\n",
       "        vertical-align: middle;\n",
       "    }\n",
       "\n",
       "    .dataframe tbody tr th {\n",
       "        vertical-align: top;\n",
       "    }\n",
       "\n",
       "    .dataframe thead th {\n",
       "        text-align: right;\n",
       "    }\n",
       "</style>\n",
       "<table border=\"1\" class=\"dataframe\">\n",
       "  <thead>\n",
       "    <tr style=\"text-align: right;\">\n",
       "      <th></th>\n",
       "      <th>user_id</th>\n",
       "      <th>name</th>\n",
       "      <th>age</th>\n",
       "      <th>city</th>\n",
       "      <th>subs_type</th>\n",
       "      <th>distance</th>\n",
       "      <th>duration</th>\n",
       "      <th>date</th>\n",
       "      <th>month</th>\n",
       "      <th>minute_price</th>\n",
       "      <th>start_ride_price</th>\n",
       "      <th>subs_fee</th>\n",
       "    </tr>\n",
       "  </thead>\n",
       "  <tbody>\n",
       "    <tr>\n",
       "      <th>6500</th>\n",
       "      <td>700</td>\n",
       "      <td>Айдар</td>\n",
       "      <td>22</td>\n",
       "      <td>Омск</td>\n",
       "      <td>free</td>\n",
       "      <td>2515.690719</td>\n",
       "      <td>14.944286</td>\n",
       "      <td>2021-01-02</td>\n",
       "      <td>1</td>\n",
       "      <td>8</td>\n",
       "      <td>50</td>\n",
       "      <td>0</td>\n",
       "    </tr>\n",
       "    <tr>\n",
       "      <th>6501</th>\n",
       "      <td>700</td>\n",
       "      <td>Айдар</td>\n",
       "      <td>22</td>\n",
       "      <td>Омск</td>\n",
       "      <td>free</td>\n",
       "      <td>846.932642</td>\n",
       "      <td>16.234663</td>\n",
       "      <td>2021-02-01</td>\n",
       "      <td>2</td>\n",
       "      <td>8</td>\n",
       "      <td>50</td>\n",
       "      <td>0</td>\n",
       "    </tr>\n",
       "    <tr>\n",
       "      <th>6502</th>\n",
       "      <td>700</td>\n",
       "      <td>Айдар</td>\n",
       "      <td>22</td>\n",
       "      <td>Омск</td>\n",
       "      <td>free</td>\n",
       "      <td>4004.434142</td>\n",
       "      <td>20.016628</td>\n",
       "      <td>2021-02-04</td>\n",
       "      <td>2</td>\n",
       "      <td>8</td>\n",
       "      <td>50</td>\n",
       "      <td>0</td>\n",
       "    </tr>\n",
       "    <tr>\n",
       "      <th>6503</th>\n",
       "      <td>700</td>\n",
       "      <td>Айдар</td>\n",
       "      <td>22</td>\n",
       "      <td>Омск</td>\n",
       "      <td>free</td>\n",
       "      <td>1205.911290</td>\n",
       "      <td>9.782872</td>\n",
       "      <td>2021-02-10</td>\n",
       "      <td>2</td>\n",
       "      <td>8</td>\n",
       "      <td>50</td>\n",
       "      <td>0</td>\n",
       "    </tr>\n",
       "    <tr>\n",
       "      <th>6504</th>\n",
       "      <td>700</td>\n",
       "      <td>Айдар</td>\n",
       "      <td>22</td>\n",
       "      <td>Омск</td>\n",
       "      <td>free</td>\n",
       "      <td>3047.379435</td>\n",
       "      <td>17.427673</td>\n",
       "      <td>2021-02-14</td>\n",
       "      <td>2</td>\n",
       "      <td>8</td>\n",
       "      <td>50</td>\n",
       "      <td>0</td>\n",
       "    </tr>\n",
       "  </tbody>\n",
       "</table>\n",
       "</div>"
      ],
      "text/plain": [
       "      user_id   name  age  city subs_type     distance   duration       date  \\\n",
       "6500      700  Айдар   22  Омск      free  2515.690719  14.944286 2021-01-02   \n",
       "6501      700  Айдар   22  Омск      free   846.932642  16.234663 2021-02-01   \n",
       "6502      700  Айдар   22  Омск      free  4004.434142  20.016628 2021-02-04   \n",
       "6503      700  Айдар   22  Омск      free  1205.911290   9.782872 2021-02-10   \n",
       "6504      700  Айдар   22  Омск      free  3047.379435  17.427673 2021-02-14   \n",
       "\n",
       "      month  minute_price  start_ride_price  subs_fee  \n",
       "6500      1             8                50         0  \n",
       "6501      2             8                50         0  \n",
       "6502      2             8                50         0  \n",
       "6503      2             8                50         0  \n",
       "6504      2             8                50         0  "
      ]
     },
     "execution_count": 52,
     "metadata": {},
     "output_type": "execute_result"
    }
   ],
   "source": [
    "#без подписки\n",
    "df_all_unsubs = df_all[df_all['subs_type'] == 'free'].copy()\n",
    "df_all_unsubs.head()"
   ]
  },
  {
   "cell_type": "code",
   "execution_count": 53,
   "id": "ab180157",
   "metadata": {},
   "outputs": [
    {
     "data": {
      "text/html": [
       "<div>\n",
       "<style scoped>\n",
       "    .dataframe tbody tr th:only-of-type {\n",
       "        vertical-align: middle;\n",
       "    }\n",
       "\n",
       "    .dataframe tbody tr th {\n",
       "        vertical-align: top;\n",
       "    }\n",
       "\n",
       "    .dataframe thead th {\n",
       "        text-align: right;\n",
       "    }\n",
       "</style>\n",
       "<table border=\"1\" class=\"dataframe\">\n",
       "  <thead>\n",
       "    <tr style=\"text-align: right;\">\n",
       "      <th></th>\n",
       "      <th>user_id</th>\n",
       "      <th>name</th>\n",
       "      <th>age</th>\n",
       "      <th>city</th>\n",
       "      <th>subs_type</th>\n",
       "      <th>distance</th>\n",
       "      <th>duration</th>\n",
       "      <th>date</th>\n",
       "      <th>month</th>\n",
       "      <th>minute_price</th>\n",
       "      <th>start_ride_price</th>\n",
       "      <th>subs_fee</th>\n",
       "    </tr>\n",
       "  </thead>\n",
       "  <tbody>\n",
       "    <tr>\n",
       "      <th>0</th>\n",
       "      <td>1</td>\n",
       "      <td>Кира</td>\n",
       "      <td>22</td>\n",
       "      <td>Тюмень</td>\n",
       "      <td>ultra</td>\n",
       "      <td>4409.919140</td>\n",
       "      <td>25.599769</td>\n",
       "      <td>2021-01-01</td>\n",
       "      <td>1</td>\n",
       "      <td>6</td>\n",
       "      <td>0</td>\n",
       "      <td>199</td>\n",
       "    </tr>\n",
       "    <tr>\n",
       "      <th>1</th>\n",
       "      <td>1</td>\n",
       "      <td>Кира</td>\n",
       "      <td>22</td>\n",
       "      <td>Тюмень</td>\n",
       "      <td>ultra</td>\n",
       "      <td>2617.592153</td>\n",
       "      <td>15.816871</td>\n",
       "      <td>2021-01-18</td>\n",
       "      <td>1</td>\n",
       "      <td>6</td>\n",
       "      <td>0</td>\n",
       "      <td>199</td>\n",
       "    </tr>\n",
       "    <tr>\n",
       "      <th>2</th>\n",
       "      <td>1</td>\n",
       "      <td>Кира</td>\n",
       "      <td>22</td>\n",
       "      <td>Тюмень</td>\n",
       "      <td>ultra</td>\n",
       "      <td>754.159807</td>\n",
       "      <td>6.232113</td>\n",
       "      <td>2021-04-20</td>\n",
       "      <td>4</td>\n",
       "      <td>6</td>\n",
       "      <td>0</td>\n",
       "      <td>199</td>\n",
       "    </tr>\n",
       "    <tr>\n",
       "      <th>3</th>\n",
       "      <td>1</td>\n",
       "      <td>Кира</td>\n",
       "      <td>22</td>\n",
       "      <td>Тюмень</td>\n",
       "      <td>ultra</td>\n",
       "      <td>2694.783254</td>\n",
       "      <td>18.511000</td>\n",
       "      <td>2021-08-11</td>\n",
       "      <td>8</td>\n",
       "      <td>6</td>\n",
       "      <td>0</td>\n",
       "      <td>199</td>\n",
       "    </tr>\n",
       "    <tr>\n",
       "      <th>4</th>\n",
       "      <td>1</td>\n",
       "      <td>Кира</td>\n",
       "      <td>22</td>\n",
       "      <td>Тюмень</td>\n",
       "      <td>ultra</td>\n",
       "      <td>4028.687306</td>\n",
       "      <td>26.265803</td>\n",
       "      <td>2021-08-28</td>\n",
       "      <td>8</td>\n",
       "      <td>6</td>\n",
       "      <td>0</td>\n",
       "      <td>199</td>\n",
       "    </tr>\n",
       "  </tbody>\n",
       "</table>\n",
       "</div>"
      ],
      "text/plain": [
       "   user_id  name  age    city subs_type     distance   duration       date  \\\n",
       "0        1  Кира   22  Тюмень     ultra  4409.919140  25.599769 2021-01-01   \n",
       "1        1  Кира   22  Тюмень     ultra  2617.592153  15.816871 2021-01-18   \n",
       "2        1  Кира   22  Тюмень     ultra   754.159807   6.232113 2021-04-20   \n",
       "3        1  Кира   22  Тюмень     ultra  2694.783254  18.511000 2021-08-11   \n",
       "4        1  Кира   22  Тюмень     ultra  4028.687306  26.265803 2021-08-28   \n",
       "\n",
       "   month  minute_price  start_ride_price  subs_fee  \n",
       "0      1             6                 0       199  \n",
       "1      1             6                 0       199  \n",
       "2      4             6                 0       199  \n",
       "3      8             6                 0       199  \n",
       "4      8             6                 0       199  "
      ]
     },
     "execution_count": 53,
     "metadata": {},
     "output_type": "execute_result"
    }
   ],
   "source": [
    "#с подпиской\n",
    "df_all_subs = df_all[df_all['subs_type'] == 'ultra'].copy()\n",
    "df_all_subs.head()"
   ]
  },
  {
   "cell_type": "code",
   "execution_count": 54,
   "id": "0b7af524",
   "metadata": {},
   "outputs": [
    {
     "name": "stdout",
     "output_type": "stream",
     "text": [
      "Общее количество изначальных записей -  18068\n",
      "Общее количество записей о пользователях с подпиской -  6500\n",
      "Общее количество записей о пользователях без подпиской -  11568\n",
      "Потеря данных -  0\n"
     ]
    }
   ],
   "source": [
    "#проверка на потерю данных\n",
    "print('Общее количество изначальных записей - ', len(df_all))\n",
    "print('Общее количество записей о пользователях с подпиской - ', len(df_all_subs))\n",
    "print('Общее количество записей о пользователях без подпиской - ', len(df_all_unsubs))\n",
    "print('Потеря данных - ', len(df_all)-len(df_all_subs)-len(df_all_unsubs))"
   ]
  },
  {
   "cell_type": "markdown",
   "id": "d0f80923",
   "metadata": {},
   "source": [
    "##### Визуализации информации о расстоянии и времени поездок для пользователей обеих категорий"
   ]
  },
  {
   "cell_type": "markdown",
   "id": "5e3b179d",
   "metadata": {},
   "source": [
    "###### Визуализация расстояния поездки"
   ]
  },
  {
   "cell_type": "code",
   "execution_count": 55,
   "id": "56c85b2b",
   "metadata": {},
   "outputs": [
    {
     "data": {
      "text/plain": [
       "Text(0.5, 1.0, 'Распределение дистанции каждой поездки пользователей без подписки')"
      ]
     },
     "execution_count": 55,
     "metadata": {},
     "output_type": "execute_result"
    },
    {
     "data": {
      "image/png": "[encoded data removed]",
      "text/plain": [
       "<Figure size 1440x360 with 1 Axes>"
      ]
     },
     "metadata": {},
     "output_type": "display_data"
    }
   ],
   "source": [
    "df_all_unsubs['distance'].hist(bins=100, figsize=(20,5))\n",
    "plt.xlabel('Дистанция')\n",
    "plt.ylabel('Количество пользователей')\n",
    "plt.title('Распределение дистанции каждой поездки пользователей без подписки', size = 14)"
   ]
  },
  {
   "cell_type": "code",
   "execution_count": 56,
   "id": "4ea6b002",
   "metadata": {},
   "outputs": [
    {
     "data": {
      "text/plain": [
       "Text(0.5, 1.0, 'Распределение дистанции каждой поездки пользователей с подпиской')"
      ]
     },
     "execution_count": 56,
     "metadata": {},
     "output_type": "execute_result"
    },
    {
     "data": {
      "image/png": "[encoded data removed]",
      "text/plain": [
       "<Figure size 1440x360 with 1 Axes>"
      ]
     },
     "metadata": {},
     "output_type": "display_data"
    }
   ],
   "source": [
    "df_all_subs['distance'].hist(bins=100, figsize=(20,5))\n",
    "plt.xlabel('Дистанция')\n",
    "plt.ylabel('Количество пользователей')\n",
    "plt.title('С подпиской')\n",
    "plt.title('Распределение дистанции каждой поездки пользователей с подпиской', size = 14)"
   ]
  },
  {
   "cell_type": "markdown",
   "id": "b1149aba",
   "metadata": {},
   "source": [
    "Как уже отмечалось в пункте 3.4, пользователей с бесплатной подпиской на дистанции поездки до 1500м больше, что может быть связано с платным стартом."
   ]
  },
  {
   "cell_type": "markdown",
   "id": "b8afe09c",
   "metadata": {},
   "source": [
    "###### Визуализация продолжительности поездки"
   ]
  },
  {
   "cell_type": "code",
   "execution_count": 57,
   "id": "64cc9aee",
   "metadata": {},
   "outputs": [
    {
     "data": {
      "text/plain": [
       "Text(0.5, 1.0, 'Распределение продолжительности каждой поездки пользователей без подписки')"
      ]
     },
     "execution_count": 57,
     "metadata": {},
     "output_type": "execute_result"
    },
    {
     "data": {
      "image/png": "[encoded data removed]",
      "text/plain": [
       "<Figure size 1440x360 with 1 Axes>"
      ]
     },
     "metadata": {},
     "output_type": "display_data"
    }
   ],
   "source": [
    "df_all_unsubs['duration'].hist(bins=100, figsize=(20,5))\n",
    "plt.xlabel('Продолжительность')\n",
    "plt.ylabel('Количество пользователей')\n",
    "plt.title('Распределение продолжительности каждой поездки пользователей без подписки', size = 14)"
   ]
  },
  {
   "cell_type": "code",
   "execution_count": 58,
   "id": "e7fa5c3b",
   "metadata": {},
   "outputs": [
    {
     "data": {
      "text/plain": [
       "Text(0.5, 1.0, 'Распределение продолжительности каждой поездки пользователей с подпиской')"
      ]
     },
     "execution_count": 58,
     "metadata": {},
     "output_type": "execute_result"
    },
    {
     "data": {
      "image/png": "[encoded data removed]",
      "text/plain": [
       "<Figure size 1440x360 with 1 Axes>"
      ]
     },
     "metadata": {},
     "output_type": "display_data"
    }
   ],
   "source": [
    "df_all_subs['duration'].hist(bins=100, figsize=(20,5))\n",
    "plt.xlabel('Продолжительность')\n",
    "plt.ylabel('Количество пользователей')\n",
    "plt.title('Распределение продолжительности каждой поездки пользователей с подпиской', size = 14)"
   ]
  },
  {
   "cell_type": "markdown",
   "id": "5220a5bc",
   "metadata": {},
   "source": [
    "Как было отмечено в пункте 3.5, на 30 секундах заметен выброс в 95 единиц, причиной которого являются пользователи без платной подписки. Данный фактор может быть связан с тем, что пользователь передумал использовать самокат в качестве средства передвижения."
   ]
  },
  {
   "cell_type": "markdown",
   "id": "ce84cc7a",
   "metadata": {},
   "source": [
    "###### Вывод"
   ]
  },
  {
   "cell_type": "markdown",
   "id": "77a59258",
   "metadata": {},
   "source": [
    "Все выбросы на основных графиках распределения связаны с пользованием сервисом пользователями бесплатной подписки."
   ]
  },
  {
   "cell_type": "markdown",
   "id": "402d620f",
   "metadata": {},
   "source": [
    "#### Шаг 5. Подсчёт выручки"
   ]
  },
  {
   "cell_type": "markdown",
   "id": "f43c5283",
   "metadata": {},
   "source": [
    "##### Создание датафрейма с агрегированными данными"
   ]
  },
  {
   "cell_type": "markdown",
   "id": "d8c606ab",
   "metadata": {},
   "source": [
    "Необходимо создать датафрейм со следующими столбцами:\n",
    "- суммарное расстояние для пользователя за каждый месяц;\n",
    "- суммарное количество поездок за каждый месяц;\n",
    "- суммарное время поездок за каждый месяц.\n"
   ]
  },
  {
   "cell_type": "code",
   "execution_count": 59,
   "id": "f609a8da",
   "metadata": {
    "scrolled": true
   },
   "outputs": [
    {
     "data": {
      "text/html": [
       "<div>\n",
       "<style scoped>\n",
       "    .dataframe tbody tr th:only-of-type {\n",
       "        vertical-align: middle;\n",
       "    }\n",
       "\n",
       "    .dataframe tbody tr th {\n",
       "        vertical-align: top;\n",
       "    }\n",
       "\n",
       "    .dataframe thead tr th {\n",
       "        text-align: left;\n",
       "    }\n",
       "\n",
       "    .dataframe thead tr:last-of-type th {\n",
       "        text-align: right;\n",
       "    }\n",
       "</style>\n",
       "<table border=\"1\" class=\"dataframe\">\n",
       "  <thead>\n",
       "    <tr>\n",
       "      <th></th>\n",
       "      <th></th>\n",
       "      <th>distance</th>\n",
       "      <th colspan=\"2\" halign=\"left\">duration</th>\n",
       "      <th>subs_type</th>\n",
       "      <th>minute_price</th>\n",
       "      <th>start_ride_price</th>\n",
       "      <th>subs_fee</th>\n",
       "    </tr>\n",
       "    <tr>\n",
       "      <th></th>\n",
       "      <th></th>\n",
       "      <th>sum</th>\n",
       "      <th>sum</th>\n",
       "      <th>count</th>\n",
       "      <th>first</th>\n",
       "      <th>first</th>\n",
       "      <th>first</th>\n",
       "      <th>first</th>\n",
       "    </tr>\n",
       "    <tr>\n",
       "      <th>user_id</th>\n",
       "      <th>month</th>\n",
       "      <th></th>\n",
       "      <th></th>\n",
       "      <th></th>\n",
       "      <th></th>\n",
       "      <th></th>\n",
       "      <th></th>\n",
       "      <th></th>\n",
       "    </tr>\n",
       "  </thead>\n",
       "  <tbody>\n",
       "    <tr>\n",
       "      <th rowspan=\"6\" valign=\"top\">1</th>\n",
       "      <th>1</th>\n",
       "      <td>7027.511294</td>\n",
       "      <td>41.416640</td>\n",
       "      <td>2</td>\n",
       "      <td>ultra</td>\n",
       "      <td>6</td>\n",
       "      <td>0</td>\n",
       "      <td>199</td>\n",
       "    </tr>\n",
       "    <tr>\n",
       "      <th>4</th>\n",
       "      <td>754.159807</td>\n",
       "      <td>6.232113</td>\n",
       "      <td>1</td>\n",
       "      <td>ultra</td>\n",
       "      <td>6</td>\n",
       "      <td>0</td>\n",
       "      <td>199</td>\n",
       "    </tr>\n",
       "    <tr>\n",
       "      <th>8</th>\n",
       "      <td>6723.470560</td>\n",
       "      <td>44.776802</td>\n",
       "      <td>2</td>\n",
       "      <td>ultra</td>\n",
       "      <td>6</td>\n",
       "      <td>0</td>\n",
       "      <td>199</td>\n",
       "    </tr>\n",
       "    <tr>\n",
       "      <th>10</th>\n",
       "      <td>5809.911100</td>\n",
       "      <td>31.578017</td>\n",
       "      <td>2</td>\n",
       "      <td>ultra</td>\n",
       "      <td>6</td>\n",
       "      <td>0</td>\n",
       "      <td>199</td>\n",
       "    </tr>\n",
       "    <tr>\n",
       "      <th>11</th>\n",
       "      <td>7003.499363</td>\n",
       "      <td>53.397424</td>\n",
       "      <td>3</td>\n",
       "      <td>ultra</td>\n",
       "      <td>6</td>\n",
       "      <td>0</td>\n",
       "      <td>199</td>\n",
       "    </tr>\n",
       "    <tr>\n",
       "      <th>12</th>\n",
       "      <td>6751.629942</td>\n",
       "      <td>27.203912</td>\n",
       "      <td>2</td>\n",
       "      <td>ultra</td>\n",
       "      <td>6</td>\n",
       "      <td>0</td>\n",
       "      <td>199</td>\n",
       "    </tr>\n",
       "    <tr>\n",
       "      <th rowspan=\"4\" valign=\"top\">2</th>\n",
       "      <th>3</th>\n",
       "      <td>10187.723006</td>\n",
       "      <td>60.959959</td>\n",
       "      <td>3</td>\n",
       "      <td>ultra</td>\n",
       "      <td>6</td>\n",
       "      <td>0</td>\n",
       "      <td>199</td>\n",
       "    </tr>\n",
       "    <tr>\n",
       "      <th>4</th>\n",
       "      <td>6164.381824</td>\n",
       "      <td>39.048633</td>\n",
       "      <td>2</td>\n",
       "      <td>ultra</td>\n",
       "      <td>6</td>\n",
       "      <td>0</td>\n",
       "      <td>199</td>\n",
       "    </tr>\n",
       "    <tr>\n",
       "      <th>6</th>\n",
       "      <td>3255.338202</td>\n",
       "      <td>13.851127</td>\n",
       "      <td>1</td>\n",
       "      <td>ultra</td>\n",
       "      <td>6</td>\n",
       "      <td>0</td>\n",
       "      <td>199</td>\n",
       "    </tr>\n",
       "    <tr>\n",
       "      <th>7</th>\n",
       "      <td>6780.722964</td>\n",
       "      <td>46.170157</td>\n",
       "      <td>2</td>\n",
       "      <td>ultra</td>\n",
       "      <td>6</td>\n",
       "      <td>0</td>\n",
       "      <td>199</td>\n",
       "    </tr>\n",
       "  </tbody>\n",
       "</table>\n",
       "</div>"
      ],
      "text/plain": [
       "                   distance   duration       subs_type minute_price  \\\n",
       "                        sum        sum count     first        first   \n",
       "user_id month                                                         \n",
       "1       1       7027.511294  41.416640     2     ultra            6   \n",
       "        4        754.159807   6.232113     1     ultra            6   \n",
       "        8       6723.470560  44.776802     2     ultra            6   \n",
       "        10      5809.911100  31.578017     2     ultra            6   \n",
       "        11      7003.499363  53.397424     3     ultra            6   \n",
       "        12      6751.629942  27.203912     2     ultra            6   \n",
       "2       3      10187.723006  60.959959     3     ultra            6   \n",
       "        4       6164.381824  39.048633     2     ultra            6   \n",
       "        6       3255.338202  13.851127     1     ultra            6   \n",
       "        7       6780.722964  46.170157     2     ultra            6   \n",
       "\n",
       "              start_ride_price subs_fee  \n",
       "                         first    first  \n",
       "user_id month                            \n",
       "1       1                    0      199  \n",
       "        4                    0      199  \n",
       "        8                    0      199  \n",
       "        10                   0      199  \n",
       "        11                   0      199  \n",
       "        12                   0      199  \n",
       "2       3                    0      199  \n",
       "        4                    0      199  \n",
       "        6                    0      199  \n",
       "        7                    0      199  "
      ]
     },
     "execution_count": 59,
     "metadata": {},
     "output_type": "execute_result"
    }
   ],
   "source": [
    "df_all_agg = df_all.groupby(['user_id', 'month']).agg(\n",
    "    {'distance':'sum', 'duration':['sum', 'count'],\n",
    "    'subs_type':'first',\n",
    "    'minute_price':'first',\n",
    "    'start_ride_price':'first',\n",
    "    'subs_fee':'first'})\n",
    "df_all_agg.head(10)"
   ]
  },
  {
   "cell_type": "code",
   "execution_count": 60,
   "id": "604cd5e5",
   "metadata": {},
   "outputs": [
    {
     "data": {
      "text/html": [
       "<div>\n",
       "<style scoped>\n",
       "    .dataframe tbody tr th:only-of-type {\n",
       "        vertical-align: middle;\n",
       "    }\n",
       "\n",
       "    .dataframe tbody tr th {\n",
       "        vertical-align: top;\n",
       "    }\n",
       "\n",
       "    .dataframe thead th {\n",
       "        text-align: right;\n",
       "    }\n",
       "</style>\n",
       "<table border=\"1\" class=\"dataframe\">\n",
       "  <thead>\n",
       "    <tr style=\"text-align: right;\">\n",
       "      <th></th>\n",
       "      <th>user_id</th>\n",
       "      <th>month</th>\n",
       "      <th>distance_sum</th>\n",
       "      <th>duration_sum</th>\n",
       "      <th>rides_count</th>\n",
       "      <th>subs_type</th>\n",
       "      <th>minute_price</th>\n",
       "      <th>start_ride_price</th>\n",
       "      <th>subs_fee</th>\n",
       "    </tr>\n",
       "  </thead>\n",
       "  <tbody>\n",
       "    <tr>\n",
       "      <th>0</th>\n",
       "      <td>1</td>\n",
       "      <td>1</td>\n",
       "      <td>7027.511294</td>\n",
       "      <td>41.416640</td>\n",
       "      <td>2</td>\n",
       "      <td>ultra</td>\n",
       "      <td>6</td>\n",
       "      <td>0</td>\n",
       "      <td>199</td>\n",
       "    </tr>\n",
       "    <tr>\n",
       "      <th>1</th>\n",
       "      <td>1</td>\n",
       "      <td>4</td>\n",
       "      <td>754.159807</td>\n",
       "      <td>6.232113</td>\n",
       "      <td>1</td>\n",
       "      <td>ultra</td>\n",
       "      <td>6</td>\n",
       "      <td>0</td>\n",
       "      <td>199</td>\n",
       "    </tr>\n",
       "    <tr>\n",
       "      <th>2</th>\n",
       "      <td>1</td>\n",
       "      <td>8</td>\n",
       "      <td>6723.470560</td>\n",
       "      <td>44.776802</td>\n",
       "      <td>2</td>\n",
       "      <td>ultra</td>\n",
       "      <td>6</td>\n",
       "      <td>0</td>\n",
       "      <td>199</td>\n",
       "    </tr>\n",
       "    <tr>\n",
       "      <th>3</th>\n",
       "      <td>1</td>\n",
       "      <td>10</td>\n",
       "      <td>5809.911100</td>\n",
       "      <td>31.578017</td>\n",
       "      <td>2</td>\n",
       "      <td>ultra</td>\n",
       "      <td>6</td>\n",
       "      <td>0</td>\n",
       "      <td>199</td>\n",
       "    </tr>\n",
       "    <tr>\n",
       "      <th>4</th>\n",
       "      <td>1</td>\n",
       "      <td>11</td>\n",
       "      <td>7003.499363</td>\n",
       "      <td>53.397424</td>\n",
       "      <td>3</td>\n",
       "      <td>ultra</td>\n",
       "      <td>6</td>\n",
       "      <td>0</td>\n",
       "      <td>199</td>\n",
       "    </tr>\n",
       "  </tbody>\n",
       "</table>\n",
       "</div>"
      ],
      "text/plain": [
       "   user_id  month  distance_sum  duration_sum  rides_count subs_type  \\\n",
       "0        1      1   7027.511294     41.416640            2     ultra   \n",
       "1        1      4    754.159807      6.232113            1     ultra   \n",
       "2        1      8   6723.470560     44.776802            2     ultra   \n",
       "3        1     10   5809.911100     31.578017            2     ultra   \n",
       "4        1     11   7003.499363     53.397424            3     ultra   \n",
       "\n",
       "   minute_price  start_ride_price  subs_fee  \n",
       "0             6                 0       199  \n",
       "1             6                 0       199  \n",
       "2             6                 0       199  \n",
       "3             6                 0       199  \n",
       "4             6                 0       199  "
      ]
     },
     "execution_count": 60,
     "metadata": {},
     "output_type": "execute_result"
    }
   ],
   "source": [
    "df_all_agg.columns = ['distance_sum', 'duration_sum', 'rides_count',\n",
    "                      'subs_type', 'minute_price',\n",
    "                      'start_ride_price', 'subs_fee']\n",
    "df_all_agg.reset_index(inplace=True)\n",
    "df_all_agg.head()"
   ]
  },
  {
   "cell_type": "code",
   "execution_count": 61,
   "id": "8d6d0e9f",
   "metadata": {},
   "outputs": [
    {
     "data": {
      "text/plain": [
       "(11331, 9)"
      ]
     },
     "execution_count": 61,
     "metadata": {},
     "output_type": "execute_result"
    }
   ],
   "source": [
    "df_all_agg.shape"
   ]
  },
  {
   "cell_type": "code",
   "execution_count": 62,
   "id": "75044988",
   "metadata": {},
   "outputs": [
    {
     "name": "stdout",
     "output_type": "stream",
     "text": [
      "<class 'pandas.core.frame.DataFrame'>\n",
      "RangeIndex: 11331 entries, 0 to 11330\n",
      "Data columns (total 9 columns):\n",
      " #   Column            Non-Null Count  Dtype  \n",
      "---  ------            --------------  -----  \n",
      " 0   user_id           11331 non-null  int64  \n",
      " 1   month             11331 non-null  int64  \n",
      " 2   distance_sum      11331 non-null  float64\n",
      " 3   duration_sum      11331 non-null  float64\n",
      " 4   rides_count       11331 non-null  int64  \n",
      " 5   subs_type         11331 non-null  string \n",
      " 6   minute_price      11331 non-null  int64  \n",
      " 7   start_ride_price  11331 non-null  int64  \n",
      " 8   subs_fee          11331 non-null  int64  \n",
      "dtypes: float64(2), int64(6), string(1)\n",
      "memory usage: 796.8 KB\n"
     ]
    }
   ],
   "source": [
    "df_all_agg.info()"
   ]
  },
  {
   "cell_type": "markdown",
   "id": "4066cbc8",
   "metadata": {},
   "source": [
    "Была сформирована сводная таблица 11331 записью и 9 столбцами:\n",
    "- `user_id` - id пользователя;\n",
    "- `month` - месяц совершения поездок;\n",
    "- `distance_sum` - суммарное расстояние, которое проехал пользователь за все поездки в течение месяца, в метрах;\n",
    "- `duration_sum` - суммарная длительность поездок в минутах;\n",
    "- `rides_count` - суммарное количество поездок;\n",
    "- `subs_type` - тип подписки;\n",
    "- `minute_price` - цена одной поездки в минуту;\n",
    "- `start_ride_price` - цена начала поездки;\n",
    "- `subs_fee` - стоимость подписки.\n",
    "\n",
    "В ходе объединения не было сформировано неопределенных значений"
   ]
  },
  {
   "cell_type": "markdown",
   "id": "ccb9e7b9",
   "metadata": {},
   "source": [
    "##### Добавление столбца с помесячной выручкой для каждого пользователся"
   ]
  },
  {
   "cell_type": "code",
   "execution_count": 63,
   "id": "ece611ba",
   "metadata": {},
   "outputs": [
    {
     "data": {
      "text/html": [
       "<div>\n",
       "<style scoped>\n",
       "    .dataframe tbody tr th:only-of-type {\n",
       "        vertical-align: middle;\n",
       "    }\n",
       "\n",
       "    .dataframe tbody tr th {\n",
       "        vertical-align: top;\n",
       "    }\n",
       "\n",
       "    .dataframe thead th {\n",
       "        text-align: right;\n",
       "    }\n",
       "</style>\n",
       "<table border=\"1\" class=\"dataframe\">\n",
       "  <thead>\n",
       "    <tr style=\"text-align: right;\">\n",
       "      <th></th>\n",
       "      <th>user_id</th>\n",
       "      <th>month</th>\n",
       "      <th>distance_sum</th>\n",
       "      <th>duration_sum</th>\n",
       "      <th>rides_count</th>\n",
       "      <th>subs_type</th>\n",
       "      <th>minute_price</th>\n",
       "      <th>start_ride_price</th>\n",
       "      <th>subs_fee</th>\n",
       "      <th>month_revenue</th>\n",
       "    </tr>\n",
       "  </thead>\n",
       "  <tbody>\n",
       "    <tr>\n",
       "      <th>0</th>\n",
       "      <td>1</td>\n",
       "      <td>1</td>\n",
       "      <td>7027.511294</td>\n",
       "      <td>41.416640</td>\n",
       "      <td>2</td>\n",
       "      <td>ultra</td>\n",
       "      <td>6</td>\n",
       "      <td>0</td>\n",
       "      <td>199</td>\n",
       "      <td>451.0</td>\n",
       "    </tr>\n",
       "    <tr>\n",
       "      <th>1</th>\n",
       "      <td>1</td>\n",
       "      <td>4</td>\n",
       "      <td>754.159807</td>\n",
       "      <td>6.232113</td>\n",
       "      <td>1</td>\n",
       "      <td>ultra</td>\n",
       "      <td>6</td>\n",
       "      <td>0</td>\n",
       "      <td>199</td>\n",
       "      <td>241.0</td>\n",
       "    </tr>\n",
       "    <tr>\n",
       "      <th>2</th>\n",
       "      <td>1</td>\n",
       "      <td>8</td>\n",
       "      <td>6723.470560</td>\n",
       "      <td>44.776802</td>\n",
       "      <td>2</td>\n",
       "      <td>ultra</td>\n",
       "      <td>6</td>\n",
       "      <td>0</td>\n",
       "      <td>199</td>\n",
       "      <td>469.0</td>\n",
       "    </tr>\n",
       "    <tr>\n",
       "      <th>3</th>\n",
       "      <td>1</td>\n",
       "      <td>10</td>\n",
       "      <td>5809.911100</td>\n",
       "      <td>31.578017</td>\n",
       "      <td>2</td>\n",
       "      <td>ultra</td>\n",
       "      <td>6</td>\n",
       "      <td>0</td>\n",
       "      <td>199</td>\n",
       "      <td>391.0</td>\n",
       "    </tr>\n",
       "    <tr>\n",
       "      <th>4</th>\n",
       "      <td>1</td>\n",
       "      <td>11</td>\n",
       "      <td>7003.499363</td>\n",
       "      <td>53.397424</td>\n",
       "      <td>3</td>\n",
       "      <td>ultra</td>\n",
       "      <td>6</td>\n",
       "      <td>0</td>\n",
       "      <td>199</td>\n",
       "      <td>523.0</td>\n",
       "    </tr>\n",
       "  </tbody>\n",
       "</table>\n",
       "</div>"
      ],
      "text/plain": [
       "   user_id  month  distance_sum  duration_sum  rides_count subs_type  \\\n",
       "0        1      1   7027.511294     41.416640            2     ultra   \n",
       "1        1      4    754.159807      6.232113            1     ultra   \n",
       "2        1      8   6723.470560     44.776802            2     ultra   \n",
       "3        1     10   5809.911100     31.578017            2     ultra   \n",
       "4        1     11   7003.499363     53.397424            3     ultra   \n",
       "\n",
       "   minute_price  start_ride_price  subs_fee  month_revenue  \n",
       "0             6                 0       199          451.0  \n",
       "1             6                 0       199          241.0  \n",
       "2             6                 0       199          469.0  \n",
       "3             6                 0       199          391.0  \n",
       "4             6                 0       199          523.0  "
      ]
     },
     "execution_count": 63,
     "metadata": {},
     "output_type": "execute_result"
    }
   ],
   "source": [
    "df_all_agg['month_revenue'] = ( \n",
    "    df_all_agg['start_ride_price'] * df_all_agg['rides_count'] + \n",
    "    df_all_agg['minute_price'] * np.ceil(df_all_agg['duration_sum']) + \n",
    "    df_all_agg['subs_fee'])\n",
    "df_all_agg.head()"
   ]
  },
  {
   "cell_type": "code",
   "execution_count": 64,
   "id": "300492fb",
   "metadata": {},
   "outputs": [
    {
     "name": "stdout",
     "output_type": "stream",
     "text": [
      "Количество неопределенных значений: 0\n"
     ]
    }
   ],
   "source": [
    "print( 'Количество неопределенных значений:', df_all_agg['month_revenue'].isna().sum())"
   ]
  },
  {
   "cell_type": "markdown",
   "id": "d1b2e9d0",
   "metadata": {},
   "source": [
    "##### Вывод"
   ]
  },
  {
   "cell_type": "markdown",
   "id": "81078eb5",
   "metadata": {},
   "source": [
    "Сформирована агрированная таблица с суммарным количество поездок, суммарной продолжительностью, общим количеством поездок за каждый месяц. Определена помесячная выручка с каждого пользователя в месяц."
   ]
  },
  {
   "cell_type": "markdown",
   "id": "41545ac0",
   "metadata": {},
   "source": [
    "#### Шаг 6. Проверка гипотез"
   ]
  },
  {
   "cell_type": "markdown",
   "id": "02dc20ce",
   "metadata": {},
   "source": [
    "##### Гипотеза 1. Тратят ли пользователи с подпиской больше времени на поездки"
   ]
  },
  {
   "cell_type": "markdown",
   "id": "73535ce6",
   "metadata": {},
   "source": [
    "Необходимо узнать, тратят ли пользователи с подпиской больше времени на поездки. Если да, то пользователи с подпиской \"выгоднее\" для компании. "
   ]
  },
  {
   "cell_type": "markdown",
   "id": "79686705",
   "metadata": {},
   "source": [
    "**H0**: Среднее время поездки у пользователей с подпиской и без подписки одинаковое"
   ]
  },
  {
   "cell_type": "markdown",
   "id": "124451d6",
   "metadata": {},
   "source": [
    "**H1**: Среднее время поездки у пользователей c подпиской больше, чем среднее время поездки пользователей без подписки"
   ]
  },
  {
   "cell_type": "markdown",
   "id": "8a2cb805",
   "metadata": {},
   "source": [
    "Значение критического уровня статистической значимости принимается 0.05"
   ]
  },
  {
   "cell_type": "code",
   "execution_count": 65,
   "id": "23ea867b",
   "metadata": {},
   "outputs": [
    {
     "name": "stdout",
     "output_type": "stream",
     "text": [
      "p-значение 1.2804098316645618e-34\n",
      "Отвергаем нулевую гипотезу\n"
     ]
    }
   ],
   "source": [
    "alpha = 0.05\n",
    "results = st.ttest_ind(df_all_subs['duration'], df_all_unsubs['duration'], alternative = 'greater')\n",
    "print('p-значение', results.pvalue)\n",
    "\n",
    "if results.pvalue < alpha:\n",
    "    print('Отвергаем нулевую гипотезу')\n",
    "else:\n",
    "    print('Не отвергаем нулевую гипотезу')"
   ]
  },
  {
   "cell_type": "markdown",
   "id": "d2efbdd2",
   "metadata": {},
   "source": [
    "Среднее время поездки у пользователей с подпиской меньше, чем у пользователей без подписки"
   ]
  },
  {
   "cell_type": "markdown",
   "id": "da114e81",
   "metadata": {},
   "source": [
    "##### Гипотеза 2. Расстояние, которое проезжают пользователи с подпиской, не превышает 3130 метров"
   ]
  },
  {
   "cell_type": "markdown",
   "id": "dd571196",
   "metadata": {},
   "source": [
    "**H0**: Дистанция, которую преодолевают пользователи с платной подпиской за одну поездку, составляет 3130м"
   ]
  },
  {
   "cell_type": "markdown",
   "id": "648d70ca",
   "metadata": {},
   "source": [
    "**H1**: Дистанция, которой достигают пользователи с подпиской за одну поездку, меньше 3130м"
   ]
  },
  {
   "cell_type": "code",
   "execution_count": 66,
   "id": "e3e78ea6",
   "metadata": {},
   "outputs": [
    {
     "name": "stdout",
     "output_type": "stream",
     "text": [
      "p-значение 0.9195368847849785\n",
      "Не отвергаем нулевую гипотезу\n"
     ]
    }
   ],
   "source": [
    "int_result = 3130\n",
    "alpha = 0.05\n",
    "results = st.ttest_1samp( df_all_subs['distance'], int_result, alternative = 'greater')\n",
    "print('p-значение', results.pvalue)\n",
    "\n",
    "if results.pvalue < alpha:\n",
    "    print('Отвергаем нулевую гипотезу')\n",
    "else:\n",
    "    print('Не отвергаем нулевую гипотезу')"
   ]
  },
  {
   "cell_type": "markdown",
   "id": "007ff648",
   "metadata": {},
   "source": [
    "Средняя дистанция, которой достигнет пользователь с подпиской за одну поездку, меньше 3130м. Вероятность такого исхода - 92%."
   ]
  },
  {
   "cell_type": "markdown",
   "id": "8039741d",
   "metadata": {},
   "source": [
    "##### Гипотеза 3. Помесячная выручка от пользователей с подпиской по месяцам выше, чем выручка от пользователей без подписки"
   ]
  },
  {
   "cell_type": "markdown",
   "id": "91c3f7cb",
   "metadata": {},
   "source": [
    "**H0**: Помесячная выручка пользователей с подпиской равна помесячной выручке пользователей без подписки"
   ]
  },
  {
   "cell_type": "markdown",
   "id": "77142750",
   "metadata": {},
   "source": [
    "**H1**: Помесячная выручка пользователей с подпиской больше помесячной выручки пользователей без подписки"
   ]
  },
  {
   "cell_type": "code",
   "execution_count": 67,
   "id": "dd9757ff",
   "metadata": {},
   "outputs": [
    {
     "name": "stdout",
     "output_type": "stream",
     "text": [
      "p-значение 2.8130926188487286e-35\n",
      "Отвергаем нулевую гипотезу\n"
     ]
    }
   ],
   "source": [
    "alpha = 0.05\n",
    "results = st.ttest_ind( df_all_agg.query(\"subs_type == 'ultra'\")['month_revenue'],\n",
    "                        df_all_agg.query(\"subs_type == 'free'\")['month_revenue'],\n",
    "                       alternative = 'greater')\n",
    "print('p-значение', results.pvalue)\n",
    "\n",
    "if results.pvalue < alpha:\n",
    "    print('Отвергаем нулевую гипотезу')\n",
    "else:\n",
    "    print('Не отвергаем нулевую гипотезу')"
   ]
  },
  {
   "cell_type": "markdown",
   "id": "26d8a97f",
   "metadata": {},
   "source": [
    "Помесячная выручка от пользователей с подпиской по месяцами меньше помесячной выручки от пользователей без подписки"
   ]
  },
  {
   "cell_type": "markdown",
   "id": "99d59305",
   "metadata": {},
   "source": [
    "##### Какой тест понадобился бы для проверки гипотезы"
   ]
  },
  {
   "cell_type": "markdown",
   "id": "44295ab4",
   "metadata": {},
   "source": [
    "Представьте такую ситуацию: техническая команда сервиса обновила сервера, с которыми взаимодействует мобильное приложение. Она надеется, что из-за этого количество обращений в техподдержку значимо снизилось. Некоторый файл содержит для каждого пользователя данные о количестве обращений до обновления и после него."
   ]
  },
  {
   "cell_type": "markdown",
   "id": "27154e2f",
   "metadata": {},
   "source": [
    "**Решение**"
   ]
  },
  {
   "cell_type": "markdown",
   "id": "950ceab9",
   "metadata": {},
   "source": [
    "Предположим, что имеется некий датасет со значениями количества обращений"
   ]
  },
  {
   "cell_type": "markdown",
   "id": "ed1d1262",
   "metadata": {},
   "source": [
    "**H0**: Количество обращений не изменилось;\n",
    "\n",
    "**H1**: Количество обращений стало меньше."
   ]
  },
  {
   "cell_type": "code",
   "execution_count": 68,
   "id": "8777465b",
   "metadata": {},
   "outputs": [],
   "source": [
    "users_call = {'user_id':[ 1, 2, 3, 4, 5, 6], \n",
    "              'calls_before':[ 5, 7, 3, 9, 5, 3],\n",
    "              'calls_after':[ 3, 2, 1, 7, 3, 0]}"
   ]
  },
  {
   "cell_type": "code",
   "execution_count": 69,
   "id": "ffdc4cbf",
   "metadata": {},
   "outputs": [
    {
     "name": "stdout",
     "output_type": "stream",
     "text": [
      "p-значение 0.9985212233897577\n",
      "Не отвергаем нулевую теорию\n"
     ]
    }
   ],
   "source": [
    "alpha = 0.05\n",
    "results = st.ttest_rel(users_call['calls_before'], users_call['calls_after'], alternative = 'less')\n",
    "print('p-значение', results.pvalue)\n",
    "\n",
    "if results.pvalue < alpha:\n",
    "    print('Отвергаем нулевую теорию')\n",
    "else: \n",
    "    print('Не отвергаем нулевую теорию')"
   ]
  },
  {
   "cell_type": "markdown",
   "id": "bcb0d279",
   "metadata": {},
   "source": [
    "Вероятность того, что количество обращений от пользователя станет меньше составляет приближенно 100%"
   ]
  },
  {
   "cell_type": "markdown",
   "id": "9d8c79b4",
   "metadata": {},
   "source": [
    "Так был выбран метод `st.ttest_rel`, отвечающий за проверку гипотезы о равенстве среднего значения до и после изменения"
   ]
  },
  {
   "cell_type": "markdown",
   "id": "224ddd47",
   "metadata": {},
   "source": [
    "##### Вывод"
   ]
  },
  {
   "cell_type": "markdown",
   "id": "3af14aa3",
   "metadata": {},
   "source": [
    "1. Среднее время поездки у пользователей с подпиской меньше, чем у пользователей без подписки;\n",
    "2. Средняя дистанция, которой достигнет пользователь с подпиской за одну поездку, менее 3130м. Вероятность такого исхода - 92%;\n",
    "3. Полумесячная выручка от пользователей с подпиской по месяцам меньше полумесячной выруски от пользователей без подписки."
   ]
  },
  {
   "cell_type": "markdown",
   "id": "fa5f3f65",
   "metadata": {},
   "source": [
    "#### Вывод"
   ]
  },
  {
   "cell_type": "markdown",
   "id": "48dbc239",
   "metadata": {},
   "source": [
    "В данном проекте были произведены следующие действия и получены следующие итоги:"
   ]
  },
  {
   "cell_type": "markdown",
   "id": "fe439e0c",
   "metadata": {},
   "source": [
    "##### Изучение данных"
   ]
  },
  {
   "cell_type": "markdown",
   "id": "4665afb6",
   "metadata": {},
   "source": [
    "Были изучены данные из датасетов с информацией о пользователях, их поездках и тарифах. Были намечены задачи по предобработке данных и исследовательской аналиху данных.\n",
    "1. В датасете с информацией о пользователямх были обнаружены дублирующаяся значения. Также было необходимо исправить форматы некоторых столбцов;\n",
    "2. В датасете с информацией о поездках пользователей были обнаружены выбросы на дистанции поездок от 0м до 1500м и на продолжительности поездки в районе 30 секунд. Также было необходимо изменить формат даты для дальнейшей обработки столбца;\n",
    "3. В информации о тарифах было необходимо изменить формат столбца для его дальнейшей обработки."
   ]
  },
  {
   "cell_type": "markdown",
   "id": "5f650c23",
   "metadata": {},
   "source": [
    "##### Предобработка данных"
   ]
  },
  {
   "cell_type": "markdown",
   "id": "cc532506",
   "metadata": {},
   "source": [
    "Была выполнена предобработка данных для дальнейшей работы.\n",
    "1. Были изменены форматы столбцов;\n",
    "2. Был создан столбец с номером месяца для дальнейшей обработки;\n",
    "3. Были обработаны дубликаты в датафрейме с информацией о пользователях."
   ]
  },
  {
   "cell_type": "markdown",
   "id": "0d837d88",
   "metadata": {},
   "source": [
    "##### Исследовательский анализ данных"
   ]
  },
  {
   "cell_type": "markdown",
   "id": "3c4e5458",
   "metadata": {},
   "source": [
    "Были изучены факторы и зависимости.\n",
    "1. Доля пользователей от их общего количества по городам варьируется вокруг 12,5% с разбросом 1,5%. Наибольшее количество пользователей сосредоточено в Пятигорске, наименьшее - в Москве. Город, чья доля пользователей наиболее приближена к среднему значению - Краснодар;\n",
    "2. Разница между пользователями без подписки и пользователями с подпиской составляет 9%:\n",
    "    - Без подписки: 835 пользователей;\n",
    "    - С подпиской: 699 пользователей;\n",
    "    \n",
    "   У сервиса получилось выработать постоянную аудиторию\n",
    "3. Основную аудиторию сервиса представляют пользователи от 22 до 28 лет с медианным значением 25 лет;\n",
    "4. В основном сервисом пользуются для преодоления дистанций от 2,5 до 3,8 км с медианным значением 3,133 км. Был замечен выброс до 1500 метров, связанный с преобладанием пользователей без подписки. Преполагается, что на данной дистанции действует функция \"Платный старт\";\n",
    "5. В среднем пользователи испольют сервис от 14 до 22 минут на поездку с медианным значением 17,5 минут. Был замечен выброс продолжительностью 30 секунд, который может быть связан с тем, что пользователь передумал использовать самокат в качестве средства передвижения. "
   ]
  },
  {
   "cell_type": "markdown",
   "id": "c93ccc5b",
   "metadata": {},
   "source": [
    "##### Объединение данных"
   ]
  },
  {
   "cell_type": "markdown",
   "id": "6abe3f57",
   "metadata": {},
   "source": [
    "Были объеденены данные для дальнейшей проверки гипотез."
   ]
  },
  {
   "cell_type": "markdown",
   "id": "fd22ca3c",
   "metadata": {},
   "source": [
    "##### Визуализация информации о расстоянии и времени поездок для пользователей обеих категорий"
   ]
  },
  {
   "cell_type": "markdown",
   "id": "b8f2586e",
   "metadata": {},
   "source": [
    "Было обнаружено, что все выбросы на распределениях данных с продолжительностью и дистанцией поездок связаны с пользование сервисом клиентов без подписки. Так было обнаружено, что выброс на 30 секундах связан с пользователями без подписки. Количество таких случаев составляет 95.\n",
    "\n",
    "Согласно наблюдениям, характер поведения распределения дистанции продолжительности одной поездки пользователями с платной поездкой и без подписки одинаковый, но поездки пользователей без подписки меньше по длительности и расстоянию, чем у пользователей с подпиской."
   ]
  },
  {
   "cell_type": "markdown",
   "id": "f7dc2b49",
   "metadata": {},
   "source": [
    "##### Подсчет выручки"
   ]
  },
  {
   "cell_type": "markdown",
   "id": "758e720f",
   "metadata": {},
   "source": [
    "В пункте 5 был выведен датафрейм с расчетом суммарного количества поездок, суммарной продолжительностью поездок, общим количеством поездок для каждого месяца на каждого пользователя. Также была определеная помесячная выручка с каждого пользователся в месяц."
   ]
  },
  {
   "cell_type": "markdown",
   "id": "7555f032",
   "metadata": {},
   "source": [
    "##### Проверка гипотез"
   ]
  },
  {
   "cell_type": "markdown",
   "id": "a2aee930",
   "metadata": {},
   "source": [
    "Были изучены следющие гипотезы:\n",
    " - **Среднее время поездки у пользователей больше, чем среднее время поездки пользователей без подписки.** В ходе исследования была опровергнута данная теория. Среднее время поездки у пользователей с подпиской меньше, чем у пользователей без подписки;\n",
    " - **Дистанция, которой достигают пользователи с подпиской за одну поездку, меньше 3130 м**. Данная гипотеза была подтверждена. Вероятность, что пользователь с подпиской достигнет дистанции меньше 3130 м - 92%;\n",
    " - **Помесячная выручка пользователей с подпиской больше помесячной выручки пользователей без подписки.** Помесячная выручка от пользователей с подпиской по месяцам меньше помусячной выручки от пользователей без подписки."
   ]
  },
  {
   "cell_type": "markdown",
   "id": "45b682a8",
   "metadata": {},
   "source": [
    "##### Итог"
   ]
  },
  {
   "cell_type": "markdown",
   "id": "d1447841",
   "metadata": {},
   "source": [
    "- Обнаружены дублирующиеся строки в датасете с информацией о клиентах. Такая ошибка может быть связана с технической частью;\n",
    "- У сервиса получилось выработать постоянную базу клиентов, которая меньше непостоянной всего на 9% от общего количества;\n",
    "- Пользователи без подписки приносят больше помесячной выручки, чем пользователи с подпиской."
   ]
  }
 ],
 "metadata": {
  "ExecuteTimeLog": [
   {
    "duration": 421,
    "start_time": "2023-06-17T14:52:08.202Z"
   },
   {
    "duration": 474,
    "start_time": "2023-06-17T14:52:44.993Z"
   },
   {
    "duration": 234,
    "start_time": "2023-06-17T14:56:25.974Z"
   },
   {
    "duration": 83,
    "start_time": "2023-06-17T15:16:17.404Z"
   },
   {
    "duration": 4,
    "start_time": "2023-06-17T15:17:12.495Z"
   },
   {
    "duration": 122,
    "start_time": "2023-06-17T15:19:17.556Z"
   },
   {
    "duration": 9,
    "start_time": "2023-06-17T15:19:59.348Z"
   },
   {
    "duration": 4,
    "start_time": "2023-06-17T15:20:14.918Z"
   },
   {
    "duration": 64,
    "start_time": "2023-06-17T15:20:17.303Z"
   },
   {
    "duration": 4,
    "start_time": "2023-06-17T15:21:06.178Z"
   },
   {
    "duration": 4,
    "start_time": "2023-06-17T15:22:07.402Z"
   },
   {
    "duration": 3,
    "start_time": "2023-06-17T15:22:17.794Z"
   },
   {
    "duration": 4,
    "start_time": "2023-06-17T15:22:31.132Z"
   },
   {
    "duration": 18,
    "start_time": "2023-06-17T15:22:33.373Z"
   },
   {
    "duration": 3,
    "start_time": "2023-06-17T15:22:54.383Z"
   },
   {
    "duration": 98,
    "start_time": "2023-06-17T15:23:11.221Z"
   },
   {
    "duration": 4,
    "start_time": "2023-06-17T15:23:36.215Z"
   },
   {
    "duration": 39,
    "start_time": "2023-06-17T15:23:37.741Z"
   },
   {
    "duration": 3,
    "start_time": "2023-06-17T15:24:34.673Z"
   },
   {
    "duration": 33,
    "start_time": "2023-06-17T15:24:38.136Z"
   },
   {
    "duration": 5,
    "start_time": "2023-06-17T15:24:48.502Z"
   },
   {
    "duration": 3,
    "start_time": "2023-06-17T15:24:54.437Z"
   },
   {
    "duration": 87,
    "start_time": "2023-06-17T15:27:23.894Z"
   },
   {
    "duration": 104,
    "start_time": "2023-06-17T15:27:33.073Z"
   },
   {
    "duration": 94,
    "start_time": "2023-06-17T15:27:50.646Z"
   },
   {
    "duration": 4,
    "start_time": "2023-06-17T15:27:59.417Z"
   },
   {
    "duration": 571,
    "start_time": "2023-06-17T15:28:03.972Z"
   },
   {
    "duration": 6,
    "start_time": "2023-06-17T15:28:18.647Z"
   },
   {
    "duration": 480,
    "start_time": "2023-06-17T15:28:27.982Z"
   },
   {
    "duration": 5,
    "start_time": "2023-06-17T15:28:43.751Z"
   },
   {
    "duration": 445,
    "start_time": "2023-06-17T15:28:46.670Z"
   },
   {
    "duration": 542,
    "start_time": "2023-06-17T15:43:29.025Z"
   },
   {
    "duration": 5,
    "start_time": "2023-06-17T16:03:58.759Z"
   },
   {
    "duration": 425,
    "start_time": "2023-06-17T16:04:00.391Z"
   },
   {
    "duration": 4,
    "start_time": "2023-06-17T16:04:36.193Z"
   },
   {
    "duration": 474,
    "start_time": "2023-06-17T16:04:37.761Z"
   },
   {
    "duration": 4,
    "start_time": "2023-06-17T16:04:45.802Z"
   },
   {
    "duration": 536,
    "start_time": "2023-06-17T16:04:47.452Z"
   },
   {
    "duration": 93,
    "start_time": "2023-06-17T16:04:57.039Z"
   },
   {
    "duration": 4,
    "start_time": "2023-06-17T16:05:10.911Z"
   },
   {
    "duration": 406,
    "start_time": "2023-06-17T16:05:13.469Z"
   },
   {
    "duration": 621,
    "start_time": "2023-06-17T16:06:58.251Z"
   },
   {
    "duration": 7,
    "start_time": "2023-06-17T16:08:50.341Z"
   },
   {
    "duration": 75,
    "start_time": "2023-06-17T16:12:32.639Z"
   },
   {
    "duration": 19,
    "start_time": "2023-06-17T16:12:42.305Z"
   },
   {
    "duration": 3,
    "start_time": "2023-06-17T16:27:36.025Z"
   },
   {
    "duration": 2517,
    "start_time": "2023-06-17T16:30:06.055Z"
   },
   {
    "duration": 750,
    "start_time": "2023-06-17T16:30:30.961Z"
   },
   {
    "duration": 170,
    "start_time": "2023-06-17T16:30:31.713Z"
   },
   {
    "duration": 6,
    "start_time": "2023-06-17T16:30:31.884Z"
   },
   {
    "duration": 463,
    "start_time": "2023-06-17T16:30:31.891Z"
   },
   {
    "duration": 731,
    "start_time": "2023-06-17T16:30:32.356Z"
   },
   {
    "duration": 18,
    "start_time": "2023-06-17T16:30:33.089Z"
   },
   {
    "duration": 10,
    "start_time": "2023-06-17T16:30:33.109Z"
   },
   {
    "duration": 2935,
    "start_time": "2023-06-17T16:30:33.121Z"
   },
   {
    "duration": 7,
    "start_time": "2023-06-17T16:31:11.412Z"
   },
   {
    "duration": 27,
    "start_time": "2023-06-17T16:31:28.243Z"
   },
   {
    "duration": 4,
    "start_time": "2023-06-17T16:36:46.629Z"
   },
   {
    "duration": 4,
    "start_time": "2023-06-17T16:37:03.606Z"
   },
   {
    "duration": 4,
    "start_time": "2023-06-17T16:37:17.126Z"
   },
   {
    "duration": 22,
    "start_time": "2023-06-17T16:37:32.426Z"
   },
   {
    "duration": 74,
    "start_time": "2023-06-17T16:42:32.604Z"
   },
   {
    "duration": 65,
    "start_time": "2023-06-17T16:43:54.148Z"
   },
   {
    "duration": 8,
    "start_time": "2023-06-17T16:44:35.166Z"
   },
   {
    "duration": 11,
    "start_time": "2023-06-17T16:44:57.636Z"
   },
   {
    "duration": 7,
    "start_time": "2023-06-17T16:45:08.393Z"
   },
   {
    "duration": 6,
    "start_time": "2023-06-17T16:45:33.013Z"
   },
   {
    "duration": 13,
    "start_time": "2023-06-17T16:45:46.904Z"
   },
   {
    "duration": 12,
    "start_time": "2023-06-17T16:46:49.673Z"
   },
   {
    "duration": 30,
    "start_time": "2023-06-17T16:58:53.900Z"
   },
   {
    "duration": 722,
    "start_time": "2023-06-17T16:59:21.781Z"
   },
   {
    "duration": 83,
    "start_time": "2023-06-17T16:59:22.505Z"
   },
   {
    "duration": 5,
    "start_time": "2023-06-17T16:59:22.590Z"
   },
   {
    "duration": 566,
    "start_time": "2023-06-17T16:59:22.597Z"
   },
   {
    "duration": 790,
    "start_time": "2023-06-17T16:59:23.172Z"
   },
   {
    "duration": 27,
    "start_time": "2023-06-17T16:59:23.970Z"
   },
   {
    "duration": 18,
    "start_time": "2023-06-17T16:59:23.999Z"
   },
   {
    "duration": 31,
    "start_time": "2023-06-17T16:59:24.019Z"
   },
   {
    "duration": 29,
    "start_time": "2023-06-17T16:59:24.052Z"
   },
   {
    "duration": 21,
    "start_time": "2023-06-17T16:59:24.083Z"
   },
   {
    "duration": 25,
    "start_time": "2023-06-17T16:59:24.106Z"
   },
   {
    "duration": 109,
    "start_time": "2023-06-17T16:59:24.133Z"
   },
   {
    "duration": 18,
    "start_time": "2023-06-17T16:59:50.094Z"
   },
   {
    "duration": 17,
    "start_time": "2023-06-17T17:04:58.224Z"
   },
   {
    "duration": 8,
    "start_time": "2023-06-17T17:52:01.707Z"
   },
   {
    "duration": 13,
    "start_time": "2023-06-17T17:52:09.169Z"
   },
   {
    "duration": 28,
    "start_time": "2023-06-17T17:57:29.266Z"
   },
   {
    "duration": 95,
    "start_time": "2023-06-17T18:00:46.746Z"
   },
   {
    "duration": 13,
    "start_time": "2023-06-17T18:00:59.884Z"
   },
   {
    "duration": 10,
    "start_time": "2023-06-17T18:01:06.768Z"
   },
   {
    "duration": 7,
    "start_time": "2023-06-17T18:01:50.335Z"
   },
   {
    "duration": 14,
    "start_time": "2023-06-17T18:03:19.752Z"
   },
   {
    "duration": 9,
    "start_time": "2023-06-17T18:04:05.271Z"
   },
   {
    "duration": 9,
    "start_time": "2023-06-17T18:04:13.772Z"
   },
   {
    "duration": 15,
    "start_time": "2023-06-17T18:05:00.792Z"
   },
   {
    "duration": 14,
    "start_time": "2023-06-17T18:05:17.869Z"
   },
   {
    "duration": 13,
    "start_time": "2023-06-17T18:05:38.976Z"
   },
   {
    "duration": 14,
    "start_time": "2023-06-17T18:07:19.807Z"
   },
   {
    "duration": 12,
    "start_time": "2023-06-17T18:08:03.205Z"
   },
   {
    "duration": 13,
    "start_time": "2023-06-17T18:08:21.223Z"
   },
   {
    "duration": 12,
    "start_time": "2023-06-17T18:09:10.002Z"
   },
   {
    "duration": 16,
    "start_time": "2023-06-17T18:09:14.944Z"
   },
   {
    "duration": 15,
    "start_time": "2023-06-17T18:09:25.715Z"
   },
   {
    "duration": 12,
    "start_time": "2023-06-17T18:09:49.904Z"
   },
   {
    "duration": 13,
    "start_time": "2023-06-17T18:09:56.052Z"
   },
   {
    "duration": 75,
    "start_time": "2023-06-17T18:11:23.390Z"
   },
   {
    "duration": 9,
    "start_time": "2023-06-17T18:11:28.887Z"
   },
   {
    "duration": 11,
    "start_time": "2023-06-17T18:11:39.196Z"
   },
   {
    "duration": 13,
    "start_time": "2023-06-17T18:11:50.994Z"
   },
   {
    "duration": 15,
    "start_time": "2023-06-17T18:11:56.690Z"
   },
   {
    "duration": 11,
    "start_time": "2023-06-17T18:12:00.702Z"
   },
   {
    "duration": 12,
    "start_time": "2023-06-17T18:12:12.740Z"
   },
   {
    "duration": 4,
    "start_time": "2023-06-17T18:14:46.435Z"
   },
   {
    "duration": 38,
    "start_time": "2023-06-17T18:15:06.596Z"
   },
   {
    "duration": 22,
    "start_time": "2023-06-17T18:17:15.333Z"
   },
   {
    "duration": 6,
    "start_time": "2023-06-17T18:17:27.488Z"
   },
   {
    "duration": 14,
    "start_time": "2023-06-17T18:17:45.378Z"
   },
   {
    "duration": 11,
    "start_time": "2023-06-17T18:18:31.310Z"
   },
   {
    "duration": 5,
    "start_time": "2023-06-17T18:20:04.427Z"
   },
   {
    "duration": 5,
    "start_time": "2023-06-17T18:22:55.029Z"
   },
   {
    "duration": 5,
    "start_time": "2023-06-17T18:26:15.686Z"
   },
   {
    "duration": 6,
    "start_time": "2023-06-17T18:26:59.689Z"
   },
   {
    "duration": 5,
    "start_time": "2023-06-17T18:29:36.418Z"
   },
   {
    "duration": 129,
    "start_time": "2023-06-17T18:39:50.724Z"
   },
   {
    "duration": 251,
    "start_time": "2023-06-17T18:40:18.554Z"
   },
   {
    "duration": 10,
    "start_time": "2023-06-17T18:41:11.428Z"
   },
   {
    "duration": 8,
    "start_time": "2023-06-17T18:41:25.452Z"
   },
   {
    "duration": 212,
    "start_time": "2023-06-17T18:41:47.095Z"
   },
   {
    "duration": 226,
    "start_time": "2023-06-17T18:41:55.596Z"
   },
   {
    "duration": 191,
    "start_time": "2023-06-17T18:42:04.232Z"
   },
   {
    "duration": 179,
    "start_time": "2023-06-17T18:42:09.246Z"
   },
   {
    "duration": 16,
    "start_time": "2023-06-17T18:45:04.605Z"
   },
   {
    "duration": 24,
    "start_time": "2023-06-17T18:45:19.677Z"
   },
   {
    "duration": 74,
    "start_time": "2023-06-17T18:49:29.437Z"
   },
   {
    "duration": 23,
    "start_time": "2023-06-17T18:50:02.312Z"
   },
   {
    "duration": 20,
    "start_time": "2023-06-17T18:50:20.882Z"
   },
   {
    "duration": 5,
    "start_time": "2023-06-17T18:52:44.319Z"
   },
   {
    "duration": 17,
    "start_time": "2023-06-17T18:54:03.420Z"
   },
   {
    "duration": 18,
    "start_time": "2023-06-17T18:54:22.330Z"
   },
   {
    "duration": 17,
    "start_time": "2023-06-17T18:56:46.107Z"
   },
   {
    "duration": 21,
    "start_time": "2023-06-17T18:57:01.274Z"
   },
   {
    "duration": 18,
    "start_time": "2023-06-17T18:57:14.878Z"
   },
   {
    "duration": 22,
    "start_time": "2023-06-17T18:58:46.179Z"
   },
   {
    "duration": 20,
    "start_time": "2023-06-17T19:00:10.225Z"
   },
   {
    "duration": 21,
    "start_time": "2023-06-17T19:00:25.586Z"
   },
   {
    "duration": 5,
    "start_time": "2023-06-17T19:00:30.768Z"
   },
   {
    "duration": 161,
    "start_time": "2023-06-17T19:01:51.722Z"
   },
   {
    "duration": 629,
    "start_time": "2023-06-17T19:02:28.035Z"
   },
   {
    "duration": 144,
    "start_time": "2023-06-17T19:04:03.540Z"
   },
   {
    "duration": 205,
    "start_time": "2023-06-17T19:04:42.063Z"
   },
   {
    "duration": 200,
    "start_time": "2023-06-17T19:08:50.886Z"
   },
   {
    "duration": 14,
    "start_time": "2023-06-17T19:10:59.742Z"
   },
   {
    "duration": 5,
    "start_time": "2023-06-17T19:12:18.043Z"
   },
   {
    "duration": 5,
    "start_time": "2023-06-17T19:12:49.581Z"
   },
   {
    "duration": 6,
    "start_time": "2023-06-17T19:17:46.995Z"
   },
   {
    "duration": 20,
    "start_time": "2023-06-17T19:19:34.052Z"
   },
   {
    "duration": 69,
    "start_time": "2023-06-17T20:52:37.686Z"
   },
   {
    "duration": 101,
    "start_time": "2023-06-17T21:41:16.075Z"
   },
   {
    "duration": 1201,
    "start_time": "2023-06-17T21:41:35.894Z"
   },
   {
    "duration": 73,
    "start_time": "2023-06-17T21:41:37.097Z"
   },
   {
    "duration": 5,
    "start_time": "2023-06-17T21:41:37.172Z"
   },
   {
    "duration": 518,
    "start_time": "2023-06-17T21:41:37.179Z"
   },
   {
    "duration": 683,
    "start_time": "2023-06-17T21:41:37.700Z"
   },
   {
    "duration": 20,
    "start_time": "2023-06-17T21:41:38.385Z"
   },
   {
    "duration": 11,
    "start_time": "2023-06-17T21:41:38.407Z"
   },
   {
    "duration": 9,
    "start_time": "2023-06-17T21:41:38.420Z"
   },
   {
    "duration": 24,
    "start_time": "2023-06-17T21:41:38.431Z"
   },
   {
    "duration": 41,
    "start_time": "2023-06-17T21:41:38.459Z"
   },
   {
    "duration": 34,
    "start_time": "2023-06-17T21:41:38.503Z"
   },
   {
    "duration": 18,
    "start_time": "2023-06-17T21:41:38.543Z"
   },
   {
    "duration": 37,
    "start_time": "2023-06-17T21:41:38.563Z"
   },
   {
    "duration": 26,
    "start_time": "2023-06-17T21:41:38.603Z"
   },
   {
    "duration": 37,
    "start_time": "2023-06-17T21:41:38.631Z"
   },
   {
    "duration": 13,
    "start_time": "2023-06-17T21:41:38.670Z"
   },
   {
    "duration": 19,
    "start_time": "2023-06-17T21:41:38.685Z"
   },
   {
    "duration": 16,
    "start_time": "2023-06-17T21:41:38.706Z"
   },
   {
    "duration": 36,
    "start_time": "2023-06-17T21:41:38.724Z"
   },
   {
    "duration": 14,
    "start_time": "2023-06-17T21:41:38.763Z"
   },
   {
    "duration": 11,
    "start_time": "2023-06-17T21:41:38.779Z"
   },
   {
    "duration": 23,
    "start_time": "2023-06-17T21:41:38.792Z"
   },
   {
    "duration": 5,
    "start_time": "2023-06-17T21:41:38.817Z"
   },
   {
    "duration": 226,
    "start_time": "2023-06-17T21:41:38.824Z"
   },
   {
    "duration": 120,
    "start_time": "2023-06-17T21:41:39.052Z"
   },
   {
    "duration": 96,
    "start_time": "2023-06-17T21:42:38.589Z"
   },
   {
    "duration": 156,
    "start_time": "2023-06-17T21:43:41.953Z"
   },
   {
    "duration": 230,
    "start_time": "2023-06-17T21:44:22.042Z"
   },
   {
    "duration": 11,
    "start_time": "2023-06-17T21:48:25.730Z"
   },
   {
    "duration": 11,
    "start_time": "2023-06-17T21:48:42.548Z"
   },
   {
    "duration": 17,
    "start_time": "2023-06-17T21:49:07.274Z"
   },
   {
    "duration": 17,
    "start_time": "2023-06-17T21:50:37.264Z"
   },
   {
    "duration": 4,
    "start_time": "2023-06-17T22:07:04.440Z"
   },
   {
    "duration": 4,
    "start_time": "2023-06-17T22:07:19.503Z"
   },
   {
    "duration": 98,
    "start_time": "2023-06-17T22:08:24.756Z"
   },
   {
    "duration": 132,
    "start_time": "2023-06-17T22:08:54.533Z"
   },
   {
    "duration": 132,
    "start_time": "2023-06-17T22:09:13.187Z"
   },
   {
    "duration": 125,
    "start_time": "2023-06-17T22:09:22.210Z"
   },
   {
    "duration": 5,
    "start_time": "2023-06-17T22:10:36.582Z"
   },
   {
    "duration": 123,
    "start_time": "2023-06-17T22:10:37.408Z"
   },
   {
    "duration": 5,
    "start_time": "2023-06-17T22:11:54.095Z"
   },
   {
    "duration": 5,
    "start_time": "2023-06-17T22:13:07.551Z"
   },
   {
    "duration": 4,
    "start_time": "2023-06-17T22:13:14.013Z"
   },
   {
    "duration": 5,
    "start_time": "2023-06-17T22:13:46.298Z"
   },
   {
    "duration": 136,
    "start_time": "2023-06-17T22:13:59.488Z"
   },
   {
    "duration": 5,
    "start_time": "2023-06-17T22:14:10.379Z"
   },
   {
    "duration": 129,
    "start_time": "2023-06-17T22:14:12.587Z"
   },
   {
    "duration": 3,
    "start_time": "2023-06-17T22:16:05.123Z"
   },
   {
    "duration": 3,
    "start_time": "2023-06-17T22:16:07.533Z"
   },
   {
    "duration": 9,
    "start_time": "2023-06-17T22:18:42.836Z"
   },
   {
    "duration": 9,
    "start_time": "2023-06-17T22:19:23.552Z"
   },
   {
    "duration": 274,
    "start_time": "2023-06-17T22:20:31.586Z"
   },
   {
    "duration": 297,
    "start_time": "2023-06-17T22:20:37.800Z"
   },
   {
    "duration": 323,
    "start_time": "2023-06-17T22:20:46.100Z"
   },
   {
    "duration": 218,
    "start_time": "2023-06-17T22:20:57.892Z"
   },
   {
    "duration": 212,
    "start_time": "2023-06-17T22:21:08.791Z"
   },
   {
    "duration": 9,
    "start_time": "2023-06-17T22:31:19.615Z"
   },
   {
    "duration": 11,
    "start_time": "2023-06-17T22:31:39.220Z"
   },
   {
    "duration": 15,
    "start_time": "2023-06-17T22:32:07.882Z"
   },
   {
    "duration": 11,
    "start_time": "2023-06-17T22:32:25.664Z"
   },
   {
    "duration": 8,
    "start_time": "2023-06-17T22:33:50.243Z"
   },
   {
    "duration": 9,
    "start_time": "2023-06-17T22:34:10.128Z"
   },
   {
    "duration": 22,
    "start_time": "2023-06-17T22:34:50.181Z"
   },
   {
    "duration": 9,
    "start_time": "2023-06-17T22:35:10.870Z"
   },
   {
    "duration": 11,
    "start_time": "2023-06-17T22:35:25.155Z"
   },
   {
    "duration": 8,
    "start_time": "2023-06-17T22:35:40.610Z"
   },
   {
    "duration": 8,
    "start_time": "2023-06-17T22:35:48.164Z"
   },
   {
    "duration": 12,
    "start_time": "2023-06-17T22:54:09.177Z"
   },
   {
    "duration": 48,
    "start_time": "2023-06-18T12:07:54.494Z"
   },
   {
    "duration": 1382,
    "start_time": "2023-06-18T12:08:08.305Z"
   },
   {
    "duration": 339,
    "start_time": "2023-06-18T12:08:09.689Z"
   },
   {
    "duration": 4,
    "start_time": "2023-06-18T12:08:10.030Z"
   },
   {
    "duration": 496,
    "start_time": "2023-06-18T12:08:10.035Z"
   },
   {
    "duration": 655,
    "start_time": "2023-06-18T12:08:10.534Z"
   },
   {
    "duration": 16,
    "start_time": "2023-06-18T12:08:11.191Z"
   },
   {
    "duration": 5,
    "start_time": "2023-06-18T12:08:11.209Z"
   },
   {
    "duration": 12,
    "start_time": "2023-06-18T12:08:11.216Z"
   },
   {
    "duration": 32,
    "start_time": "2023-06-18T12:08:11.229Z"
   },
   {
    "duration": 7,
    "start_time": "2023-06-18T12:08:11.270Z"
   },
   {
    "duration": 19,
    "start_time": "2023-06-18T12:08:11.280Z"
   },
   {
    "duration": 16,
    "start_time": "2023-06-18T12:08:11.301Z"
   },
   {
    "duration": 44,
    "start_time": "2023-06-18T12:08:11.319Z"
   },
   {
    "duration": 27,
    "start_time": "2023-06-18T12:08:11.367Z"
   },
   {
    "duration": 33,
    "start_time": "2023-06-18T12:08:11.397Z"
   },
   {
    "duration": 36,
    "start_time": "2023-06-18T12:08:11.431Z"
   },
   {
    "duration": 19,
    "start_time": "2023-06-18T12:08:11.468Z"
   },
   {
    "duration": 16,
    "start_time": "2023-06-18T12:08:11.489Z"
   },
   {
    "duration": 9,
    "start_time": "2023-06-18T12:08:11.508Z"
   },
   {
    "duration": 4,
    "start_time": "2023-06-18T12:08:11.519Z"
   },
   {
    "duration": 32,
    "start_time": "2023-06-18T12:08:11.525Z"
   },
   {
    "duration": 27,
    "start_time": "2023-06-18T12:08:11.560Z"
   },
   {
    "duration": 6,
    "start_time": "2023-06-18T12:08:11.588Z"
   },
   {
    "duration": 247,
    "start_time": "2023-06-18T12:08:11.597Z"
   },
   {
    "duration": 34,
    "start_time": "2023-06-18T12:08:11.846Z"
   },
   {
    "duration": 23,
    "start_time": "2023-06-18T12:08:11.882Z"
   },
   {
    "duration": 149,
    "start_time": "2023-06-18T12:08:11.907Z"
   },
   {
    "duration": 28,
    "start_time": "2023-06-18T12:08:12.058Z"
   },
   {
    "duration": 353,
    "start_time": "2023-06-18T12:08:12.088Z"
   },
   {
    "duration": 27,
    "start_time": "2023-06-18T12:08:12.443Z"
   },
   {
    "duration": 1240,
    "start_time": "2023-06-18T12:08:12.471Z"
   },
   {
    "duration": 11,
    "start_time": "2023-06-18T12:08:47.430Z"
   },
   {
    "duration": 12,
    "start_time": "2023-06-18T12:09:21.328Z"
   },
   {
    "duration": 9,
    "start_time": "2023-06-18T12:11:29.707Z"
   },
   {
    "duration": 10,
    "start_time": "2023-06-18T12:11:38.739Z"
   },
   {
    "duration": 9,
    "start_time": "2023-06-18T12:11:48.815Z"
   },
   {
    "duration": 11,
    "start_time": "2023-06-18T12:11:54.063Z"
   },
   {
    "duration": 4,
    "start_time": "2023-06-18T12:13:00.246Z"
   },
   {
    "duration": 496,
    "start_time": "2023-06-18T12:13:03.136Z"
   },
   {
    "duration": 752,
    "start_time": "2023-06-18T12:13:11.131Z"
   },
   {
    "duration": 16,
    "start_time": "2023-06-18T12:13:19.993Z"
   },
   {
    "duration": 1157,
    "start_time": "2023-06-18T12:13:29.687Z"
   },
   {
    "duration": 90,
    "start_time": "2023-06-18T12:13:30.846Z"
   },
   {
    "duration": 5,
    "start_time": "2023-06-18T12:13:30.938Z"
   },
   {
    "duration": 603,
    "start_time": "2023-06-18T12:13:30.945Z"
   },
   {
    "duration": 682,
    "start_time": "2023-06-18T12:13:31.551Z"
   },
   {
    "duration": 35,
    "start_time": "2023-06-18T12:13:32.235Z"
   },
   {
    "duration": 7,
    "start_time": "2023-06-18T12:13:32.273Z"
   },
   {
    "duration": 16,
    "start_time": "2023-06-18T12:13:32.281Z"
   },
   {
    "duration": 9,
    "start_time": "2023-06-18T12:13:32.299Z"
   },
   {
    "duration": 11,
    "start_time": "2023-06-18T12:13:32.310Z"
   },
   {
    "duration": 14,
    "start_time": "2023-06-18T12:13:32.323Z"
   },
   {
    "duration": 19,
    "start_time": "2023-06-18T12:13:32.360Z"
   },
   {
    "duration": 15,
    "start_time": "2023-06-18T12:13:32.381Z"
   },
   {
    "duration": 18,
    "start_time": "2023-06-18T12:13:32.399Z"
   },
   {
    "duration": 67,
    "start_time": "2023-06-18T12:13:32.419Z"
   },
   {
    "duration": 10,
    "start_time": "2023-06-18T12:13:32.487Z"
   },
   {
    "duration": 25,
    "start_time": "2023-06-18T12:13:32.499Z"
   },
   {
    "duration": 11,
    "start_time": "2023-06-18T12:13:32.525Z"
   },
   {
    "duration": 31,
    "start_time": "2023-06-18T12:13:32.537Z"
   },
   {
    "duration": 5,
    "start_time": "2023-06-18T12:13:32.571Z"
   },
   {
    "duration": 9,
    "start_time": "2023-06-18T12:13:32.578Z"
   },
   {
    "duration": 19,
    "start_time": "2023-06-18T12:13:32.589Z"
   },
   {
    "duration": 9,
    "start_time": "2023-06-18T12:13:32.610Z"
   },
   {
    "duration": 258,
    "start_time": "2023-06-18T12:13:32.620Z"
   },
   {
    "duration": 19,
    "start_time": "2023-06-18T12:13:32.880Z"
   },
   {
    "duration": 9,
    "start_time": "2023-06-18T12:13:32.901Z"
   },
   {
    "duration": 161,
    "start_time": "2023-06-18T12:13:32.912Z"
   },
   {
    "duration": 10,
    "start_time": "2023-06-18T12:13:33.075Z"
   },
   {
    "duration": 340,
    "start_time": "2023-06-18T12:13:33.087Z"
   },
   {
    "duration": 10,
    "start_time": "2023-06-18T12:13:33.429Z"
   },
   {
    "duration": 19,
    "start_time": "2023-06-18T12:13:33.459Z"
   },
   {
    "duration": 12,
    "start_time": "2023-06-18T12:14:44.032Z"
   },
   {
    "duration": 10,
    "start_time": "2023-06-18T12:14:50.019Z"
   },
   {
    "duration": 12,
    "start_time": "2023-06-18T12:15:18.973Z"
   },
   {
    "duration": 10,
    "start_time": "2023-06-18T12:18:45.602Z"
   },
   {
    "duration": 9,
    "start_time": "2023-06-18T12:19:46.438Z"
   },
   {
    "duration": 323,
    "start_time": "2023-06-18T12:20:40.387Z"
   },
   {
    "duration": 146,
    "start_time": "2023-06-18T12:23:34.654Z"
   },
   {
    "duration": 10,
    "start_time": "2023-06-18T12:23:45.111Z"
   },
   {
    "duration": 144,
    "start_time": "2023-06-18T12:25:05.421Z"
   },
   {
    "duration": 168,
    "start_time": "2023-06-18T12:25:50.138Z"
   },
   {
    "duration": 138,
    "start_time": "2023-06-18T12:26:03.345Z"
   },
   {
    "duration": 145,
    "start_time": "2023-06-18T12:26:31.451Z"
   },
   {
    "duration": 127,
    "start_time": "2023-06-18T12:26:46.410Z"
   },
   {
    "duration": 13,
    "start_time": "2023-06-18T12:28:52.288Z"
   },
   {
    "duration": 16,
    "start_time": "2023-06-18T12:29:02.650Z"
   },
   {
    "duration": 16,
    "start_time": "2023-06-18T12:29:24.752Z"
   },
   {
    "duration": 8,
    "start_time": "2023-06-18T12:35:50.399Z"
   },
   {
    "duration": 8,
    "start_time": "2023-06-18T12:36:01.233Z"
   },
   {
    "duration": 7,
    "start_time": "2023-06-18T12:56:24.926Z"
   },
   {
    "duration": 8,
    "start_time": "2023-06-18T12:57:46.942Z"
   },
   {
    "duration": 15,
    "start_time": "2023-06-18T12:58:07.851Z"
   },
   {
    "duration": 11,
    "start_time": "2023-06-18T13:13:23.917Z"
   },
   {
    "duration": 5,
    "start_time": "2023-06-18T13:13:42.132Z"
   },
   {
    "duration": 5,
    "start_time": "2023-06-18T13:14:35.802Z"
   },
   {
    "duration": 23,
    "start_time": "2023-06-18T13:24:29.932Z"
   },
   {
    "duration": 9,
    "start_time": "2023-06-18T13:25:00.006Z"
   },
   {
    "duration": 141,
    "start_time": "2023-06-18T13:25:47.502Z"
   },
   {
    "duration": 318,
    "start_time": "2023-06-18T13:26:32.819Z"
   },
   {
    "duration": 15,
    "start_time": "2023-06-18T14:08:54.387Z"
   },
   {
    "duration": 20,
    "start_time": "2023-06-18T14:09:09.224Z"
   },
   {
    "duration": 90,
    "start_time": "2023-06-18T14:10:12.716Z"
   },
   {
    "duration": 18,
    "start_time": "2023-06-18T14:10:17.716Z"
   },
   {
    "duration": 3,
    "start_time": "2023-06-18T14:11:51.437Z"
   },
   {
    "duration": 26,
    "start_time": "2023-06-18T14:12:19.188Z"
   },
   {
    "duration": 25,
    "start_time": "2023-06-18T14:14:33.845Z"
   },
   {
    "duration": 23,
    "start_time": "2023-06-18T14:15:21.552Z"
   },
   {
    "duration": 22,
    "start_time": "2023-06-18T14:17:43.381Z"
   },
   {
    "duration": 124,
    "start_time": "2023-06-18T14:17:44.750Z"
   },
   {
    "duration": 24,
    "start_time": "2023-06-18T14:17:46.069Z"
   },
   {
    "duration": 25,
    "start_time": "2023-06-18T14:18:23.451Z"
   },
   {
    "duration": 183,
    "start_time": "2023-06-18T14:19:04.443Z"
   },
   {
    "duration": 209,
    "start_time": "2023-06-18T14:19:19.798Z"
   },
   {
    "duration": 1170,
    "start_time": "2023-06-18T14:22:03.381Z"
   },
   {
    "duration": 80,
    "start_time": "2023-06-18T14:22:04.553Z"
   },
   {
    "duration": 4,
    "start_time": "2023-06-18T14:22:04.635Z"
   },
   {
    "duration": 932,
    "start_time": "2023-06-18T14:22:04.641Z"
   },
   {
    "duration": 1055,
    "start_time": "2023-06-18T14:22:05.575Z"
   },
   {
    "duration": 38,
    "start_time": "2023-06-18T14:22:06.632Z"
   },
   {
    "duration": 4,
    "start_time": "2023-06-18T14:22:06.672Z"
   },
   {
    "duration": 8,
    "start_time": "2023-06-18T14:22:06.678Z"
   },
   {
    "duration": 7,
    "start_time": "2023-06-18T14:22:06.688Z"
   },
   {
    "duration": 6,
    "start_time": "2023-06-18T14:22:06.697Z"
   },
   {
    "duration": 24,
    "start_time": "2023-06-18T14:22:06.705Z"
   },
   {
    "duration": 40,
    "start_time": "2023-06-18T14:22:06.731Z"
   },
   {
    "duration": 29,
    "start_time": "2023-06-18T14:22:06.773Z"
   },
   {
    "duration": 18,
    "start_time": "2023-06-18T14:22:06.805Z"
   },
   {
    "duration": 48,
    "start_time": "2023-06-18T14:22:06.825Z"
   },
   {
    "duration": 11,
    "start_time": "2023-06-18T14:22:06.875Z"
   },
   {
    "duration": 12,
    "start_time": "2023-06-18T14:22:06.888Z"
   },
   {
    "duration": 14,
    "start_time": "2023-06-18T14:22:06.902Z"
   },
   {
    "duration": 9,
    "start_time": "2023-06-18T14:22:06.918Z"
   },
   {
    "duration": 13,
    "start_time": "2023-06-18T14:22:06.957Z"
   },
   {
    "duration": 5,
    "start_time": "2023-06-18T14:22:06.976Z"
   },
   {
    "duration": 20,
    "start_time": "2023-06-18T14:22:06.982Z"
   },
   {
    "duration": 5,
    "start_time": "2023-06-18T14:22:07.003Z"
   },
   {
    "duration": 236,
    "start_time": "2023-06-18T14:22:07.010Z"
   },
   {
    "duration": 122,
    "start_time": "2023-06-18T14:22:07.249Z"
   },
   {
    "duration": 0,
    "start_time": "2023-06-18T14:22:07.373Z"
   },
   {
    "duration": 0,
    "start_time": "2023-06-18T14:22:07.374Z"
   },
   {
    "duration": 0,
    "start_time": "2023-06-18T14:22:07.376Z"
   },
   {
    "duration": 0,
    "start_time": "2023-06-18T14:22:07.377Z"
   },
   {
    "duration": 0,
    "start_time": "2023-06-18T14:22:07.378Z"
   },
   {
    "duration": 0,
    "start_time": "2023-06-18T14:22:07.379Z"
   },
   {
    "duration": 0,
    "start_time": "2023-06-18T14:22:07.380Z"
   },
   {
    "duration": 0,
    "start_time": "2023-06-18T14:22:07.382Z"
   },
   {
    "duration": 0,
    "start_time": "2023-06-18T14:22:07.382Z"
   },
   {
    "duration": 0,
    "start_time": "2023-06-18T14:22:07.383Z"
   },
   {
    "duration": 0,
    "start_time": "2023-06-18T14:22:07.384Z"
   },
   {
    "duration": 0,
    "start_time": "2023-06-18T14:22:07.385Z"
   },
   {
    "duration": 0,
    "start_time": "2023-06-18T14:22:07.386Z"
   },
   {
    "duration": 0,
    "start_time": "2023-06-18T14:22:07.387Z"
   },
   {
    "duration": 0,
    "start_time": "2023-06-18T14:22:07.388Z"
   },
   {
    "duration": 0,
    "start_time": "2023-06-18T14:22:07.389Z"
   },
   {
    "duration": 0,
    "start_time": "2023-06-18T14:22:07.390Z"
   },
   {
    "duration": 22,
    "start_time": "2023-06-18T14:22:38.349Z"
   },
   {
    "duration": 1213,
    "start_time": "2023-06-18T14:22:44.278Z"
   },
   {
    "duration": 77,
    "start_time": "2023-06-18T14:22:45.493Z"
   },
   {
    "duration": 5,
    "start_time": "2023-06-18T14:22:45.571Z"
   },
   {
    "duration": 792,
    "start_time": "2023-06-18T14:22:45.578Z"
   },
   {
    "duration": 1428,
    "start_time": "2023-06-18T14:22:46.373Z"
   },
   {
    "duration": 21,
    "start_time": "2023-06-18T14:22:47.857Z"
   },
   {
    "duration": 17,
    "start_time": "2023-06-18T14:22:47.879Z"
   },
   {
    "duration": 12,
    "start_time": "2023-06-18T14:22:47.898Z"
   },
   {
    "duration": 52,
    "start_time": "2023-06-18T14:22:47.913Z"
   },
   {
    "duration": 42,
    "start_time": "2023-06-18T14:22:47.968Z"
   },
   {
    "duration": 56,
    "start_time": "2023-06-18T14:22:48.012Z"
   },
   {
    "duration": 16,
    "start_time": "2023-06-18T14:22:48.070Z"
   },
   {
    "duration": 12,
    "start_time": "2023-06-18T14:22:48.087Z"
   },
   {
    "duration": 35,
    "start_time": "2023-06-18T14:22:48.103Z"
   },
   {
    "duration": 60,
    "start_time": "2023-06-18T14:22:48.140Z"
   },
   {
    "duration": 13,
    "start_time": "2023-06-18T14:22:48.202Z"
   },
   {
    "duration": 26,
    "start_time": "2023-06-18T14:22:48.217Z"
   },
   {
    "duration": 25,
    "start_time": "2023-06-18T14:22:48.245Z"
   },
   {
    "duration": 18,
    "start_time": "2023-06-18T14:22:48.272Z"
   },
   {
    "duration": 15,
    "start_time": "2023-06-18T14:22:48.291Z"
   },
   {
    "duration": 21,
    "start_time": "2023-06-18T14:22:48.308Z"
   },
   {
    "duration": 35,
    "start_time": "2023-06-18T14:22:48.331Z"
   },
   {
    "duration": 14,
    "start_time": "2023-06-18T14:22:48.367Z"
   },
   {
    "duration": 226,
    "start_time": "2023-06-18T14:22:48.383Z"
   },
   {
    "duration": 21,
    "start_time": "2023-06-18T14:22:48.611Z"
   },
   {
    "duration": 35,
    "start_time": "2023-06-18T14:22:48.634Z"
   },
   {
    "duration": 27,
    "start_time": "2023-06-18T14:22:48.670Z"
   },
   {
    "duration": 247,
    "start_time": "2023-06-18T14:22:48.699Z"
   },
   {
    "duration": 25,
    "start_time": "2023-06-18T14:22:48.948Z"
   },
   {
    "duration": 16,
    "start_time": "2023-06-18T14:22:48.976Z"
   },
   {
    "duration": 220,
    "start_time": "2023-06-18T14:22:48.993Z"
   },
   {
    "duration": 11,
    "start_time": "2023-06-18T14:22:49.215Z"
   },
   {
    "duration": 144,
    "start_time": "2023-06-18T14:22:49.228Z"
   },
   {
    "duration": 9,
    "start_time": "2023-06-18T14:22:49.374Z"
   },
   {
    "duration": 266,
    "start_time": "2023-06-18T14:22:49.385Z"
   },
   {
    "duration": 15,
    "start_time": "2023-06-18T14:22:49.653Z"
   },
   {
    "duration": 159,
    "start_time": "2023-06-18T14:22:49.669Z"
   },
   {
    "duration": 368,
    "start_time": "2023-06-18T14:22:49.830Z"
   },
   {
    "duration": 8,
    "start_time": "2023-06-18T14:22:50.200Z"
   },
   {
    "duration": 29,
    "start_time": "2023-06-18T14:22:50.209Z"
   },
   {
    "duration": 147,
    "start_time": "2023-06-18T14:22:50.244Z"
   },
   {
    "duration": 133,
    "start_time": "2023-06-18T14:22:50.393Z"
   },
   {
    "duration": 1045,
    "start_time": "2023-06-18T14:30:21.575Z"
   },
   {
    "duration": 13,
    "start_time": "2023-06-18T14:30:33.340Z"
   },
   {
    "duration": 19,
    "start_time": "2023-06-18T14:31:41.319Z"
   },
   {
    "duration": 201,
    "start_time": "2023-06-18T14:32:28.073Z"
   },
   {
    "duration": 26,
    "start_time": "2023-06-18T14:33:50.678Z"
   },
   {
    "duration": 26,
    "start_time": "2023-06-18T14:34:48.061Z"
   },
   {
    "duration": 3,
    "start_time": "2023-06-18T14:52:03.234Z"
   },
   {
    "duration": 83,
    "start_time": "2023-06-18T14:53:55.903Z"
   },
   {
    "duration": 5,
    "start_time": "2023-06-18T14:54:07.379Z"
   },
   {
    "duration": 1816,
    "start_time": "2023-06-18T14:54:08.114Z"
   },
   {
    "duration": 316,
    "start_time": "2023-06-18T14:54:27.181Z"
   },
   {
    "duration": 307,
    "start_time": "2023-06-18T14:54:42.242Z"
   },
   {
    "duration": 503,
    "start_time": "2023-06-18T14:54:50.296Z"
   },
   {
    "duration": 1542,
    "start_time": "2023-06-18T14:55:05.538Z"
   },
   {
    "duration": 102,
    "start_time": "2023-06-18T14:55:07.089Z"
   },
   {
    "duration": 6,
    "start_time": "2023-06-18T14:55:07.193Z"
   },
   {
    "duration": 739,
    "start_time": "2023-06-18T14:55:07.202Z"
   },
   {
    "duration": 1130,
    "start_time": "2023-06-18T14:55:07.945Z"
   },
   {
    "duration": 30,
    "start_time": "2023-06-18T14:55:09.077Z"
   },
   {
    "duration": 7,
    "start_time": "2023-06-18T14:55:09.110Z"
   },
   {
    "duration": 12,
    "start_time": "2023-06-18T14:55:09.119Z"
   },
   {
    "duration": 9,
    "start_time": "2023-06-18T14:55:09.157Z"
   },
   {
    "duration": 20,
    "start_time": "2023-06-18T14:55:09.168Z"
   },
   {
    "duration": 32,
    "start_time": "2023-06-18T14:55:09.190Z"
   },
   {
    "duration": 34,
    "start_time": "2023-06-18T14:55:09.225Z"
   },
   {
    "duration": 29,
    "start_time": "2023-06-18T14:55:09.262Z"
   },
   {
    "duration": 21,
    "start_time": "2023-06-18T14:55:09.296Z"
   },
   {
    "duration": 72,
    "start_time": "2023-06-18T14:55:09.320Z"
   },
   {
    "duration": 17,
    "start_time": "2023-06-18T14:55:09.395Z"
   },
   {
    "duration": 17,
    "start_time": "2023-06-18T14:55:09.414Z"
   },
   {
    "duration": 19,
    "start_time": "2023-06-18T14:55:09.456Z"
   },
   {
    "duration": 16,
    "start_time": "2023-06-18T14:55:09.484Z"
   },
   {
    "duration": 23,
    "start_time": "2023-06-18T14:55:09.502Z"
   },
   {
    "duration": 10,
    "start_time": "2023-06-18T14:55:09.528Z"
   },
   {
    "duration": 49,
    "start_time": "2023-06-18T14:55:09.541Z"
   },
   {
    "duration": 8,
    "start_time": "2023-06-18T14:55:09.593Z"
   },
   {
    "duration": 332,
    "start_time": "2023-06-18T14:55:09.606Z"
   },
   {
    "duration": 32,
    "start_time": "2023-06-18T14:55:09.941Z"
   },
   {
    "duration": 21,
    "start_time": "2023-06-18T14:55:09.975Z"
   },
   {
    "duration": 34,
    "start_time": "2023-06-18T14:55:09.999Z"
   },
   {
    "duration": 334,
    "start_time": "2023-06-18T14:55:10.059Z"
   },
   {
    "duration": 33,
    "start_time": "2023-06-18T14:55:10.396Z"
   },
   {
    "duration": 10,
    "start_time": "2023-06-18T14:55:10.431Z"
   },
   {
    "duration": 350,
    "start_time": "2023-06-18T14:55:10.463Z"
   },
   {
    "duration": 17,
    "start_time": "2023-06-18T14:55:10.816Z"
   },
   {
    "duration": 179,
    "start_time": "2023-06-18T14:55:10.836Z"
   },
   {
    "duration": 12,
    "start_time": "2023-06-18T14:55:11.017Z"
   },
   {
    "duration": 387,
    "start_time": "2023-06-18T14:55:11.031Z"
   },
   {
    "duration": 18,
    "start_time": "2023-06-18T14:55:11.421Z"
   },
   {
    "duration": 240,
    "start_time": "2023-06-18T14:55:11.440Z"
   },
   {
    "duration": 557,
    "start_time": "2023-06-18T14:55:11.682Z"
   },
   {
    "duration": 5,
    "start_time": "2023-06-18T14:55:12.241Z"
   },
   {
    "duration": 422,
    "start_time": "2023-06-18T14:55:12.250Z"
   },
   {
    "duration": 24,
    "start_time": "2023-06-18T14:55:12.681Z"
   },
   {
    "duration": 167,
    "start_time": "2023-06-18T14:55:12.707Z"
   },
   {
    "duration": 26,
    "start_time": "2023-06-18T14:55:12.877Z"
   },
   {
    "duration": 285,
    "start_time": "2023-06-18T14:55:12.905Z"
   },
   {
    "duration": 107,
    "start_time": "2023-06-18T15:02:04.996Z"
   },
   {
    "duration": 24,
    "start_time": "2023-06-18T15:02:18.135Z"
   },
   {
    "duration": 394,
    "start_time": "2023-06-18T15:03:47.604Z"
   },
   {
    "duration": 1354,
    "start_time": "2023-06-18T15:09:01.182Z"
   },
   {
    "duration": 102,
    "start_time": "2023-06-18T15:09:02.538Z"
   },
   {
    "duration": 6,
    "start_time": "2023-06-18T15:09:02.642Z"
   },
   {
    "duration": 554,
    "start_time": "2023-06-18T15:09:02.650Z"
   },
   {
    "duration": 835,
    "start_time": "2023-06-18T15:09:03.208Z"
   },
   {
    "duration": 40,
    "start_time": "2023-06-18T15:09:04.045Z"
   },
   {
    "duration": 15,
    "start_time": "2023-06-18T15:09:04.087Z"
   },
   {
    "duration": 8,
    "start_time": "2023-06-18T15:09:04.105Z"
   },
   {
    "duration": 9,
    "start_time": "2023-06-18T15:09:04.117Z"
   },
   {
    "duration": 6,
    "start_time": "2023-06-18T15:09:04.127Z"
   },
   {
    "duration": 51,
    "start_time": "2023-06-18T15:09:04.135Z"
   },
   {
    "duration": 25,
    "start_time": "2023-06-18T15:09:04.190Z"
   },
   {
    "duration": 14,
    "start_time": "2023-06-18T15:09:04.219Z"
   },
   {
    "duration": 23,
    "start_time": "2023-06-18T15:09:04.238Z"
   },
   {
    "duration": 55,
    "start_time": "2023-06-18T15:09:04.263Z"
   },
   {
    "duration": 14,
    "start_time": "2023-06-18T15:09:04.321Z"
   },
   {
    "duration": 16,
    "start_time": "2023-06-18T15:09:04.357Z"
   },
   {
    "duration": 27,
    "start_time": "2023-06-18T15:09:04.374Z"
   },
   {
    "duration": 26,
    "start_time": "2023-06-18T15:09:04.403Z"
   },
   {
    "duration": 7,
    "start_time": "2023-06-18T15:09:04.432Z"
   },
   {
    "duration": 21,
    "start_time": "2023-06-18T15:09:04.442Z"
   },
   {
    "duration": 35,
    "start_time": "2023-06-18T15:09:04.465Z"
   },
   {
    "duration": 6,
    "start_time": "2023-06-18T15:09:04.502Z"
   },
   {
    "duration": 237,
    "start_time": "2023-06-18T15:09:04.510Z"
   },
   {
    "duration": 25,
    "start_time": "2023-06-18T15:09:04.748Z"
   },
   {
    "duration": 15,
    "start_time": "2023-06-18T15:09:04.776Z"
   },
   {
    "duration": 178,
    "start_time": "2023-06-18T15:09:04.800Z"
   },
   {
    "duration": 12,
    "start_time": "2023-06-18T15:09:04.986Z"
   },
   {
    "duration": 272,
    "start_time": "2023-06-18T15:09:04.999Z"
   },
   {
    "duration": 13,
    "start_time": "2023-06-18T15:09:05.276Z"
   },
   {
    "duration": 289,
    "start_time": "2023-06-18T15:09:05.290Z"
   },
   {
    "duration": 16,
    "start_time": "2023-06-18T15:09:05.581Z"
   },
   {
    "duration": 197,
    "start_time": "2023-06-18T15:09:05.600Z"
   },
   {
    "duration": 468,
    "start_time": "2023-06-18T15:09:05.798Z"
   },
   {
    "duration": 1337,
    "start_time": "2023-06-18T15:14:36.695Z"
   },
   {
    "duration": 95,
    "start_time": "2023-06-18T15:14:38.034Z"
   },
   {
    "duration": 4,
    "start_time": "2023-06-18T15:14:38.131Z"
   },
   {
    "duration": 601,
    "start_time": "2023-06-18T15:14:38.137Z"
   },
   {
    "duration": 771,
    "start_time": "2023-06-18T15:14:38.740Z"
   },
   {
    "duration": 19,
    "start_time": "2023-06-18T15:14:39.513Z"
   },
   {
    "duration": 25,
    "start_time": "2023-06-18T15:14:39.534Z"
   },
   {
    "duration": 6,
    "start_time": "2023-06-18T15:14:39.561Z"
   },
   {
    "duration": 16,
    "start_time": "2023-06-18T15:14:39.569Z"
   },
   {
    "duration": 13,
    "start_time": "2023-06-18T15:14:39.587Z"
   },
   {
    "duration": 20,
    "start_time": "2023-06-18T15:14:39.602Z"
   },
   {
    "duration": 54,
    "start_time": "2023-06-18T15:14:39.624Z"
   },
   {
    "duration": 19,
    "start_time": "2023-06-18T15:14:39.680Z"
   },
   {
    "duration": 13,
    "start_time": "2023-06-18T15:14:39.703Z"
   },
   {
    "duration": 56,
    "start_time": "2023-06-18T15:14:39.718Z"
   },
   {
    "duration": 16,
    "start_time": "2023-06-18T15:14:39.786Z"
   },
   {
    "duration": 16,
    "start_time": "2023-06-18T15:14:39.804Z"
   },
   {
    "duration": 23,
    "start_time": "2023-06-18T15:14:39.822Z"
   },
   {
    "duration": 13,
    "start_time": "2023-06-18T15:14:39.866Z"
   },
   {
    "duration": 20,
    "start_time": "2023-06-18T15:14:39.882Z"
   },
   {
    "duration": 6,
    "start_time": "2023-06-18T15:14:39.905Z"
   },
   {
    "duration": 21,
    "start_time": "2023-06-18T15:14:39.914Z"
   },
   {
    "duration": 32,
    "start_time": "2023-06-18T15:14:39.937Z"
   },
   {
    "duration": 249,
    "start_time": "2023-06-18T15:14:39.971Z"
   },
   {
    "duration": 43,
    "start_time": "2023-06-18T15:14:40.223Z"
   },
   {
    "duration": 12,
    "start_time": "2023-06-18T15:14:40.272Z"
   },
   {
    "duration": 150,
    "start_time": "2023-06-18T15:14:40.286Z"
   },
   {
    "duration": 23,
    "start_time": "2023-06-18T15:14:40.439Z"
   },
   {
    "duration": 271,
    "start_time": "2023-06-18T15:14:40.467Z"
   },
   {
    "duration": 9,
    "start_time": "2023-06-18T15:14:40.740Z"
   },
   {
    "duration": 280,
    "start_time": "2023-06-18T15:14:40.751Z"
   },
   {
    "duration": 14,
    "start_time": "2023-06-18T15:14:41.033Z"
   },
   {
    "duration": 207,
    "start_time": "2023-06-18T15:14:41.060Z"
   },
   {
    "duration": 416,
    "start_time": "2023-06-18T15:14:41.269Z"
   },
   {
    "duration": 14,
    "start_time": "2023-06-18T15:14:41.687Z"
   },
   {
    "duration": 14,
    "start_time": "2023-06-18T15:15:52.387Z"
   },
   {
    "duration": 185,
    "start_time": "2023-06-18T15:16:08.252Z"
   },
   {
    "duration": 176,
    "start_time": "2023-06-18T15:16:24.289Z"
   },
   {
    "duration": 374,
    "start_time": "2023-06-18T15:16:48.332Z"
   },
   {
    "duration": 402,
    "start_time": "2023-06-18T15:19:51.340Z"
   },
   {
    "duration": 53,
    "start_time": "2023-06-18T15:23:14.291Z"
   },
   {
    "duration": 31,
    "start_time": "2023-06-18T15:23:21.986Z"
   },
   {
    "duration": 134,
    "start_time": "2023-06-18T15:24:37.904Z"
   },
   {
    "duration": 36,
    "start_time": "2023-06-18T15:25:40.885Z"
   },
   {
    "duration": 20,
    "start_time": "2023-06-18T15:33:54.308Z"
   },
   {
    "duration": 19,
    "start_time": "2023-06-18T15:34:08.193Z"
   },
   {
    "duration": 132,
    "start_time": "2023-06-18T15:34:39.702Z"
   },
   {
    "duration": 3,
    "start_time": "2023-06-18T15:37:39.600Z"
   },
   {
    "duration": 77,
    "start_time": "2023-06-18T15:43:17.944Z"
   },
   {
    "duration": 14,
    "start_time": "2023-06-18T15:43:27.346Z"
   },
   {
    "duration": 5,
    "start_time": "2023-06-18T15:44:00.992Z"
   },
   {
    "duration": 5,
    "start_time": "2023-06-18T15:44:27.316Z"
   },
   {
    "duration": 364,
    "start_time": "2023-06-18T15:47:25.349Z"
   },
   {
    "duration": 360,
    "start_time": "2023-06-18T15:48:25.843Z"
   },
   {
    "duration": 395,
    "start_time": "2023-06-18T15:48:42.331Z"
   },
   {
    "duration": 419,
    "start_time": "2023-06-18T15:49:02.198Z"
   },
   {
    "duration": 368,
    "start_time": "2023-06-18T15:49:19.721Z"
   },
   {
    "duration": 479,
    "start_time": "2023-06-18T15:49:54.703Z"
   },
   {
    "duration": 13,
    "start_time": "2023-06-18T15:50:21.313Z"
   },
   {
    "duration": 381,
    "start_time": "2023-06-18T15:50:31.605Z"
   },
   {
    "duration": 18,
    "start_time": "2023-06-18T16:04:05.605Z"
   },
   {
    "duration": 17,
    "start_time": "2023-06-18T16:04:17.397Z"
   },
   {
    "duration": 362,
    "start_time": "2023-06-18T16:05:47.983Z"
   },
   {
    "duration": 369,
    "start_time": "2023-06-18T16:06:06.859Z"
   },
   {
    "duration": 360,
    "start_time": "2023-06-18T16:06:56.850Z"
   },
   {
    "duration": 381,
    "start_time": "2023-06-18T16:07:00.442Z"
   },
   {
    "duration": 558,
    "start_time": "2023-06-18T16:12:31.559Z"
   },
   {
    "duration": 396,
    "start_time": "2023-06-18T16:13:12.216Z"
   },
   {
    "duration": 13,
    "start_time": "2023-06-18T16:40:04.624Z"
   },
   {
    "duration": 1176,
    "start_time": "2023-06-18T16:40:13.896Z"
   },
   {
    "duration": 1017,
    "start_time": "2023-06-18T16:40:32.448Z"
   },
   {
    "duration": 1100,
    "start_time": "2023-06-18T16:40:50.432Z"
   },
   {
    "duration": 20,
    "start_time": "2023-06-18T16:43:10.600Z"
   },
   {
    "duration": 21,
    "start_time": "2023-06-18T16:43:48.233Z"
   },
   {
    "duration": 30,
    "start_time": "2023-06-18T16:44:08.153Z"
   },
   {
    "duration": 982,
    "start_time": "2023-06-18T16:44:19.306Z"
   },
   {
    "duration": 1023,
    "start_time": "2023-06-18T16:44:33.794Z"
   },
   {
    "duration": 144,
    "start_time": "2023-06-18T16:46:28.852Z"
   },
   {
    "duration": 855,
    "start_time": "2023-06-18T16:46:34.230Z"
   },
   {
    "duration": 988,
    "start_time": "2023-06-18T16:46:45.501Z"
   },
   {
    "duration": 961,
    "start_time": "2023-06-18T16:47:32.209Z"
   },
   {
    "duration": 952,
    "start_time": "2023-06-18T16:48:24.836Z"
   },
   {
    "duration": 979,
    "start_time": "2023-06-18T16:48:32.237Z"
   },
   {
    "duration": 1034,
    "start_time": "2023-06-18T16:48:46.007Z"
   },
   {
    "duration": 18,
    "start_time": "2023-06-18T16:49:01.818Z"
   },
   {
    "duration": 1011,
    "start_time": "2023-06-18T16:53:50.378Z"
   },
   {
    "duration": 304,
    "start_time": "2023-06-18T16:56:10.799Z"
   },
   {
    "duration": 27,
    "start_time": "2023-06-18T16:57:00.655Z"
   },
   {
    "duration": 1185,
    "start_time": "2023-06-18T17:05:12.236Z"
   },
   {
    "duration": 11,
    "start_time": "2023-06-18T17:05:38.303Z"
   },
   {
    "duration": 13,
    "start_time": "2023-06-18T17:06:01.396Z"
   },
   {
    "duration": 5,
    "start_time": "2023-06-18T17:07:01.595Z"
   },
   {
    "duration": 13,
    "start_time": "2023-06-18T17:09:04.713Z"
   },
   {
    "duration": 5,
    "start_time": "2023-06-18T17:09:20.083Z"
   },
   {
    "duration": 9,
    "start_time": "2023-06-18T17:37:38.744Z"
   },
   {
    "duration": 9,
    "start_time": "2023-06-18T17:38:05.638Z"
   },
   {
    "duration": 3,
    "start_time": "2023-06-18T17:38:48.190Z"
   },
   {
    "duration": 5,
    "start_time": "2023-06-18T17:38:52.951Z"
   },
   {
    "duration": 243,
    "start_time": "2023-06-18T17:41:46.809Z"
   },
   {
    "duration": 238,
    "start_time": "2023-06-18T17:42:04.416Z"
   },
   {
    "duration": 9,
    "start_time": "2023-06-18T18:39:41.519Z"
   },
   {
    "duration": 7,
    "start_time": "2023-06-18T18:39:49.953Z"
   },
   {
    "duration": 7,
    "start_time": "2023-06-18T18:42:58.945Z"
   },
   {
    "duration": 6,
    "start_time": "2023-06-18T19:12:37.950Z"
   },
   {
    "duration": 9,
    "start_time": "2023-06-18T19:13:28.648Z"
   },
   {
    "duration": 16,
    "start_time": "2023-06-18T19:14:06.701Z"
   },
   {
    "duration": 6,
    "start_time": "2023-06-18T19:14:37.846Z"
   },
   {
    "duration": 4,
    "start_time": "2023-06-18T19:17:32.119Z"
   },
   {
    "duration": 5,
    "start_time": "2023-06-18T19:18:32.444Z"
   },
   {
    "duration": 7,
    "start_time": "2023-06-18T19:18:44.305Z"
   },
   {
    "duration": 9,
    "start_time": "2023-06-18T19:19:16.152Z"
   },
   {
    "duration": 11,
    "start_time": "2023-06-18T19:30:10.194Z"
   },
   {
    "duration": 19,
    "start_time": "2023-06-18T19:30:18.195Z"
   },
   {
    "duration": 14,
    "start_time": "2023-06-18T19:31:39.226Z"
   },
   {
    "duration": 19,
    "start_time": "2023-06-18T19:31:52.801Z"
   },
   {
    "duration": 8,
    "start_time": "2023-06-18T19:34:06.776Z"
   },
   {
    "duration": 32,
    "start_time": "2023-06-18T19:34:45.455Z"
   },
   {
    "duration": 11,
    "start_time": "2023-06-18T19:35:44.254Z"
   },
   {
    "duration": 22,
    "start_time": "2023-06-18T19:35:44.820Z"
   },
   {
    "duration": 10,
    "start_time": "2023-06-18T19:37:52.298Z"
   },
   {
    "duration": 33,
    "start_time": "2023-06-18T19:38:04.910Z"
   },
   {
    "duration": 38,
    "start_time": "2023-06-18T19:38:38.345Z"
   },
   {
    "duration": 9,
    "start_time": "2023-06-18T19:39:22.739Z"
   },
   {
    "duration": 18,
    "start_time": "2023-06-18T19:39:24.388Z"
   },
   {
    "duration": 25,
    "start_time": "2023-06-18T19:43:24.114Z"
   },
   {
    "duration": 14,
    "start_time": "2023-06-18T19:43:41.453Z"
   },
   {
    "duration": 11,
    "start_time": "2023-06-18T19:45:24.617Z"
   },
   {
    "duration": 11,
    "start_time": "2023-06-18T19:45:36.020Z"
   },
   {
    "duration": 15,
    "start_time": "2023-06-18T19:45:41.617Z"
   },
   {
    "duration": 11,
    "start_time": "2023-06-18T19:45:57.319Z"
   },
   {
    "duration": 4,
    "start_time": "2023-06-18T19:57:21.222Z"
   },
   {
    "duration": 17,
    "start_time": "2023-06-18T20:02:09.078Z"
   },
   {
    "duration": 10,
    "start_time": "2023-06-18T20:02:28.932Z"
   },
   {
    "duration": 4,
    "start_time": "2023-06-18T20:02:37.820Z"
   },
   {
    "duration": 5,
    "start_time": "2023-06-18T20:08:49.424Z"
   },
   {
    "duration": 6,
    "start_time": "2023-06-18T20:08:57.249Z"
   },
   {
    "duration": 4,
    "start_time": "2023-06-18T20:57:18.241Z"
   },
   {
    "duration": 52,
    "start_time": "2023-06-18T23:39:00.718Z"
   },
   {
    "duration": 1189,
    "start_time": "2023-06-18T23:39:13.093Z"
   },
   {
    "duration": 69,
    "start_time": "2023-06-18T23:39:14.284Z"
   },
   {
    "duration": 5,
    "start_time": "2023-06-18T23:39:14.355Z"
   },
   {
    "duration": 526,
    "start_time": "2023-06-18T23:39:14.362Z"
   },
   {
    "duration": 644,
    "start_time": "2023-06-18T23:39:14.890Z"
   },
   {
    "duration": 29,
    "start_time": "2023-06-18T23:39:15.536Z"
   },
   {
    "duration": 4,
    "start_time": "2023-06-18T23:39:15.567Z"
   },
   {
    "duration": 8,
    "start_time": "2023-06-18T23:39:15.572Z"
   },
   {
    "duration": 6,
    "start_time": "2023-06-18T23:39:15.581Z"
   },
   {
    "duration": 4,
    "start_time": "2023-06-18T23:39:15.590Z"
   },
   {
    "duration": 18,
    "start_time": "2023-06-18T23:39:15.596Z"
   },
   {
    "duration": 63,
    "start_time": "2023-06-18T23:39:15.616Z"
   },
   {
    "duration": 14,
    "start_time": "2023-06-18T23:39:15.681Z"
   },
   {
    "duration": 19,
    "start_time": "2023-06-18T23:39:15.696Z"
   },
   {
    "duration": 48,
    "start_time": "2023-06-18T23:39:15.717Z"
   },
   {
    "duration": 12,
    "start_time": "2023-06-18T23:39:15.767Z"
   },
   {
    "duration": 14,
    "start_time": "2023-06-18T23:39:15.781Z"
   },
   {
    "duration": 15,
    "start_time": "2023-06-18T23:39:15.796Z"
   },
   {
    "duration": 45,
    "start_time": "2023-06-18T23:39:15.813Z"
   },
   {
    "duration": 4,
    "start_time": "2023-06-18T23:39:15.861Z"
   },
   {
    "duration": 10,
    "start_time": "2023-06-18T23:39:15.867Z"
   },
   {
    "duration": 27,
    "start_time": "2023-06-18T23:39:15.879Z"
   },
   {
    "duration": 7,
    "start_time": "2023-06-18T23:39:15.908Z"
   },
   {
    "duration": 268,
    "start_time": "2023-06-18T23:39:15.917Z"
   },
   {
    "duration": 19,
    "start_time": "2023-06-18T23:39:16.187Z"
   },
   {
    "duration": 5,
    "start_time": "2023-06-18T23:39:16.208Z"
   },
   {
    "duration": 151,
    "start_time": "2023-06-18T23:39:16.214Z"
   },
   {
    "duration": 9,
    "start_time": "2023-06-18T23:39:16.374Z"
   },
   {
    "duration": 211,
    "start_time": "2023-06-18T23:39:16.385Z"
   },
   {
    "duration": 8,
    "start_time": "2023-06-18T23:39:16.597Z"
   },
   {
    "duration": 231,
    "start_time": "2023-06-18T23:39:16.607Z"
   },
   {
    "duration": 18,
    "start_time": "2023-06-18T23:39:16.840Z"
   },
   {
    "duration": 145,
    "start_time": "2023-06-18T23:39:16.860Z"
   },
   {
    "duration": 344,
    "start_time": "2023-06-18T23:39:17.006Z"
   },
   {
    "duration": 23,
    "start_time": "2023-06-18T23:39:17.352Z"
   },
   {
    "duration": 337,
    "start_time": "2023-06-18T23:39:17.377Z"
   },
   {
    "duration": 343,
    "start_time": "2023-06-18T23:39:17.716Z"
   },
   {
    "duration": 12,
    "start_time": "2023-06-18T23:39:18.061Z"
   },
   {
    "duration": 153,
    "start_time": "2023-06-18T23:39:18.075Z"
   },
   {
    "duration": 429,
    "start_time": "2023-06-18T23:39:18.229Z"
   },
   {
    "duration": 368,
    "start_time": "2023-06-18T23:39:18.661Z"
   },
   {
    "duration": 34,
    "start_time": "2023-06-18T23:39:19.031Z"
   },
   {
    "duration": 24,
    "start_time": "2023-06-18T23:39:19.067Z"
   },
   {
    "duration": 20,
    "start_time": "2023-06-18T23:39:19.093Z"
   },
   {
    "duration": 46,
    "start_time": "2023-06-18T23:39:19.116Z"
   },
   {
    "duration": 6,
    "start_time": "2023-06-18T23:39:19.165Z"
   },
   {
    "duration": 358,
    "start_time": "2023-06-18T23:39:19.173Z"
   },
   {
    "duration": 337,
    "start_time": "2023-06-18T23:39:19.532Z"
   },
   {
    "duration": 337,
    "start_time": "2023-06-18T23:39:19.871Z"
   },
   {
    "duration": 353,
    "start_time": "2023-06-18T23:39:20.211Z"
   },
   {
    "duration": 1140,
    "start_time": "2023-06-18T23:39:20.567Z"
   },
   {
    "duration": 12,
    "start_time": "2023-06-18T23:39:21.709Z"
   },
   {
    "duration": 15,
    "start_time": "2023-06-18T23:39:21.723Z"
   },
   {
    "duration": 13,
    "start_time": "2023-06-18T23:39:21.758Z"
   },
   {
    "duration": 5,
    "start_time": "2023-06-18T23:39:21.774Z"
   },
   {
    "duration": 23,
    "start_time": "2023-06-18T23:39:21.781Z"
   },
   {
    "duration": 3,
    "start_time": "2023-06-18T23:39:21.806Z"
   },
   {
    "duration": 6,
    "start_time": "2023-06-18T23:39:21.811Z"
   },
   {
    "duration": 369,
    "start_time": "2023-06-18T23:39:23.831Z"
   },
   {
    "duration": 328,
    "start_time": "2023-06-18T23:39:29.576Z"
   },
   {
    "duration": 345,
    "start_time": "2023-06-18T23:39:34.342Z"
   },
   {
    "duration": 45,
    "start_time": "2023-06-19T00:19:21.891Z"
   },
   {
    "duration": 1239,
    "start_time": "2023-06-19T00:19:31.592Z"
   },
   {
    "duration": 187,
    "start_time": "2023-06-19T00:19:32.833Z"
   },
   {
    "duration": 4,
    "start_time": "2023-06-19T00:19:33.021Z"
   },
   {
    "duration": 437,
    "start_time": "2023-06-19T00:19:33.027Z"
   },
   {
    "duration": 519,
    "start_time": "2023-06-19T00:19:33.465Z"
   },
   {
    "duration": 15,
    "start_time": "2023-06-19T00:19:33.985Z"
   },
   {
    "duration": 3,
    "start_time": "2023-06-19T00:19:34.001Z"
   },
   {
    "duration": 36,
    "start_time": "2023-06-19T00:19:34.006Z"
   },
   {
    "duration": 19,
    "start_time": "2023-06-19T00:19:34.043Z"
   },
   {
    "duration": 32,
    "start_time": "2023-06-19T00:19:34.064Z"
   },
   {
    "duration": 16,
    "start_time": "2023-06-19T00:19:34.097Z"
   },
   {
    "duration": 11,
    "start_time": "2023-06-19T00:19:34.115Z"
   },
   {
    "duration": 21,
    "start_time": "2023-06-19T00:19:34.127Z"
   },
   {
    "duration": 14,
    "start_time": "2023-06-19T00:19:34.149Z"
   },
   {
    "duration": 30,
    "start_time": "2023-06-19T00:19:34.164Z"
   },
   {
    "duration": 10,
    "start_time": "2023-06-19T00:19:34.195Z"
   },
   {
    "duration": 11,
    "start_time": "2023-06-19T00:19:34.206Z"
   },
   {
    "duration": 21,
    "start_time": "2023-06-19T00:19:34.218Z"
   },
   {
    "duration": 6,
    "start_time": "2023-06-19T00:19:34.241Z"
   },
   {
    "duration": 4,
    "start_time": "2023-06-19T00:19:34.248Z"
   },
   {
    "duration": 6,
    "start_time": "2023-06-19T00:19:34.254Z"
   },
   {
    "duration": 19,
    "start_time": "2023-06-19T00:19:34.261Z"
   },
   {
    "duration": 5,
    "start_time": "2023-06-19T00:19:34.281Z"
   },
   {
    "duration": 216,
    "start_time": "2023-06-19T00:19:34.287Z"
   },
   {
    "duration": 15,
    "start_time": "2023-06-19T00:19:34.504Z"
   },
   {
    "duration": 15,
    "start_time": "2023-06-19T00:19:34.520Z"
   },
   {
    "duration": 189,
    "start_time": "2023-06-19T00:19:34.538Z"
   },
   {
    "duration": 11,
    "start_time": "2023-06-19T00:19:34.735Z"
   },
   {
    "duration": 191,
    "start_time": "2023-06-19T00:19:34.748Z"
   },
   {
    "duration": 5,
    "start_time": "2023-06-19T00:19:34.941Z"
   },
   {
    "duration": 206,
    "start_time": "2023-06-19T00:19:34.948Z"
   },
   {
    "duration": 9,
    "start_time": "2023-06-19T00:19:35.156Z"
   },
   {
    "duration": 145,
    "start_time": "2023-06-19T00:19:35.166Z"
   },
   {
    "duration": 284,
    "start_time": "2023-06-19T00:19:35.313Z"
   },
   {
    "duration": 15,
    "start_time": "2023-06-19T00:19:35.598Z"
   },
   {
    "duration": 360,
    "start_time": "2023-06-19T00:19:35.615Z"
   },
   {
    "duration": 286,
    "start_time": "2023-06-19T00:19:35.977Z"
   },
   {
    "duration": 9,
    "start_time": "2023-06-19T00:19:36.265Z"
   },
   {
    "duration": 140,
    "start_time": "2023-06-19T00:19:36.276Z"
   },
   {
    "duration": 344,
    "start_time": "2023-06-19T00:19:36.418Z"
   },
   {
    "duration": 292,
    "start_time": "2023-06-19T00:19:36.764Z"
   },
   {
    "duration": 18,
    "start_time": "2023-06-19T00:19:37.058Z"
   },
   {
    "duration": 18,
    "start_time": "2023-06-19T00:19:37.078Z"
   },
   {
    "duration": 39,
    "start_time": "2023-06-19T00:19:37.098Z"
   },
   {
    "duration": 15,
    "start_time": "2023-06-19T00:19:37.139Z"
   },
   {
    "duration": 5,
    "start_time": "2023-06-19T00:19:37.155Z"
   },
   {
    "duration": 307,
    "start_time": "2023-06-19T00:19:37.162Z"
   },
   {
    "duration": 293,
    "start_time": "2023-06-19T00:19:37.471Z"
   },
   {
    "duration": 299,
    "start_time": "2023-06-19T00:19:37.766Z"
   },
   {
    "duration": 291,
    "start_time": "2023-06-19T00:19:38.066Z"
   },
   {
    "duration": 919,
    "start_time": "2023-06-19T00:19:38.359Z"
   },
   {
    "duration": 10,
    "start_time": "2023-06-19T00:19:39.280Z"
   },
   {
    "duration": 14,
    "start_time": "2023-06-19T00:19:39.292Z"
   },
   {
    "duration": 5,
    "start_time": "2023-06-19T00:19:39.307Z"
   },
   {
    "duration": 5,
    "start_time": "2023-06-19T00:19:39.332Z"
   },
   {
    "duration": 12,
    "start_time": "2023-06-19T00:19:39.338Z"
   },
   {
    "duration": 3,
    "start_time": "2023-06-19T00:19:39.352Z"
   },
   {
    "duration": 6,
    "start_time": "2023-06-19T00:19:39.357Z"
   },
   {
    "duration": 192,
    "start_time": "2023-06-19T00:24:45.496Z"
   },
   {
    "duration": 122,
    "start_time": "2023-06-19T00:24:53.749Z"
   },
   {
    "duration": 197,
    "start_time": "2023-06-19T00:25:37.082Z"
   },
   {
    "duration": 293,
    "start_time": "2023-06-19T00:27:45.817Z"
   },
   {
    "duration": 289,
    "start_time": "2023-06-19T00:29:11.192Z"
   },
   {
    "duration": 278,
    "start_time": "2023-06-19T00:29:32.442Z"
   },
   {
    "duration": 292,
    "start_time": "2023-06-19T00:30:48.389Z"
   },
   {
    "duration": 430,
    "start_time": "2023-06-19T00:31:30.470Z"
   },
   {
    "duration": 291,
    "start_time": "2023-06-19T00:31:41.540Z"
   },
   {
    "duration": 320,
    "start_time": "2023-06-19T00:32:44.539Z"
   },
   {
    "duration": 279,
    "start_time": "2023-06-19T00:34:11.201Z"
   },
   {
    "duration": 292,
    "start_time": "2023-06-19T00:34:33.021Z"
   },
   {
    "duration": 299,
    "start_time": "2023-06-19T00:35:36.852Z"
   },
   {
    "duration": 486,
    "start_time": "2023-06-19T00:35:38.896Z"
   },
   {
    "duration": 313,
    "start_time": "2023-06-19T00:35:52.913Z"
   },
   {
    "duration": 4,
    "start_time": "2023-06-19T00:59:29.400Z"
   },
   {
    "duration": 12,
    "start_time": "2023-06-19T01:00:21.648Z"
   },
   {
    "duration": 10,
    "start_time": "2023-06-19T01:01:23.117Z"
   },
   {
    "duration": 47,
    "start_time": "2023-06-19T04:55:47.589Z"
   },
   {
    "duration": 1328,
    "start_time": "2023-06-19T04:55:56.893Z"
   },
   {
    "duration": 191,
    "start_time": "2023-06-19T04:55:58.224Z"
   },
   {
    "duration": 4,
    "start_time": "2023-06-19T04:55:58.416Z"
   },
   {
    "duration": 388,
    "start_time": "2023-06-19T04:55:58.421Z"
   },
   {
    "duration": 510,
    "start_time": "2023-06-19T04:55:58.810Z"
   },
   {
    "duration": 15,
    "start_time": "2023-06-19T04:55:59.321Z"
   },
   {
    "duration": 3,
    "start_time": "2023-06-19T04:55:59.338Z"
   },
   {
    "duration": 4,
    "start_time": "2023-06-19T04:55:59.343Z"
   },
   {
    "duration": 8,
    "start_time": "2023-06-19T04:55:59.349Z"
   },
   {
    "duration": 5,
    "start_time": "2023-06-19T04:55:59.360Z"
   },
   {
    "duration": 24,
    "start_time": "2023-06-19T04:55:59.366Z"
   },
   {
    "duration": 35,
    "start_time": "2023-06-19T04:55:59.391Z"
   },
   {
    "duration": 10,
    "start_time": "2023-06-19T04:55:59.427Z"
   },
   {
    "duration": 21,
    "start_time": "2023-06-19T04:55:59.438Z"
   },
   {
    "duration": 25,
    "start_time": "2023-06-19T04:55:59.460Z"
   },
   {
    "duration": 34,
    "start_time": "2023-06-19T04:55:59.487Z"
   },
   {
    "duration": 11,
    "start_time": "2023-06-19T04:55:59.522Z"
   },
   {
    "duration": 10,
    "start_time": "2023-06-19T04:55:59.535Z"
   },
   {
    "duration": 17,
    "start_time": "2023-06-19T04:55:59.546Z"
   },
   {
    "duration": 7,
    "start_time": "2023-06-19T04:55:59.564Z"
   },
   {
    "duration": 6,
    "start_time": "2023-06-19T04:55:59.573Z"
   },
   {
    "duration": 19,
    "start_time": "2023-06-19T04:55:59.580Z"
   },
   {
    "duration": 6,
    "start_time": "2023-06-19T04:55:59.619Z"
   },
   {
    "duration": 195,
    "start_time": "2023-06-19T04:55:59.627Z"
   },
   {
    "duration": 15,
    "start_time": "2023-06-19T04:55:59.823Z"
   },
   {
    "duration": 17,
    "start_time": "2023-06-19T04:55:59.839Z"
   },
   {
    "duration": 114,
    "start_time": "2023-06-19T04:55:59.857Z"
   },
   {
    "duration": 8,
    "start_time": "2023-06-19T04:55:59.974Z"
   },
   {
    "duration": 253,
    "start_time": "2023-06-19T04:55:59.983Z"
   },
   {
    "duration": 6,
    "start_time": "2023-06-19T04:56:00.238Z"
   },
   {
    "duration": 418,
    "start_time": "2023-06-19T04:56:00.245Z"
   },
   {
    "duration": 62,
    "start_time": "2023-06-19T04:56:00.664Z"
   },
   {
    "duration": 522,
    "start_time": "2023-06-19T04:56:00.728Z"
   },
   {
    "duration": 403,
    "start_time": "2023-06-19T04:56:01.251Z"
   },
   {
    "duration": 14,
    "start_time": "2023-06-19T04:56:01.656Z"
   },
   {
    "duration": 337,
    "start_time": "2023-06-19T04:56:01.672Z"
   },
   {
    "duration": 276,
    "start_time": "2023-06-19T04:56:02.010Z"
   },
   {
    "duration": 9,
    "start_time": "2023-06-19T04:56:02.287Z"
   },
   {
    "duration": 144,
    "start_time": "2023-06-19T04:56:02.297Z"
   },
   {
    "duration": 339,
    "start_time": "2023-06-19T04:56:02.443Z"
   },
   {
    "duration": 273,
    "start_time": "2023-06-19T04:56:02.784Z"
   },
   {
    "duration": 3,
    "start_time": "2023-06-19T04:56:03.059Z"
   },
   {
    "duration": 60,
    "start_time": "2023-06-19T04:56:03.064Z"
   },
   {
    "duration": 11,
    "start_time": "2023-06-19T04:56:03.126Z"
   },
   {
    "duration": 18,
    "start_time": "2023-06-19T04:56:03.138Z"
   },
   {
    "duration": 3,
    "start_time": "2023-06-19T04:56:03.157Z"
   },
   {
    "duration": 31,
    "start_time": "2023-06-19T04:56:03.162Z"
   },
   {
    "duration": 26,
    "start_time": "2023-06-19T04:56:03.195Z"
   },
   {
    "duration": 5,
    "start_time": "2023-06-19T04:56:03.223Z"
   },
   {
    "duration": 292,
    "start_time": "2023-06-19T04:56:03.229Z"
   },
   {
    "duration": 277,
    "start_time": "2023-06-19T04:56:03.523Z"
   },
   {
    "duration": 280,
    "start_time": "2023-06-19T04:56:03.802Z"
   },
   {
    "duration": 283,
    "start_time": "2023-06-19T04:56:04.083Z"
   },
   {
    "duration": 1626,
    "start_time": "2023-06-19T04:56:04.367Z"
   },
   {
    "duration": 12,
    "start_time": "2023-06-19T04:56:05.994Z"
   },
   {
    "duration": 17,
    "start_time": "2023-06-19T04:56:06.008Z"
   },
   {
    "duration": 12,
    "start_time": "2023-06-19T04:56:06.027Z"
   },
   {
    "duration": 11,
    "start_time": "2023-06-19T04:56:06.041Z"
   },
   {
    "duration": 14,
    "start_time": "2023-06-19T04:56:06.054Z"
   },
   {
    "duration": 19,
    "start_time": "2023-06-19T04:56:06.070Z"
   },
   {
    "duration": 12,
    "start_time": "2023-06-19T04:56:06.090Z"
   },
   {
    "duration": 9,
    "start_time": "2023-06-19T04:56:06.103Z"
   },
   {
    "duration": 3,
    "start_time": "2023-06-19T04:57:28.741Z"
   },
   {
    "duration": 110,
    "start_time": "2023-06-19T04:59:00.910Z"
   },
   {
    "duration": 8,
    "start_time": "2023-06-19T04:59:06.130Z"
   },
   {
    "duration": 9,
    "start_time": "2023-06-19T04:59:23.622Z"
   },
   {
    "duration": 4,
    "start_time": "2023-06-19T05:01:36.554Z"
   },
   {
    "duration": 1106,
    "start_time": "2023-06-19T05:01:53.110Z"
   },
   {
    "duration": 67,
    "start_time": "2023-06-19T05:01:54.218Z"
   },
   {
    "duration": 4,
    "start_time": "2023-06-19T05:01:54.286Z"
   },
   {
    "duration": 453,
    "start_time": "2023-06-19T05:01:54.292Z"
   },
   {
    "duration": 554,
    "start_time": "2023-06-19T05:01:54.747Z"
   },
   {
    "duration": 26,
    "start_time": "2023-06-19T05:01:55.303Z"
   },
   {
    "duration": 4,
    "start_time": "2023-06-19T05:01:55.331Z"
   },
   {
    "duration": 15,
    "start_time": "2023-06-19T05:01:55.337Z"
   },
   {
    "duration": 20,
    "start_time": "2023-06-19T05:01:55.354Z"
   },
   {
    "duration": 37,
    "start_time": "2023-06-19T05:01:55.376Z"
   },
   {
    "duration": 25,
    "start_time": "2023-06-19T05:01:55.414Z"
   },
   {
    "duration": 15,
    "start_time": "2023-06-19T05:01:55.441Z"
   },
   {
    "duration": 19,
    "start_time": "2023-06-19T05:01:55.459Z"
   },
   {
    "duration": 14,
    "start_time": "2023-06-19T05:01:55.480Z"
   },
   {
    "duration": 33,
    "start_time": "2023-06-19T05:01:55.496Z"
   },
   {
    "duration": 11,
    "start_time": "2023-06-19T05:01:55.530Z"
   },
   {
    "duration": 18,
    "start_time": "2023-06-19T05:01:55.542Z"
   },
   {
    "duration": 12,
    "start_time": "2023-06-19T05:01:55.562Z"
   },
   {
    "duration": 8,
    "start_time": "2023-06-19T05:01:55.576Z"
   },
   {
    "duration": 44,
    "start_time": "2023-06-19T05:01:55.586Z"
   },
   {
    "duration": 10,
    "start_time": "2023-06-19T05:01:55.631Z"
   },
   {
    "duration": 20,
    "start_time": "2023-06-19T05:01:55.642Z"
   },
   {
    "duration": 8,
    "start_time": "2023-06-19T05:01:55.664Z"
   },
   {
    "duration": 194,
    "start_time": "2023-06-19T05:01:55.674Z"
   },
   {
    "duration": 15,
    "start_time": "2023-06-19T05:01:55.869Z"
   },
   {
    "duration": 16,
    "start_time": "2023-06-19T05:01:55.886Z"
   },
   {
    "duration": 126,
    "start_time": "2023-06-19T05:01:55.904Z"
   },
   {
    "duration": 8,
    "start_time": "2023-06-19T05:01:56.033Z"
   },
   {
    "duration": 181,
    "start_time": "2023-06-19T05:01:56.042Z"
   },
   {
    "duration": 7,
    "start_time": "2023-06-19T05:01:56.225Z"
   },
   {
    "duration": 208,
    "start_time": "2023-06-19T05:01:56.233Z"
   },
   {
    "duration": 8,
    "start_time": "2023-06-19T05:01:56.443Z"
   },
   {
    "duration": 130,
    "start_time": "2023-06-19T05:01:56.453Z"
   },
   {
    "duration": 284,
    "start_time": "2023-06-19T05:01:56.584Z"
   },
   {
    "duration": 14,
    "start_time": "2023-06-19T05:01:56.870Z"
   },
   {
    "duration": 310,
    "start_time": "2023-06-19T05:01:56.886Z"
   },
   {
    "duration": 278,
    "start_time": "2023-06-19T05:01:57.197Z"
   },
   {
    "duration": 8,
    "start_time": "2023-06-19T05:01:57.477Z"
   },
   {
    "duration": 125,
    "start_time": "2023-06-19T05:01:57.487Z"
   },
   {
    "duration": 368,
    "start_time": "2023-06-19T05:01:57.620Z"
   },
   {
    "duration": 312,
    "start_time": "2023-06-19T05:01:57.990Z"
   },
   {
    "duration": 4,
    "start_time": "2023-06-19T05:01:58.303Z"
   },
   {
    "duration": 32,
    "start_time": "2023-06-19T05:01:58.308Z"
   },
   {
    "duration": 17,
    "start_time": "2023-06-19T05:01:58.342Z"
   },
   {
    "duration": 4,
    "start_time": "2023-06-19T05:01:58.362Z"
   },
   {
    "duration": 4,
    "start_time": "2023-06-19T05:04:27.553Z"
   },
   {
    "duration": 19,
    "start_time": "2023-06-19T05:04:58.014Z"
   },
   {
    "duration": 3,
    "start_time": "2023-06-19T05:05:04.447Z"
   },
   {
    "duration": 110,
    "start_time": "2023-06-19T05:08:14.658Z"
   },
   {
    "duration": 12,
    "start_time": "2023-06-19T05:08:21.965Z"
   },
   {
    "duration": 19,
    "start_time": "2023-06-19T05:09:26.659Z"
   },
   {
    "duration": 21,
    "start_time": "2023-06-19T05:09:32.518Z"
   },
   {
    "duration": 5,
    "start_time": "2023-06-19T05:09:33.483Z"
   },
   {
    "duration": 318,
    "start_time": "2023-06-19T05:09:44.341Z"
   },
   {
    "duration": 280,
    "start_time": "2023-06-19T05:09:45.774Z"
   },
   {
    "duration": 296,
    "start_time": "2023-06-19T05:17:46.085Z"
   },
   {
    "duration": 303,
    "start_time": "2023-06-19T05:17:47.312Z"
   },
   {
    "duration": 1051,
    "start_time": "2023-06-19T05:24:20.899Z"
   },
   {
    "duration": 13,
    "start_time": "2023-06-19T05:24:24.173Z"
   },
   {
    "duration": 11,
    "start_time": "2023-06-19T05:24:42.377Z"
   },
   {
    "duration": 12,
    "start_time": "2023-06-19T05:24:49.404Z"
   },
   {
    "duration": 4,
    "start_time": "2023-06-19T05:25:07.925Z"
   },
   {
    "duration": 4,
    "start_time": "2023-06-19T05:29:03.091Z"
   },
   {
    "duration": 12,
    "start_time": "2023-06-19T05:37:23.807Z"
   },
   {
    "duration": 5,
    "start_time": "2023-06-19T05:37:27.607Z"
   },
   {
    "duration": 5,
    "start_time": "2023-06-19T05:37:34.398Z"
   },
   {
    "duration": 12,
    "start_time": "2023-06-19T05:38:18.486Z"
   },
   {
    "duration": 3,
    "start_time": "2023-06-19T05:38:24.372Z"
   },
   {
    "duration": 5,
    "start_time": "2023-06-19T05:38:25.455Z"
   },
   {
    "duration": 7,
    "start_time": "2023-06-19T05:47:07.132Z"
   },
   {
    "duration": 7,
    "start_time": "2023-06-19T05:47:28.600Z"
   },
   {
    "duration": 6,
    "start_time": "2023-06-19T05:47:43.250Z"
   },
   {
    "duration": 77,
    "start_time": "2023-06-19T05:50:49.019Z"
   },
   {
    "duration": 6,
    "start_time": "2023-06-19T05:50:55.743Z"
   },
   {
    "duration": 9,
    "start_time": "2023-06-19T05:51:02.164Z"
   },
   {
    "duration": 4,
    "start_time": "2023-06-19T06:04:42.410Z"
   },
   {
    "duration": 11,
    "start_time": "2023-06-19T06:05:28.468Z"
   },
   {
    "duration": 4,
    "start_time": "2023-06-19T06:06:48.959Z"
   },
   {
    "duration": 3,
    "start_time": "2023-06-19T06:07:07.320Z"
   },
   {
    "duration": 136,
    "start_time": "2023-06-19T06:17:19.474Z"
   },
   {
    "duration": 75,
    "start_time": "2023-06-19T06:17:24.301Z"
   },
   {
    "duration": 14,
    "start_time": "2023-06-19T06:17:41.399Z"
   },
   {
    "duration": 12,
    "start_time": "2023-06-19T06:18:09.070Z"
   },
   {
    "duration": 12,
    "start_time": "2023-06-19T06:18:31.616Z"
   },
   {
    "duration": 7,
    "start_time": "2023-06-19T06:18:53.423Z"
   },
   {
    "duration": 13,
    "start_time": "2023-06-19T06:19:16.595Z"
   },
   {
    "duration": 10,
    "start_time": "2023-06-19T06:19:26.626Z"
   },
   {
    "duration": 1060,
    "start_time": "2023-06-19T06:19:42.740Z"
   },
   {
    "duration": 67,
    "start_time": "2023-06-19T06:19:43.802Z"
   },
   {
    "duration": 3,
    "start_time": "2023-06-19T06:19:43.871Z"
   },
   {
    "duration": 389,
    "start_time": "2023-06-19T06:19:43.876Z"
   },
   {
    "duration": 523,
    "start_time": "2023-06-19T06:19:44.267Z"
   },
   {
    "duration": 30,
    "start_time": "2023-06-19T06:19:44.791Z"
   },
   {
    "duration": 4,
    "start_time": "2023-06-19T06:19:44.823Z"
   },
   {
    "duration": 23,
    "start_time": "2023-06-19T06:19:44.829Z"
   },
   {
    "duration": 12,
    "start_time": "2023-06-19T06:19:44.854Z"
   },
   {
    "duration": 17,
    "start_time": "2023-06-19T06:19:44.867Z"
   },
   {
    "duration": 24,
    "start_time": "2023-06-19T06:19:44.887Z"
   },
   {
    "duration": 12,
    "start_time": "2023-06-19T06:19:44.913Z"
   },
   {
    "duration": 18,
    "start_time": "2023-06-19T06:19:44.927Z"
   },
   {
    "duration": 28,
    "start_time": "2023-06-19T06:19:44.948Z"
   },
   {
    "duration": 26,
    "start_time": "2023-06-19T06:19:44.977Z"
   },
   {
    "duration": 16,
    "start_time": "2023-06-19T06:19:45.006Z"
   },
   {
    "duration": 37,
    "start_time": "2023-06-19T06:19:45.024Z"
   },
   {
    "duration": 38,
    "start_time": "2023-06-19T06:19:45.063Z"
   },
   {
    "duration": 26,
    "start_time": "2023-06-19T06:19:45.103Z"
   },
   {
    "duration": 10,
    "start_time": "2023-06-19T06:19:45.131Z"
   },
   {
    "duration": 19,
    "start_time": "2023-06-19T06:19:45.142Z"
   },
   {
    "duration": 18,
    "start_time": "2023-06-19T06:19:45.163Z"
   },
   {
    "duration": 132,
    "start_time": "2023-06-19T06:29:36.813Z"
   },
   {
    "duration": 138,
    "start_time": "2023-06-19T06:29:44.809Z"
   },
   {
    "duration": 193,
    "start_time": "2023-06-19T06:29:53.210Z"
   },
   {
    "duration": 184,
    "start_time": "2023-06-19T06:30:01.068Z"
   },
   {
    "duration": 105,
    "start_time": "2023-06-19T06:33:21.208Z"
   },
   {
    "duration": 13,
    "start_time": "2023-06-19T06:36:08.008Z"
   },
   {
    "duration": 176,
    "start_time": "2023-06-19T06:40:15.709Z"
   },
   {
    "duration": 1087,
    "start_time": "2023-06-19T06:40:36.003Z"
   },
   {
    "duration": 67,
    "start_time": "2023-06-19T06:40:37.092Z"
   },
   {
    "duration": 4,
    "start_time": "2023-06-19T06:40:37.160Z"
   },
   {
    "duration": 400,
    "start_time": "2023-06-19T06:40:37.166Z"
   },
   {
    "duration": 530,
    "start_time": "2023-06-19T06:40:37.569Z"
   },
   {
    "duration": 27,
    "start_time": "2023-06-19T06:40:38.101Z"
   },
   {
    "duration": 9,
    "start_time": "2023-06-19T06:40:38.130Z"
   },
   {
    "duration": 14,
    "start_time": "2023-06-19T06:40:38.141Z"
   },
   {
    "duration": 22,
    "start_time": "2023-06-19T06:40:38.156Z"
   },
   {
    "duration": 23,
    "start_time": "2023-06-19T06:40:38.179Z"
   },
   {
    "duration": 46,
    "start_time": "2023-06-19T06:40:38.204Z"
   },
   {
    "duration": 16,
    "start_time": "2023-06-19T06:40:38.251Z"
   },
   {
    "duration": 20,
    "start_time": "2023-06-19T06:40:38.269Z"
   },
   {
    "duration": 20,
    "start_time": "2023-06-19T06:40:38.292Z"
   },
   {
    "duration": 178,
    "start_time": "2023-06-19T06:40:38.314Z"
   },
   {
    "duration": 40,
    "start_time": "2023-06-19T06:40:38.494Z"
   },
   {
    "duration": 9,
    "start_time": "2023-06-19T06:40:38.535Z"
   },
   {
    "duration": 13,
    "start_time": "2023-06-19T06:40:38.546Z"
   },
   {
    "duration": 14,
    "start_time": "2023-06-19T06:40:38.560Z"
   },
   {
    "duration": 8,
    "start_time": "2023-06-19T06:40:38.575Z"
   },
   {
    "duration": 4,
    "start_time": "2023-06-19T06:40:38.585Z"
   },
   {
    "duration": 4,
    "start_time": "2023-06-19T06:40:38.621Z"
   },
   {
    "duration": 30,
    "start_time": "2023-06-19T06:40:38.628Z"
   },
   {
    "duration": 7,
    "start_time": "2023-06-19T06:40:38.660Z"
   },
   {
    "duration": 210,
    "start_time": "2023-06-19T06:40:38.668Z"
   },
   {
    "duration": 15,
    "start_time": "2023-06-19T06:40:38.880Z"
   },
   {
    "duration": 12,
    "start_time": "2023-06-19T06:40:38.896Z"
   },
   {
    "duration": 196,
    "start_time": "2023-06-19T06:40:38.909Z"
   },
   {
    "duration": 7,
    "start_time": "2023-06-19T06:40:39.107Z"
   },
   {
    "duration": 120,
    "start_time": "2023-06-19T06:40:39.115Z"
   },
   {
    "duration": 6,
    "start_time": "2023-06-19T06:40:39.236Z"
   },
   {
    "duration": 231,
    "start_time": "2023-06-19T06:40:39.244Z"
   },
   {
    "duration": 9,
    "start_time": "2023-06-19T06:40:39.477Z"
   },
   {
    "duration": 125,
    "start_time": "2023-06-19T06:40:39.487Z"
   },
   {
    "duration": 294,
    "start_time": "2023-06-19T06:40:39.613Z"
   },
   {
    "duration": 20,
    "start_time": "2023-06-19T06:40:39.909Z"
   },
   {
    "duration": 293,
    "start_time": "2023-06-19T06:40:39.931Z"
   },
   {
    "duration": 274,
    "start_time": "2023-06-19T06:40:40.226Z"
   },
   {
    "duration": 9,
    "start_time": "2023-06-19T06:40:40.501Z"
   },
   {
    "duration": 119,
    "start_time": "2023-06-19T06:40:40.520Z"
   },
   {
    "duration": 409,
    "start_time": "2023-06-19T06:40:40.643Z"
   },
   {
    "duration": 591,
    "start_time": "2023-06-19T06:40:41.053Z"
   },
   {
    "duration": 5,
    "start_time": "2023-06-19T06:40:41.646Z"
   },
   {
    "duration": 4,
    "start_time": "2023-06-19T06:40:41.653Z"
   },
   {
    "duration": 71,
    "start_time": "2023-06-19T06:40:41.658Z"
   },
   {
    "duration": 18,
    "start_time": "2023-06-19T06:40:41.731Z"
   },
   {
    "duration": 4,
    "start_time": "2023-06-19T06:40:41.751Z"
   },
   {
    "duration": 65,
    "start_time": "2023-06-19T06:40:41.756Z"
   },
   {
    "duration": 36,
    "start_time": "2023-06-19T06:40:41.822Z"
   },
   {
    "duration": 10,
    "start_time": "2023-06-19T06:40:41.860Z"
   },
   {
    "duration": 55,
    "start_time": "2023-06-19T06:40:41.872Z"
   },
   {
    "duration": 16,
    "start_time": "2023-06-19T06:40:41.929Z"
   },
   {
    "duration": 14,
    "start_time": "2023-06-19T06:40:41.946Z"
   },
   {
    "duration": 61,
    "start_time": "2023-06-19T06:40:41.962Z"
   },
   {
    "duration": 608,
    "start_time": "2023-06-19T06:40:42.024Z"
   },
   {
    "duration": 313,
    "start_time": "2023-06-19T06:40:42.633Z"
   },
   {
    "duration": 292,
    "start_time": "2023-06-19T06:40:42.948Z"
   },
   {
    "duration": 391,
    "start_time": "2023-06-19T06:40:43.242Z"
   },
   {
    "duration": 2057,
    "start_time": "2023-06-19T06:40:43.635Z"
   },
   {
    "duration": 11,
    "start_time": "2023-06-19T06:40:45.693Z"
   },
   {
    "duration": 17,
    "start_time": "2023-06-19T06:40:45.706Z"
   },
   {
    "duration": 23,
    "start_time": "2023-06-19T06:40:45.725Z"
   },
   {
    "duration": 18,
    "start_time": "2023-06-19T06:40:45.750Z"
   },
   {
    "duration": 6,
    "start_time": "2023-06-19T06:40:45.770Z"
   },
   {
    "duration": 6,
    "start_time": "2023-06-19T06:40:45.777Z"
   },
   {
    "duration": 16,
    "start_time": "2023-06-19T06:40:45.785Z"
   },
   {
    "duration": 24,
    "start_time": "2023-06-19T06:40:45.802Z"
   },
   {
    "duration": 39,
    "start_time": "2023-06-19T06:40:45.828Z"
   },
   {
    "duration": 39,
    "start_time": "2023-06-19T06:40:45.869Z"
   },
   {
    "duration": 192,
    "start_time": "2023-06-19T06:40:54.552Z"
   },
   {
    "duration": 127,
    "start_time": "2023-06-19T06:41:07.773Z"
   },
   {
    "duration": 191,
    "start_time": "2023-06-19T06:41:14.229Z"
   },
   {
    "duration": 274,
    "start_time": "2023-06-19T06:41:19.803Z"
   },
   {
    "duration": 297,
    "start_time": "2023-06-19T06:41:24.447Z"
   },
   {
    "duration": 264,
    "start_time": "2023-06-19T06:41:27.658Z"
   },
   {
    "duration": 420,
    "start_time": "2023-06-19T06:41:32.110Z"
   },
   {
    "duration": 274,
    "start_time": "2023-06-19T06:41:35.951Z"
   },
   {
    "duration": 297,
    "start_time": "2023-06-19T06:41:50.757Z"
   },
   {
    "duration": 299,
    "start_time": "2023-06-19T06:41:54.825Z"
   },
   {
    "duration": 295,
    "start_time": "2023-06-19T06:41:58.669Z"
   },
   {
    "duration": 294,
    "start_time": "2023-06-19T06:42:02.363Z"
   },
   {
    "duration": 117,
    "start_time": "2023-06-19T06:43:48.935Z"
   },
   {
    "duration": 7,
    "start_time": "2023-06-19T06:43:56.063Z"
   },
   {
    "duration": 103,
    "start_time": "2023-06-19T06:44:00.696Z"
   },
   {
    "duration": 120,
    "start_time": "2023-06-19T06:44:24.423Z"
   },
   {
    "duration": 121,
    "start_time": "2023-06-19T06:44:33.905Z"
   },
   {
    "duration": 270,
    "start_time": "2023-06-19T06:45:07.791Z"
   },
   {
    "duration": 1142,
    "start_time": "2023-06-19T06:45:23.358Z"
   },
   {
    "duration": 69,
    "start_time": "2023-06-19T06:45:24.502Z"
   },
   {
    "duration": 4,
    "start_time": "2023-06-19T06:45:24.573Z"
   },
   {
    "duration": 431,
    "start_time": "2023-06-19T06:45:24.579Z"
   },
   {
    "duration": 634,
    "start_time": "2023-06-19T06:45:25.012Z"
   },
   {
    "duration": 15,
    "start_time": "2023-06-19T06:45:25.648Z"
   },
   {
    "duration": 5,
    "start_time": "2023-06-19T06:45:25.664Z"
   },
   {
    "duration": 14,
    "start_time": "2023-06-19T06:45:25.671Z"
   },
   {
    "duration": 19,
    "start_time": "2023-06-19T06:45:25.687Z"
   },
   {
    "duration": 11,
    "start_time": "2023-06-19T06:45:25.709Z"
   },
   {
    "duration": 22,
    "start_time": "2023-06-19T06:45:25.721Z"
   },
   {
    "duration": 13,
    "start_time": "2023-06-19T06:45:25.745Z"
   },
   {
    "duration": 24,
    "start_time": "2023-06-19T06:45:25.759Z"
   },
   {
    "duration": 42,
    "start_time": "2023-06-19T06:45:25.785Z"
   },
   {
    "duration": 497,
    "start_time": "2023-06-19T06:45:25.829Z"
   },
   {
    "duration": 35,
    "start_time": "2023-06-19T06:45:26.328Z"
   },
   {
    "duration": 63,
    "start_time": "2023-06-19T06:45:26.365Z"
   },
   {
    "duration": 25,
    "start_time": "2023-06-19T06:45:26.430Z"
   },
   {
    "duration": 74,
    "start_time": "2023-06-19T06:45:26.457Z"
   },
   {
    "duration": 8,
    "start_time": "2023-06-19T06:45:26.533Z"
   },
   {
    "duration": 18,
    "start_time": "2023-06-19T06:45:26.542Z"
   },
   {
    "duration": 13,
    "start_time": "2023-06-19T06:45:26.561Z"
   },
   {
    "duration": 56,
    "start_time": "2023-06-19T06:45:26.575Z"
   },
   {
    "duration": 4,
    "start_time": "2023-06-19T06:45:26.633Z"
   },
   {
    "duration": 407,
    "start_time": "2023-06-19T06:45:26.639Z"
   },
   {
    "duration": 16,
    "start_time": "2023-06-19T06:45:27.048Z"
   },
   {
    "duration": 7,
    "start_time": "2023-06-19T06:45:27.120Z"
   },
   {
    "duration": 514,
    "start_time": "2023-06-19T06:45:27.131Z"
   },
   {
    "duration": 10,
    "start_time": "2023-06-19T06:45:27.647Z"
   },
   {
    "duration": 228,
    "start_time": "2023-06-19T06:45:27.659Z"
   },
   {
    "duration": 5,
    "start_time": "2023-06-19T06:45:27.889Z"
   },
   {
    "duration": 217,
    "start_time": "2023-06-19T06:45:27.896Z"
   },
   {
    "duration": 10,
    "start_time": "2023-06-19T06:45:28.120Z"
   },
   {
    "duration": 154,
    "start_time": "2023-06-19T06:45:28.132Z"
   },
   {
    "duration": 303,
    "start_time": "2023-06-19T06:45:28.287Z"
   },
   {
    "duration": 15,
    "start_time": "2023-06-19T06:45:28.591Z"
   },
   {
    "duration": 294,
    "start_time": "2023-06-19T06:45:28.607Z"
   },
   {
    "duration": 277,
    "start_time": "2023-06-19T06:45:28.903Z"
   },
   {
    "duration": 12,
    "start_time": "2023-06-19T06:45:29.182Z"
   },
   {
    "duration": 146,
    "start_time": "2023-06-19T06:45:29.196Z"
   },
   {
    "duration": 392,
    "start_time": "2023-06-19T06:45:29.344Z"
   },
   {
    "duration": 295,
    "start_time": "2023-06-19T06:45:29.738Z"
   },
   {
    "duration": 5,
    "start_time": "2023-06-19T06:45:30.035Z"
   },
   {
    "duration": 28,
    "start_time": "2023-06-19T06:45:30.042Z"
   },
   {
    "duration": 61,
    "start_time": "2023-06-19T06:45:30.072Z"
   },
   {
    "duration": 77,
    "start_time": "2023-06-19T06:45:30.135Z"
   },
   {
    "duration": 35,
    "start_time": "2023-06-19T06:45:30.214Z"
   },
   {
    "duration": 42,
    "start_time": "2023-06-19T06:45:30.250Z"
   },
   {
    "duration": 77,
    "start_time": "2023-06-19T06:45:30.293Z"
   },
   {
    "duration": 38,
    "start_time": "2023-06-19T06:45:30.372Z"
   },
   {
    "duration": 37,
    "start_time": "2023-06-19T06:45:30.412Z"
   },
   {
    "duration": 48,
    "start_time": "2023-06-19T06:45:30.451Z"
   },
   {
    "duration": 43,
    "start_time": "2023-06-19T06:45:30.501Z"
   },
   {
    "duration": 30,
    "start_time": "2023-06-19T06:45:30.546Z"
   },
   {
    "duration": 321,
    "start_time": "2023-06-19T06:45:30.578Z"
   },
   {
    "duration": 292,
    "start_time": "2023-06-19T06:45:30.900Z"
   },
   {
    "duration": 307,
    "start_time": "2023-06-19T06:45:31.193Z"
   },
   {
    "duration": 409,
    "start_time": "2023-06-19T06:45:31.501Z"
   },
   {
    "duration": 982,
    "start_time": "2023-06-19T06:45:31.911Z"
   },
   {
    "duration": 11,
    "start_time": "2023-06-19T06:45:32.895Z"
   },
   {
    "duration": 15,
    "start_time": "2023-06-19T06:45:32.908Z"
   },
   {
    "duration": 17,
    "start_time": "2023-06-19T06:45:32.925Z"
   },
   {
    "duration": 13,
    "start_time": "2023-06-19T06:45:32.944Z"
   },
   {
    "duration": 19,
    "start_time": "2023-06-19T06:45:32.958Z"
   },
   {
    "duration": 26,
    "start_time": "2023-06-19T06:45:32.979Z"
   },
   {
    "duration": 5,
    "start_time": "2023-06-19T06:45:33.007Z"
   },
   {
    "duration": 11,
    "start_time": "2023-06-19T06:45:33.014Z"
   },
   {
    "duration": 4,
    "start_time": "2023-06-19T06:45:33.027Z"
   },
   {
    "duration": 13,
    "start_time": "2023-06-19T06:45:33.032Z"
   },
   {
    "duration": 1072,
    "start_time": "2023-06-19T10:42:44.549Z"
   },
   {
    "duration": 279,
    "start_time": "2023-06-19T10:42:45.624Z"
   },
   {
    "duration": 4,
    "start_time": "2023-06-19T10:42:45.904Z"
   },
   {
    "duration": 443,
    "start_time": "2023-06-19T10:42:45.911Z"
   },
   {
    "duration": 593,
    "start_time": "2023-06-19T10:42:46.355Z"
   },
   {
    "duration": 14,
    "start_time": "2023-06-19T10:42:46.953Z"
   },
   {
    "duration": 16,
    "start_time": "2023-06-19T10:42:46.969Z"
   },
   {
    "duration": 22,
    "start_time": "2023-06-19T10:42:46.986Z"
   },
   {
    "duration": 22,
    "start_time": "2023-06-19T10:42:47.009Z"
   },
   {
    "duration": 15,
    "start_time": "2023-06-19T10:42:47.033Z"
   },
   {
    "duration": 33,
    "start_time": "2023-06-19T10:42:47.049Z"
   },
   {
    "duration": 23,
    "start_time": "2023-06-19T10:42:47.084Z"
   },
   {
    "duration": 35,
    "start_time": "2023-06-19T10:42:47.109Z"
   },
   {
    "duration": 42,
    "start_time": "2023-06-19T10:42:47.145Z"
   },
   {
    "duration": 255,
    "start_time": "2023-06-19T10:42:47.188Z"
   },
   {
    "duration": 39,
    "start_time": "2023-06-19T10:42:47.446Z"
   },
   {
    "duration": 14,
    "start_time": "2023-06-19T10:42:47.487Z"
   },
   {
    "duration": 24,
    "start_time": "2023-06-19T10:42:47.503Z"
   },
   {
    "duration": 39,
    "start_time": "2023-06-19T10:42:47.528Z"
   },
   {
    "duration": 10,
    "start_time": "2023-06-19T10:42:47.570Z"
   },
   {
    "duration": 16,
    "start_time": "2023-06-19T10:42:47.582Z"
   },
   {
    "duration": 18,
    "start_time": "2023-06-19T10:42:47.600Z"
   },
   {
    "duration": 35,
    "start_time": "2023-06-19T10:42:47.619Z"
   },
   {
    "duration": 15,
    "start_time": "2023-06-19T10:42:47.656Z"
   },
   {
    "duration": 189,
    "start_time": "2023-06-19T10:42:47.673Z"
   },
   {
    "duration": 17,
    "start_time": "2023-06-19T10:42:47.863Z"
   },
   {
    "duration": 7,
    "start_time": "2023-06-19T10:42:47.881Z"
   },
   {
    "duration": 235,
    "start_time": "2023-06-19T10:42:47.894Z"
   },
   {
    "duration": 9,
    "start_time": "2023-06-19T10:42:48.131Z"
   },
   {
    "duration": 126,
    "start_time": "2023-06-19T10:42:48.141Z"
   },
   {
    "duration": 7,
    "start_time": "2023-06-19T10:42:48.269Z"
   },
   {
    "duration": 241,
    "start_time": "2023-06-19T10:42:48.278Z"
   },
   {
    "duration": 9,
    "start_time": "2023-06-19T10:42:48.521Z"
   },
   {
    "duration": 141,
    "start_time": "2023-06-19T10:42:48.532Z"
   },
   {
    "duration": 311,
    "start_time": "2023-06-19T10:42:48.675Z"
   },
   {
    "duration": 20,
    "start_time": "2023-06-19T10:42:48.988Z"
   },
   {
    "duration": 333,
    "start_time": "2023-06-19T10:42:49.010Z"
   },
   {
    "duration": 287,
    "start_time": "2023-06-19T10:42:49.345Z"
   },
   {
    "duration": 20,
    "start_time": "2023-06-19T10:42:49.634Z"
   },
   {
    "duration": 135,
    "start_time": "2023-06-19T10:42:49.656Z"
   },
   {
    "duration": 398,
    "start_time": "2023-06-19T10:42:49.793Z"
   },
   {
    "duration": 310,
    "start_time": "2023-06-19T10:42:50.193Z"
   },
   {
    "duration": 6,
    "start_time": "2023-06-19T10:42:50.506Z"
   },
   {
    "duration": 7,
    "start_time": "2023-06-19T10:42:50.513Z"
   },
   {
    "duration": 38,
    "start_time": "2023-06-19T10:42:50.522Z"
   },
   {
    "duration": 14,
    "start_time": "2023-06-19T10:42:50.562Z"
   },
   {
    "duration": 7,
    "start_time": "2023-06-19T10:42:50.578Z"
   },
   {
    "duration": 25,
    "start_time": "2023-06-19T10:42:50.587Z"
   },
   {
    "duration": 25,
    "start_time": "2023-06-19T10:42:50.613Z"
   },
   {
    "duration": 7,
    "start_time": "2023-06-19T10:42:50.640Z"
   },
   {
    "duration": 31,
    "start_time": "2023-06-19T10:42:50.649Z"
   },
   {
    "duration": 29,
    "start_time": "2023-06-19T10:42:50.682Z"
   },
   {
    "duration": 14,
    "start_time": "2023-06-19T10:42:50.712Z"
   },
   {
    "duration": 26,
    "start_time": "2023-06-19T10:42:50.728Z"
   },
   {
    "duration": 301,
    "start_time": "2023-06-19T10:42:50.755Z"
   },
   {
    "duration": 290,
    "start_time": "2023-06-19T10:42:51.057Z"
   },
   {
    "duration": 305,
    "start_time": "2023-06-19T10:42:51.349Z"
   },
   {
    "duration": 409,
    "start_time": "2023-06-19T10:42:51.656Z"
   },
   {
    "duration": 1309,
    "start_time": "2023-06-19T10:42:52.067Z"
   },
   {
    "duration": 11,
    "start_time": "2023-06-19T10:42:53.378Z"
   },
   {
    "duration": 5,
    "start_time": "2023-06-19T10:42:53.391Z"
   },
   {
    "duration": 15,
    "start_time": "2023-06-19T10:42:53.397Z"
   },
   {
    "duration": 41,
    "start_time": "2023-06-19T10:42:53.414Z"
   },
   {
    "duration": 4,
    "start_time": "2023-06-19T10:42:53.457Z"
   },
   {
    "duration": 6,
    "start_time": "2023-06-19T10:42:53.463Z"
   },
   {
    "duration": 30,
    "start_time": "2023-06-19T10:42:53.471Z"
   },
   {
    "duration": 16,
    "start_time": "2023-06-19T10:42:53.502Z"
   },
   {
    "duration": 3,
    "start_time": "2023-06-19T10:42:53.519Z"
   },
   {
    "duration": 12,
    "start_time": "2023-06-19T10:42:53.524Z"
   },
   {
    "duration": 1027,
    "start_time": "2023-11-08T01:40:42.972Z"
   },
   {
    "duration": 186,
    "start_time": "2023-11-08T01:40:44.001Z"
   },
   {
    "duration": 4,
    "start_time": "2023-11-08T01:40:44.188Z"
   },
   {
    "duration": 365,
    "start_time": "2023-11-08T01:40:44.193Z"
   },
   {
    "duration": 497,
    "start_time": "2023-11-08T01:40:44.560Z"
   },
   {
    "duration": 13,
    "start_time": "2023-11-08T01:40:45.059Z"
   },
   {
    "duration": 9,
    "start_time": "2023-11-08T01:40:45.074Z"
   },
   {
    "duration": 30,
    "start_time": "2023-11-08T01:40:45.084Z"
   },
   {
    "duration": 31,
    "start_time": "2023-11-08T01:40:45.116Z"
   },
   {
    "duration": 13,
    "start_time": "2023-11-08T01:40:45.149Z"
   },
   {
    "duration": 18,
    "start_time": "2023-11-08T01:40:45.163Z"
   },
   {
    "duration": 12,
    "start_time": "2023-11-08T01:40:45.182Z"
   },
   {
    "duration": 31,
    "start_time": "2023-11-08T01:40:45.195Z"
   },
   {
    "duration": 11,
    "start_time": "2023-11-08T01:40:45.228Z"
   },
   {
    "duration": 177,
    "start_time": "2023-11-08T01:40:45.240Z"
   },
   {
    "duration": 34,
    "start_time": "2023-11-08T01:40:45.418Z"
   },
   {
    "duration": 8,
    "start_time": "2023-11-08T01:40:45.453Z"
   },
   {
    "duration": 27,
    "start_time": "2023-11-08T01:40:45.463Z"
   },
   {
    "duration": 10,
    "start_time": "2023-11-08T01:40:45.492Z"
   },
   {
    "duration": 8,
    "start_time": "2023-11-08T01:40:45.503Z"
   },
   {
    "duration": 4,
    "start_time": "2023-11-08T01:40:45.512Z"
   },
   {
    "duration": 22,
    "start_time": "2023-11-08T01:40:45.517Z"
   },
   {
    "duration": 15,
    "start_time": "2023-11-08T01:40:45.540Z"
   },
   {
    "duration": 4,
    "start_time": "2023-11-08T01:40:45.557Z"
   },
   {
    "duration": 196,
    "start_time": "2023-11-08T01:40:45.562Z"
   },
   {
    "duration": 15,
    "start_time": "2023-11-08T01:40:45.759Z"
   },
   {
    "duration": 20,
    "start_time": "2023-11-08T01:40:45.775Z"
   },
   {
    "duration": 166,
    "start_time": "2023-11-08T01:40:45.799Z"
   },
   {
    "duration": 8,
    "start_time": "2023-11-08T01:40:45.966Z"
   },
   {
    "duration": 114,
    "start_time": "2023-11-08T01:40:45.975Z"
   },
   {
    "duration": 6,
    "start_time": "2023-11-08T01:40:46.090Z"
   },
   {
    "duration": 210,
    "start_time": "2023-11-08T01:40:46.097Z"
   },
   {
    "duration": 11,
    "start_time": "2023-11-08T01:40:46.308Z"
   },
   {
    "duration": 144,
    "start_time": "2023-11-08T01:40:46.321Z"
   },
   {
    "duration": 279,
    "start_time": "2023-11-08T01:40:46.466Z"
   },
   {
    "duration": 13,
    "start_time": "2023-11-08T01:40:46.747Z"
   },
   {
    "duration": 285,
    "start_time": "2023-11-08T01:40:46.762Z"
   },
   {
    "duration": 267,
    "start_time": "2023-11-08T01:40:47.048Z"
   },
   {
    "duration": 8,
    "start_time": "2023-11-08T01:40:47.316Z"
   },
   {
    "duration": 122,
    "start_time": "2023-11-08T01:40:47.325Z"
   },
   {
    "duration": 355,
    "start_time": "2023-11-08T01:40:47.449Z"
   },
   {
    "duration": 287,
    "start_time": "2023-11-08T01:40:47.805Z"
   },
   {
    "duration": 5,
    "start_time": "2023-11-08T01:40:48.093Z"
   },
   {
    "duration": 11,
    "start_time": "2023-11-08T01:40:48.099Z"
   },
   {
    "duration": 20,
    "start_time": "2023-11-08T01:40:48.111Z"
   },
   {
    "duration": 14,
    "start_time": "2023-11-08T01:40:48.133Z"
   },
   {
    "duration": 3,
    "start_time": "2023-11-08T01:40:48.149Z"
   },
   {
    "duration": 5,
    "start_time": "2023-11-08T01:40:48.154Z"
   },
   {
    "duration": 30,
    "start_time": "2023-11-08T01:40:48.160Z"
   },
   {
    "duration": 2,
    "start_time": "2023-11-08T01:40:48.192Z"
   },
   {
    "duration": 10,
    "start_time": "2023-11-08T01:40:48.196Z"
   },
   {
    "duration": 34,
    "start_time": "2023-11-08T01:40:48.208Z"
   },
   {
    "duration": 13,
    "start_time": "2023-11-08T01:40:48.243Z"
   },
   {
    "duration": 4,
    "start_time": "2023-11-08T01:40:48.257Z"
   },
   {
    "duration": 297,
    "start_time": "2023-11-08T01:40:48.263Z"
   },
   {
    "duration": 270,
    "start_time": "2023-11-08T01:40:48.561Z"
   },
   {
    "duration": 279,
    "start_time": "2023-11-08T01:40:48.833Z"
   },
   {
    "duration": 362,
    "start_time": "2023-11-08T01:40:49.113Z"
   },
   {
    "duration": 934,
    "start_time": "2023-11-08T01:40:49.476Z"
   },
   {
    "duration": 9,
    "start_time": "2023-11-08T01:40:50.412Z"
   },
   {
    "duration": 22,
    "start_time": "2023-11-08T01:40:50.422Z"
   },
   {
    "duration": 46,
    "start_time": "2023-11-08T01:40:50.445Z"
   },
   {
    "duration": 43,
    "start_time": "2023-11-08T01:40:50.492Z"
   },
   {
    "duration": 43,
    "start_time": "2023-11-08T01:40:50.536Z"
   },
   {
    "duration": 44,
    "start_time": "2023-11-08T01:40:50.580Z"
   },
   {
    "duration": 46,
    "start_time": "2023-11-08T01:40:50.626Z"
   },
   {
    "duration": 39,
    "start_time": "2023-11-08T01:40:50.673Z"
   },
   {
    "duration": 38,
    "start_time": "2023-11-08T01:40:50.713Z"
   },
   {
    "duration": 35,
    "start_time": "2023-11-08T01:40:50.753Z"
   },
   {
    "duration": 1102,
    "start_time": "2023-11-08T01:44:01.398Z"
   },
   {
    "duration": 66,
    "start_time": "2023-11-08T01:44:02.502Z"
   },
   {
    "duration": 4,
    "start_time": "2023-11-08T01:44:02.569Z"
   },
   {
    "duration": 363,
    "start_time": "2023-11-08T01:44:02.574Z"
   },
   {
    "duration": 483,
    "start_time": "2023-11-08T01:44:02.939Z"
   },
   {
    "duration": 20,
    "start_time": "2023-11-08T01:44:03.423Z"
   },
   {
    "duration": 3,
    "start_time": "2023-11-08T01:44:03.444Z"
   },
   {
    "duration": 6,
    "start_time": "2023-11-08T01:44:03.448Z"
   },
   {
    "duration": 4,
    "start_time": "2023-11-08T01:44:03.456Z"
   },
   {
    "duration": 25,
    "start_time": "2023-11-08T01:44:03.463Z"
   },
   {
    "duration": 15,
    "start_time": "2023-11-08T01:44:03.489Z"
   },
   {
    "duration": 11,
    "start_time": "2023-11-08T01:44:03.505Z"
   },
   {
    "duration": 21,
    "start_time": "2023-11-08T01:44:03.518Z"
   },
   {
    "duration": 10,
    "start_time": "2023-11-08T01:44:03.541Z"
   },
   {
    "duration": 190,
    "start_time": "2023-11-08T01:44:03.552Z"
   },
   {
    "duration": 26,
    "start_time": "2023-11-08T01:44:03.744Z"
   },
   {
    "duration": 9,
    "start_time": "2023-11-08T01:44:03.772Z"
   },
   {
    "duration": 11,
    "start_time": "2023-11-08T01:44:03.783Z"
   },
   {
    "duration": 50,
    "start_time": "2023-11-08T01:44:03.796Z"
   },
   {
    "duration": 7,
    "start_time": "2023-11-08T01:44:03.847Z"
   },
   {
    "duration": 4,
    "start_time": "2023-11-08T01:44:03.855Z"
   },
   {
    "duration": 13,
    "start_time": "2023-11-08T01:44:03.860Z"
   },
   {
    "duration": 15,
    "start_time": "2023-11-08T01:44:03.874Z"
   },
   {
    "duration": 4,
    "start_time": "2023-11-08T01:44:03.890Z"
   },
   {
    "duration": 192,
    "start_time": "2023-11-08T01:44:03.896Z"
   },
   {
    "duration": 14,
    "start_time": "2023-11-08T01:44:04.089Z"
   },
   {
    "duration": 4,
    "start_time": "2023-11-08T01:44:04.104Z"
   },
   {
    "duration": 185,
    "start_time": "2023-11-08T01:44:04.112Z"
   },
   {
    "duration": 7,
    "start_time": "2023-11-08T01:44:04.299Z"
   },
   {
    "duration": 115,
    "start_time": "2023-11-08T01:44:04.307Z"
   },
   {
    "duration": 5,
    "start_time": "2023-11-08T01:44:04.423Z"
   },
   {
    "duration": 192,
    "start_time": "2023-11-08T01:44:04.440Z"
   },
   {
    "duration": 10,
    "start_time": "2023-11-08T01:44:04.634Z"
   },
   {
    "duration": 130,
    "start_time": "2023-11-08T01:44:04.645Z"
   },
   {
    "duration": 283,
    "start_time": "2023-11-08T01:44:04.776Z"
   },
   {
    "duration": 13,
    "start_time": "2023-11-08T01:44:05.061Z"
   },
   {
    "duration": 288,
    "start_time": "2023-11-08T01:44:05.076Z"
   },
   {
    "duration": 270,
    "start_time": "2023-11-08T01:44:05.366Z"
   },
   {
    "duration": 8,
    "start_time": "2023-11-08T01:44:05.637Z"
   },
   {
    "duration": 122,
    "start_time": "2023-11-08T01:44:05.646Z"
   },
   {
    "duration": 345,
    "start_time": "2023-11-08T01:44:05.770Z"
   },
   {
    "duration": 307,
    "start_time": "2023-11-08T01:44:06.117Z"
   },
   {
    "duration": 4,
    "start_time": "2023-11-08T01:44:06.425Z"
   },
   {
    "duration": 3,
    "start_time": "2023-11-08T01:44:06.439Z"
   },
   {
    "duration": 21,
    "start_time": "2023-11-08T01:44:06.443Z"
   },
   {
    "duration": 10,
    "start_time": "2023-11-08T01:44:06.466Z"
   },
   {
    "duration": 11,
    "start_time": "2023-11-08T01:44:06.478Z"
   },
   {
    "duration": 5,
    "start_time": "2023-11-08T01:44:06.490Z"
   },
   {
    "duration": 18,
    "start_time": "2023-11-08T01:44:06.496Z"
   },
   {
    "duration": 3,
    "start_time": "2023-11-08T01:44:06.515Z"
   },
   {
    "duration": 28,
    "start_time": "2023-11-08T01:44:06.519Z"
   },
   {
    "duration": 15,
    "start_time": "2023-11-08T01:44:06.548Z"
   },
   {
    "duration": 13,
    "start_time": "2023-11-08T01:44:06.564Z"
   },
   {
    "duration": 4,
    "start_time": "2023-11-08T01:44:06.579Z"
   },
   {
    "duration": 302,
    "start_time": "2023-11-08T01:44:06.584Z"
   },
   {
    "duration": 303,
    "start_time": "2023-11-08T01:44:06.888Z"
   },
   {
    "duration": 378,
    "start_time": "2023-11-08T01:44:07.192Z"
   },
   {
    "duration": 425,
    "start_time": "2023-11-08T01:44:07.572Z"
   },
   {
    "duration": 892,
    "start_time": "2023-11-08T01:44:07.998Z"
   },
   {
    "duration": 10,
    "start_time": "2023-11-08T01:44:08.891Z"
   },
   {
    "duration": 2,
    "start_time": "2023-11-08T01:44:08.903Z"
   },
   {
    "duration": 11,
    "start_time": "2023-11-08T01:44:08.907Z"
   },
   {
    "duration": 27,
    "start_time": "2023-11-08T01:44:08.920Z"
   },
   {
    "duration": 4,
    "start_time": "2023-11-08T01:44:08.948Z"
   },
   {
    "duration": 8,
    "start_time": "2023-11-08T01:44:08.953Z"
   },
   {
    "duration": 4,
    "start_time": "2023-11-08T01:44:08.962Z"
   },
   {
    "duration": 24,
    "start_time": "2023-11-08T01:44:08.967Z"
   },
   {
    "duration": 2,
    "start_time": "2023-11-08T01:44:08.993Z"
   },
   {
    "duration": 7,
    "start_time": "2023-11-08T01:44:08.996Z"
   }
  ],
  "kernelspec": {
   "display_name": "Python 3 (ipykernel)",
   "language": "python",
   "name": "python3"
  },
  "language_info": {
   "codemirror_mode": {
    "name": "ipython",
    "version": 3
   },
   "file_extension": ".py",
   "mimetype": "text/x-python",
   "name": "python",
   "nbconvert_exporter": "python",
   "pygments_lexer": "ipython3",
   "version": "3.11.5"
  },
  "toc": {
   "base_numbering": 1,
   "nav_menu": {
    "height": "311.484px",
    "width": "221.484px"
   },
   "number_sections": true,
   "sideBar": true,
   "skip_h1_title": true,
   "title_cell": "Table of Contents",
   "title_sidebar": "Contents",
   "toc_cell": false,
   "toc_position": {
    "height": "calc(100% - 180px)",
    "left": "10px",
    "top": "150px",
    "width": "466.973px"
   },
   "toc_section_display": true,
   "toc_window_display": true
  }
 },
 "nbformat": 4,
 "nbformat_minor": 5
}
