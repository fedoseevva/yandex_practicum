{
 "cells": [
  {
   "cell_type": "markdown",
   "id": "7b0dae25",
   "metadata": {
    "deletable": false,
    "editable": false,
    "id": "c81daeeb"
   },
   "source": [
    "# Исследование надежности заемщиков\n"
   ]
  },
  {
   "cell_type": "markdown",
   "id": "04f9b3e0",
   "metadata": {
    "deletable": false,
    "editable": false,
    "id": "827c20bf"
   },
   "source": [
    "Во второй части проекта вы выполните шаги 3 и 4. Их вручную проверит ревьюер.\n",
    "Чтобы вам не пришлось писать код заново для шагов 1 и 2, мы добавили авторские решения в ячейки с кодом. \n",
    "\n"
   ]
  },
  {
   "cell_type": "markdown",
   "id": "85d7f343",
   "metadata": {
    "deletable": false,
    "editable": false,
    "id": "744d7639"
   },
   "source": [
    "## Откройте таблицу и изучите общую информацию о данных"
   ]
  },
  {
   "cell_type": "markdown",
   "id": "e0ccd790",
   "metadata": {
    "deletable": false,
    "editable": false,
    "id": "e7a14c31"
   },
   "source": [
    "**Задание 1. Импортируйте библиотеку pandas. Считайте данные из csv-файла в датафрейм и сохраните в переменную `data`. Путь к файлу:**\n",
    "\n",
    "`/datasets/data.csv`"
   ]
  },
  {
   "cell_type": "code",
   "execution_count": 1,
   "id": "e3553893",
   "metadata": {
    "deletable": false,
    "id": "7bcf75c9"
   },
   "outputs": [],
   "source": [
    "import pandas as pd\n",
    "\n",
    "try:\n",
    "    data = pd.read_csv('/datasets/data.csv')\n",
    "except:\n",
    "    data = pd.read_csv('https://code.s3.yandex.net/datasets/data.csv')"
   ]
  },
  {
   "cell_type": "markdown",
   "id": "f8de7ce6",
   "metadata": {
    "deletable": false,
    "editable": false,
    "id": "b8038fe3"
   },
   "source": [
    "**Задание 2. Выведите первые 20 строчек датафрейма `data` на экран.**"
   ]
  },
  {
   "cell_type": "code",
   "execution_count": 2,
   "id": "eba10c69",
   "metadata": {
    "deletable": false,
    "id": "2a7cab99",
    "outputId": "1a8f3ef2-d323-4ec2-ddf7-89670b5944c4"
   },
   "outputs": [
    {
     "data": {
      "text/html": [
       "<div>\n",
       "<style scoped>\n",
       "    .dataframe tbody tr th:only-of-type {\n",
       "        vertical-align: middle;\n",
       "    }\n",
       "\n",
       "    .dataframe tbody tr th {\n",
       "        vertical-align: top;\n",
       "    }\n",
       "\n",
       "    .dataframe thead th {\n",
       "        text-align: right;\n",
       "    }\n",
       "</style>\n",
       "<table border=\"1\" class=\"dataframe\">\n",
       "  <thead>\n",
       "    <tr style=\"text-align: right;\">\n",
       "      <th></th>\n",
       "      <th>children</th>\n",
       "      <th>days_employed</th>\n",
       "      <th>dob_years</th>\n",
       "      <th>education</th>\n",
       "      <th>education_id</th>\n",
       "      <th>family_status</th>\n",
       "      <th>family_status_id</th>\n",
       "      <th>gender</th>\n",
       "      <th>income_type</th>\n",
       "      <th>debt</th>\n",
       "      <th>total_income</th>\n",
       "      <th>purpose</th>\n",
       "    </tr>\n",
       "  </thead>\n",
       "  <tbody>\n",
       "    <tr>\n",
       "      <th>0</th>\n",
       "      <td>1</td>\n",
       "      <td>-8437.673028</td>\n",
       "      <td>42</td>\n",
       "      <td>высшее</td>\n",
       "      <td>0</td>\n",
       "      <td>женат / замужем</td>\n",
       "      <td>0</td>\n",
       "      <td>F</td>\n",
       "      <td>сотрудник</td>\n",
       "      <td>0</td>\n",
       "      <td>253875.639453</td>\n",
       "      <td>покупка жилья</td>\n",
       "    </tr>\n",
       "    <tr>\n",
       "      <th>1</th>\n",
       "      <td>1</td>\n",
       "      <td>-4024.803754</td>\n",
       "      <td>36</td>\n",
       "      <td>среднее</td>\n",
       "      <td>1</td>\n",
       "      <td>женат / замужем</td>\n",
       "      <td>0</td>\n",
       "      <td>F</td>\n",
       "      <td>сотрудник</td>\n",
       "      <td>0</td>\n",
       "      <td>112080.014102</td>\n",
       "      <td>приобретение автомобиля</td>\n",
       "    </tr>\n",
       "    <tr>\n",
       "      <th>2</th>\n",
       "      <td>0</td>\n",
       "      <td>-5623.422610</td>\n",
       "      <td>33</td>\n",
       "      <td>Среднее</td>\n",
       "      <td>1</td>\n",
       "      <td>женат / замужем</td>\n",
       "      <td>0</td>\n",
       "      <td>M</td>\n",
       "      <td>сотрудник</td>\n",
       "      <td>0</td>\n",
       "      <td>145885.952297</td>\n",
       "      <td>покупка жилья</td>\n",
       "    </tr>\n",
       "    <tr>\n",
       "      <th>3</th>\n",
       "      <td>3</td>\n",
       "      <td>-4124.747207</td>\n",
       "      <td>32</td>\n",
       "      <td>среднее</td>\n",
       "      <td>1</td>\n",
       "      <td>женат / замужем</td>\n",
       "      <td>0</td>\n",
       "      <td>M</td>\n",
       "      <td>сотрудник</td>\n",
       "      <td>0</td>\n",
       "      <td>267628.550329</td>\n",
       "      <td>дополнительное образование</td>\n",
       "    </tr>\n",
       "    <tr>\n",
       "      <th>4</th>\n",
       "      <td>0</td>\n",
       "      <td>340266.072047</td>\n",
       "      <td>53</td>\n",
       "      <td>среднее</td>\n",
       "      <td>1</td>\n",
       "      <td>гражданский брак</td>\n",
       "      <td>1</td>\n",
       "      <td>F</td>\n",
       "      <td>пенсионер</td>\n",
       "      <td>0</td>\n",
       "      <td>158616.077870</td>\n",
       "      <td>сыграть свадьбу</td>\n",
       "    </tr>\n",
       "    <tr>\n",
       "      <th>5</th>\n",
       "      <td>0</td>\n",
       "      <td>-926.185831</td>\n",
       "      <td>27</td>\n",
       "      <td>высшее</td>\n",
       "      <td>0</td>\n",
       "      <td>гражданский брак</td>\n",
       "      <td>1</td>\n",
       "      <td>M</td>\n",
       "      <td>компаньон</td>\n",
       "      <td>0</td>\n",
       "      <td>255763.565419</td>\n",
       "      <td>покупка жилья</td>\n",
       "    </tr>\n",
       "    <tr>\n",
       "      <th>6</th>\n",
       "      <td>0</td>\n",
       "      <td>-2879.202052</td>\n",
       "      <td>43</td>\n",
       "      <td>высшее</td>\n",
       "      <td>0</td>\n",
       "      <td>женат / замужем</td>\n",
       "      <td>0</td>\n",
       "      <td>F</td>\n",
       "      <td>компаньон</td>\n",
       "      <td>0</td>\n",
       "      <td>240525.971920</td>\n",
       "      <td>операции с жильем</td>\n",
       "    </tr>\n",
       "    <tr>\n",
       "      <th>7</th>\n",
       "      <td>0</td>\n",
       "      <td>-152.779569</td>\n",
       "      <td>50</td>\n",
       "      <td>СРЕДНЕЕ</td>\n",
       "      <td>1</td>\n",
       "      <td>женат / замужем</td>\n",
       "      <td>0</td>\n",
       "      <td>M</td>\n",
       "      <td>сотрудник</td>\n",
       "      <td>0</td>\n",
       "      <td>135823.934197</td>\n",
       "      <td>образование</td>\n",
       "    </tr>\n",
       "    <tr>\n",
       "      <th>8</th>\n",
       "      <td>2</td>\n",
       "      <td>-6929.865299</td>\n",
       "      <td>35</td>\n",
       "      <td>ВЫСШЕЕ</td>\n",
       "      <td>0</td>\n",
       "      <td>гражданский брак</td>\n",
       "      <td>1</td>\n",
       "      <td>F</td>\n",
       "      <td>сотрудник</td>\n",
       "      <td>0</td>\n",
       "      <td>95856.832424</td>\n",
       "      <td>на проведение свадьбы</td>\n",
       "    </tr>\n",
       "    <tr>\n",
       "      <th>9</th>\n",
       "      <td>0</td>\n",
       "      <td>-2188.756445</td>\n",
       "      <td>41</td>\n",
       "      <td>среднее</td>\n",
       "      <td>1</td>\n",
       "      <td>женат / замужем</td>\n",
       "      <td>0</td>\n",
       "      <td>M</td>\n",
       "      <td>сотрудник</td>\n",
       "      <td>0</td>\n",
       "      <td>144425.938277</td>\n",
       "      <td>покупка жилья для семьи</td>\n",
       "    </tr>\n",
       "    <tr>\n",
       "      <th>10</th>\n",
       "      <td>2</td>\n",
       "      <td>-4171.483647</td>\n",
       "      <td>36</td>\n",
       "      <td>высшее</td>\n",
       "      <td>0</td>\n",
       "      <td>женат / замужем</td>\n",
       "      <td>0</td>\n",
       "      <td>M</td>\n",
       "      <td>компаньон</td>\n",
       "      <td>0</td>\n",
       "      <td>113943.491460</td>\n",
       "      <td>покупка недвижимости</td>\n",
       "    </tr>\n",
       "    <tr>\n",
       "      <th>11</th>\n",
       "      <td>0</td>\n",
       "      <td>-792.701887</td>\n",
       "      <td>40</td>\n",
       "      <td>среднее</td>\n",
       "      <td>1</td>\n",
       "      <td>женат / замужем</td>\n",
       "      <td>0</td>\n",
       "      <td>F</td>\n",
       "      <td>сотрудник</td>\n",
       "      <td>0</td>\n",
       "      <td>77069.234271</td>\n",
       "      <td>покупка коммерческой недвижимости</td>\n",
       "    </tr>\n",
       "    <tr>\n",
       "      <th>12</th>\n",
       "      <td>0</td>\n",
       "      <td>NaN</td>\n",
       "      <td>65</td>\n",
       "      <td>среднее</td>\n",
       "      <td>1</td>\n",
       "      <td>гражданский брак</td>\n",
       "      <td>1</td>\n",
       "      <td>M</td>\n",
       "      <td>пенсионер</td>\n",
       "      <td>0</td>\n",
       "      <td>NaN</td>\n",
       "      <td>сыграть свадьбу</td>\n",
       "    </tr>\n",
       "    <tr>\n",
       "      <th>13</th>\n",
       "      <td>0</td>\n",
       "      <td>-1846.641941</td>\n",
       "      <td>54</td>\n",
       "      <td>неоконченное высшее</td>\n",
       "      <td>2</td>\n",
       "      <td>женат / замужем</td>\n",
       "      <td>0</td>\n",
       "      <td>F</td>\n",
       "      <td>сотрудник</td>\n",
       "      <td>0</td>\n",
       "      <td>130458.228857</td>\n",
       "      <td>приобретение автомобиля</td>\n",
       "    </tr>\n",
       "    <tr>\n",
       "      <th>14</th>\n",
       "      <td>0</td>\n",
       "      <td>-1844.956182</td>\n",
       "      <td>56</td>\n",
       "      <td>высшее</td>\n",
       "      <td>0</td>\n",
       "      <td>гражданский брак</td>\n",
       "      <td>1</td>\n",
       "      <td>F</td>\n",
       "      <td>компаньон</td>\n",
       "      <td>1</td>\n",
       "      <td>165127.911772</td>\n",
       "      <td>покупка жилой недвижимости</td>\n",
       "    </tr>\n",
       "    <tr>\n",
       "      <th>15</th>\n",
       "      <td>1</td>\n",
       "      <td>-972.364419</td>\n",
       "      <td>26</td>\n",
       "      <td>среднее</td>\n",
       "      <td>1</td>\n",
       "      <td>женат / замужем</td>\n",
       "      <td>0</td>\n",
       "      <td>F</td>\n",
       "      <td>сотрудник</td>\n",
       "      <td>0</td>\n",
       "      <td>116820.904450</td>\n",
       "      <td>строительство собственной недвижимости</td>\n",
       "    </tr>\n",
       "    <tr>\n",
       "      <th>16</th>\n",
       "      <td>0</td>\n",
       "      <td>-1719.934226</td>\n",
       "      <td>35</td>\n",
       "      <td>среднее</td>\n",
       "      <td>1</td>\n",
       "      <td>женат / замужем</td>\n",
       "      <td>0</td>\n",
       "      <td>F</td>\n",
       "      <td>сотрудник</td>\n",
       "      <td>0</td>\n",
       "      <td>289202.704229</td>\n",
       "      <td>недвижимость</td>\n",
       "    </tr>\n",
       "    <tr>\n",
       "      <th>17</th>\n",
       "      <td>0</td>\n",
       "      <td>-2369.999720</td>\n",
       "      <td>33</td>\n",
       "      <td>высшее</td>\n",
       "      <td>0</td>\n",
       "      <td>гражданский брак</td>\n",
       "      <td>1</td>\n",
       "      <td>M</td>\n",
       "      <td>сотрудник</td>\n",
       "      <td>0</td>\n",
       "      <td>90410.586745</td>\n",
       "      <td>строительство недвижимости</td>\n",
       "    </tr>\n",
       "    <tr>\n",
       "      <th>18</th>\n",
       "      <td>0</td>\n",
       "      <td>400281.136913</td>\n",
       "      <td>53</td>\n",
       "      <td>среднее</td>\n",
       "      <td>1</td>\n",
       "      <td>вдовец / вдова</td>\n",
       "      <td>2</td>\n",
       "      <td>F</td>\n",
       "      <td>пенсионер</td>\n",
       "      <td>0</td>\n",
       "      <td>56823.777243</td>\n",
       "      <td>на покупку подержанного автомобиля</td>\n",
       "    </tr>\n",
       "    <tr>\n",
       "      <th>19</th>\n",
       "      <td>0</td>\n",
       "      <td>-10038.818549</td>\n",
       "      <td>48</td>\n",
       "      <td>СРЕДНЕЕ</td>\n",
       "      <td>1</td>\n",
       "      <td>в разводе</td>\n",
       "      <td>3</td>\n",
       "      <td>F</td>\n",
       "      <td>сотрудник</td>\n",
       "      <td>0</td>\n",
       "      <td>242831.107982</td>\n",
       "      <td>на покупку своего автомобиля</td>\n",
       "    </tr>\n",
       "  </tbody>\n",
       "</table>\n",
       "</div>"
      ],
      "text/plain": [
       "    children  days_employed  dob_years            education  education_id  \\\n",
       "0          1   -8437.673028         42               высшее             0   \n",
       "1          1   -4024.803754         36              среднее             1   \n",
       "2          0   -5623.422610         33              Среднее             1   \n",
       "3          3   -4124.747207         32              среднее             1   \n",
       "4          0  340266.072047         53              среднее             1   \n",
       "5          0    -926.185831         27               высшее             0   \n",
       "6          0   -2879.202052         43               высшее             0   \n",
       "7          0    -152.779569         50              СРЕДНЕЕ             1   \n",
       "8          2   -6929.865299         35               ВЫСШЕЕ             0   \n",
       "9          0   -2188.756445         41              среднее             1   \n",
       "10         2   -4171.483647         36               высшее             0   \n",
       "11         0    -792.701887         40              среднее             1   \n",
       "12         0            NaN         65              среднее             1   \n",
       "13         0   -1846.641941         54  неоконченное высшее             2   \n",
       "14         0   -1844.956182         56               высшее             0   \n",
       "15         1    -972.364419         26              среднее             1   \n",
       "16         0   -1719.934226         35              среднее             1   \n",
       "17         0   -2369.999720         33               высшее             0   \n",
       "18         0  400281.136913         53              среднее             1   \n",
       "19         0  -10038.818549         48              СРЕДНЕЕ             1   \n",
       "\n",
       "       family_status  family_status_id gender income_type  debt  \\\n",
       "0    женат / замужем                 0      F   сотрудник     0   \n",
       "1    женат / замужем                 0      F   сотрудник     0   \n",
       "2    женат / замужем                 0      M   сотрудник     0   \n",
       "3    женат / замужем                 0      M   сотрудник     0   \n",
       "4   гражданский брак                 1      F   пенсионер     0   \n",
       "5   гражданский брак                 1      M   компаньон     0   \n",
       "6    женат / замужем                 0      F   компаньон     0   \n",
       "7    женат / замужем                 0      M   сотрудник     0   \n",
       "8   гражданский брак                 1      F   сотрудник     0   \n",
       "9    женат / замужем                 0      M   сотрудник     0   \n",
       "10   женат / замужем                 0      M   компаньон     0   \n",
       "11   женат / замужем                 0      F   сотрудник     0   \n",
       "12  гражданский брак                 1      M   пенсионер     0   \n",
       "13   женат / замужем                 0      F   сотрудник     0   \n",
       "14  гражданский брак                 1      F   компаньон     1   \n",
       "15   женат / замужем                 0      F   сотрудник     0   \n",
       "16   женат / замужем                 0      F   сотрудник     0   \n",
       "17  гражданский брак                 1      M   сотрудник     0   \n",
       "18    вдовец / вдова                 2      F   пенсионер     0   \n",
       "19         в разводе                 3      F   сотрудник     0   \n",
       "\n",
       "     total_income                                 purpose  \n",
       "0   253875.639453                           покупка жилья  \n",
       "1   112080.014102                 приобретение автомобиля  \n",
       "2   145885.952297                           покупка жилья  \n",
       "3   267628.550329              дополнительное образование  \n",
       "4   158616.077870                         сыграть свадьбу  \n",
       "5   255763.565419                           покупка жилья  \n",
       "6   240525.971920                       операции с жильем  \n",
       "7   135823.934197                             образование  \n",
       "8    95856.832424                   на проведение свадьбы  \n",
       "9   144425.938277                 покупка жилья для семьи  \n",
       "10  113943.491460                    покупка недвижимости  \n",
       "11   77069.234271       покупка коммерческой недвижимости  \n",
       "12            NaN                         сыграть свадьбу  \n",
       "13  130458.228857                 приобретение автомобиля  \n",
       "14  165127.911772              покупка жилой недвижимости  \n",
       "15  116820.904450  строительство собственной недвижимости  \n",
       "16  289202.704229                            недвижимость  \n",
       "17   90410.586745              строительство недвижимости  \n",
       "18   56823.777243      на покупку подержанного автомобиля  \n",
       "19  242831.107982            на покупку своего автомобиля  "
      ]
     },
     "execution_count": 2,
     "metadata": {},
     "output_type": "execute_result"
    }
   ],
   "source": [
    "data.head(20)"
   ]
  },
  {
   "cell_type": "markdown",
   "id": "bb2289a4",
   "metadata": {
    "deletable": false,
    "editable": false,
    "id": "1c12e233"
   },
   "source": [
    "**Задание 3. Выведите основную информацию о датафрейме с помощью метода `info()`.**"
   ]
  },
  {
   "cell_type": "code",
   "execution_count": 3,
   "id": "1b6b2f9e",
   "metadata": {
    "deletable": false,
    "id": "2b757bca",
    "outputId": "15376089-8dad-46c9-b520-c05248d43158"
   },
   "outputs": [
    {
     "name": "stdout",
     "output_type": "stream",
     "text": [
      "<class 'pandas.core.frame.DataFrame'>\n",
      "RangeIndex: 21525 entries, 0 to 21524\n",
      "Data columns (total 12 columns):\n",
      " #   Column            Non-Null Count  Dtype  \n",
      "---  ------            --------------  -----  \n",
      " 0   children          21525 non-null  int64  \n",
      " 1   days_employed     19351 non-null  float64\n",
      " 2   dob_years         21525 non-null  int64  \n",
      " 3   education         21525 non-null  object \n",
      " 4   education_id      21525 non-null  int64  \n",
      " 5   family_status     21525 non-null  object \n",
      " 6   family_status_id  21525 non-null  int64  \n",
      " 7   gender            21525 non-null  object \n",
      " 8   income_type       21525 non-null  object \n",
      " 9   debt              21525 non-null  int64  \n",
      " 10  total_income      19351 non-null  float64\n",
      " 11  purpose           21525 non-null  object \n",
      "dtypes: float64(2), int64(5), object(5)\n",
      "memory usage: 2.0+ MB\n"
     ]
    }
   ],
   "source": [
    "data.info()"
   ]
  },
  {
   "cell_type": "markdown",
   "id": "636474aa",
   "metadata": {
    "deletable": false,
    "editable": false,
    "id": "333ec665"
   },
   "source": [
    "## Предобработка данных"
   ]
  },
  {
   "cell_type": "markdown",
   "id": "9cf410ed",
   "metadata": {
    "deletable": false,
    "editable": false,
    "id": "02d92d53"
   },
   "source": [
    "### Удаление пропусков"
   ]
  },
  {
   "cell_type": "markdown",
   "id": "4f31365b",
   "metadata": {
    "deletable": false,
    "editable": false,
    "id": "cd84967c"
   },
   "source": [
    "**Задание 4. Выведите количество пропущенных значений для каждого столбца. Используйте комбинацию двух методов.**"
   ]
  },
  {
   "cell_type": "code",
   "execution_count": 4,
   "id": "b12bcb1e",
   "metadata": {
    "deletable": false,
    "id": "7f9b2309",
    "outputId": "81f4d817-781c-465c-ed15-91ce4446810d"
   },
   "outputs": [
    {
     "data": {
      "text/plain": [
       "children               0\n",
       "days_employed       2174\n",
       "dob_years              0\n",
       "education              0\n",
       "education_id           0\n",
       "family_status          0\n",
       "family_status_id       0\n",
       "gender                 0\n",
       "income_type            0\n",
       "debt                   0\n",
       "total_income        2174\n",
       "purpose                0\n",
       "dtype: int64"
      ]
     },
     "execution_count": 4,
     "metadata": {},
     "output_type": "execute_result"
    }
   ],
   "source": [
    "data.isna().sum()"
   ]
  },
  {
   "cell_type": "markdown",
   "id": "a0a7eedf",
   "metadata": {
    "deletable": false,
    "editable": false,
    "id": "db86e27b"
   },
   "source": [
    "**Задание 5. В двух столбцах есть пропущенные значения. Один из них — `days_employed`. Пропуски в этом столбце вы обработаете на следующем этапе. Другой столбец с пропущенными значениями — `total_income` — хранит данные о доходах. На сумму дохода сильнее всего влияет тип занятости, поэтому заполнить пропуски в этом столбце нужно медианным значением по каждому типу из столбца `income_type`. Например, у человека с типом занятости `сотрудник` пропуск в столбце `total_income` должен быть заполнен медианным доходом среди всех записей с тем же типом.**"
   ]
  },
  {
   "cell_type": "code",
   "execution_count": 5,
   "id": "c5e34c08",
   "metadata": {
    "deletable": false,
    "id": "42006a93"
   },
   "outputs": [],
   "source": [
    "for t in data['income_type'].unique():\n",
    "    data.loc[(data['income_type'] == t) & (data['total_income'].isna()), 'total_income'] = \\\n",
    "    data.loc[(data['income_type'] == t), 'total_income'].median()"
   ]
  },
  {
   "cell_type": "markdown",
   "id": "4bec3d4f",
   "metadata": {
    "deletable": false,
    "editable": false,
    "id": "89da5ece"
   },
   "source": [
    "### Обработка аномальных значений"
   ]
  },
  {
   "cell_type": "markdown",
   "id": "ed6a0a30",
   "metadata": {
    "deletable": false,
    "editable": false,
    "id": "57964554"
   },
   "source": [
    "**Задание 6. В данных могут встречаться артефакты (аномалии) — значения, которые не отражают действительность и появились по какой-то ошибке. таким артефактом будет отрицательное количество дней трудового стажа в столбце `days_employed`. Для реальных данных это нормально. Обработайте значения в этом столбце: замените все отрицательные значения положительными с помощью метода `abs()`.**"
   ]
  },
  {
   "cell_type": "code",
   "execution_count": 6,
   "id": "c9d45ed0",
   "metadata": {
    "deletable": false,
    "id": "f6f055bf"
   },
   "outputs": [],
   "source": [
    "data['days_employed'] = data['days_employed'].abs()"
   ]
  },
  {
   "cell_type": "markdown",
   "id": "7a95535d",
   "metadata": {
    "deletable": false,
    "editable": false,
    "id": "6107dd2f"
   },
   "source": [
    "**Задание 7. Для каждого типа занятости выведите медианное значение трудового стажа `days_employed` в днях.**"
   ]
  },
  {
   "cell_type": "code",
   "execution_count": 7,
   "id": "855c6807",
   "metadata": {
    "deletable": false,
    "id": "85a5faf6",
    "outputId": "801ef80e-522b-4668-f34e-565af7432bcf"
   },
   "outputs": [
    {
     "data": {
      "text/plain": [
       "income_type\n",
       "безработный        366413.652744\n",
       "в декрете            3296.759962\n",
       "госслужащий          2689.368353\n",
       "компаньон            1547.382223\n",
       "пенсионер          365213.306266\n",
       "предприниматель       520.848083\n",
       "сотрудник            1574.202821\n",
       "студент               578.751554\n",
       "Name: days_employed, dtype: float64"
      ]
     },
     "execution_count": 7,
     "metadata": {},
     "output_type": "execute_result"
    }
   ],
   "source": [
    "data.groupby('income_type')['days_employed'].agg('median')"
   ]
  },
  {
   "cell_type": "markdown",
   "id": "f0e0d591",
   "metadata": {
    "deletable": false,
    "editable": false,
    "id": "38d1a030"
   },
   "source": [
    "У двух типов (безработные и пенсионеры) получатся аномально большие значения. Исправить такие значения сложно, поэтому оставьте их как есть. Тем более этот столбец не понадобится вам для исследования."
   ]
  },
  {
   "cell_type": "markdown",
   "id": "adc47398",
   "metadata": {
    "deletable": false,
    "editable": false,
    "id": "d8a9f147"
   },
   "source": [
    "**Задание 8. Выведите перечень уникальных значений столбца `children`.**"
   ]
  },
  {
   "cell_type": "code",
   "execution_count": 8,
   "id": "758cbaac",
   "metadata": {
    "deletable": false,
    "id": "ef5056eb",
    "outputId": "6975b15c-7f95-4697-d16d-a0c79b657b03"
   },
   "outputs": [
    {
     "data": {
      "text/plain": [
       "array([ 1,  0,  3,  2, -1,  4, 20,  5])"
      ]
     },
     "execution_count": 8,
     "metadata": {},
     "output_type": "execute_result"
    }
   ],
   "source": [
    "data['children'].unique()"
   ]
  },
  {
   "cell_type": "markdown",
   "id": "583278e3",
   "metadata": {
    "deletable": false,
    "editable": false,
    "id": "40b9ebf2"
   },
   "source": [
    "**Задание 9. В столбце `children` есть два аномальных значения. Удалите строки, в которых встречаются такие аномальные значения из датафрейма `data`.**"
   ]
  },
  {
   "cell_type": "code",
   "execution_count": 9,
   "id": "d775f637",
   "metadata": {
    "deletable": false,
    "id": "3ff9801d"
   },
   "outputs": [],
   "source": [
    "data = data[(data['children'] != -1) & (data['children'] != 20)]"
   ]
  },
  {
   "cell_type": "markdown",
   "id": "c5a7215c",
   "metadata": {
    "deletable": false,
    "editable": false,
    "id": "bbc4d0ce"
   },
   "source": [
    "**Задание 10. Ещё раз выведите перечень уникальных значений столбца `children`, чтобы убедиться, что артефакты удалены.**"
   ]
  },
  {
   "cell_type": "code",
   "execution_count": 10,
   "id": "31d9bfd7",
   "metadata": {
    "deletable": false,
    "id": "ad4fa8b7",
    "outputId": "b2097101-d49d-44d9-901b-32a65c9463d1"
   },
   "outputs": [
    {
     "data": {
      "text/plain": [
       "array([1, 0, 3, 2, 4, 5])"
      ]
     },
     "execution_count": 10,
     "metadata": {},
     "output_type": "execute_result"
    }
   ],
   "source": [
    "data['children'].unique()"
   ]
  },
  {
   "cell_type": "markdown",
   "id": "257e6701",
   "metadata": {
    "deletable": false,
    "editable": false,
    "id": "75440b63"
   },
   "source": [
    "### Удаление пропусков (продолжение)"
   ]
  },
  {
   "cell_type": "markdown",
   "id": "590d8eba",
   "metadata": {
    "deletable": false,
    "editable": false,
    "id": "f4ea573f"
   },
   "source": [
    "**Задание 11. Заполните пропуски в столбце `days_employed` медианными значениями по каждого типа занятости `income_type`.**"
   ]
  },
  {
   "cell_type": "code",
   "execution_count": 11,
   "id": "6e5ee1a1",
   "metadata": {
    "deletable": false,
    "id": "af6b1a7e"
   },
   "outputs": [],
   "source": [
    "for t in data['income_type'].unique():\n",
    "    data.loc[(data['income_type'] == t) & (data['days_employed'].isna()), 'days_employed'] = \\\n",
    "    data.loc[(data['income_type'] == t), 'days_employed'].median()"
   ]
  },
  {
   "cell_type": "markdown",
   "id": "d52ca3a8",
   "metadata": {
    "deletable": false,
    "editable": false,
    "id": "2753f40d"
   },
   "source": [
    "**Задание 12. Убедитесь, что все пропуски заполнены. Проверьте себя и ещё раз выведите количество пропущенных значений для каждого столбца с помощью двух методов.**"
   ]
  },
  {
   "cell_type": "code",
   "execution_count": 12,
   "id": "771b73d7",
   "metadata": {
    "deletable": false,
    "id": "55f78bc2",
    "outputId": "8da1e4e1-358e-4e87-98c9-f261bce0a7b2"
   },
   "outputs": [
    {
     "data": {
      "text/plain": [
       "children            0\n",
       "days_employed       0\n",
       "dob_years           0\n",
       "education           0\n",
       "education_id        0\n",
       "family_status       0\n",
       "family_status_id    0\n",
       "gender              0\n",
       "income_type         0\n",
       "debt                0\n",
       "total_income        0\n",
       "purpose             0\n",
       "dtype: int64"
      ]
     },
     "execution_count": 12,
     "metadata": {},
     "output_type": "execute_result"
    }
   ],
   "source": [
    "data.isna().sum()"
   ]
  },
  {
   "cell_type": "markdown",
   "id": "a3d64869",
   "metadata": {
    "deletable": false,
    "editable": false,
    "id": "ddc81e43"
   },
   "source": [
    "### Изменение типов данных"
   ]
  },
  {
   "cell_type": "markdown",
   "id": "4bc86b67",
   "metadata": {
    "deletable": false,
    "editable": false,
    "id": "42d19d24"
   },
   "source": [
    "**Задание 13. Замените вещественный тип данных в столбце `total_income` на целочисленный с помощью метода `astype()`.**"
   ]
  },
  {
   "cell_type": "code",
   "execution_count": 13,
   "id": "2bcba039",
   "metadata": {
    "deletable": false,
    "id": "920b65ad"
   },
   "outputs": [],
   "source": [
    "data['total_income'] = data['total_income'].astype(int)"
   ]
  },
  {
   "cell_type": "markdown",
   "id": "d1af10ee",
   "metadata": {
    "deletable": false,
    "editable": false,
    "id": "80c420ba"
   },
   "source": [
    "### Обработка дубликатов"
   ]
  },
  {
   "cell_type": "markdown",
   "id": "79a1a702",
   "metadata": {
    "deletable": false,
    "editable": false
   },
   "source": [
    "**Задание 14. Обработайте неявные дубликаты в столбце `education`. В этом столбце есть одни и те же значения, но записанные по-разному: с использованием заглавных и строчных букв. Приведите их к нижнему регистру. Проверьте остальные столбцы.**"
   ]
  },
  {
   "cell_type": "code",
   "execution_count": 14,
   "id": "ce8d78bd",
   "metadata": {
    "deletable": false
   },
   "outputs": [],
   "source": [
    "data['education'] = data['education'].str.lower()"
   ]
  },
  {
   "cell_type": "markdown",
   "id": "6bbbc628",
   "metadata": {
    "deletable": false,
    "editable": false,
    "id": "dc587695"
   },
   "source": [
    "**Задание 15. Выведите на экран количество строк-дубликатов в данных. Если такие строки присутствуют, удалите их.**"
   ]
  },
  {
   "cell_type": "code",
   "execution_count": 15,
   "id": "56e2c219",
   "metadata": {
    "deletable": false,
    "id": "3ee445e4",
    "outputId": "9684deba-1934-42d1-99e1-cda61740f822"
   },
   "outputs": [
    {
     "data": {
      "text/plain": [
       "71"
      ]
     },
     "execution_count": 15,
     "metadata": {},
     "output_type": "execute_result"
    }
   ],
   "source": [
    "data.duplicated().sum()"
   ]
  },
  {
   "cell_type": "code",
   "execution_count": 16,
   "id": "357ec3d3",
   "metadata": {
    "deletable": false,
    "id": "8575fe05"
   },
   "outputs": [],
   "source": [
    "data = data.drop_duplicates()"
   ]
  },
  {
   "cell_type": "markdown",
   "id": "b2cbd13d",
   "metadata": {
    "deletable": false,
    "editable": false,
    "id": "9904cf55"
   },
   "source": [
    "### Категоризация данных"
   ]
  },
  {
   "cell_type": "markdown",
   "id": "54b75d85",
   "metadata": {
    "deletable": false,
    "editable": false,
    "id": "72fcc8a2"
   },
   "source": [
    "**Задание 16. На основании диапазонов, указанных ниже, создайте в датафрейме `data` столбец `total_income_category` с категориями:**\n",
    "\n",
    "- 0–30000 — `'E'`;\n",
    "- 30001–50000 — `'D'`;\n",
    "- 50001–200000 — `'C'`;\n",
    "- 200001–1000000 — `'B'`;\n",
    "- 1000001 и выше — `'A'`.\n",
    "\n",
    "\n",
    "**Например, кредитополучателю с доходом 25000 нужно назначить категорию `'E'`, а клиенту, получающему 235000, — `'B'`. Используйте собственную функцию с именем `categorize_income()` и метод `apply()`.**"
   ]
  },
  {
   "cell_type": "code",
   "execution_count": 17,
   "id": "d0fbb86e",
   "metadata": {
    "deletable": false,
    "id": "e1771346"
   },
   "outputs": [],
   "source": [
    "def categorize_income(income):\n",
    "    try:\n",
    "        if 0 <= income <= 30000:\n",
    "            return 'E'\n",
    "        elif 30001 <= income <= 50000:\n",
    "            return 'D'\n",
    "        elif 50001 <= income <= 200000:\n",
    "            return 'C'\n",
    "        elif 200001 <= income <= 1000000:\n",
    "            return 'B'\n",
    "        elif income >= 1000001:\n",
    "            return 'A'\n",
    "    except:\n",
    "        pass"
   ]
  },
  {
   "cell_type": "code",
   "execution_count": 18,
   "id": "f2c442cb",
   "metadata": {
    "deletable": false,
    "id": "d5f3586d"
   },
   "outputs": [],
   "source": [
    "data['total_income_category'] = data['total_income'].apply(categorize_income)"
   ]
  },
  {
   "cell_type": "markdown",
   "id": "1cc648d1",
   "metadata": {
    "deletable": false,
    "editable": false,
    "id": "dde49b5c"
   },
   "source": [
    "**Задание 17. Выведите на экран перечень уникальных целей взятия кредита из столбца `purpose`.**"
   ]
  },
  {
   "cell_type": "code",
   "execution_count": 19,
   "id": "4f125126",
   "metadata": {
    "deletable": false,
    "id": "f67ce9b3",
    "outputId": "673c12d9-7d7e-4ae0-9812-c622c89dd244"
   },
   "outputs": [
    {
     "data": {
      "text/plain": [
       "array(['покупка жилья', 'приобретение автомобиля',\n",
       "       'дополнительное образование', 'сыграть свадьбу',\n",
       "       'операции с жильем', 'образование', 'на проведение свадьбы',\n",
       "       'покупка жилья для семьи', 'покупка недвижимости',\n",
       "       'покупка коммерческой недвижимости', 'покупка жилой недвижимости',\n",
       "       'строительство собственной недвижимости', 'недвижимость',\n",
       "       'строительство недвижимости', 'на покупку подержанного автомобиля',\n",
       "       'на покупку своего автомобиля',\n",
       "       'операции с коммерческой недвижимостью',\n",
       "       'строительство жилой недвижимости', 'жилье',\n",
       "       'операции со своей недвижимостью', 'автомобили',\n",
       "       'заняться образованием', 'сделка с подержанным автомобилем',\n",
       "       'получение образования', 'автомобиль', 'свадьба',\n",
       "       'получение дополнительного образования', 'покупка своего жилья',\n",
       "       'операции с недвижимостью', 'получение высшего образования',\n",
       "       'свой автомобиль', 'сделка с автомобилем',\n",
       "       'профильное образование', 'высшее образование',\n",
       "       'покупка жилья для сдачи', 'на покупку автомобиля', 'ремонт жилью',\n",
       "       'заняться высшим образованием'], dtype=object)"
      ]
     },
     "execution_count": 19,
     "metadata": {},
     "output_type": "execute_result"
    }
   ],
   "source": [
    "data['purpose'].unique()"
   ]
  },
  {
   "cell_type": "markdown",
   "id": "1ad568c3",
   "metadata": {
    "deletable": false,
    "editable": false,
    "id": "85d0aef0"
   },
   "source": [
    "**Задание 18. Создайте функцию, которая на основании данных из столбца `purpose` сформирует новый столбец `purpose_category`, в который войдут следующие категории:**\n",
    "\n",
    "- `'операции с автомобилем'`,\n",
    "- `'операции с недвижимостью'`,\n",
    "- `'проведение свадьбы'`,\n",
    "- `'получение образования'`.\n",
    "\n",
    "**Например, если в столбце `purpose` находится подстрока `'на покупку автомобиля'`, то в столбце `purpose_category` должна появиться строка `'операции с автомобилем'`.**\n",
    "\n",
    "**Используйте собственную функцию с именем `categorize_purpose()` и метод `apply()`. Изучите данные в столбце `purpose` и определите, какие подстроки помогут вам правильно определить категорию.**"
   ]
  },
  {
   "cell_type": "code",
   "execution_count": 20,
   "id": "89f5c481",
   "metadata": {
    "deletable": false,
    "id": "e149fab4"
   },
   "outputs": [],
   "source": [
    "def categorize_purpose(row):\n",
    "    try:\n",
    "        if 'автом' in row:\n",
    "            return 'операции с автомобилем'\n",
    "        elif 'жил' in row or 'недвиж' in row:\n",
    "            return 'операции с недвижимостью'\n",
    "        elif 'свад' in row:\n",
    "            return 'проведение свадьбы'\n",
    "        elif 'образов' in row:\n",
    "            return 'получение образования'\n",
    "    except:\n",
    "        return 'нет категории'"
   ]
  },
  {
   "cell_type": "code",
   "execution_count": 21,
   "id": "2e5cc9be",
   "metadata": {
    "deletable": false,
    "id": "bf36e69b"
   },
   "outputs": [],
   "source": [
    "data['purpose_category'] = data['purpose'].apply(categorize_purpose)"
   ]
  },
  {
   "cell_type": "markdown",
   "id": "27c9c7c5",
   "metadata": {
    "deletable": false,
    "editable": false,
    "id": "09b242bf"
   },
   "source": [
    "### Шаг 3. Исследуйте данные и ответьте на вопросы"
   ]
  },
  {
   "cell_type": "markdown",
   "id": "643cdbbe",
   "metadata": {
    "deletable": false,
    "editable": false,
    "id": "c5d66278"
   },
   "source": [
    "#### 3.1 Есть ли зависимость между количеством детей и возвратом кредита в срок?"
   ]
  },
  {
   "cell_type": "code",
   "execution_count": 22,
   "id": "2fc61ee8",
   "metadata": {},
   "outputs": [],
   "source": [
    "#создание функции для группировки\n",
    "def grouped(group):\n",
    "    return data.pivot_table(index = group, values = ['debt'], aggfunc=['count', 'sum', 'mean']).droplevel(level=1, axis=1)"
   ]
  },
  {
   "cell_type": "markdown",
   "id": "9951f050",
   "metadata": {},
   "source": [
    "Разделим людей на группы в зависимости от количества детей и рассмотрим долю неоплативших кредит в срок."
   ]
  },
  {
   "cell_type": "markdown",
   "id": "16e5c5a1",
   "metadata": {},
   "source": [
    "- `count` - количество клиентов;\n",
    "- `sum` - количество клиентов, неоплативших кредит в срок;\n",
    "- `mean` - доля неоплативших кредит в срок в своей группе."
   ]
  },
  {
   "cell_type": "code",
   "execution_count": 23,
   "id": "3e9370ad",
   "metadata": {
    "deletable": false,
    "id": "2cacfc4a"
   },
   "outputs": [
    {
     "data": {
      "text/html": [
       "<div>\n",
       "<style scoped>\n",
       "    .dataframe tbody tr th:only-of-type {\n",
       "        vertical-align: middle;\n",
       "    }\n",
       "\n",
       "    .dataframe tbody tr th {\n",
       "        vertical-align: top;\n",
       "    }\n",
       "\n",
       "    .dataframe thead th {\n",
       "        text-align: right;\n",
       "    }\n",
       "</style>\n",
       "<table border=\"1\" class=\"dataframe\">\n",
       "  <thead>\n",
       "    <tr style=\"text-align: right;\">\n",
       "      <th></th>\n",
       "      <th>count</th>\n",
       "      <th>sum</th>\n",
       "      <th>mean</th>\n",
       "    </tr>\n",
       "    <tr>\n",
       "      <th>children</th>\n",
       "      <th></th>\n",
       "      <th></th>\n",
       "      <th></th>\n",
       "    </tr>\n",
       "  </thead>\n",
       "  <tbody>\n",
       "    <tr>\n",
       "      <th>0</th>\n",
       "      <td>14091</td>\n",
       "      <td>1063</td>\n",
       "      <td>0.075438</td>\n",
       "    </tr>\n",
       "    <tr>\n",
       "      <th>1</th>\n",
       "      <td>4808</td>\n",
       "      <td>444</td>\n",
       "      <td>0.092346</td>\n",
       "    </tr>\n",
       "    <tr>\n",
       "      <th>2</th>\n",
       "      <td>2052</td>\n",
       "      <td>194</td>\n",
       "      <td>0.094542</td>\n",
       "    </tr>\n",
       "    <tr>\n",
       "      <th>3</th>\n",
       "      <td>330</td>\n",
       "      <td>27</td>\n",
       "      <td>0.081818</td>\n",
       "    </tr>\n",
       "    <tr>\n",
       "      <th>4</th>\n",
       "      <td>41</td>\n",
       "      <td>4</td>\n",
       "      <td>0.097561</td>\n",
       "    </tr>\n",
       "    <tr>\n",
       "      <th>5</th>\n",
       "      <td>9</td>\n",
       "      <td>0</td>\n",
       "      <td>0.000000</td>\n",
       "    </tr>\n",
       "  </tbody>\n",
       "</table>\n",
       "</div>"
      ],
      "text/plain": [
       "          count   sum      mean\n",
       "children                       \n",
       "0         14091  1063  0.075438\n",
       "1          4808   444  0.092346\n",
       "2          2052   194  0.094542\n",
       "3           330    27  0.081818\n",
       "4            41     4  0.097561\n",
       "5             9     0  0.000000"
      ]
     },
     "execution_count": 23,
     "metadata": {},
     "output_type": "execute_result"
    }
   ],
   "source": [
    "children_grouped = grouped('children')\n",
    "children_grouped"
   ]
  },
  {
   "cell_type": "markdown",
   "id": "d1748f0b",
   "metadata": {},
   "source": [
    "Введем наименование групп:\n",
    " - `Бездетная` - количество детей - 0;\n",
    " - `Группы 1...5` - номер группы соответствует количеству детей у клиента."
   ]
  },
  {
   "cell_type": "code",
   "execution_count": 24,
   "id": "b2fbc49b",
   "metadata": {},
   "outputs": [
    {
     "data": {
      "text/plain": [
       "<AxesSubplot:xlabel='children', ylabel='mean'>"
      ]
     },
     "execution_count": 24,
     "metadata": {},
     "output_type": "execute_result"
    },
    {
     "data": {
      "image/png": "[encoded data removed]",
      "text/plain": [
       "<Figure size 432x288 with 1 Axes>"
      ]
     },
     "metadata": {
      "needs_background": "light"
     },
     "output_type": "display_data"
    }
   ],
   "source": [
    "import seaborn as sb\n",
    "sb.barplot(data = children_grouped, x = children_grouped.index, y = 'mean')"
   ]
  },
  {
   "cell_type": "markdown",
   "id": "b7e3463c",
   "metadata": {},
   "source": [
    "В данных отсутствуют клиенты с просроченным сроком выплаты из `Группы 5`, что может быть обусловленно малым количеством её представителей. Зависимость несет нарастающий характер, однако доля неоплативших кредит в срок из `Группы 3` выделяется на фоне зависимости."
   ]
  },
  {
   "cell_type": "code",
   "execution_count": 25,
   "id": "04af6d4e",
   "metadata": {},
   "outputs": [
    {
     "data": {
      "text/plain": [
       "0.019378102284589985"
      ]
     },
     "execution_count": 25,
     "metadata": {},
     "output_type": "execute_result"
    }
   ],
   "source": [
    "#разница между средним групп 1, 2, 4 и бездетными\n",
    "children_grouped.loc[[1,2,4], 'mean'].mean() - children_grouped.loc[0, 'mean']"
   ]
  },
  {
   "cell_type": "code",
   "execution_count": 26,
   "id": "69d09c28",
   "metadata": {},
   "outputs": [
    {
     "data": {
      "text/plain": [
       "0.006379958838975228"
      ]
     },
     "execution_count": 26,
     "metadata": {},
     "output_type": "execute_result"
    }
   ],
   "source": [
    "#разница 0 и 3\n",
    "children_grouped.loc[3, 'mean'] - children_grouped.loc[0, 'mean']"
   ]
  },
  {
   "cell_type": "markdown",
   "id": "17ca0ceb",
   "metadata": {},
   "source": [
    "В соответствии с представленными данными:\n",
    " - 1. Доля клиентов с просроченным кредитом в `Бездетной` группе меньше, чем в остальных группах;\n",
    " - 2. Разница составляет порядка 2% с группами с одним, двумя и четырьмя детьми;\n",
    " - 3. При этом разница с группой с тремя детьми составляет порядка 0,6%.\n",
    "\n",
    "Зависимость количества невернувших кредит в срок от количества детей несет нарастающий характер, однако видна аномалия (Пункт `3`). Данная аномалия может быть обусловлена малым количеством клиентов из `Группы 4`. Проверим, как будет вести себя зависимость, если уменьшить количество неоплативших в срок в `Группе 4` на один:"
   ]
  },
  {
   "cell_type": "code",
   "execution_count": 27,
   "id": "71982c3a",
   "metadata": {},
   "outputs": [
    {
     "data": {
      "text/html": [
       "<div>\n",
       "<style scoped>\n",
       "    .dataframe tbody tr th:only-of-type {\n",
       "        vertical-align: middle;\n",
       "    }\n",
       "\n",
       "    .dataframe tbody tr th {\n",
       "        vertical-align: top;\n",
       "    }\n",
       "\n",
       "    .dataframe thead th {\n",
       "        text-align: right;\n",
       "    }\n",
       "</style>\n",
       "<table border=\"1\" class=\"dataframe\">\n",
       "  <thead>\n",
       "    <tr style=\"text-align: right;\">\n",
       "      <th></th>\n",
       "      <th>count</th>\n",
       "      <th>sum</th>\n",
       "      <th>mean</th>\n",
       "    </tr>\n",
       "    <tr>\n",
       "      <th>children</th>\n",
       "      <th></th>\n",
       "      <th></th>\n",
       "      <th></th>\n",
       "    </tr>\n",
       "  </thead>\n",
       "  <tbody>\n",
       "    <tr>\n",
       "      <th>0</th>\n",
       "      <td>14091</td>\n",
       "      <td>1063</td>\n",
       "      <td>0.075438</td>\n",
       "    </tr>\n",
       "    <tr>\n",
       "      <th>1</th>\n",
       "      <td>4808</td>\n",
       "      <td>444</td>\n",
       "      <td>0.092346</td>\n",
       "    </tr>\n",
       "    <tr>\n",
       "      <th>2</th>\n",
       "      <td>2052</td>\n",
       "      <td>194</td>\n",
       "      <td>0.094542</td>\n",
       "    </tr>\n",
       "    <tr>\n",
       "      <th>3</th>\n",
       "      <td>330</td>\n",
       "      <td>27</td>\n",
       "      <td>0.081818</td>\n",
       "    </tr>\n",
       "    <tr>\n",
       "      <th>4</th>\n",
       "      <td>41</td>\n",
       "      <td>3</td>\n",
       "      <td>0.073171</td>\n",
       "    </tr>\n",
       "    <tr>\n",
       "      <th>5</th>\n",
       "      <td>9</td>\n",
       "      <td>0</td>\n",
       "      <td>0.000000</td>\n",
       "    </tr>\n",
       "  </tbody>\n",
       "</table>\n",
       "</div>"
      ],
      "text/plain": [
       "          count   sum      mean\n",
       "children                       \n",
       "0         14091  1063  0.075438\n",
       "1          4808   444  0.092346\n",
       "2          2052   194  0.094542\n",
       "3           330    27  0.081818\n",
       "4            41     3  0.073171\n",
       "5             9     0  0.000000"
      ]
     },
     "execution_count": 27,
     "metadata": {},
     "output_type": "execute_result"
    }
   ],
   "source": [
    "#объявляется временная таблица\n",
    "child_gr_tmpr = children_grouped.copy()\n",
    "#перезаписывается строка для Группы 4\n",
    "child_gr_tmpr.loc[4,'sum'] = 3\n",
    "child_gr_tmpr.loc[4,'mean'] = child_gr_tmpr.loc[4,'sum'] / child_gr_tmpr.loc[4,'count']\n",
    "child_gr_tmpr"
   ]
  },
  {
   "cell_type": "code",
   "execution_count": 28,
   "id": "1b3d419f",
   "metadata": {},
   "outputs": [
    {
     "data": {
      "text/plain": [
       "<AxesSubplot:xlabel='children', ylabel='mean'>"
      ]
     },
     "execution_count": 28,
     "metadata": {},
     "output_type": "execute_result"
    },
    {
     "data": {
      "image/png": "[encoded data removed]",
      "text/plain": [
       "<Figure size 432x288 with 1 Axes>"
      ]
     },
     "metadata": {
      "needs_background": "light"
     },
     "output_type": "display_data"
    }
   ],
   "source": [
    "sb.barplot(data = child_gr_tmpr, x = child_gr_tmpr.index, y = 'mean')"
   ]
  },
  {
   "cell_type": "markdown",
   "id": "e48ff655",
   "metadata": {},
   "source": [
    "При уменьшении количества клиентов с просроченными кредитами всего на один наблюдается нарастание зависимости до пикового значения в `Группе 2` и постепенный спад после него. Следовательно, оценивать `Группу 4` в её нынешних масштабах некорректно.\n",
    "\n",
    "Так как имеются две группы (`Группа 4` и `Группа 5`), чей масштаб мал по сравнению с остальными, то объединим их.\n",
    " - `4+` - группа с четырьмя и более детьми"
   ]
  },
  {
   "cell_type": "code",
   "execution_count": 29,
   "id": "7a37e0da",
   "metadata": {
    "scrolled": true
   },
   "outputs": [
    {
     "name": "stderr",
     "output_type": "stream",
     "text": [
      "/opt/conda/lib/python3.9/site-packages/pandas/core/indexing.py:1720: SettingWithCopyWarning: \n",
      "A value is trying to be set on a copy of a slice from a DataFrame.\n",
      "Try using .loc[row_indexer,col_indexer] = value instead\n",
      "\n",
      "See the caveats in the documentation: https://pandas.pydata.org/pandas-docs/stable/user_guide/indexing.html#returning-a-view-versus-a-copy\n",
      "  self._setitem_single_column(loc, value, pi)\n",
      "/opt/conda/lib/python3.9/site-packages/pandas/core/indexing.py:1597: SettingWithCopyWarning: \n",
      "A value is trying to be set on a copy of a slice from a DataFrame.\n",
      "Try using .loc[row_indexer,col_indexer] = value instead\n",
      "\n",
      "See the caveats in the documentation: https://pandas.pydata.org/pandas-docs/stable/user_guide/indexing.html#returning-a-view-versus-a-copy\n",
      "  self.obj[key] = value\n",
      "/opt/conda/lib/python3.9/site-packages/pandas/core/indexing.py:1676: SettingWithCopyWarning: \n",
      "A value is trying to be set on a copy of a slice from a DataFrame.\n",
      "Try using .loc[row_indexer,col_indexer] = value instead\n",
      "\n",
      "See the caveats in the documentation: https://pandas.pydata.org/pandas-docs/stable/user_guide/indexing.html#returning-a-view-versus-a-copy\n",
      "  self._setitem_single_column(ilocs[0], value, pi)\n"
     ]
    },
    {
     "data": {
      "text/html": [
       "<div>\n",
       "<style scoped>\n",
       "    .dataframe tbody tr th:only-of-type {\n",
       "        vertical-align: middle;\n",
       "    }\n",
       "\n",
       "    .dataframe tbody tr th {\n",
       "        vertical-align: top;\n",
       "    }\n",
       "\n",
       "    .dataframe thead th {\n",
       "        text-align: right;\n",
       "    }\n",
       "</style>\n",
       "<table border=\"1\" class=\"dataframe\">\n",
       "  <thead>\n",
       "    <tr style=\"text-align: right;\">\n",
       "      <th></th>\n",
       "      <th>count</th>\n",
       "      <th>sum</th>\n",
       "      <th>mean</th>\n",
       "      <th>child_count</th>\n",
       "    </tr>\n",
       "    <tr>\n",
       "      <th>children</th>\n",
       "      <th></th>\n",
       "      <th></th>\n",
       "      <th></th>\n",
       "      <th></th>\n",
       "    </tr>\n",
       "  </thead>\n",
       "  <tbody>\n",
       "    <tr>\n",
       "      <th>0</th>\n",
       "      <td>14091.0</td>\n",
       "      <td>1063.0</td>\n",
       "      <td>0.075438</td>\n",
       "      <td>Нет детей</td>\n",
       "    </tr>\n",
       "    <tr>\n",
       "      <th>1</th>\n",
       "      <td>4808.0</td>\n",
       "      <td>444.0</td>\n",
       "      <td>0.092346</td>\n",
       "      <td>1</td>\n",
       "    </tr>\n",
       "    <tr>\n",
       "      <th>2</th>\n",
       "      <td>2052.0</td>\n",
       "      <td>194.0</td>\n",
       "      <td>0.094542</td>\n",
       "      <td>2</td>\n",
       "    </tr>\n",
       "    <tr>\n",
       "      <th>3</th>\n",
       "      <td>330.0</td>\n",
       "      <td>27.0</td>\n",
       "      <td>0.081818</td>\n",
       "      <td>3</td>\n",
       "    </tr>\n",
       "    <tr>\n",
       "      <th>4</th>\n",
       "      <td>50.0</td>\n",
       "      <td>4.0</td>\n",
       "      <td>0.080000</td>\n",
       "      <td>4+</td>\n",
       "    </tr>\n",
       "  </tbody>\n",
       "</table>\n",
       "</div>"
      ],
      "text/plain": [
       "            count     sum      mean child_count\n",
       "children                                       \n",
       "0         14091.0  1063.0  0.075438   Нет детей\n",
       "1          4808.0   444.0  0.092346           1\n",
       "2          2052.0   194.0  0.094542           2\n",
       "3           330.0    27.0  0.081818           3\n",
       "4            50.0     4.0  0.080000          4+"
      ]
     },
     "execution_count": 29,
     "metadata": {},
     "output_type": "execute_result"
    }
   ],
   "source": [
    "#переназначение строки с индексом 4 \n",
    "children_grouped.loc[4] = children_grouped.loc[4:5].sum()\n",
    "#удаление строки с индексом 5\n",
    "children_grouped = children_grouped.loc[0:4]\n",
    "#перерасчет среднего для строки с индексом 4\n",
    "children_grouped.loc[4, 'mean'] = children_grouped.loc[4, 'sum'] / children_grouped.loc[4, 'count']\n",
    "#введение столбца с категориями\n",
    "children_grouped.loc[:,'child_count'] = ['Нет детей','1', '2', '3', '4+']\n",
    "children_grouped"
   ]
  },
  {
   "cell_type": "code",
   "execution_count": 30,
   "id": "36ad89f2",
   "metadata": {},
   "outputs": [
    {
     "data": {
      "text/plain": [
       "<AxesSubplot:xlabel='child_count', ylabel='mean'>"
      ]
     },
     "execution_count": 30,
     "metadata": {},
     "output_type": "execute_result"
    },
    {
     "data": {
      "image/png": "[encoded data removed]",
      "text/plain": [
       "<Figure size 432x288 with 1 Axes>"
      ]
     },
     "metadata": {
      "needs_background": "light"
     },
     "output_type": "display_data"
    }
   ],
   "source": [
    "sb.barplot(data = children_grouped, x = 'child_count', y = 'mean')"
   ]
  },
  {
   "cell_type": "markdown",
   "id": "b57e820a",
   "metadata": {
    "deletable": false,
    "id": "3a6b99ec"
   },
   "source": [
    "**Вывод:**\n",
    "\n",
    "Оценка групп с 4 и 5 детьми по отдельности не представляется возможной, из-за чего они объединены в одну группу.\n",
    "Выявлена зависимость между количеством детей и возвратом кредита в срок\n",
    " - Нарастание доли клиентов с просроченным кредитом до пикового значения в группе клиентов с двумя детьми;\n",
    " - Спад в группе клиентов с тремя детьми и более."
   ]
  },
  {
   "cell_type": "markdown",
   "id": "a18083a3",
   "metadata": {
    "deletable": false,
    "editable": false,
    "id": "97be82ca"
   },
   "source": [
    "#### 3.2 Есть ли зависимость между семейным положением и возвратом кредита в срок?"
   ]
  },
  {
   "cell_type": "code",
   "execution_count": 31,
   "id": "9ed86498",
   "metadata": {
    "deletable": false,
    "id": "dc3f7ee8"
   },
   "outputs": [
    {
     "data": {
      "text/html": [
       "<div>\n",
       "<style scoped>\n",
       "    .dataframe tbody tr th:only-of-type {\n",
       "        vertical-align: middle;\n",
       "    }\n",
       "\n",
       "    .dataframe tbody tr th {\n",
       "        vertical-align: top;\n",
       "    }\n",
       "\n",
       "    .dataframe thead th {\n",
       "        text-align: right;\n",
       "    }\n",
       "</style>\n",
       "<table border=\"1\" class=\"dataframe\">\n",
       "  <thead>\n",
       "    <tr style=\"text-align: right;\">\n",
       "      <th></th>\n",
       "      <th>count</th>\n",
       "      <th>sum</th>\n",
       "      <th>mean</th>\n",
       "    </tr>\n",
       "    <tr>\n",
       "      <th>family_status</th>\n",
       "      <th></th>\n",
       "      <th></th>\n",
       "      <th></th>\n",
       "    </tr>\n",
       "  </thead>\n",
       "  <tbody>\n",
       "    <tr>\n",
       "      <th>Не женат / не замужем</th>\n",
       "      <td>2796</td>\n",
       "      <td>273</td>\n",
       "      <td>0.097639</td>\n",
       "    </tr>\n",
       "    <tr>\n",
       "      <th>гражданский брак</th>\n",
       "      <td>4134</td>\n",
       "      <td>385</td>\n",
       "      <td>0.093130</td>\n",
       "    </tr>\n",
       "    <tr>\n",
       "      <th>женат / замужем</th>\n",
       "      <td>12261</td>\n",
       "      <td>927</td>\n",
       "      <td>0.075606</td>\n",
       "    </tr>\n",
       "    <tr>\n",
       "      <th>в разводе</th>\n",
       "      <td>1189</td>\n",
       "      <td>84</td>\n",
       "      <td>0.070648</td>\n",
       "    </tr>\n",
       "    <tr>\n",
       "      <th>вдовец / вдова</th>\n",
       "      <td>951</td>\n",
       "      <td>63</td>\n",
       "      <td>0.066246</td>\n",
       "    </tr>\n",
       "  </tbody>\n",
       "</table>\n",
       "</div>"
      ],
      "text/plain": [
       "                       count  sum      mean\n",
       "family_status                              \n",
       "Не женат / не замужем   2796  273  0.097639\n",
       "гражданский брак        4134  385  0.093130\n",
       "женат / замужем        12261  927  0.075606\n",
       "в разводе               1189   84  0.070648\n",
       "вдовец / вдова           951   63  0.066246"
      ]
     },
     "execution_count": 31,
     "metadata": {},
     "output_type": "execute_result"
    }
   ],
   "source": [
    "fam_status_grouped = grouped('family_status')\n",
    "#сортировка по убыванию 'mean'\n",
    "fam_status_grouped = fam_status_grouped.sort_values(by ='mean', ascending = False)\n",
    "\n",
    "fam_status_grouped"
   ]
  },
  {
   "cell_type": "code",
   "execution_count": 32,
   "id": "f519ecba",
   "metadata": {},
   "outputs": [
    {
     "data": {
      "text/plain": [
       "<AxesSubplot:xlabel='mean', ylabel='family_status'>"
      ]
     },
     "execution_count": 32,
     "metadata": {},
     "output_type": "execute_result"
    },
    {
     "data": {
      "image/png": "[encoded data removed]",
      "text/plain": [
       "<Figure size 432x288 with 1 Axes>"
      ]
     },
     "metadata": {
      "needs_background": "light"
     },
     "output_type": "display_data"
    }
   ],
   "source": [
    "sb.barplot(data = fam_status_grouped, x ='mean' , y = fam_status_grouped.index)"
   ]
  },
  {
   "cell_type": "code",
   "execution_count": 33,
   "id": "a949b6ca",
   "metadata": {},
   "outputs": [
    {
     "data": {
      "text/plain": [
       "0.019779233975189436"
      ]
     },
     "execution_count": 33,
     "metadata": {},
     "output_type": "execute_result"
    }
   ],
   "source": [
    "#разница между средним групп, не состоящих в официальном браке, и группой в официальном браке\n",
    "fam_status_grouped.loc['Не женат / не замужем':'гражданский брак','mean'].mean() - \\\n",
    "fam_status_grouped.loc['женат / замужем','mean']"
   ]
  },
  {
   "cell_type": "markdown",
   "id": "2ea11d70",
   "metadata": {},
   "source": [
    "Клиенты, не состоящие в официальном браке (`Не женат/не замужем` и `гражданский брак`), имеют наибольшую долю просроченных кредитов в своих группах. В то время, как доля неоплативших клиентов в своей группе среди состоящих в браке ниже на порядка 2%. Клиенты, ранее состоявшие в браке, имеют наименьшую долю просроченных кредитов в своих группах."
   ]
  },
  {
   "cell_type": "markdown",
   "id": "a634002e",
   "metadata": {
    "deletable": false,
    "id": "1cef7837"
   },
   "source": [
    "**Вывод:** "
   ]
  },
  {
   "cell_type": "markdown",
   "id": "d22ef873",
   "metadata": {},
   "source": [
    "Выявлена зависимость возврата кредита в срок от семейного положения\n",
    " - Наибольшую долю неоплативших кредит в срок в своих группах имеют клиенты, не состоящие в официальном браке, то есть клиенты в статусе:`не женат/не замужем` и `гражданский брак`;\n",
    " - С разницей на 2% меньше долю неоплативших кредит в срок в своей группе имеют клиенты, состоящие в официальном браке, то есть клиенты в статусе `женат/замужем`;\n",
    " - Наименьшую долю неоплативших кредит в срок в своей группе имеют клиенты, ранее состоявшие в официально браке, то есть клиенты в статусе: `в разводе` и `вдовец/вдова`."
   ]
  },
  {
   "cell_type": "markdown",
   "id": "bbf48bab",
   "metadata": {
    "deletable": false,
    "editable": false,
    "id": "1e8b2fca"
   },
   "source": [
    "#### 3.3 Есть ли зависимость между уровнем дохода и возвратом кредита в срок?"
   ]
  },
  {
   "cell_type": "markdown",
   "id": "34fe6893",
   "metadata": {},
   "source": [
    "Обозначения исследуемых групп:\n",
    "- `'A'` - доход 1 000 000+ - `Наиболее доходная`;\n",
    "- `'B'` - доход от 200 001 до 1 000 000 - `Высокодоходоная`;\n",
    "- `'C'` - доход от 50 001 до 200 000 - `Среднедоходная`;\n",
    "- `'D'` - доход от 30 001 до 50 000 - `Малодоходная`;\n",
    "- `'E'` - доход до 30 000 - `Наименее доходная`."
   ]
  },
  {
   "cell_type": "code",
   "execution_count": 34,
   "id": "37f9638d",
   "metadata": {},
   "outputs": [
    {
     "data": {
      "text/html": [
       "<div>\n",
       "<style scoped>\n",
       "    .dataframe tbody tr th:only-of-type {\n",
       "        vertical-align: middle;\n",
       "    }\n",
       "\n",
       "    .dataframe tbody tr th {\n",
       "        vertical-align: top;\n",
       "    }\n",
       "\n",
       "    .dataframe thead th {\n",
       "        text-align: right;\n",
       "    }\n",
       "</style>\n",
       "<table border=\"1\" class=\"dataframe\">\n",
       "  <thead>\n",
       "    <tr style=\"text-align: right;\">\n",
       "      <th></th>\n",
       "      <th>count</th>\n",
       "      <th>sum</th>\n",
       "      <th>mean</th>\n",
       "    </tr>\n",
       "    <tr>\n",
       "      <th>total_income_category</th>\n",
       "      <th></th>\n",
       "      <th></th>\n",
       "      <th></th>\n",
       "    </tr>\n",
       "  </thead>\n",
       "  <tbody>\n",
       "    <tr>\n",
       "      <th>A</th>\n",
       "      <td>25</td>\n",
       "      <td>2</td>\n",
       "      <td>0.080000</td>\n",
       "    </tr>\n",
       "    <tr>\n",
       "      <th>B</th>\n",
       "      <td>5014</td>\n",
       "      <td>354</td>\n",
       "      <td>0.070602</td>\n",
       "    </tr>\n",
       "    <tr>\n",
       "      <th>C</th>\n",
       "      <td>15921</td>\n",
       "      <td>1353</td>\n",
       "      <td>0.084982</td>\n",
       "    </tr>\n",
       "    <tr>\n",
       "      <th>D</th>\n",
       "      <td>349</td>\n",
       "      <td>21</td>\n",
       "      <td>0.060172</td>\n",
       "    </tr>\n",
       "    <tr>\n",
       "      <th>E</th>\n",
       "      <td>22</td>\n",
       "      <td>2</td>\n",
       "      <td>0.090909</td>\n",
       "    </tr>\n",
       "  </tbody>\n",
       "</table>\n",
       "</div>"
      ],
      "text/plain": [
       "                       count   sum      mean\n",
       "total_income_category                       \n",
       "A                         25     2  0.080000\n",
       "B                       5014   354  0.070602\n",
       "C                      15921  1353  0.084982\n",
       "D                        349    21  0.060172\n",
       "E                         22     2  0.090909"
      ]
     },
     "execution_count": 34,
     "metadata": {},
     "output_type": "execute_result"
    }
   ],
   "source": [
    "income_grouped = grouped('total_income_category')\n",
    "income_grouped"
   ]
  },
  {
   "cell_type": "markdown",
   "id": "ddc86cd1",
   "metadata": {},
   "source": [
    "Группы `A` и `E` слишком малы для оценки"
   ]
  },
  {
   "cell_type": "code",
   "execution_count": 35,
   "id": "a96ecd3f",
   "metadata": {},
   "outputs": [
    {
     "data": {
      "text/html": [
       "<div>\n",
       "<style scoped>\n",
       "    .dataframe tbody tr th:only-of-type {\n",
       "        vertical-align: middle;\n",
       "    }\n",
       "\n",
       "    .dataframe tbody tr th {\n",
       "        vertical-align: top;\n",
       "    }\n",
       "\n",
       "    .dataframe thead th {\n",
       "        text-align: right;\n",
       "    }\n",
       "</style>\n",
       "<table border=\"1\" class=\"dataframe\">\n",
       "  <thead>\n",
       "    <tr style=\"text-align: right;\">\n",
       "      <th></th>\n",
       "      <th>count</th>\n",
       "      <th>sum</th>\n",
       "      <th>mean</th>\n",
       "    </tr>\n",
       "    <tr>\n",
       "      <th>total_income_category</th>\n",
       "      <th></th>\n",
       "      <th></th>\n",
       "      <th></th>\n",
       "    </tr>\n",
       "  </thead>\n",
       "  <tbody>\n",
       "    <tr>\n",
       "      <th>B</th>\n",
       "      <td>5014</td>\n",
       "      <td>354</td>\n",
       "      <td>0.070602</td>\n",
       "    </tr>\n",
       "    <tr>\n",
       "      <th>C</th>\n",
       "      <td>15921</td>\n",
       "      <td>1353</td>\n",
       "      <td>0.084982</td>\n",
       "    </tr>\n",
       "    <tr>\n",
       "      <th>D</th>\n",
       "      <td>349</td>\n",
       "      <td>21</td>\n",
       "      <td>0.060172</td>\n",
       "    </tr>\n",
       "  </tbody>\n",
       "</table>\n",
       "</div>"
      ],
      "text/plain": [
       "                       count   sum      mean\n",
       "total_income_category                       \n",
       "B                       5014   354  0.070602\n",
       "C                      15921  1353  0.084982\n",
       "D                        349    21  0.060172"
      ]
     },
     "execution_count": 35,
     "metadata": {},
     "output_type": "execute_result"
    }
   ],
   "source": [
    "income_grouped = income_grouped.loc['B':'D']\n",
    "income_grouped"
   ]
  },
  {
   "cell_type": "code",
   "execution_count": 36,
   "id": "7c0e69f1",
   "metadata": {
    "deletable": false,
    "id": "cd7e3720"
   },
   "outputs": [
    {
     "data": {
      "text/plain": [
       "<AxesSubplot:xlabel='total_income_category', ylabel='mean'>"
      ]
     },
     "execution_count": 36,
     "metadata": {},
     "output_type": "execute_result"
    },
    {
     "data": {
      "image/png": "[encoded data removed]",
      "text/plain": [
       "<Figure size 432x288 with 1 Axes>"
      ]
     },
     "metadata": {
      "needs_background": "light"
     },
     "output_type": "display_data"
    }
   ],
   "source": [
    "sb.barplot(data = income_grouped, x = income_grouped.index, y = 'mean')"
   ]
  },
  {
   "cell_type": "code",
   "execution_count": 37,
   "id": "bb31da77",
   "metadata": {},
   "outputs": [
    {
     "data": {
      "text/plain": [
       "0.0248101793436036"
      ]
     },
     "execution_count": 37,
     "metadata": {},
     "output_type": "execute_result"
    }
   ],
   "source": [
    "#разница между C и D\n",
    "income_grouped.loc['C', 'mean'] - income_grouped.loc['D', 'mean']"
   ]
  },
  {
   "cell_type": "code",
   "execution_count": 38,
   "id": "271dc806",
   "metadata": {},
   "outputs": [
    {
     "data": {
      "text/plain": [
       "0.014379785592239222"
      ]
     },
     "execution_count": 38,
     "metadata": {},
     "output_type": "execute_result"
    }
   ],
   "source": [
    "#разница между C и B\n",
    "income_grouped.loc['C','mean'] - income_grouped.loc['B', 'mean']"
   ]
  },
  {
   "cell_type": "code",
   "execution_count": 39,
   "id": "6427e621",
   "metadata": {},
   "outputs": [
    {
     "data": {
      "text/plain": [
       "0.010430393751364377"
      ]
     },
     "execution_count": 39,
     "metadata": {},
     "output_type": "execute_result"
    }
   ],
   "source": [
    "#разница между B и D\n",
    "income_grouped.loc['B', 'mean'] - income_grouped.loc['D', 'mean']"
   ]
  },
  {
   "cell_type": "markdown",
   "id": "261e9a2b",
   "metadata": {},
   "source": [
    " - Группа `'B'` - имеет нейтральную долю клиентов с просроченным сроком выплаты кредита. Разница с наибольшей составляет 1,5%;\n",
    " - Группа `'C'` - имеет наибольшую долю клиентов с просроченным сроком выплаты кредита;\n",
    " - Группа `'D'` - имеет наименьшую долю клиенту с просроченным сроком выплаты кредита. Разница с наибольшей - 2,5%, а со средней - 1%."
   ]
  },
  {
   "cell_type": "markdown",
   "id": "4b8732aa",
   "metadata": {
    "deletable": false,
    "id": "e8593def"
   },
   "source": [
    "**Вывод:** "
   ]
  },
  {
   "cell_type": "markdown",
   "id": "d0c0a495",
   "metadata": {},
   "source": [
    "Оценка групп с наибольшим и наименьшим доходом невозможна, ввиду малых масштабов данных групп.\n",
    "\n",
    "- Группу, в которой доля клиентов с задолженностью наибольшая, представляют собой клиенты `Среднедоходной` группы, доход которой составляет от 50 000 до 200 000;\n",
    "- `Высокодоходная` группа, чей доход составлет от 200 001 до 1 млн., имеет среднюю долю клиентов с задолженностью;\n",
    "- Наименьшую долю клиентов с просроченным сроком выплаты кредита в своей группе имеет `Низкодоходная` группа, доход клиентов которой составляет от 30 001 до 50 тыс."
   ]
  },
  {
   "cell_type": "markdown",
   "id": "da530823",
   "metadata": {
    "deletable": false,
    "editable": false,
    "id": "99ecbd1f"
   },
   "source": [
    "#### 3.4 Как разные цели кредита влияют на его возврат в срок?"
   ]
  },
  {
   "cell_type": "code",
   "execution_count": 40,
   "id": "cf6d4ca7",
   "metadata": {
    "deletable": false,
    "id": "2b687290"
   },
   "outputs": [
    {
     "data": {
      "text/html": [
       "<div>\n",
       "<style scoped>\n",
       "    .dataframe tbody tr th:only-of-type {\n",
       "        vertical-align: middle;\n",
       "    }\n",
       "\n",
       "    .dataframe tbody tr th {\n",
       "        vertical-align: top;\n",
       "    }\n",
       "\n",
       "    .dataframe thead th {\n",
       "        text-align: right;\n",
       "    }\n",
       "</style>\n",
       "<table border=\"1\" class=\"dataframe\">\n",
       "  <thead>\n",
       "    <tr style=\"text-align: right;\">\n",
       "      <th></th>\n",
       "      <th>count</th>\n",
       "      <th>sum</th>\n",
       "      <th>mean</th>\n",
       "    </tr>\n",
       "    <tr>\n",
       "      <th>purpose_category</th>\n",
       "      <th></th>\n",
       "      <th></th>\n",
       "      <th></th>\n",
       "    </tr>\n",
       "  </thead>\n",
       "  <tbody>\n",
       "    <tr>\n",
       "      <th>операции с автомобилем</th>\n",
       "      <td>4279</td>\n",
       "      <td>400</td>\n",
       "      <td>0.093480</td>\n",
       "    </tr>\n",
       "    <tr>\n",
       "      <th>получение образования</th>\n",
       "      <td>3988</td>\n",
       "      <td>369</td>\n",
       "      <td>0.092528</td>\n",
       "    </tr>\n",
       "    <tr>\n",
       "      <th>проведение свадьбы</th>\n",
       "      <td>2313</td>\n",
       "      <td>183</td>\n",
       "      <td>0.079118</td>\n",
       "    </tr>\n",
       "    <tr>\n",
       "      <th>операции с недвижимостью</th>\n",
       "      <td>10751</td>\n",
       "      <td>780</td>\n",
       "      <td>0.072551</td>\n",
       "    </tr>\n",
       "  </tbody>\n",
       "</table>\n",
       "</div>"
      ],
      "text/plain": [
       "                          count  sum      mean\n",
       "purpose_category                              \n",
       "операции с автомобилем     4279  400  0.093480\n",
       "получение образования      3988  369  0.092528\n",
       "проведение свадьбы         2313  183  0.079118\n",
       "операции с недвижимостью  10751  780  0.072551"
      ]
     },
     "execution_count": 40,
     "metadata": {},
     "output_type": "execute_result"
    }
   ],
   "source": [
    "purpose_grouped = grouped('purpose_category')\n",
    "purpose_grouped = purpose_grouped.sort_values(by = 'mean', ascending = False)\n",
    "purpose_grouped"
   ]
  },
  {
   "cell_type": "code",
   "execution_count": 41,
   "id": "5434c89b",
   "metadata": {
    "scrolled": true
   },
   "outputs": [
    {
     "data": {
      "text/plain": [
       "<AxesSubplot:xlabel='mean', ylabel='purpose_category'>"
      ]
     },
     "execution_count": 41,
     "metadata": {},
     "output_type": "execute_result"
    },
    {
     "data": {
      "image/png": "[encoded data removed]",
      "text/plain": [
       "<Figure size 432x288 with 1 Axes>"
      ]
     },
     "metadata": {
      "needs_background": "light"
     },
     "output_type": "display_data"
    }
   ],
   "source": [
    "sb.barplot(data = purpose_grouped, x = 'mean', y = purpose_grouped.index)"
   ]
  },
  {
   "cell_type": "code",
   "execution_count": 42,
   "id": "41c72b96",
   "metadata": {},
   "outputs": [
    {
     "data": {
      "text/plain": [
       "0.013409554213873798"
      ]
     },
     "execution_count": 42,
     "metadata": {},
     "output_type": "execute_result"
    }
   ],
   "source": [
    "purpose_grouped.loc['получение образования', 'mean'] - purpose_grouped.loc[ 'проведение свадьбы', 'mean']"
   ]
  },
  {
   "cell_type": "code",
   "execution_count": 43,
   "id": "1c137b3b",
   "metadata": {},
   "outputs": [
    {
     "data": {
      "text/plain": [
       "0.006566637966051711"
      ]
     },
     "execution_count": 43,
     "metadata": {},
     "output_type": "execute_result"
    }
   ],
   "source": [
    "purpose_grouped.loc['проведение свадьбы', 'mean'] - purpose_grouped.loc[ 'операции с недвижимостью', 'mean']"
   ]
  },
  {
   "cell_type": "markdown",
   "id": "45a60d16",
   "metadata": {},
   "source": [
    "Исходя из распределеных данных:\n",
    "- Наименьшая доля клиентов в своей группе с просроченными кредитами приходится на `Операции с недвижимостью`;\n",
    "- Разница между целями для кредита `Проведение свадьбы` и `Операции с недвижимостью` составляет менее 1%;\n",
    "- Наибольшая доля клиентов в своей группе с просроченными кредитами приходится на `Операции с автомобилем` и `Получение образования`."
   ]
  },
  {
   "cell_type": "markdown",
   "id": "b8e68ac1",
   "metadata": {},
   "source": [
    "Категории:\n",
    "- `Операции с недвижимостью` - самая частая причина для получения кредита, наиболее дорогостоящий сектор. Наиболее долгосрочная причина - требует составления плана выплат;\n",
    "- `Проведение свадьбы` - зависит от платежеспобности не одного клиента, а двух сторон, вступающих в брак;\n",
    "- `Операции с автомобилем` и `Получение образования` - среднеценовой сегмент среди представленных категорий. Кредиты в данных категориях короткосрочные, по сравнению с `Операциями с недвижимостью`, и зависят от плетежеспособности только клиента."
   ]
  },
  {
   "cell_type": "markdown",
   "id": "991a21e5",
   "metadata": {
    "deletable": false,
    "id": "b4bb2ce6"
   },
   "source": [
    "**Вывод:** "
   ]
  },
  {
   "cell_type": "markdown",
   "id": "9e5c2927",
   "metadata": {},
   "source": [
    "Возврат кредита в срок зависит от самого срока, в течение которого должен быть выплачен кредит, и количества вовлеченных сторон в цель этого кредита, так:\n",
    "- Наименьшая доля клиентов в своей группе с просроченными кредитам берет его с целями: `Операции с недвижимостью` или `Проведение свадьбы`;\n",
    "- Наибольшая доля клиентов в своей группе с просроченными кредитами приходится на `Операции с автомобилями` и `Получение образования`."
   ]
  },
  {
   "cell_type": "markdown",
   "id": "96583c39",
   "metadata": {
    "deletable": false,
    "editable": false,
    "id": "09c3ac4c"
   },
   "source": [
    "#### 3.5 Приведите возможные причины появления пропусков в исходных данных."
   ]
  },
  {
   "cell_type": "markdown",
   "id": "2af2254d",
   "metadata": {
    "deletable": false,
    "id": "9da2ceda"
   },
   "source": [
    "**Ответ:**"
   ]
  },
  {
   "cell_type": "markdown",
   "id": "9f3b92d6",
   "metadata": {},
   "source": [
    "Исходя из информации, полученной в начале проекта, пропуски обнаружены в столбцах `days_employed` и `total_income`. Количество пропусков в данных столбцах одинаково, а сами столбцы заполняются вещественными числами. Проверим, расположены ли пропуски в одних и тех же строках."
   ]
  },
  {
   "cell_type": "code",
   "execution_count": 44,
   "id": "a1e71028",
   "metadata": {},
   "outputs": [],
   "source": [
    "err_data = pd.read_csv('/datasets/data.csv')"
   ]
  },
  {
   "cell_type": "code",
   "execution_count": 45,
   "id": "f64555fb",
   "metadata": {},
   "outputs": [],
   "source": [
    "err_data = err_data[err_data.isna().any(axis=1)]"
   ]
  },
  {
   "cell_type": "code",
   "execution_count": 46,
   "id": "3409a4d0",
   "metadata": {
    "scrolled": false
   },
   "outputs": [
    {
     "data": {
      "text/html": [
       "<div>\n",
       "<style scoped>\n",
       "    .dataframe tbody tr th:only-of-type {\n",
       "        vertical-align: middle;\n",
       "    }\n",
       "\n",
       "    .dataframe tbody tr th {\n",
       "        vertical-align: top;\n",
       "    }\n",
       "\n",
       "    .dataframe thead th {\n",
       "        text-align: right;\n",
       "    }\n",
       "</style>\n",
       "<table border=\"1\" class=\"dataframe\">\n",
       "  <thead>\n",
       "    <tr style=\"text-align: right;\">\n",
       "      <th></th>\n",
       "      <th>children</th>\n",
       "      <th>days_employed</th>\n",
       "      <th>dob_years</th>\n",
       "      <th>education</th>\n",
       "      <th>education_id</th>\n",
       "      <th>family_status</th>\n",
       "      <th>family_status_id</th>\n",
       "      <th>gender</th>\n",
       "      <th>income_type</th>\n",
       "      <th>debt</th>\n",
       "      <th>total_income</th>\n",
       "      <th>purpose</th>\n",
       "    </tr>\n",
       "  </thead>\n",
       "  <tbody>\n",
       "    <tr>\n",
       "      <th>12</th>\n",
       "      <td>0</td>\n",
       "      <td>NaN</td>\n",
       "      <td>65</td>\n",
       "      <td>среднее</td>\n",
       "      <td>1</td>\n",
       "      <td>гражданский брак</td>\n",
       "      <td>1</td>\n",
       "      <td>M</td>\n",
       "      <td>пенсионер</td>\n",
       "      <td>0</td>\n",
       "      <td>NaN</td>\n",
       "      <td>сыграть свадьбу</td>\n",
       "    </tr>\n",
       "    <tr>\n",
       "      <th>26</th>\n",
       "      <td>0</td>\n",
       "      <td>NaN</td>\n",
       "      <td>41</td>\n",
       "      <td>среднее</td>\n",
       "      <td>1</td>\n",
       "      <td>женат / замужем</td>\n",
       "      <td>0</td>\n",
       "      <td>M</td>\n",
       "      <td>госслужащий</td>\n",
       "      <td>0</td>\n",
       "      <td>NaN</td>\n",
       "      <td>образование</td>\n",
       "    </tr>\n",
       "    <tr>\n",
       "      <th>29</th>\n",
       "      <td>0</td>\n",
       "      <td>NaN</td>\n",
       "      <td>63</td>\n",
       "      <td>среднее</td>\n",
       "      <td>1</td>\n",
       "      <td>Не женат / не замужем</td>\n",
       "      <td>4</td>\n",
       "      <td>F</td>\n",
       "      <td>пенсионер</td>\n",
       "      <td>0</td>\n",
       "      <td>NaN</td>\n",
       "      <td>строительство жилой недвижимости</td>\n",
       "    </tr>\n",
       "    <tr>\n",
       "      <th>41</th>\n",
       "      <td>0</td>\n",
       "      <td>NaN</td>\n",
       "      <td>50</td>\n",
       "      <td>среднее</td>\n",
       "      <td>1</td>\n",
       "      <td>женат / замужем</td>\n",
       "      <td>0</td>\n",
       "      <td>F</td>\n",
       "      <td>госслужащий</td>\n",
       "      <td>0</td>\n",
       "      <td>NaN</td>\n",
       "      <td>сделка с подержанным автомобилем</td>\n",
       "    </tr>\n",
       "    <tr>\n",
       "      <th>55</th>\n",
       "      <td>0</td>\n",
       "      <td>NaN</td>\n",
       "      <td>54</td>\n",
       "      <td>среднее</td>\n",
       "      <td>1</td>\n",
       "      <td>гражданский брак</td>\n",
       "      <td>1</td>\n",
       "      <td>F</td>\n",
       "      <td>пенсионер</td>\n",
       "      <td>1</td>\n",
       "      <td>NaN</td>\n",
       "      <td>сыграть свадьбу</td>\n",
       "    </tr>\n",
       "    <tr>\n",
       "      <th>65</th>\n",
       "      <td>0</td>\n",
       "      <td>NaN</td>\n",
       "      <td>21</td>\n",
       "      <td>среднее</td>\n",
       "      <td>1</td>\n",
       "      <td>Не женат / не замужем</td>\n",
       "      <td>4</td>\n",
       "      <td>M</td>\n",
       "      <td>компаньон</td>\n",
       "      <td>0</td>\n",
       "      <td>NaN</td>\n",
       "      <td>операции с коммерческой недвижимостью</td>\n",
       "    </tr>\n",
       "    <tr>\n",
       "      <th>67</th>\n",
       "      <td>0</td>\n",
       "      <td>NaN</td>\n",
       "      <td>52</td>\n",
       "      <td>высшее</td>\n",
       "      <td>0</td>\n",
       "      <td>женат / замужем</td>\n",
       "      <td>0</td>\n",
       "      <td>F</td>\n",
       "      <td>пенсионер</td>\n",
       "      <td>0</td>\n",
       "      <td>NaN</td>\n",
       "      <td>покупка жилья для семьи</td>\n",
       "    </tr>\n",
       "    <tr>\n",
       "      <th>72</th>\n",
       "      <td>1</td>\n",
       "      <td>NaN</td>\n",
       "      <td>32</td>\n",
       "      <td>высшее</td>\n",
       "      <td>0</td>\n",
       "      <td>женат / замужем</td>\n",
       "      <td>0</td>\n",
       "      <td>M</td>\n",
       "      <td>госслужащий</td>\n",
       "      <td>0</td>\n",
       "      <td>NaN</td>\n",
       "      <td>операции с коммерческой недвижимостью</td>\n",
       "    </tr>\n",
       "    <tr>\n",
       "      <th>82</th>\n",
       "      <td>2</td>\n",
       "      <td>NaN</td>\n",
       "      <td>50</td>\n",
       "      <td>высшее</td>\n",
       "      <td>0</td>\n",
       "      <td>женат / замужем</td>\n",
       "      <td>0</td>\n",
       "      <td>F</td>\n",
       "      <td>сотрудник</td>\n",
       "      <td>0</td>\n",
       "      <td>NaN</td>\n",
       "      <td>жилье</td>\n",
       "    </tr>\n",
       "    <tr>\n",
       "      <th>83</th>\n",
       "      <td>0</td>\n",
       "      <td>NaN</td>\n",
       "      <td>52</td>\n",
       "      <td>среднее</td>\n",
       "      <td>1</td>\n",
       "      <td>женат / замужем</td>\n",
       "      <td>0</td>\n",
       "      <td>M</td>\n",
       "      <td>сотрудник</td>\n",
       "      <td>0</td>\n",
       "      <td>NaN</td>\n",
       "      <td>жилье</td>\n",
       "    </tr>\n",
       "  </tbody>\n",
       "</table>\n",
       "</div>"
      ],
      "text/plain": [
       "    children  days_employed  dob_years education  education_id  \\\n",
       "12         0            NaN         65   среднее             1   \n",
       "26         0            NaN         41   среднее             1   \n",
       "29         0            NaN         63   среднее             1   \n",
       "41         0            NaN         50   среднее             1   \n",
       "55         0            NaN         54   среднее             1   \n",
       "65         0            NaN         21   среднее             1   \n",
       "67         0            NaN         52    высшее             0   \n",
       "72         1            NaN         32    высшее             0   \n",
       "82         2            NaN         50    высшее             0   \n",
       "83         0            NaN         52   среднее             1   \n",
       "\n",
       "            family_status  family_status_id gender  income_type  debt  \\\n",
       "12       гражданский брак                 1      M    пенсионер     0   \n",
       "26        женат / замужем                 0      M  госслужащий     0   \n",
       "29  Не женат / не замужем                 4      F    пенсионер     0   \n",
       "41        женат / замужем                 0      F  госслужащий     0   \n",
       "55       гражданский брак                 1      F    пенсионер     1   \n",
       "65  Не женат / не замужем                 4      M    компаньон     0   \n",
       "67        женат / замужем                 0      F    пенсионер     0   \n",
       "72        женат / замужем                 0      M  госслужащий     0   \n",
       "82        женат / замужем                 0      F    сотрудник     0   \n",
       "83        женат / замужем                 0      M    сотрудник     0   \n",
       "\n",
       "    total_income                                purpose  \n",
       "12           NaN                        сыграть свадьбу  \n",
       "26           NaN                            образование  \n",
       "29           NaN       строительство жилой недвижимости  \n",
       "41           NaN       сделка с подержанным автомобилем  \n",
       "55           NaN                        сыграть свадьбу  \n",
       "65           NaN  операции с коммерческой недвижимостью  \n",
       "67           NaN                покупка жилья для семьи  \n",
       "72           NaN  операции с коммерческой недвижимостью  \n",
       "82           NaN                                  жилье  \n",
       "83           NaN                                  жилье  "
      ]
     },
     "execution_count": 46,
     "metadata": {},
     "output_type": "execute_result"
    }
   ],
   "source": [
    "err_data.head(10)"
   ]
  },
  {
   "cell_type": "code",
   "execution_count": 47,
   "id": "9497b578",
   "metadata": {},
   "outputs": [
    {
     "name": "stdout",
     "output_type": "stream",
     "text": [
      "<class 'pandas.core.frame.DataFrame'>\n",
      "Int64Index: 2174 entries, 12 to 21510\n",
      "Data columns (total 12 columns):\n",
      " #   Column            Non-Null Count  Dtype  \n",
      "---  ------            --------------  -----  \n",
      " 0   children          2174 non-null   int64  \n",
      " 1   days_employed     0 non-null      float64\n",
      " 2   dob_years         2174 non-null   int64  \n",
      " 3   education         2174 non-null   object \n",
      " 4   education_id      2174 non-null   int64  \n",
      " 5   family_status     2174 non-null   object \n",
      " 6   family_status_id  2174 non-null   int64  \n",
      " 7   gender            2174 non-null   object \n",
      " 8   income_type       2174 non-null   object \n",
      " 9   debt              2174 non-null   int64  \n",
      " 10  total_income      0 non-null      float64\n",
      " 11  purpose           2174 non-null   object \n",
      "dtypes: float64(2), int64(5), object(5)\n",
      "memory usage: 220.8+ KB\n"
     ]
    }
   ],
   "source": [
    "err_data.info()"
   ]
  },
  {
   "cell_type": "markdown",
   "id": "0f7c31ac",
   "metadata": {},
   "source": [
    "Пропуски обнаружены в одних и тех же строках в столбцах с типом данных `float`."
   ]
  },
  {
   "cell_type": "markdown",
   "id": "afa84bed",
   "metadata": {},
   "source": [
    "Возможные причины появления пропусков:\n",
    " - Ошибка ввода данных оператором - поставлена запятая вместо точки;\n",
    " - В случае, если данные, в которых наблюдаются пропуски, получены с одного отделения банка или введены с одного устройства разными операторами, то проблема может заключаться в ошибке технического оборудования."
   ]
  },
  {
   "cell_type": "markdown",
   "id": "0086b85a",
   "metadata": {
    "deletable": false,
    "editable": false,
    "id": "7b0487d6"
   },
   "source": [
    "#### 3.6 Объясните, почему заполнить пропуски медианным значением — лучшее решение для количественных переменных."
   ]
  },
  {
   "cell_type": "markdown",
   "id": "204e597e",
   "metadata": {
    "deletable": false,
    "id": "7ecf2b8e"
   },
   "source": [
    "**Ответ:**\n",
    "\n",
    "Если использовать заполнение средним значением, то наибольшие числа будут оказывать влияние на заполняемое значение. В качестве примера представим, что у нас есть оценки пользователей"
   ]
  },
  {
   "cell_type": "code",
   "execution_count": 48,
   "id": "33d2d283",
   "metadata": {},
   "outputs": [
    {
     "data": {
      "text/html": [
       "<div>\n",
       "<style scoped>\n",
       "    .dataframe tbody tr th:only-of-type {\n",
       "        vertical-align: middle;\n",
       "    }\n",
       "\n",
       "    .dataframe tbody tr th {\n",
       "        vertical-align: top;\n",
       "    }\n",
       "\n",
       "    .dataframe thead th {\n",
       "        text-align: right;\n",
       "    }\n",
       "</style>\n",
       "<table border=\"1\" class=\"dataframe\">\n",
       "  <thead>\n",
       "    <tr style=\"text-align: right;\">\n",
       "      <th></th>\n",
       "      <th>response</th>\n",
       "    </tr>\n",
       "  </thead>\n",
       "  <tbody>\n",
       "    <tr>\n",
       "      <th>0</th>\n",
       "      <td>3.0</td>\n",
       "    </tr>\n",
       "    <tr>\n",
       "      <th>1</th>\n",
       "      <td>3.0</td>\n",
       "    </tr>\n",
       "    <tr>\n",
       "      <th>2</th>\n",
       "      <td>3.0</td>\n",
       "    </tr>\n",
       "    <tr>\n",
       "      <th>3</th>\n",
       "      <td>3.0</td>\n",
       "    </tr>\n",
       "    <tr>\n",
       "      <th>4</th>\n",
       "      <td>3.0</td>\n",
       "    </tr>\n",
       "    <tr>\n",
       "      <th>5</th>\n",
       "      <td>4.0</td>\n",
       "    </tr>\n",
       "    <tr>\n",
       "      <th>6</th>\n",
       "      <td>4.0</td>\n",
       "    </tr>\n",
       "    <tr>\n",
       "      <th>7</th>\n",
       "      <td>NaN</td>\n",
       "    </tr>\n",
       "    <tr>\n",
       "      <th>8</th>\n",
       "      <td>10.0</td>\n",
       "    </tr>\n",
       "    <tr>\n",
       "      <th>9</th>\n",
       "      <td>10.0</td>\n",
       "    </tr>\n",
       "  </tbody>\n",
       "</table>\n",
       "</div>"
      ],
      "text/plain": [
       "   response\n",
       "0       3.0\n",
       "1       3.0\n",
       "2       3.0\n",
       "3       3.0\n",
       "4       3.0\n",
       "5       4.0\n",
       "6       4.0\n",
       "7       NaN\n",
       "8      10.0\n",
       "9      10.0"
      ]
     },
     "execution_count": 48,
     "metadata": {},
     "output_type": "execute_result"
    }
   ],
   "source": [
    "# формирование целочисленного ряда\n",
    "part_df = pd.DataFrame(data = [3, 3, 3, 3, 3, 4, 4, None, 10, 10], columns = ['response'])\n",
    "part_df"
   ]
  },
  {
   "cell_type": "markdown",
   "id": "fd063233",
   "metadata": {},
   "source": [
    "По ряду видно, что в нём преобладают `негативные` оценки, однако в конце ряда стоят две оценки `10`. Рассчитаем среднее и медиану, округлив их (так как поставить вещественную оценку невозможно), и получим:"
   ]
  },
  {
   "cell_type": "code",
   "execution_count": 49,
   "id": "0392a6e0",
   "metadata": {},
   "outputs": [
    {
     "name": "stdout",
     "output_type": "stream",
     "text": [
      "Среднее: 5\n"
     ]
    }
   ],
   "source": [
    "print('Среднее:', round(part_df['response'].mean()))"
   ]
  },
  {
   "cell_type": "markdown",
   "id": "233a2ac7",
   "metadata": {},
   "source": [
    "Как мы видим, в случае со средним расчитана оценка `нейтрально`, ввиду действия на неё двух оценок по `10`. Теперь рассмотрим медиану:"
   ]
  },
  {
   "cell_type": "code",
   "execution_count": 50,
   "id": "80669823",
   "metadata": {},
   "outputs": [
    {
     "name": "stdout",
     "output_type": "stream",
     "text": [
      "Медиана: 3\n"
     ]
    }
   ],
   "source": [
    "print('Медиана:', round(part_df['response'].median()))"
   ]
  },
  {
   "cell_type": "markdown",
   "id": "2efd944d",
   "metadata": {},
   "source": [
    "Здесь же медиана не учитывает вес `10`, а ориентируется на центр ряда."
   ]
  },
  {
   "cell_type": "markdown",
   "id": "94a7e3c7",
   "metadata": {
    "deletable": false,
    "editable": false,
    "id": "6db5255a"
   },
   "source": [
    "### Шаг 4: общий вывод."
   ]
  },
  {
   "cell_type": "markdown",
   "id": "7d90f81c",
   "metadata": {
    "deletable": false,
    "id": "bad65432"
   },
   "source": [
    "Напишите ваш общий вывод."
   ]
  },
  {
   "cell_type": "markdown",
   "id": "96da3bc7",
   "metadata": {},
   "source": [
    "Обнаружены многочисленные пропуски в столбцах с вещественным типом данных. Возможные причины:\n",
    "- Ошибка ввода данных оператором - поставлена запятая вместо точки;\n",
    "- В случае, если данные, в которых наблюдаются пропуски, получены с одного отделения банка или введены с одного устройства разными операторами, то проблема может заключаться в ошибке технического оборудования.\n",
    "\n",
    "Необходимо:\n",
    "- Провести проверку заполнения форм операторами;\n",
    "- Провести диагностику оборудования."
   ]
  },
  {
   "cell_type": "markdown",
   "id": "7500a7b5",
   "metadata": {},
   "source": [
    "Найдены зависимости возрата кредита в срок в следующих полях представленных данных:\n",
    "- Количество детей;\n",
    "- Семейное положение;\n",
    "- Уровень дохода;\n",
    "- Цель кредита."
   ]
  },
  {
   "cell_type": "markdown",
   "id": "6406d910",
   "metadata": {},
   "source": [
    "**Количество детей**"
   ]
  },
  {
   "cell_type": "markdown",
   "id": "42a60b60",
   "metadata": {},
   "source": [
    "Начиная с \"Бездетной\" группы клиентов, происходит нарастание зависимости до пикового значения в группе с двумя детьми и спад в группах с тремя и более детьми. Так группы клиентов в порядке убывания их надежности: `Бездетная`, `4+ ребенка`, `3 ребенка`, `1 ребенок`, `2 ребенка`."
   ]
  },
  {
   "cell_type": "markdown",
   "id": "84a5314d",
   "metadata": {},
   "source": [
    "**Семейное положение**"
   ]
  },
  {
   "cell_type": "markdown",
   "id": "9c6a6181",
   "metadata": {},
   "source": [
    "Группы, входящие в категорию `Несостоящие в официальном браке`, обладают наибольшей долей неоплативших кредит в срок. При этом наименьшую долю имеют группы, входящие в категорию `Ранее состоявшие в официальном браке`. Так категории клиентов в порядке убывания их надежности:\n",
    "- `Ранее состоявшие в официальном браке`: \"вдова/вдовец\", \"в разводе\";\n",
    "- `Состоящие в официальном браке`: \"женат/замужем\";\n",
    "- `Несостоящие в официальном браке`: \"гражданский брак\", \"не женат/не замужем\"."
   ]
  },
  {
   "cell_type": "markdown",
   "id": "2d7a4a8c",
   "metadata": {},
   "source": [
    "**Уровень дохода**"
   ]
  },
  {
   "cell_type": "markdown",
   "id": "8c3a26e1",
   "metadata": {},
   "source": [
    "Наибольшую долю клиентов с задолженностью имеют клиенты из группы `Среднедоходная`, а наименьшую `Низкодоходная`, так категории клиентов в порядке убывания их надежности:\n",
    "- `Низкодоходная`: от 30 до 50 тыс. руб;\n",
    "- `Высокодоходная`: от 200 тыс. до 1 млн. руб.;\n",
    "- `Среднедоходная`: от 50 тыс. до 200 тыс. руб.\n",
    "\n",
    "При это оценка групп с доходом ниже 30 тыс. руб., а также выше 1 млн. руб., не представляется возвожной, ввиду нехватки данных."
   ]
  },
  {
   "cell_type": "markdown",
   "id": "8e1f732e",
   "metadata": {},
   "source": [
    "**Цель кредита**"
   ]
  },
  {
   "cell_type": "markdown",
   "id": "9c7a3b37",
   "metadata": {},
   "source": [
    "Наименьшая доля клиентов имеющих задолженности по кредиту представлена в группах, где выплата кредита зависит от составления плана выплат в течение большого срока или от количества заинтересованных сторон - группы `Операции с недвижимостью` и `Проведение свадьбы`. В свою очередь, наибольшая доля приходится на группы, где ценообразование меньше, по сравнению с недвижимостью, или зависит только от одного клиента - группы `Операции с автомобилем` и `Получение образования`."
   ]
  }
 ],
 "metadata": {
  "ExecuteTimeLog": [
   {
    "duration": 48,
    "start_time": "2022-11-25T22:22:46.732Z"
   },
   {
    "duration": 1078,
    "start_time": "2022-11-25T22:23:07.417Z"
   },
   {
    "duration": 22,
    "start_time": "2022-11-25T22:23:09.654Z"
   },
   {
    "duration": 16,
    "start_time": "2022-11-25T22:23:13.392Z"
   },
   {
    "duration": 9,
    "start_time": "2022-11-25T22:23:16.935Z"
   },
   {
    "duration": 33,
    "start_time": "2022-11-25T22:23:19.835Z"
   },
   {
    "duration": 4,
    "start_time": "2022-11-25T22:23:23.039Z"
   },
   {
    "duration": 9,
    "start_time": "2022-11-25T22:23:25.602Z"
   },
   {
    "duration": 6,
    "start_time": "2022-11-25T22:23:28.451Z"
   },
   {
    "duration": 7,
    "start_time": "2022-11-25T22:23:30.887Z"
   },
   {
    "duration": 5,
    "start_time": "2022-11-25T22:23:33.386Z"
   },
   {
    "duration": 34,
    "start_time": "2022-11-25T22:23:36.005Z"
   },
   {
    "duration": 11,
    "start_time": "2022-11-25T22:23:38.177Z"
   },
   {
    "duration": 3,
    "start_time": "2022-11-25T22:23:41.280Z"
   },
   {
    "duration": 12,
    "start_time": "2022-11-25T22:23:43.664Z"
   },
   {
    "duration": 24,
    "start_time": "2022-11-25T22:23:46.319Z"
   },
   {
    "duration": 17,
    "start_time": "2022-11-25T22:23:48.711Z"
   },
   {
    "duration": 3,
    "start_time": "2022-11-25T22:23:51.610Z"
   },
   {
    "duration": 9,
    "start_time": "2022-11-25T22:23:54.359Z"
   },
   {
    "duration": 6,
    "start_time": "2022-11-25T22:23:56.260Z"
   },
   {
    "duration": 3,
    "start_time": "2022-11-25T22:23:59.464Z"
   },
   {
    "duration": 9,
    "start_time": "2022-11-25T22:24:01.767Z"
   },
   {
    "duration": 14,
    "start_time": "2022-11-25T22:24:04.297Z"
   },
   {
    "duration": 1688,
    "start_time": "2022-11-25T22:32:16.406Z"
   },
   {
    "duration": 45,
    "start_time": "2022-11-26T12:59:30.216Z"
   },
   {
    "duration": 636,
    "start_time": "2022-11-26T12:59:35.669Z"
   },
   {
    "duration": 19,
    "start_time": "2022-11-26T12:59:38.054Z"
   },
   {
    "duration": 15,
    "start_time": "2022-11-26T12:59:41.669Z"
   },
   {
    "duration": 10,
    "start_time": "2022-11-26T12:59:44.625Z"
   },
   {
    "duration": 32,
    "start_time": "2022-11-26T12:59:47.295Z"
   },
   {
    "duration": 3,
    "start_time": "2022-11-26T12:59:49.888Z"
   },
   {
    "duration": 10,
    "start_time": "2022-11-26T12:59:52.281Z"
   },
   {
    "duration": 4,
    "start_time": "2022-11-26T12:59:54.878Z"
   },
   {
    "duration": 6,
    "start_time": "2022-11-26T12:59:56.621Z"
   },
   {
    "duration": 4,
    "start_time": "2022-11-26T12:59:58.915Z"
   },
   {
    "duration": 32,
    "start_time": "2022-11-26T13:00:01.109Z"
   },
   {
    "duration": 10,
    "start_time": "2022-11-26T13:00:03.349Z"
   },
   {
    "duration": 3,
    "start_time": "2022-11-26T13:00:08.254Z"
   },
   {
    "duration": 12,
    "start_time": "2022-11-26T13:00:10.555Z"
   },
   {
    "duration": 18,
    "start_time": "2022-11-26T13:00:13.070Z"
   },
   {
    "duration": 17,
    "start_time": "2022-11-26T13:00:16.119Z"
   },
   {
    "duration": 3,
    "start_time": "2022-11-26T13:00:20.013Z"
   },
   {
    "duration": 10,
    "start_time": "2022-11-26T13:00:22.693Z"
   },
   {
    "duration": 6,
    "start_time": "2022-11-26T13:00:25.819Z"
   },
   {
    "duration": 3,
    "start_time": "2022-11-26T13:00:29.653Z"
   },
   {
    "duration": 9,
    "start_time": "2022-11-26T13:00:31.235Z"
   },
   {
    "duration": 11,
    "start_time": "2022-11-26T13:00:34.085Z"
   },
   {
    "duration": 30,
    "start_time": "2022-11-26T13:05:59.310Z"
   },
   {
    "duration": 14,
    "start_time": "2022-11-26T13:06:07.516Z"
   },
   {
    "duration": 10,
    "start_time": "2022-11-26T13:06:17.914Z"
   },
   {
    "duration": 731,
    "start_time": "2022-11-26T13:07:15.904Z"
   },
   {
    "duration": 10,
    "start_time": "2022-11-26T13:07:26.867Z"
   },
   {
    "duration": 4,
    "start_time": "2022-11-26T13:13:18.326Z"
   },
   {
    "duration": 745,
    "start_time": "2022-11-26T13:28:50.956Z"
   },
   {
    "duration": 542,
    "start_time": "2022-11-26T13:29:37.897Z"
   },
   {
    "duration": 712,
    "start_time": "2022-11-26T13:29:46.539Z"
   },
   {
    "duration": 49,
    "start_time": "2022-11-26T13:32:33.118Z"
   },
   {
    "duration": 12,
    "start_time": "2022-11-26T13:32:49.284Z"
   },
   {
    "duration": 3,
    "start_time": "2022-11-26T13:33:03.605Z"
   },
   {
    "duration": 1127,
    "start_time": "2022-11-26T13:33:47.870Z"
   },
   {
    "duration": 4,
    "start_time": "2022-11-26T13:34:02.092Z"
   },
   {
    "duration": 236,
    "start_time": "2022-11-26T13:34:04.632Z"
   },
   {
    "duration": 46,
    "start_time": "2022-11-26T13:39:06.123Z"
   },
   {
    "duration": 12,
    "start_time": "2022-11-26T13:39:13.180Z"
   },
   {
    "duration": 16,
    "start_time": "2022-11-26T13:41:16.768Z"
   },
   {
    "duration": 15,
    "start_time": "2022-11-26T13:41:30.767Z"
   },
   {
    "duration": 11,
    "start_time": "2022-11-26T13:41:37.682Z"
   },
   {
    "duration": 3,
    "start_time": "2022-11-26T13:42:31.214Z"
   },
   {
    "duration": 12,
    "start_time": "2022-11-26T13:42:33.097Z"
   },
   {
    "duration": 88,
    "start_time": "2022-11-26T13:42:49.996Z"
   },
   {
    "duration": 706,
    "start_time": "2022-11-26T13:44:00.623Z"
   },
   {
    "duration": 6,
    "start_time": "2022-11-26T13:45:31.575Z"
   },
   {
    "duration": 768,
    "start_time": "2022-11-26T13:46:11.835Z"
   },
   {
    "duration": 831,
    "start_time": "2022-11-26T13:46:18.865Z"
   },
   {
    "duration": 6,
    "start_time": "2022-11-26T13:46:29.147Z"
   },
   {
    "duration": 704,
    "start_time": "2022-11-26T13:46:55.306Z"
   },
   {
    "duration": 749,
    "start_time": "2022-11-26T13:47:02.087Z"
   },
   {
    "duration": 664,
    "start_time": "2022-11-26T13:47:06.909Z"
   },
   {
    "duration": 48,
    "start_time": "2022-11-26T13:55:46.684Z"
   },
   {
    "duration": 31,
    "start_time": "2022-11-26T13:55:54.576Z"
   },
   {
    "duration": 32,
    "start_time": "2022-11-26T13:56:02.105Z"
   },
   {
    "duration": 23,
    "start_time": "2022-11-26T13:56:24.147Z"
   },
   {
    "duration": 11,
    "start_time": "2022-11-26T14:00:06.155Z"
   },
   {
    "duration": 197,
    "start_time": "2022-11-26T14:02:32.242Z"
   },
   {
    "duration": 209,
    "start_time": "2022-11-26T14:03:01.343Z"
   },
   {
    "duration": 4,
    "start_time": "2022-11-26T14:03:19.384Z"
   },
   {
    "duration": 107,
    "start_time": "2022-11-26T14:03:46.187Z"
   },
   {
    "duration": 116,
    "start_time": "2022-11-26T14:04:18.323Z"
   },
   {
    "duration": 9,
    "start_time": "2022-11-26T14:14:17.975Z"
   },
   {
    "duration": 9,
    "start_time": "2022-11-26T14:14:42.125Z"
   },
   {
    "duration": 114,
    "start_time": "2022-11-26T14:14:46.614Z"
   },
   {
    "duration": 110,
    "start_time": "2022-11-26T14:15:09.090Z"
   },
   {
    "duration": 9,
    "start_time": "2022-11-26T14:15:33.908Z"
   },
   {
    "duration": 10,
    "start_time": "2022-11-26T14:15:43.002Z"
   },
   {
    "duration": 8,
    "start_time": "2022-11-26T14:16:06.432Z"
   },
   {
    "duration": 13,
    "start_time": "2022-11-26T14:16:37.421Z"
   },
   {
    "duration": 12,
    "start_time": "2022-11-26T14:16:53.146Z"
   },
   {
    "duration": 71,
    "start_time": "2022-11-26T14:17:02.375Z"
   },
   {
    "duration": 15,
    "start_time": "2022-11-26T14:17:02.447Z"
   },
   {
    "duration": 26,
    "start_time": "2022-11-26T14:17:02.463Z"
   },
   {
    "duration": 22,
    "start_time": "2022-11-26T14:17:02.490Z"
   },
   {
    "duration": 111,
    "start_time": "2022-11-26T14:17:02.515Z"
   },
   {
    "duration": 3,
    "start_time": "2022-11-26T14:17:02.627Z"
   },
   {
    "duration": 15,
    "start_time": "2022-11-26T14:17:02.631Z"
   },
   {
    "duration": 4,
    "start_time": "2022-11-26T14:17:02.647Z"
   },
   {
    "duration": 21,
    "start_time": "2022-11-26T14:17:02.653Z"
   },
   {
    "duration": 10,
    "start_time": "2022-11-26T14:17:02.675Z"
   },
   {
    "duration": 43,
    "start_time": "2022-11-26T14:17:02.687Z"
   },
   {
    "duration": 11,
    "start_time": "2022-11-26T14:17:02.731Z"
   },
   {
    "duration": 5,
    "start_time": "2022-11-26T14:17:02.743Z"
   },
   {
    "duration": 12,
    "start_time": "2022-11-26T14:17:02.751Z"
   },
   {
    "duration": 21,
    "start_time": "2022-11-26T14:17:02.765Z"
   },
   {
    "duration": 41,
    "start_time": "2022-11-26T14:17:02.788Z"
   },
   {
    "duration": 4,
    "start_time": "2022-11-26T14:17:02.831Z"
   },
   {
    "duration": 15,
    "start_time": "2022-11-26T14:17:02.837Z"
   },
   {
    "duration": 6,
    "start_time": "2022-11-26T14:17:02.856Z"
   },
   {
    "duration": 3,
    "start_time": "2022-11-26T14:17:02.864Z"
   },
   {
    "duration": 13,
    "start_time": "2022-11-26T14:17:02.869Z"
   },
   {
    "duration": 4,
    "start_time": "2022-11-26T14:17:02.884Z"
   },
   {
    "duration": 33,
    "start_time": "2022-11-26T14:17:02.889Z"
   },
   {
    "duration": 10,
    "start_time": "2022-11-26T14:17:02.923Z"
   },
   {
    "duration": 8,
    "start_time": "2022-11-26T14:22:14.560Z"
   },
   {
    "duration": 4,
    "start_time": "2022-11-26T15:09:19.752Z"
   },
   {
    "duration": 4,
    "start_time": "2022-11-26T15:09:28.077Z"
   },
   {
    "duration": 112,
    "start_time": "2022-11-26T15:18:15.724Z"
   },
   {
    "duration": 4,
    "start_time": "2022-11-26T15:22:19.078Z"
   },
   {
    "duration": 9,
    "start_time": "2022-11-26T15:22:27.931Z"
   },
   {
    "duration": 118,
    "start_time": "2022-11-26T15:26:30.882Z"
   },
   {
    "duration": 11,
    "start_time": "2022-11-26T15:28:01.851Z"
   },
   {
    "duration": 10,
    "start_time": "2022-11-26T15:28:13.004Z"
   },
   {
    "duration": 131,
    "start_time": "2022-11-26T15:28:18.841Z"
   },
   {
    "duration": 68,
    "start_time": "2022-11-26T15:28:35.783Z"
   },
   {
    "duration": 15,
    "start_time": "2022-11-26T15:28:35.853Z"
   },
   {
    "duration": 19,
    "start_time": "2022-11-26T15:28:35.869Z"
   },
   {
    "duration": 9,
    "start_time": "2022-11-26T15:28:35.890Z"
   },
   {
    "duration": 49,
    "start_time": "2022-11-26T15:28:35.901Z"
   },
   {
    "duration": 4,
    "start_time": "2022-11-26T15:28:35.952Z"
   },
   {
    "duration": 18,
    "start_time": "2022-11-26T15:28:35.957Z"
   },
   {
    "duration": 4,
    "start_time": "2022-11-26T15:28:35.977Z"
   },
   {
    "duration": 8,
    "start_time": "2022-11-26T15:28:35.982Z"
   },
   {
    "duration": 6,
    "start_time": "2022-11-26T15:28:35.991Z"
   },
   {
    "duration": 53,
    "start_time": "2022-11-26T15:28:35.998Z"
   },
   {
    "duration": 9,
    "start_time": "2022-11-26T15:28:36.053Z"
   },
   {
    "duration": 4,
    "start_time": "2022-11-26T15:28:36.063Z"
   },
   {
    "duration": 15,
    "start_time": "2022-11-26T15:28:36.069Z"
   },
   {
    "duration": 17,
    "start_time": "2022-11-26T15:28:36.085Z"
   },
   {
    "duration": 16,
    "start_time": "2022-11-26T15:28:36.121Z"
   },
   {
    "duration": 4,
    "start_time": "2022-11-26T15:28:36.139Z"
   },
   {
    "duration": 19,
    "start_time": "2022-11-26T15:28:36.144Z"
   },
   {
    "duration": 5,
    "start_time": "2022-11-26T15:28:36.165Z"
   },
   {
    "duration": 6,
    "start_time": "2022-11-26T15:28:36.171Z"
   },
   {
    "duration": 11,
    "start_time": "2022-11-26T15:28:36.178Z"
   },
   {
    "duration": 5,
    "start_time": "2022-11-26T15:28:36.190Z"
   },
   {
    "duration": 31,
    "start_time": "2022-11-26T15:28:36.197Z"
   },
   {
    "duration": 7,
    "start_time": "2022-11-26T15:28:36.230Z"
   },
   {
    "duration": 121,
    "start_time": "2022-11-26T15:28:36.238Z"
   },
   {
    "duration": 9,
    "start_time": "2022-11-26T15:28:36.361Z"
   },
   {
    "duration": 16,
    "start_time": "2022-11-26T15:28:36.371Z"
   },
   {
    "duration": 0,
    "start_time": "2022-11-26T15:28:36.389Z"
   },
   {
    "duration": 0,
    "start_time": "2022-11-26T15:28:36.390Z"
   },
   {
    "duration": 0,
    "start_time": "2022-11-26T15:28:36.391Z"
   },
   {
    "duration": 120,
    "start_time": "2022-11-26T15:28:54.661Z"
   },
   {
    "duration": 12,
    "start_time": "2022-11-26T16:44:27.337Z"
   },
   {
    "duration": 13,
    "start_time": "2022-11-26T22:08:18.616Z"
   },
   {
    "duration": 14,
    "start_time": "2022-11-26T22:09:35.771Z"
   },
   {
    "duration": 19,
    "start_time": "2022-11-26T22:10:13.436Z"
   },
   {
    "duration": 128,
    "start_time": "2022-11-26T22:10:22.547Z"
   },
   {
    "duration": 131,
    "start_time": "2022-11-26T22:10:47.203Z"
   },
   {
    "duration": 9,
    "start_time": "2022-11-26T22:12:29.240Z"
   },
   {
    "duration": 117,
    "start_time": "2022-11-26T22:13:10.332Z"
   },
   {
    "duration": 49,
    "start_time": "2022-11-27T10:00:09.974Z"
   },
   {
    "duration": 692,
    "start_time": "2022-11-27T10:00:20.276Z"
   },
   {
    "duration": 24,
    "start_time": "2022-11-27T10:00:20.970Z"
   },
   {
    "duration": 19,
    "start_time": "2022-11-27T10:00:20.996Z"
   },
   {
    "duration": 22,
    "start_time": "2022-11-27T10:00:21.018Z"
   },
   {
    "duration": 40,
    "start_time": "2022-11-27T10:00:21.042Z"
   },
   {
    "duration": 3,
    "start_time": "2022-11-27T10:00:21.084Z"
   },
   {
    "duration": 23,
    "start_time": "2022-11-27T10:00:21.089Z"
   },
   {
    "duration": 22,
    "start_time": "2022-11-27T10:00:21.113Z"
   },
   {
    "duration": 27,
    "start_time": "2022-11-27T10:00:21.136Z"
   },
   {
    "duration": 14,
    "start_time": "2022-11-27T10:00:21.167Z"
   },
   {
    "duration": 66,
    "start_time": "2022-11-27T10:00:21.182Z"
   },
   {
    "duration": 10,
    "start_time": "2022-11-27T10:00:21.249Z"
   },
   {
    "duration": 31,
    "start_time": "2022-11-27T10:00:21.260Z"
   },
   {
    "duration": 27,
    "start_time": "2022-11-27T10:00:21.293Z"
   },
   {
    "duration": 39,
    "start_time": "2022-11-27T10:00:21.322Z"
   },
   {
    "duration": 17,
    "start_time": "2022-11-27T10:00:21.363Z"
   },
   {
    "duration": 4,
    "start_time": "2022-11-27T10:00:21.382Z"
   },
   {
    "duration": 29,
    "start_time": "2022-11-27T10:00:21.387Z"
   },
   {
    "duration": 20,
    "start_time": "2022-11-27T10:00:21.418Z"
   },
   {
    "duration": 18,
    "start_time": "2022-11-27T10:00:21.440Z"
   },
   {
    "duration": 28,
    "start_time": "2022-11-27T10:00:21.459Z"
   },
   {
    "duration": 31,
    "start_time": "2022-11-27T10:00:21.489Z"
   },
   {
    "duration": 19,
    "start_time": "2022-11-27T10:00:21.522Z"
   },
   {
    "duration": 1072,
    "start_time": "2022-11-27T10:00:21.543Z"
   },
   {
    "duration": 12,
    "start_time": "2022-11-27T10:00:22.616Z"
   },
   {
    "duration": 145,
    "start_time": "2022-11-27T10:00:22.630Z"
   },
   {
    "duration": 15,
    "start_time": "2022-11-27T10:00:22.777Z"
   },
   {
    "duration": 150,
    "start_time": "2022-11-27T10:00:22.795Z"
   },
   {
    "duration": 18,
    "start_time": "2022-11-27T10:00:22.947Z"
   },
   {
    "duration": 142,
    "start_time": "2022-11-27T10:00:22.967Z"
   },
   {
    "duration": 3,
    "start_time": "2022-11-27T10:00:23.111Z"
   },
   {
    "duration": 6,
    "start_time": "2022-11-27T10:00:23.115Z"
   },
   {
    "duration": 11,
    "start_time": "2022-11-27T10:03:25.343Z"
   },
   {
    "duration": 473,
    "start_time": "2022-11-27T10:03:56.379Z"
   },
   {
    "duration": 23,
    "start_time": "2022-11-27T10:03:56.853Z"
   },
   {
    "duration": 18,
    "start_time": "2022-11-27T10:03:56.877Z"
   },
   {
    "duration": 9,
    "start_time": "2022-11-27T10:03:56.898Z"
   },
   {
    "duration": 59,
    "start_time": "2022-11-27T10:03:56.909Z"
   },
   {
    "duration": 4,
    "start_time": "2022-11-27T10:03:56.969Z"
   },
   {
    "duration": 13,
    "start_time": "2022-11-27T10:03:56.974Z"
   },
   {
    "duration": 4,
    "start_time": "2022-11-27T10:03:56.989Z"
   },
   {
    "duration": 8,
    "start_time": "2022-11-27T10:03:56.995Z"
   },
   {
    "duration": 4,
    "start_time": "2022-11-27T10:03:57.006Z"
   },
   {
    "duration": 58,
    "start_time": "2022-11-27T10:03:57.012Z"
   },
   {
    "duration": 9,
    "start_time": "2022-11-27T10:03:57.072Z"
   },
   {
    "duration": 4,
    "start_time": "2022-11-27T10:03:57.083Z"
   },
   {
    "duration": 17,
    "start_time": "2022-11-27T10:03:57.088Z"
   },
   {
    "duration": 19,
    "start_time": "2022-11-27T10:03:57.107Z"
   },
   {
    "duration": 39,
    "start_time": "2022-11-27T10:03:57.127Z"
   },
   {
    "duration": 4,
    "start_time": "2022-11-27T10:03:57.167Z"
   },
   {
    "duration": 14,
    "start_time": "2022-11-27T10:03:57.173Z"
   },
   {
    "duration": 6,
    "start_time": "2022-11-27T10:03:57.188Z"
   },
   {
    "duration": 12,
    "start_time": "2022-11-27T10:03:57.196Z"
   },
   {
    "duration": 19,
    "start_time": "2022-11-27T10:03:57.209Z"
   },
   {
    "duration": 15,
    "start_time": "2022-11-27T10:03:57.230Z"
   },
   {
    "duration": 9,
    "start_time": "2022-11-27T10:03:57.254Z"
   },
   {
    "duration": 864,
    "start_time": "2022-11-27T10:03:57.265Z"
   },
   {
    "duration": 11,
    "start_time": "2022-11-27T10:03:58.131Z"
   },
   {
    "duration": 140,
    "start_time": "2022-11-27T10:03:58.144Z"
   },
   {
    "duration": 14,
    "start_time": "2022-11-27T10:03:58.286Z"
   },
   {
    "duration": 158,
    "start_time": "2022-11-27T10:03:58.302Z"
   },
   {
    "duration": 10,
    "start_time": "2022-11-27T10:03:58.462Z"
   },
   {
    "duration": 139,
    "start_time": "2022-11-27T10:03:58.473Z"
   },
   {
    "duration": 2,
    "start_time": "2022-11-27T10:03:58.614Z"
   },
   {
    "duration": 37,
    "start_time": "2022-11-27T10:03:58.618Z"
   },
   {
    "duration": 11,
    "start_time": "2022-11-27T10:05:16.306Z"
   },
   {
    "duration": 464,
    "start_time": "2022-11-27T10:06:47.290Z"
   },
   {
    "duration": 24,
    "start_time": "2022-11-27T10:06:49.271Z"
   },
   {
    "duration": 15,
    "start_time": "2022-11-27T10:06:53.647Z"
   },
   {
    "duration": 10,
    "start_time": "2022-11-27T10:07:01.066Z"
   },
   {
    "duration": 35,
    "start_time": "2022-11-27T10:07:01.946Z"
   },
   {
    "duration": 3,
    "start_time": "2022-11-27T10:07:02.734Z"
   },
   {
    "duration": 8,
    "start_time": "2022-11-27T10:07:03.203Z"
   },
   {
    "duration": 5,
    "start_time": "2022-11-27T10:07:04.124Z"
   },
   {
    "duration": 24,
    "start_time": "2022-11-27T10:07:04.623Z"
   },
   {
    "duration": 5,
    "start_time": "2022-11-27T10:07:05.162Z"
   },
   {
    "duration": 34,
    "start_time": "2022-11-27T10:07:06.018Z"
   },
   {
    "duration": 12,
    "start_time": "2022-11-27T10:07:06.599Z"
   },
   {
    "duration": 4,
    "start_time": "2022-11-27T10:07:07.634Z"
   },
   {
    "duration": 14,
    "start_time": "2022-11-27T10:07:08.941Z"
   },
   {
    "duration": 20,
    "start_time": "2022-11-27T10:07:09.411Z"
   },
   {
    "duration": 19,
    "start_time": "2022-11-27T10:07:09.663Z"
   },
   {
    "duration": 4,
    "start_time": "2022-11-27T10:07:10.358Z"
   },
   {
    "duration": 11,
    "start_time": "2022-11-27T10:07:10.601Z"
   },
   {
    "duration": 6,
    "start_time": "2022-11-27T10:07:11.294Z"
   },
   {
    "duration": 3,
    "start_time": "2022-11-27T10:07:12.093Z"
   },
   {
    "duration": 8,
    "start_time": "2022-11-27T10:07:12.490Z"
   },
   {
    "duration": 13,
    "start_time": "2022-11-27T10:07:18.140Z"
   },
   {
    "duration": 12,
    "start_time": "2022-11-27T10:07:20.727Z"
   },
   {
    "duration": 48,
    "start_time": "2022-11-27T10:09:36.746Z"
   },
   {
    "duration": 467,
    "start_time": "2022-11-27T10:09:47.113Z"
   },
   {
    "duration": 23,
    "start_time": "2022-11-27T10:09:47.583Z"
   },
   {
    "duration": 24,
    "start_time": "2022-11-27T10:09:47.608Z"
   },
   {
    "duration": 23,
    "start_time": "2022-11-27T10:09:47.633Z"
   },
   {
    "duration": 39,
    "start_time": "2022-11-27T10:09:47.659Z"
   },
   {
    "duration": 4,
    "start_time": "2022-11-27T10:09:47.700Z"
   },
   {
    "duration": 20,
    "start_time": "2022-11-27T10:09:47.706Z"
   },
   {
    "duration": 8,
    "start_time": "2022-11-27T10:09:47.728Z"
   },
   {
    "duration": 27,
    "start_time": "2022-11-27T10:09:47.738Z"
   },
   {
    "duration": 18,
    "start_time": "2022-11-27T10:09:47.767Z"
   },
   {
    "duration": 44,
    "start_time": "2022-11-27T10:09:47.786Z"
   },
   {
    "duration": 11,
    "start_time": "2022-11-27T10:09:47.832Z"
   },
   {
    "duration": 13,
    "start_time": "2022-11-27T10:09:47.844Z"
   },
   {
    "duration": 34,
    "start_time": "2022-11-27T10:09:47.859Z"
   },
   {
    "duration": 28,
    "start_time": "2022-11-27T10:09:47.895Z"
   },
   {
    "duration": 17,
    "start_time": "2022-11-27T10:09:47.925Z"
   },
   {
    "duration": 12,
    "start_time": "2022-11-27T10:09:47.944Z"
   },
   {
    "duration": 26,
    "start_time": "2022-11-27T10:09:47.957Z"
   },
   {
    "duration": 28,
    "start_time": "2022-11-27T10:09:47.984Z"
   },
   {
    "duration": 14,
    "start_time": "2022-11-27T10:09:48.014Z"
   },
   {
    "duration": 44,
    "start_time": "2022-11-27T10:09:48.030Z"
   },
   {
    "duration": 16,
    "start_time": "2022-11-27T10:09:48.075Z"
   },
   {
    "duration": 9,
    "start_time": "2022-11-27T10:09:48.093Z"
   },
   {
    "duration": 930,
    "start_time": "2022-11-27T10:09:48.104Z"
   },
   {
    "duration": 20,
    "start_time": "2022-11-27T10:09:49.035Z"
   },
   {
    "duration": 147,
    "start_time": "2022-11-27T10:09:49.057Z"
   },
   {
    "duration": 15,
    "start_time": "2022-11-27T10:09:49.205Z"
   },
   {
    "duration": 160,
    "start_time": "2022-11-27T10:09:49.222Z"
   },
   {
    "duration": 10,
    "start_time": "2022-11-27T10:09:49.383Z"
   },
   {
    "duration": 144,
    "start_time": "2022-11-27T10:09:49.394Z"
   },
   {
    "duration": 3,
    "start_time": "2022-11-27T10:09:49.539Z"
   },
   {
    "duration": 12,
    "start_time": "2022-11-27T10:09:49.543Z"
   },
   {
    "duration": 11,
    "start_time": "2022-11-27T10:11:30.497Z"
   },
   {
    "duration": 12,
    "start_time": "2022-11-27T10:17:20.150Z"
   },
   {
    "duration": 12,
    "start_time": "2022-11-27T10:17:23.388Z"
   },
   {
    "duration": 10,
    "start_time": "2022-11-27T10:17:36.543Z"
   },
   {
    "duration": 9,
    "start_time": "2022-11-27T10:17:48.794Z"
   },
   {
    "duration": 47,
    "start_time": "2022-11-27T10:18:02.379Z"
   },
   {
    "duration": 6,
    "start_time": "2022-11-27T10:18:09.765Z"
   },
   {
    "duration": 523,
    "start_time": "2022-11-27T10:18:16.968Z"
   },
   {
    "duration": 23,
    "start_time": "2022-11-27T10:18:17.494Z"
   },
   {
    "duration": 25,
    "start_time": "2022-11-27T10:18:17.519Z"
   },
   {
    "duration": 16,
    "start_time": "2022-11-27T10:18:17.545Z"
   },
   {
    "duration": 54,
    "start_time": "2022-11-27T10:18:17.563Z"
   },
   {
    "duration": 4,
    "start_time": "2022-11-27T10:18:17.618Z"
   },
   {
    "duration": 17,
    "start_time": "2022-11-27T10:18:17.623Z"
   },
   {
    "duration": 14,
    "start_time": "2022-11-27T10:18:17.641Z"
   },
   {
    "duration": 21,
    "start_time": "2022-11-27T10:18:17.657Z"
   },
   {
    "duration": 5,
    "start_time": "2022-11-27T10:18:17.680Z"
   },
   {
    "duration": 41,
    "start_time": "2022-11-27T10:18:17.687Z"
   },
   {
    "duration": 12,
    "start_time": "2022-11-27T10:18:17.730Z"
   },
   {
    "duration": 14,
    "start_time": "2022-11-27T10:18:17.744Z"
   },
   {
    "duration": 23,
    "start_time": "2022-11-27T10:18:17.760Z"
   },
   {
    "duration": 22,
    "start_time": "2022-11-27T10:18:17.785Z"
   },
   {
    "duration": 17,
    "start_time": "2022-11-27T10:18:17.809Z"
   },
   {
    "duration": 4,
    "start_time": "2022-11-27T10:18:17.827Z"
   },
   {
    "duration": 23,
    "start_time": "2022-11-27T10:18:17.832Z"
   },
   {
    "duration": 10,
    "start_time": "2022-11-27T10:18:17.857Z"
   },
   {
    "duration": 6,
    "start_time": "2022-11-27T10:18:17.868Z"
   },
   {
    "duration": 13,
    "start_time": "2022-11-27T10:18:17.875Z"
   },
   {
    "duration": 11,
    "start_time": "2022-11-27T10:18:17.890Z"
   },
   {
    "duration": 10,
    "start_time": "2022-11-27T10:18:17.902Z"
   },
   {
    "duration": 40,
    "start_time": "2022-11-27T10:18:17.914Z"
   },
   {
    "duration": 0,
    "start_time": "2022-11-27T10:18:17.956Z"
   },
   {
    "duration": 0,
    "start_time": "2022-11-27T10:18:17.957Z"
   },
   {
    "duration": 0,
    "start_time": "2022-11-27T10:18:17.959Z"
   },
   {
    "duration": 0,
    "start_time": "2022-11-27T10:18:17.960Z"
   },
   {
    "duration": 0,
    "start_time": "2022-11-27T10:18:17.962Z"
   },
   {
    "duration": 0,
    "start_time": "2022-11-27T10:18:17.963Z"
   },
   {
    "duration": 0,
    "start_time": "2022-11-27T10:18:17.964Z"
   },
   {
    "duration": 0,
    "start_time": "2022-11-27T10:18:17.965Z"
   },
   {
    "duration": 0,
    "start_time": "2022-11-27T10:18:17.966Z"
   },
   {
    "duration": 75,
    "start_time": "2022-11-27T10:18:36.019Z"
   },
   {
    "duration": 15,
    "start_time": "2022-11-27T10:18:36.096Z"
   },
   {
    "duration": 17,
    "start_time": "2022-11-27T10:18:36.113Z"
   },
   {
    "duration": 23,
    "start_time": "2022-11-27T10:18:36.132Z"
   },
   {
    "duration": 33,
    "start_time": "2022-11-27T10:18:36.157Z"
   },
   {
    "duration": 4,
    "start_time": "2022-11-27T10:18:36.192Z"
   },
   {
    "duration": 13,
    "start_time": "2022-11-27T10:18:36.198Z"
   },
   {
    "duration": 6,
    "start_time": "2022-11-27T10:18:36.214Z"
   },
   {
    "duration": 33,
    "start_time": "2022-11-27T10:18:36.222Z"
   },
   {
    "duration": 6,
    "start_time": "2022-11-27T10:18:36.257Z"
   },
   {
    "duration": 53,
    "start_time": "2022-11-27T10:18:36.265Z"
   },
   {
    "duration": 10,
    "start_time": "2022-11-27T10:18:36.320Z"
   },
   {
    "duration": 24,
    "start_time": "2022-11-27T10:18:36.331Z"
   },
   {
    "duration": 12,
    "start_time": "2022-11-27T10:18:36.359Z"
   },
   {
    "duration": 23,
    "start_time": "2022-11-27T10:18:36.373Z"
   },
   {
    "duration": 19,
    "start_time": "2022-11-27T10:18:36.399Z"
   },
   {
    "duration": 4,
    "start_time": "2022-11-27T10:18:36.420Z"
   },
   {
    "duration": 12,
    "start_time": "2022-11-27T10:18:36.455Z"
   },
   {
    "duration": 13,
    "start_time": "2022-11-27T10:18:36.469Z"
   },
   {
    "duration": 4,
    "start_time": "2022-11-27T10:18:36.484Z"
   },
   {
    "duration": 12,
    "start_time": "2022-11-27T10:18:36.490Z"
   },
   {
    "duration": 18,
    "start_time": "2022-11-27T10:18:36.503Z"
   },
   {
    "duration": 35,
    "start_time": "2022-11-27T10:18:36.523Z"
   },
   {
    "duration": 45,
    "start_time": "2022-11-27T10:18:36.559Z"
   },
   {
    "duration": 0,
    "start_time": "2022-11-27T10:18:36.605Z"
   },
   {
    "duration": 0,
    "start_time": "2022-11-27T10:18:36.606Z"
   },
   {
    "duration": 0,
    "start_time": "2022-11-27T10:18:36.608Z"
   },
   {
    "duration": 0,
    "start_time": "2022-11-27T10:18:36.609Z"
   },
   {
    "duration": 0,
    "start_time": "2022-11-27T10:18:36.610Z"
   },
   {
    "duration": 0,
    "start_time": "2022-11-27T10:18:36.612Z"
   },
   {
    "duration": 0,
    "start_time": "2022-11-27T10:18:36.613Z"
   },
   {
    "duration": 0,
    "start_time": "2022-11-27T10:18:36.614Z"
   },
   {
    "duration": 0,
    "start_time": "2022-11-27T10:18:36.615Z"
   },
   {
    "duration": 67,
    "start_time": "2022-11-27T10:23:28.059Z"
   },
   {
    "duration": 8,
    "start_time": "2022-11-27T10:23:35.364Z"
   },
   {
    "duration": 10,
    "start_time": "2022-11-27T10:23:44.377Z"
   },
   {
    "duration": 16,
    "start_time": "2022-11-27T10:25:39.606Z"
   },
   {
    "duration": 805,
    "start_time": "2022-11-27T10:27:21.165Z"
   },
   {
    "duration": 141,
    "start_time": "2022-11-27T10:27:36.529Z"
   },
   {
    "duration": 12,
    "start_time": "2022-11-27T10:27:40.339Z"
   },
   {
    "duration": 144,
    "start_time": "2022-11-27T10:27:42.544Z"
   },
   {
    "duration": 513,
    "start_time": "2022-12-06T12:27:52.789Z"
   },
   {
    "duration": 22,
    "start_time": "2022-12-06T12:27:53.304Z"
   },
   {
    "duration": 17,
    "start_time": "2022-12-06T12:27:53.327Z"
   },
   {
    "duration": 12,
    "start_time": "2022-12-06T12:27:53.346Z"
   },
   {
    "duration": 35,
    "start_time": "2022-12-06T12:27:53.360Z"
   },
   {
    "duration": 3,
    "start_time": "2022-12-06T12:27:53.397Z"
   },
   {
    "duration": 15,
    "start_time": "2022-12-06T12:27:53.402Z"
   },
   {
    "duration": 4,
    "start_time": "2022-12-06T12:27:53.418Z"
   },
   {
    "duration": 30,
    "start_time": "2022-12-06T12:27:53.424Z"
   },
   {
    "duration": 5,
    "start_time": "2022-12-06T12:27:53.457Z"
   },
   {
    "duration": 42,
    "start_time": "2022-12-06T12:27:53.464Z"
   },
   {
    "duration": 11,
    "start_time": "2022-12-06T12:27:53.508Z"
   },
   {
    "duration": 20,
    "start_time": "2022-12-06T12:27:53.521Z"
   },
   {
    "duration": 21,
    "start_time": "2022-12-06T12:27:53.542Z"
   },
   {
    "duration": 24,
    "start_time": "2022-12-06T12:27:53.565Z"
   },
   {
    "duration": 17,
    "start_time": "2022-12-06T12:27:53.591Z"
   },
   {
    "duration": 3,
    "start_time": "2022-12-06T12:27:53.610Z"
   },
   {
    "duration": 13,
    "start_time": "2022-12-06T12:27:53.615Z"
   },
   {
    "duration": 27,
    "start_time": "2022-12-06T12:27:53.630Z"
   },
   {
    "duration": 6,
    "start_time": "2022-12-06T12:27:53.659Z"
   },
   {
    "duration": 14,
    "start_time": "2022-12-06T12:27:53.666Z"
   },
   {
    "duration": 14,
    "start_time": "2022-12-06T12:27:53.682Z"
   },
   {
    "duration": 11,
    "start_time": "2022-12-06T12:27:53.698Z"
   },
   {
    "duration": 1110,
    "start_time": "2022-12-06T12:27:53.711Z"
   },
   {
    "duration": 11,
    "start_time": "2022-12-06T12:27:54.823Z"
   },
   {
    "duration": 1201,
    "start_time": "2022-12-06T12:27:54.851Z"
   },
   {
    "duration": 0,
    "start_time": "2022-12-06T12:27:56.054Z"
   },
   {
    "duration": 0,
    "start_time": "2022-12-06T12:27:56.055Z"
   },
   {
    "duration": 0,
    "start_time": "2022-12-06T12:27:56.056Z"
   },
   {
    "duration": 0,
    "start_time": "2022-12-06T12:27:56.058Z"
   },
   {
    "duration": 0,
    "start_time": "2022-12-06T12:27:56.059Z"
   },
   {
    "duration": 0,
    "start_time": "2022-12-06T12:27:56.060Z"
   },
   {
    "duration": 0,
    "start_time": "2022-12-06T12:27:56.062Z"
   },
   {
    "duration": 12,
    "start_time": "2022-12-06T12:35:12.729Z"
   },
   {
    "duration": 54,
    "start_time": "2022-12-06T12:35:27.266Z"
   },
   {
    "duration": 7,
    "start_time": "2022-12-06T12:35:39.071Z"
   },
   {
    "duration": 488,
    "start_time": "2022-12-06T12:35:45.366Z"
   },
   {
    "duration": 24,
    "start_time": "2022-12-06T12:35:45.856Z"
   },
   {
    "duration": 16,
    "start_time": "2022-12-06T12:35:45.882Z"
   },
   {
    "duration": 16,
    "start_time": "2022-12-06T12:35:45.901Z"
   },
   {
    "duration": 76,
    "start_time": "2022-12-06T12:35:45.919Z"
   },
   {
    "duration": 4,
    "start_time": "2022-12-06T12:35:45.998Z"
   },
   {
    "duration": 24,
    "start_time": "2022-12-06T12:35:46.004Z"
   },
   {
    "duration": 6,
    "start_time": "2022-12-06T12:35:46.029Z"
   },
   {
    "duration": 20,
    "start_time": "2022-12-06T12:35:46.037Z"
   },
   {
    "duration": 5,
    "start_time": "2022-12-06T12:35:46.060Z"
   },
   {
    "duration": 38,
    "start_time": "2022-12-06T12:35:46.067Z"
   },
   {
    "duration": 12,
    "start_time": "2022-12-06T12:35:46.106Z"
   },
   {
    "duration": 33,
    "start_time": "2022-12-06T12:35:46.120Z"
   },
   {
    "duration": 16,
    "start_time": "2022-12-06T12:35:46.154Z"
   },
   {
    "duration": 28,
    "start_time": "2022-12-06T12:35:46.172Z"
   },
   {
    "duration": 18,
    "start_time": "2022-12-06T12:35:46.202Z"
   },
   {
    "duration": 4,
    "start_time": "2022-12-06T12:35:46.222Z"
   },
   {
    "duration": 12,
    "start_time": "2022-12-06T12:35:46.251Z"
   },
   {
    "duration": 12,
    "start_time": "2022-12-06T12:35:46.265Z"
   },
   {
    "duration": 6,
    "start_time": "2022-12-06T12:35:46.279Z"
   },
   {
    "duration": 14,
    "start_time": "2022-12-06T12:35:46.287Z"
   },
   {
    "duration": 12,
    "start_time": "2022-12-06T12:35:46.304Z"
   },
   {
    "duration": 962,
    "start_time": "2022-12-06T12:35:46.318Z"
   },
   {
    "duration": 11,
    "start_time": "2022-12-06T12:35:47.282Z"
   },
   {
    "duration": 1616,
    "start_time": "2022-12-06T12:35:47.295Z"
   },
   {
    "duration": 0,
    "start_time": "2022-12-06T12:35:48.913Z"
   },
   {
    "duration": 0,
    "start_time": "2022-12-06T12:35:48.915Z"
   },
   {
    "duration": 0,
    "start_time": "2022-12-06T12:35:48.916Z"
   },
   {
    "duration": 0,
    "start_time": "2022-12-06T12:35:48.917Z"
   },
   {
    "duration": 0,
    "start_time": "2022-12-06T12:35:48.919Z"
   },
   {
    "duration": 0,
    "start_time": "2022-12-06T12:35:48.920Z"
   },
   {
    "duration": 0,
    "start_time": "2022-12-06T12:35:48.921Z"
   },
   {
    "duration": 11,
    "start_time": "2022-12-06T12:37:15.965Z"
   },
   {
    "duration": 148,
    "start_time": "2022-12-06T12:37:58.846Z"
   },
   {
    "duration": 6,
    "start_time": "2022-12-06T12:52:39.419Z"
   },
   {
    "duration": 1133,
    "start_time": "2022-12-06T12:59:05.322Z"
   },
   {
    "duration": 4,
    "start_time": "2022-12-06T12:59:38.413Z"
   },
   {
    "duration": 12,
    "start_time": "2022-12-06T12:59:45.772Z"
   },
   {
    "duration": 533,
    "start_time": "2022-12-06T13:00:20.252Z"
   },
   {
    "duration": 30,
    "start_time": "2022-12-06T13:00:20.787Z"
   },
   {
    "duration": 38,
    "start_time": "2022-12-06T13:00:20.819Z"
   },
   {
    "duration": 11,
    "start_time": "2022-12-06T13:00:20.860Z"
   },
   {
    "duration": 39,
    "start_time": "2022-12-06T13:00:20.873Z"
   },
   {
    "duration": 5,
    "start_time": "2022-12-06T13:00:20.914Z"
   },
   {
    "duration": 32,
    "start_time": "2022-12-06T13:00:20.921Z"
   },
   {
    "duration": 8,
    "start_time": "2022-12-06T13:00:20.955Z"
   },
   {
    "duration": 12,
    "start_time": "2022-12-06T13:00:20.965Z"
   },
   {
    "duration": 7,
    "start_time": "2022-12-06T13:00:20.982Z"
   },
   {
    "duration": 75,
    "start_time": "2022-12-06T13:00:20.991Z"
   },
   {
    "duration": 17,
    "start_time": "2022-12-06T13:00:21.068Z"
   },
   {
    "duration": 11,
    "start_time": "2022-12-06T13:00:21.087Z"
   },
   {
    "duration": 32,
    "start_time": "2022-12-06T13:00:21.099Z"
   },
   {
    "duration": 57,
    "start_time": "2022-12-06T13:00:21.133Z"
   },
   {
    "duration": 28,
    "start_time": "2022-12-06T13:00:21.191Z"
   },
   {
    "duration": 4,
    "start_time": "2022-12-06T13:00:21.221Z"
   },
   {
    "duration": 28,
    "start_time": "2022-12-06T13:00:21.227Z"
   },
   {
    "duration": 8,
    "start_time": "2022-12-06T13:00:21.257Z"
   },
   {
    "duration": 6,
    "start_time": "2022-12-06T13:00:21.268Z"
   },
   {
    "duration": 16,
    "start_time": "2022-12-06T13:00:21.276Z"
   },
   {
    "duration": 28,
    "start_time": "2022-12-06T13:00:21.298Z"
   },
   {
    "duration": 24,
    "start_time": "2022-12-06T13:00:21.328Z"
   },
   {
    "duration": 1046,
    "start_time": "2022-12-06T13:00:21.354Z"
   },
   {
    "duration": 14,
    "start_time": "2022-12-06T13:00:22.402Z"
   },
   {
    "duration": 154,
    "start_time": "2022-12-06T13:00:22.417Z"
   },
   {
    "duration": 132,
    "start_time": "2022-12-06T13:00:22.574Z"
   },
   {
    "duration": 22,
    "start_time": "2022-12-06T13:00:22.710Z"
   },
   {
    "duration": 216,
    "start_time": "2022-12-06T13:00:22.734Z"
   },
   {
    "duration": 14,
    "start_time": "2022-12-06T13:00:22.953Z"
   },
   {
    "duration": 166,
    "start_time": "2022-12-06T13:00:22.969Z"
   },
   {
    "duration": 3,
    "start_time": "2022-12-06T13:00:23.137Z"
   },
   {
    "duration": 13,
    "start_time": "2022-12-06T13:00:23.142Z"
   },
   {
    "duration": 10,
    "start_time": "2022-12-06T13:01:15.859Z"
   },
   {
    "duration": 72,
    "start_time": "2022-12-06T13:01:40.877Z"
   },
   {
    "duration": 8,
    "start_time": "2022-12-06T13:01:47.149Z"
   },
   {
    "duration": 471,
    "start_time": "2022-12-06T13:01:53.700Z"
   },
   {
    "duration": 30,
    "start_time": "2022-12-06T13:01:54.174Z"
   },
   {
    "duration": 21,
    "start_time": "2022-12-06T13:01:54.206Z"
   },
   {
    "duration": 30,
    "start_time": "2022-12-06T13:01:54.230Z"
   },
   {
    "duration": 46,
    "start_time": "2022-12-06T13:01:54.262Z"
   },
   {
    "duration": 4,
    "start_time": "2022-12-06T13:01:54.310Z"
   },
   {
    "duration": 36,
    "start_time": "2022-12-06T13:01:54.316Z"
   },
   {
    "duration": 5,
    "start_time": "2022-12-06T13:01:54.354Z"
   },
   {
    "duration": 11,
    "start_time": "2022-12-06T13:01:54.361Z"
   },
   {
    "duration": 5,
    "start_time": "2022-12-06T13:01:54.376Z"
   },
   {
    "duration": 77,
    "start_time": "2022-12-06T13:01:54.383Z"
   },
   {
    "duration": 14,
    "start_time": "2022-12-06T13:01:54.462Z"
   },
   {
    "duration": 4,
    "start_time": "2022-12-06T13:01:54.478Z"
   },
   {
    "duration": 18,
    "start_time": "2022-12-06T13:01:54.484Z"
   },
   {
    "duration": 51,
    "start_time": "2022-12-06T13:01:54.504Z"
   },
   {
    "duration": 18,
    "start_time": "2022-12-06T13:01:54.558Z"
   },
   {
    "duration": 4,
    "start_time": "2022-12-06T13:01:54.578Z"
   },
   {
    "duration": 15,
    "start_time": "2022-12-06T13:01:54.583Z"
   },
   {
    "duration": 6,
    "start_time": "2022-12-06T13:01:54.601Z"
   },
   {
    "duration": 6,
    "start_time": "2022-12-06T13:01:54.609Z"
   },
   {
    "duration": 37,
    "start_time": "2022-12-06T13:01:54.617Z"
   },
   {
    "duration": 15,
    "start_time": "2022-12-06T13:01:54.656Z"
   },
   {
    "duration": 9,
    "start_time": "2022-12-06T13:01:54.674Z"
   },
   {
    "duration": 999,
    "start_time": "2022-12-06T13:01:54.685Z"
   },
   {
    "duration": 14,
    "start_time": "2022-12-06T13:01:55.686Z"
   },
   {
    "duration": 149,
    "start_time": "2022-12-06T13:01:55.702Z"
   },
   {
    "duration": 137,
    "start_time": "2022-12-06T13:01:55.852Z"
   },
   {
    "duration": 16,
    "start_time": "2022-12-06T13:01:55.993Z"
   },
   {
    "duration": 202,
    "start_time": "2022-12-06T13:01:56.011Z"
   },
   {
    "duration": 12,
    "start_time": "2022-12-06T13:01:56.215Z"
   },
   {
    "duration": 158,
    "start_time": "2022-12-06T13:01:56.229Z"
   },
   {
    "duration": 2,
    "start_time": "2022-12-06T13:01:56.389Z"
   },
   {
    "duration": 9,
    "start_time": "2022-12-06T13:01:56.393Z"
   },
   {
    "duration": 5,
    "start_time": "2022-12-06T13:14:00.981Z"
   },
   {
    "duration": 3,
    "start_time": "2022-12-06T13:28:33.893Z"
   },
   {
    "duration": 383,
    "start_time": "2022-12-06T13:29:26.830Z"
   },
   {
    "duration": 3,
    "start_time": "2022-12-06T13:29:44.482Z"
   },
   {
    "duration": 313,
    "start_time": "2022-12-06T13:29:46.497Z"
   },
   {
    "duration": 8,
    "start_time": "2022-12-06T13:30:44.190Z"
   },
   {
    "duration": 14,
    "start_time": "2022-12-06T13:30:53.865Z"
   },
   {
    "duration": 4,
    "start_time": "2022-12-06T13:30:57.819Z"
   },
   {
    "duration": 127,
    "start_time": "2022-12-06T13:30:59.277Z"
   },
   {
    "duration": 4,
    "start_time": "2022-12-06T13:35:10.333Z"
   },
   {
    "duration": 533,
    "start_time": "2022-12-06T13:35:18.371Z"
   },
   {
    "duration": 24,
    "start_time": "2022-12-06T13:35:18.905Z"
   },
   {
    "duration": 30,
    "start_time": "2022-12-06T13:35:18.931Z"
   },
   {
    "duration": 13,
    "start_time": "2022-12-06T13:35:18.963Z"
   },
   {
    "duration": 38,
    "start_time": "2022-12-06T13:35:18.977Z"
   },
   {
    "duration": 14,
    "start_time": "2022-12-06T13:35:19.017Z"
   },
   {
    "duration": 10,
    "start_time": "2022-12-06T13:35:19.052Z"
   },
   {
    "duration": 6,
    "start_time": "2022-12-06T13:35:19.063Z"
   },
   {
    "duration": 10,
    "start_time": "2022-12-06T13:35:19.071Z"
   },
   {
    "duration": 5,
    "start_time": "2022-12-06T13:35:19.085Z"
   },
   {
    "duration": 80,
    "start_time": "2022-12-06T13:35:19.092Z"
   },
   {
    "duration": 15,
    "start_time": "2022-12-06T13:35:19.174Z"
   },
   {
    "duration": 10,
    "start_time": "2022-12-06T13:35:19.192Z"
   },
   {
    "duration": 17,
    "start_time": "2022-12-06T13:35:19.206Z"
   },
   {
    "duration": 45,
    "start_time": "2022-12-06T13:35:19.225Z"
   },
   {
    "duration": 20,
    "start_time": "2022-12-06T13:35:19.272Z"
   },
   {
    "duration": 5,
    "start_time": "2022-12-06T13:35:19.294Z"
   },
   {
    "duration": 19,
    "start_time": "2022-12-06T13:35:19.301Z"
   },
   {
    "duration": 12,
    "start_time": "2022-12-06T13:35:19.322Z"
   },
   {
    "duration": 5,
    "start_time": "2022-12-06T13:35:19.352Z"
   },
   {
    "duration": 14,
    "start_time": "2022-12-06T13:35:19.359Z"
   },
   {
    "duration": 6,
    "start_time": "2022-12-06T13:35:19.375Z"
   },
   {
    "duration": 73,
    "start_time": "2022-12-06T13:35:19.383Z"
   },
   {
    "duration": 0,
    "start_time": "2022-12-06T13:35:19.457Z"
   },
   {
    "duration": 0,
    "start_time": "2022-12-06T13:35:19.459Z"
   },
   {
    "duration": 0,
    "start_time": "2022-12-06T13:35:19.460Z"
   },
   {
    "duration": 0,
    "start_time": "2022-12-06T13:35:19.461Z"
   },
   {
    "duration": 0,
    "start_time": "2022-12-06T13:35:19.462Z"
   },
   {
    "duration": 0,
    "start_time": "2022-12-06T13:35:19.464Z"
   },
   {
    "duration": 0,
    "start_time": "2022-12-06T13:35:19.465Z"
   },
   {
    "duration": 0,
    "start_time": "2022-12-06T13:35:19.466Z"
   },
   {
    "duration": 3,
    "start_time": "2022-12-06T13:35:52.914Z"
   },
   {
    "duration": 74,
    "start_time": "2022-12-06T13:37:17.127Z"
   },
   {
    "duration": 7,
    "start_time": "2022-12-06T13:37:48.765Z"
   },
   {
    "duration": 10,
    "start_time": "2022-12-06T13:38:00.140Z"
   },
   {
    "duration": 2,
    "start_time": "2022-12-06T13:38:12.834Z"
   },
   {
    "duration": 7,
    "start_time": "2022-12-06T13:38:14.932Z"
   },
   {
    "duration": 12,
    "start_time": "2022-12-06T13:38:26.204Z"
   },
   {
    "duration": 4,
    "start_time": "2022-12-06T13:38:31.745Z"
   },
   {
    "duration": 939,
    "start_time": "2022-12-06T13:38:33.615Z"
   },
   {
    "duration": 5,
    "start_time": "2022-12-06T14:48:31.395Z"
   },
   {
    "duration": 5,
    "start_time": "2022-12-06T14:52:10.629Z"
   },
   {
    "duration": 16,
    "start_time": "2022-12-06T14:53:08.812Z"
   },
   {
    "duration": 152,
    "start_time": "2022-12-06T14:53:14.152Z"
   },
   {
    "duration": 70,
    "start_time": "2022-12-06T15:13:38.966Z"
   },
   {
    "duration": 48,
    "start_time": "2022-12-06T15:13:48.212Z"
   },
   {
    "duration": 10,
    "start_time": "2022-12-06T15:14:20.189Z"
   },
   {
    "duration": 11,
    "start_time": "2022-12-06T15:14:51.823Z"
   },
   {
    "duration": 12,
    "start_time": "2022-12-06T15:15:39.441Z"
   },
   {
    "duration": 8,
    "start_time": "2022-12-06T15:15:51.654Z"
   },
   {
    "duration": 6,
    "start_time": "2022-12-06T15:16:20.896Z"
   },
   {
    "duration": 11,
    "start_time": "2022-12-06T15:18:37.501Z"
   },
   {
    "duration": 8,
    "start_time": "2022-12-06T15:18:53.713Z"
   },
   {
    "duration": 613,
    "start_time": "2022-12-06T15:20:26.142Z"
   },
   {
    "duration": 16,
    "start_time": "2022-12-06T15:20:56.830Z"
   },
   {
    "duration": 9,
    "start_time": "2022-12-06T15:21:26.018Z"
   },
   {
    "duration": 14,
    "start_time": "2022-12-06T15:21:28.115Z"
   },
   {
    "duration": 9,
    "start_time": "2022-12-06T15:21:35.489Z"
   },
   {
    "duration": 10,
    "start_time": "2022-12-06T15:26:41.455Z"
   },
   {
    "duration": 12,
    "start_time": "2022-12-06T15:30:54.662Z"
   },
   {
    "duration": 10,
    "start_time": "2022-12-06T15:31:21.044Z"
   },
   {
    "duration": 8,
    "start_time": "2022-12-06T15:31:31.897Z"
   },
   {
    "duration": 6,
    "start_time": "2022-12-06T15:32:37.125Z"
   },
   {
    "duration": 6,
    "start_time": "2022-12-06T15:32:56.039Z"
   },
   {
    "duration": 5,
    "start_time": "2022-12-06T15:33:22.013Z"
   },
   {
    "duration": 9,
    "start_time": "2022-12-06T15:43:15.945Z"
   },
   {
    "duration": 12,
    "start_time": "2022-12-06T15:44:33.389Z"
   },
   {
    "duration": 10,
    "start_time": "2022-12-06T15:44:41.050Z"
   },
   {
    "duration": 8,
    "start_time": "2022-12-06T15:46:08.879Z"
   },
   {
    "duration": 8,
    "start_time": "2022-12-06T15:50:30.971Z"
   },
   {
    "duration": 13,
    "start_time": "2022-12-06T15:50:56.998Z"
   },
   {
    "duration": 11,
    "start_time": "2022-12-06T15:56:46.044Z"
   },
   {
    "duration": 7,
    "start_time": "2022-12-06T15:57:09.474Z"
   },
   {
    "duration": 1139,
    "start_time": "2022-12-06T16:07:05.019Z"
   },
   {
    "duration": 12,
    "start_time": "2022-12-06T16:07:24.321Z"
   },
   {
    "duration": 1116,
    "start_time": "2022-12-06T16:08:25.731Z"
   },
   {
    "duration": 558,
    "start_time": "2022-12-06T16:08:45.356Z"
   },
   {
    "duration": 1186,
    "start_time": "2022-12-06T16:09:07.397Z"
   },
   {
    "duration": 4,
    "start_time": "2022-12-06T16:09:30.476Z"
   },
   {
    "duration": 73,
    "start_time": "2022-12-06T16:12:09.145Z"
   },
   {
    "duration": 20,
    "start_time": "2022-12-06T16:12:16.194Z"
   },
   {
    "duration": 15,
    "start_time": "2022-12-06T16:12:50.441Z"
   },
   {
    "duration": 10,
    "start_time": "2022-12-06T16:14:39.851Z"
   },
   {
    "duration": 10,
    "start_time": "2022-12-06T16:17:43.941Z"
   },
   {
    "duration": 9,
    "start_time": "2022-12-06T16:17:51.789Z"
   },
   {
    "duration": 10,
    "start_time": "2022-12-06T16:18:10.128Z"
   },
   {
    "duration": 6,
    "start_time": "2022-12-06T16:18:35.128Z"
   },
   {
    "duration": 4,
    "start_time": "2022-12-06T16:20:50.404Z"
   },
   {
    "duration": 10,
    "start_time": "2022-12-06T16:21:00.994Z"
   },
   {
    "duration": 5,
    "start_time": "2022-12-06T16:58:32.810Z"
   },
   {
    "duration": 3,
    "start_time": "2022-12-06T16:59:47.107Z"
   },
   {
    "duration": 11,
    "start_time": "2022-12-06T17:03:54.191Z"
   },
   {
    "duration": 1060,
    "start_time": "2022-12-06T17:05:02.439Z"
   },
   {
    "duration": 1142,
    "start_time": "2022-12-06T17:05:26.392Z"
   },
   {
    "duration": 15,
    "start_time": "2022-12-06T17:05:37.297Z"
   },
   {
    "duration": 1152,
    "start_time": "2022-12-06T17:06:14.512Z"
   },
   {
    "duration": 11,
    "start_time": "2022-12-06T17:06:30.967Z"
   },
   {
    "duration": 1145,
    "start_time": "2022-12-06T17:07:09.001Z"
   },
   {
    "duration": 11,
    "start_time": "2022-12-06T17:07:18.153Z"
   },
   {
    "duration": 49,
    "start_time": "2022-12-06T17:07:50.371Z"
   },
   {
    "duration": 503,
    "start_time": "2022-12-06T17:08:08.665Z"
   },
   {
    "duration": 25,
    "start_time": "2022-12-06T17:08:09.171Z"
   },
   {
    "duration": 18,
    "start_time": "2022-12-06T17:08:09.198Z"
   },
   {
    "duration": 34,
    "start_time": "2022-12-06T17:08:09.218Z"
   },
   {
    "duration": 48,
    "start_time": "2022-12-06T17:08:09.255Z"
   },
   {
    "duration": 4,
    "start_time": "2022-12-06T17:08:09.305Z"
   },
   {
    "duration": 13,
    "start_time": "2022-12-06T17:08:09.311Z"
   },
   {
    "duration": 4,
    "start_time": "2022-12-06T17:08:09.326Z"
   },
   {
    "duration": 9,
    "start_time": "2022-12-06T17:08:09.350Z"
   },
   {
    "duration": 5,
    "start_time": "2022-12-06T17:08:09.360Z"
   },
   {
    "duration": 45,
    "start_time": "2022-12-06T17:08:09.366Z"
   },
   {
    "duration": 11,
    "start_time": "2022-12-06T17:08:09.413Z"
   },
   {
    "duration": 25,
    "start_time": "2022-12-06T17:08:09.426Z"
   },
   {
    "duration": 18,
    "start_time": "2022-12-06T17:08:09.455Z"
   },
   {
    "duration": 27,
    "start_time": "2022-12-06T17:08:09.475Z"
   },
   {
    "duration": 19,
    "start_time": "2022-12-06T17:08:09.504Z"
   },
   {
    "duration": 5,
    "start_time": "2022-12-06T17:08:09.525Z"
   },
   {
    "duration": 27,
    "start_time": "2022-12-06T17:08:09.532Z"
   },
   {
    "duration": 7,
    "start_time": "2022-12-06T17:08:09.561Z"
   },
   {
    "duration": 13,
    "start_time": "2022-12-06T17:08:09.570Z"
   },
   {
    "duration": 39,
    "start_time": "2022-12-06T17:08:09.585Z"
   },
   {
    "duration": 8,
    "start_time": "2022-12-06T17:08:09.626Z"
   },
   {
    "duration": 20,
    "start_time": "2022-12-06T17:08:09.637Z"
   },
   {
    "duration": 8,
    "start_time": "2022-12-06T17:08:09.658Z"
   },
   {
    "duration": 1036,
    "start_time": "2022-12-06T17:08:09.668Z"
   },
   {
    "duration": 6,
    "start_time": "2022-12-06T17:08:10.706Z"
   },
   {
    "duration": 8,
    "start_time": "2022-12-06T17:08:10.713Z"
   },
   {
    "duration": 13,
    "start_time": "2022-12-06T17:08:16.491Z"
   },
   {
    "duration": 11,
    "start_time": "2022-12-06T17:08:53.074Z"
   },
   {
    "duration": 471,
    "start_time": "2022-12-06T17:09:04.086Z"
   },
   {
    "duration": 23,
    "start_time": "2022-12-06T17:09:04.559Z"
   },
   {
    "duration": 17,
    "start_time": "2022-12-06T17:09:04.584Z"
   },
   {
    "duration": 10,
    "start_time": "2022-12-06T17:09:04.603Z"
   },
   {
    "duration": 67,
    "start_time": "2022-12-06T17:09:04.615Z"
   },
   {
    "duration": 7,
    "start_time": "2022-12-06T17:09:04.684Z"
   },
   {
    "duration": 12,
    "start_time": "2022-12-06T17:09:04.693Z"
   },
   {
    "duration": 6,
    "start_time": "2022-12-06T17:09:04.707Z"
   },
   {
    "duration": 12,
    "start_time": "2022-12-06T17:09:04.714Z"
   },
   {
    "duration": 26,
    "start_time": "2022-12-06T17:09:04.728Z"
   },
   {
    "duration": 36,
    "start_time": "2022-12-06T17:09:04.756Z"
   },
   {
    "duration": 12,
    "start_time": "2022-12-06T17:09:04.794Z"
   },
   {
    "duration": 22,
    "start_time": "2022-12-06T17:09:04.809Z"
   },
   {
    "duration": 30,
    "start_time": "2022-12-06T17:09:04.832Z"
   },
   {
    "duration": 32,
    "start_time": "2022-12-06T17:09:04.864Z"
   },
   {
    "duration": 21,
    "start_time": "2022-12-06T17:09:04.898Z"
   },
   {
    "duration": 4,
    "start_time": "2022-12-06T17:09:04.921Z"
   },
   {
    "duration": 37,
    "start_time": "2022-12-06T17:09:04.927Z"
   },
   {
    "duration": 11,
    "start_time": "2022-12-06T17:09:04.966Z"
   },
   {
    "duration": 4,
    "start_time": "2022-12-06T17:09:04.979Z"
   },
   {
    "duration": 15,
    "start_time": "2022-12-06T17:09:04.984Z"
   },
   {
    "duration": 12,
    "start_time": "2022-12-06T17:09:05.001Z"
   },
   {
    "duration": 15,
    "start_time": "2022-12-06T17:09:05.015Z"
   },
   {
    "duration": 4,
    "start_time": "2022-12-06T17:09:05.050Z"
   },
   {
    "duration": 880,
    "start_time": "2022-12-06T17:09:05.056Z"
   },
   {
    "duration": 13,
    "start_time": "2022-12-06T17:09:05.938Z"
   },
   {
    "duration": 7,
    "start_time": "2022-12-06T17:09:05.953Z"
   },
   {
    "duration": 555,
    "start_time": "2022-12-06T17:09:29.064Z"
   },
   {
    "duration": 35,
    "start_time": "2022-12-06T17:09:29.624Z"
   },
   {
    "duration": 20,
    "start_time": "2022-12-06T17:09:29.662Z"
   },
   {
    "duration": 13,
    "start_time": "2022-12-06T17:09:29.684Z"
   },
   {
    "duration": 72,
    "start_time": "2022-12-06T17:09:29.699Z"
   },
   {
    "duration": 4,
    "start_time": "2022-12-06T17:09:29.774Z"
   },
   {
    "duration": 12,
    "start_time": "2022-12-06T17:09:29.781Z"
   },
   {
    "duration": 7,
    "start_time": "2022-12-06T17:09:29.795Z"
   },
   {
    "duration": 13,
    "start_time": "2022-12-06T17:09:29.804Z"
   },
   {
    "duration": 35,
    "start_time": "2022-12-06T17:09:29.819Z"
   },
   {
    "duration": 46,
    "start_time": "2022-12-06T17:09:29.856Z"
   },
   {
    "duration": 14,
    "start_time": "2022-12-06T17:09:29.905Z"
   },
   {
    "duration": 14,
    "start_time": "2022-12-06T17:09:29.921Z"
   },
   {
    "duration": 23,
    "start_time": "2022-12-06T17:09:29.937Z"
   },
   {
    "duration": 25,
    "start_time": "2022-12-06T17:09:29.961Z"
   },
   {
    "duration": 18,
    "start_time": "2022-12-06T17:09:29.987Z"
   },
   {
    "duration": 4,
    "start_time": "2022-12-06T17:09:30.006Z"
   },
   {
    "duration": 39,
    "start_time": "2022-12-06T17:09:30.012Z"
   },
   {
    "duration": 8,
    "start_time": "2022-12-06T17:09:30.053Z"
   },
   {
    "duration": 4,
    "start_time": "2022-12-06T17:09:30.063Z"
   },
   {
    "duration": 15,
    "start_time": "2022-12-06T17:09:30.068Z"
   },
   {
    "duration": 7,
    "start_time": "2022-12-06T17:09:30.085Z"
   },
   {
    "duration": 22,
    "start_time": "2022-12-06T17:09:30.094Z"
   },
   {
    "duration": 4,
    "start_time": "2022-12-06T17:09:30.118Z"
   },
   {
    "duration": 957,
    "start_time": "2022-12-06T17:09:30.123Z"
   },
   {
    "duration": 5,
    "start_time": "2022-12-06T17:09:31.082Z"
   },
   {
    "duration": 38,
    "start_time": "2022-12-06T17:09:31.089Z"
   },
   {
    "duration": 107,
    "start_time": "2022-12-06T17:10:07.130Z"
   },
   {
    "duration": 902,
    "start_time": "2022-12-06T17:10:17.780Z"
   },
   {
    "duration": 12,
    "start_time": "2022-12-06T17:10:40.700Z"
   },
   {
    "duration": 1102,
    "start_time": "2022-12-06T17:11:03.054Z"
   },
   {
    "duration": 10,
    "start_time": "2022-12-06T17:11:06.932Z"
   },
   {
    "duration": 11,
    "start_time": "2022-12-06T17:11:10.061Z"
   },
   {
    "duration": 11,
    "start_time": "2022-12-06T17:11:29.108Z"
   },
   {
    "duration": 11,
    "start_time": "2022-12-06T17:11:33.846Z"
   },
   {
    "duration": 522,
    "start_time": "2022-12-06T17:11:41.543Z"
   },
   {
    "duration": 24,
    "start_time": "2022-12-06T17:11:42.067Z"
   },
   {
    "duration": 23,
    "start_time": "2022-12-06T17:11:42.093Z"
   },
   {
    "duration": 30,
    "start_time": "2022-12-06T17:11:42.118Z"
   },
   {
    "duration": 40,
    "start_time": "2022-12-06T17:11:42.149Z"
   },
   {
    "duration": 4,
    "start_time": "2022-12-06T17:11:42.190Z"
   },
   {
    "duration": 23,
    "start_time": "2022-12-06T17:11:42.196Z"
   },
   {
    "duration": 20,
    "start_time": "2022-12-06T17:11:42.221Z"
   },
   {
    "duration": 28,
    "start_time": "2022-12-06T17:11:42.243Z"
   },
   {
    "duration": 10,
    "start_time": "2022-12-06T17:11:42.275Z"
   },
   {
    "duration": 56,
    "start_time": "2022-12-06T17:11:42.287Z"
   },
   {
    "duration": 13,
    "start_time": "2022-12-06T17:11:42.345Z"
   },
   {
    "duration": 20,
    "start_time": "2022-12-06T17:11:42.360Z"
   },
   {
    "duration": 27,
    "start_time": "2022-12-06T17:11:42.381Z"
   },
   {
    "duration": 28,
    "start_time": "2022-12-06T17:11:42.410Z"
   },
   {
    "duration": 21,
    "start_time": "2022-12-06T17:11:42.439Z"
   },
   {
    "duration": 3,
    "start_time": "2022-12-06T17:11:42.463Z"
   },
   {
    "duration": 18,
    "start_time": "2022-12-06T17:11:42.468Z"
   },
   {
    "duration": 24,
    "start_time": "2022-12-06T17:11:42.488Z"
   },
   {
    "duration": 9,
    "start_time": "2022-12-06T17:11:42.514Z"
   },
   {
    "duration": 20,
    "start_time": "2022-12-06T17:11:42.524Z"
   },
   {
    "duration": 7,
    "start_time": "2022-12-06T17:11:42.546Z"
   },
   {
    "duration": 17,
    "start_time": "2022-12-06T17:11:42.554Z"
   },
   {
    "duration": 7,
    "start_time": "2022-12-06T17:11:42.573Z"
   },
   {
    "duration": 922,
    "start_time": "2022-12-06T17:11:42.581Z"
   },
   {
    "duration": 6,
    "start_time": "2022-12-06T17:11:43.504Z"
   },
   {
    "duration": 17,
    "start_time": "2022-12-06T17:11:43.511Z"
   },
   {
    "duration": 11,
    "start_time": "2022-12-06T17:11:48.449Z"
   },
   {
    "duration": 10,
    "start_time": "2022-12-06T17:12:15.515Z"
   },
   {
    "duration": 11,
    "start_time": "2022-12-06T17:12:18.106Z"
   },
   {
    "duration": 545,
    "start_time": "2022-12-06T17:12:39.969Z"
   },
   {
    "duration": 25,
    "start_time": "2022-12-06T17:12:40.516Z"
   },
   {
    "duration": 22,
    "start_time": "2022-12-06T17:12:40.543Z"
   },
   {
    "duration": 16,
    "start_time": "2022-12-06T17:12:40.568Z"
   },
   {
    "duration": 58,
    "start_time": "2022-12-06T17:12:40.588Z"
   },
   {
    "duration": 5,
    "start_time": "2022-12-06T17:12:40.648Z"
   },
   {
    "duration": 33,
    "start_time": "2022-12-06T17:12:40.655Z"
   },
   {
    "duration": 22,
    "start_time": "2022-12-06T17:12:40.690Z"
   },
   {
    "duration": 35,
    "start_time": "2022-12-06T17:12:40.716Z"
   },
   {
    "duration": 7,
    "start_time": "2022-12-06T17:12:40.753Z"
   },
   {
    "duration": 60,
    "start_time": "2022-12-06T17:12:40.761Z"
   },
   {
    "duration": 11,
    "start_time": "2022-12-06T17:12:40.823Z"
   },
   {
    "duration": 7,
    "start_time": "2022-12-06T17:12:40.836Z"
   },
   {
    "duration": 17,
    "start_time": "2022-12-06T17:12:40.846Z"
   },
   {
    "duration": 24,
    "start_time": "2022-12-06T17:12:40.864Z"
   },
   {
    "duration": 18,
    "start_time": "2022-12-06T17:12:40.890Z"
   },
   {
    "duration": 3,
    "start_time": "2022-12-06T17:12:40.910Z"
   },
   {
    "duration": 16,
    "start_time": "2022-12-06T17:12:40.915Z"
   },
   {
    "duration": 22,
    "start_time": "2022-12-06T17:12:40.934Z"
   },
   {
    "duration": 4,
    "start_time": "2022-12-06T17:12:40.958Z"
   },
   {
    "duration": 13,
    "start_time": "2022-12-06T17:12:40.964Z"
   },
   {
    "duration": 8,
    "start_time": "2022-12-06T17:12:40.979Z"
   },
   {
    "duration": 22,
    "start_time": "2022-12-06T17:12:40.988Z"
   },
   {
    "duration": 3,
    "start_time": "2022-12-06T17:12:41.012Z"
   },
   {
    "duration": 959,
    "start_time": "2022-12-06T17:12:41.016Z"
   },
   {
    "duration": 6,
    "start_time": "2022-12-06T17:12:41.976Z"
   },
   {
    "duration": 14,
    "start_time": "2022-12-06T17:12:41.984Z"
   },
   {
    "duration": 15,
    "start_time": "2022-12-06T17:12:42.000Z"
   },
   {
    "duration": 11,
    "start_time": "2022-12-06T17:12:46.004Z"
   },
   {
    "duration": 511,
    "start_time": "2022-12-06T17:12:54.944Z"
   },
   {
    "duration": 25,
    "start_time": "2022-12-06T17:12:55.457Z"
   },
   {
    "duration": 16,
    "start_time": "2022-12-06T17:12:55.484Z"
   },
   {
    "duration": 10,
    "start_time": "2022-12-06T17:12:55.503Z"
   },
   {
    "duration": 62,
    "start_time": "2022-12-06T17:12:55.514Z"
   },
   {
    "duration": 3,
    "start_time": "2022-12-06T17:12:55.578Z"
   },
   {
    "duration": 11,
    "start_time": "2022-12-06T17:12:55.583Z"
   },
   {
    "duration": 22,
    "start_time": "2022-12-06T17:12:55.596Z"
   },
   {
    "duration": 14,
    "start_time": "2022-12-06T17:12:55.620Z"
   },
   {
    "duration": 5,
    "start_time": "2022-12-06T17:12:55.636Z"
   },
   {
    "duration": 42,
    "start_time": "2022-12-06T17:12:55.643Z"
   },
   {
    "duration": 10,
    "start_time": "2022-12-06T17:12:55.687Z"
   },
   {
    "duration": 6,
    "start_time": "2022-12-06T17:12:55.699Z"
   },
   {
    "duration": 19,
    "start_time": "2022-12-06T17:12:55.707Z"
   },
   {
    "duration": 47,
    "start_time": "2022-12-06T17:12:55.728Z"
   },
   {
    "duration": 23,
    "start_time": "2022-12-06T17:12:55.777Z"
   },
   {
    "duration": 3,
    "start_time": "2022-12-06T17:12:55.802Z"
   },
   {
    "duration": 22,
    "start_time": "2022-12-06T17:12:55.807Z"
   },
   {
    "duration": 23,
    "start_time": "2022-12-06T17:12:55.831Z"
   },
   {
    "duration": 9,
    "start_time": "2022-12-06T17:12:55.855Z"
   },
   {
    "duration": 12,
    "start_time": "2022-12-06T17:12:55.865Z"
   },
   {
    "duration": 9,
    "start_time": "2022-12-06T17:12:55.878Z"
   },
   {
    "duration": 16,
    "start_time": "2022-12-06T17:12:55.888Z"
   },
   {
    "duration": 3,
    "start_time": "2022-12-06T17:12:55.906Z"
   },
   {
    "duration": 942,
    "start_time": "2022-12-06T17:12:55.911Z"
   },
   {
    "duration": 6,
    "start_time": "2022-12-06T17:12:56.855Z"
   },
   {
    "duration": 8,
    "start_time": "2022-12-06T17:12:56.862Z"
   },
   {
    "duration": 13,
    "start_time": "2022-12-06T17:17:33.711Z"
   },
   {
    "duration": 121,
    "start_time": "2022-12-06T18:22:38.876Z"
   },
   {
    "duration": 16,
    "start_time": "2022-12-06T18:39:14.168Z"
   },
   {
    "duration": 1204,
    "start_time": "2022-12-06T18:39:35.662Z"
   },
   {
    "duration": 13,
    "start_time": "2022-12-06T18:39:49.414Z"
   },
   {
    "duration": 10,
    "start_time": "2022-12-06T18:39:54.039Z"
   },
   {
    "duration": 219,
    "start_time": "2022-12-06T18:49:07.305Z"
   },
   {
    "duration": 173,
    "start_time": "2022-12-06T19:01:18.777Z"
   },
   {
    "duration": 552,
    "start_time": "2022-12-06T19:01:43.204Z"
   },
   {
    "duration": 29,
    "start_time": "2022-12-06T19:01:43.759Z"
   },
   {
    "duration": 19,
    "start_time": "2022-12-06T19:01:43.790Z"
   },
   {
    "duration": 46,
    "start_time": "2022-12-06T19:01:43.811Z"
   },
   {
    "duration": 55,
    "start_time": "2022-12-06T19:01:43.859Z"
   },
   {
    "duration": 4,
    "start_time": "2022-12-06T19:01:43.916Z"
   },
   {
    "duration": 14,
    "start_time": "2022-12-06T19:01:43.921Z"
   },
   {
    "duration": 19,
    "start_time": "2022-12-06T19:01:43.937Z"
   },
   {
    "duration": 16,
    "start_time": "2022-12-06T19:01:43.958Z"
   },
   {
    "duration": 7,
    "start_time": "2022-12-06T19:01:43.977Z"
   },
   {
    "duration": 89,
    "start_time": "2022-12-06T19:01:43.986Z"
   },
   {
    "duration": 17,
    "start_time": "2022-12-06T19:01:44.077Z"
   },
   {
    "duration": 4,
    "start_time": "2022-12-06T19:01:44.096Z"
   },
   {
    "duration": 28,
    "start_time": "2022-12-06T19:01:44.102Z"
   },
   {
    "duration": 40,
    "start_time": "2022-12-06T19:01:44.133Z"
   },
   {
    "duration": 29,
    "start_time": "2022-12-06T19:01:44.176Z"
   },
   {
    "duration": 5,
    "start_time": "2022-12-06T19:01:44.208Z"
   },
   {
    "duration": 41,
    "start_time": "2022-12-06T19:01:44.215Z"
   },
   {
    "duration": 8,
    "start_time": "2022-12-06T19:01:44.259Z"
   },
   {
    "duration": 5,
    "start_time": "2022-12-06T19:01:44.269Z"
   },
   {
    "duration": 17,
    "start_time": "2022-12-06T19:01:44.277Z"
   },
   {
    "duration": 11,
    "start_time": "2022-12-06T19:01:44.297Z"
   },
   {
    "duration": 41,
    "start_time": "2022-12-06T19:01:44.311Z"
   },
   {
    "duration": 1243,
    "start_time": "2022-12-06T19:01:44.355Z"
   },
   {
    "duration": 6,
    "start_time": "2022-12-06T19:03:18.494Z"
   },
   {
    "duration": 5,
    "start_time": "2022-12-06T19:03:21.959Z"
   },
   {
    "duration": 72,
    "start_time": "2022-12-06T19:03:38.539Z"
   },
   {
    "duration": 10,
    "start_time": "2022-12-06T19:06:35.122Z"
   },
   {
    "duration": 144,
    "start_time": "2022-12-06T19:06:56.877Z"
   },
   {
    "duration": 115,
    "start_time": "2022-12-06T19:13:39.140Z"
   },
   {
    "duration": 10,
    "start_time": "2022-12-06T19:14:00.099Z"
   },
   {
    "duration": 485,
    "start_time": "2022-12-06T19:16:09.977Z"
   },
   {
    "duration": 23,
    "start_time": "2022-12-06T19:16:10.464Z"
   },
   {
    "duration": 17,
    "start_time": "2022-12-06T19:16:10.488Z"
   },
   {
    "duration": 12,
    "start_time": "2022-12-06T19:16:10.508Z"
   },
   {
    "duration": 60,
    "start_time": "2022-12-06T19:16:10.522Z"
   },
   {
    "duration": 4,
    "start_time": "2022-12-06T19:16:10.584Z"
   },
   {
    "duration": 14,
    "start_time": "2022-12-06T19:16:10.590Z"
   },
   {
    "duration": 6,
    "start_time": "2022-12-06T19:16:10.606Z"
   },
   {
    "duration": 14,
    "start_time": "2022-12-06T19:16:10.614Z"
   },
   {
    "duration": 7,
    "start_time": "2022-12-06T19:16:10.652Z"
   },
   {
    "duration": 43,
    "start_time": "2022-12-06T19:16:10.660Z"
   },
   {
    "duration": 11,
    "start_time": "2022-12-06T19:16:10.705Z"
   },
   {
    "duration": 8,
    "start_time": "2022-12-06T19:16:10.717Z"
   },
   {
    "duration": 34,
    "start_time": "2022-12-06T19:16:10.726Z"
   },
   {
    "duration": 30,
    "start_time": "2022-12-06T19:16:10.762Z"
   },
   {
    "duration": 27,
    "start_time": "2022-12-06T19:16:10.793Z"
   },
   {
    "duration": 4,
    "start_time": "2022-12-06T19:16:10.823Z"
   },
   {
    "duration": 23,
    "start_time": "2022-12-06T19:16:10.828Z"
   },
   {
    "duration": 7,
    "start_time": "2022-12-06T19:16:10.852Z"
   },
   {
    "duration": 8,
    "start_time": "2022-12-06T19:16:10.861Z"
   },
   {
    "duration": 14,
    "start_time": "2022-12-06T19:16:10.870Z"
   },
   {
    "duration": 7,
    "start_time": "2022-12-06T19:16:10.886Z"
   },
   {
    "duration": 18,
    "start_time": "2022-12-06T19:16:10.894Z"
   },
   {
    "duration": 947,
    "start_time": "2022-12-06T19:16:10.914Z"
   },
   {
    "duration": 6,
    "start_time": "2022-12-06T19:16:11.863Z"
   },
   {
    "duration": 6,
    "start_time": "2022-12-06T19:16:11.870Z"
   },
   {
    "duration": 12,
    "start_time": "2022-12-06T19:16:11.877Z"
   },
   {
    "duration": 146,
    "start_time": "2022-12-06T19:16:11.892Z"
   },
   {
    "duration": 18,
    "start_time": "2022-12-06T19:16:12.040Z"
   },
   {
    "duration": 11,
    "start_time": "2022-12-06T19:18:07.409Z"
   },
   {
    "duration": 9,
    "start_time": "2022-12-06T19:18:13.063Z"
   },
   {
    "duration": 509,
    "start_time": "2022-12-06T19:18:35.547Z"
   },
   {
    "duration": 25,
    "start_time": "2022-12-06T19:18:36.058Z"
   },
   {
    "duration": 18,
    "start_time": "2022-12-06T19:18:36.085Z"
   },
   {
    "duration": 12,
    "start_time": "2022-12-06T19:18:36.105Z"
   },
   {
    "duration": 81,
    "start_time": "2022-12-06T19:18:36.119Z"
   },
   {
    "duration": 4,
    "start_time": "2022-12-06T19:18:36.203Z"
   },
   {
    "duration": 21,
    "start_time": "2022-12-06T19:18:36.209Z"
   },
   {
    "duration": 22,
    "start_time": "2022-12-06T19:18:36.232Z"
   },
   {
    "duration": 12,
    "start_time": "2022-12-06T19:18:36.256Z"
   },
   {
    "duration": 5,
    "start_time": "2022-12-06T19:18:36.272Z"
   },
   {
    "duration": 72,
    "start_time": "2022-12-06T19:18:36.279Z"
   },
   {
    "duration": 15,
    "start_time": "2022-12-06T19:18:36.353Z"
   },
   {
    "duration": 9,
    "start_time": "2022-12-06T19:18:36.370Z"
   },
   {
    "duration": 38,
    "start_time": "2022-12-06T19:18:36.381Z"
   },
   {
    "duration": 30,
    "start_time": "2022-12-06T19:18:36.421Z"
   },
   {
    "duration": 19,
    "start_time": "2022-12-06T19:18:36.453Z"
   },
   {
    "duration": 5,
    "start_time": "2022-12-06T19:18:36.474Z"
   },
   {
    "duration": 17,
    "start_time": "2022-12-06T19:18:36.481Z"
   },
   {
    "duration": 13,
    "start_time": "2022-12-06T19:18:36.501Z"
   },
   {
    "duration": 4,
    "start_time": "2022-12-06T19:18:36.516Z"
   },
   {
    "duration": 41,
    "start_time": "2022-12-06T19:18:36.522Z"
   },
   {
    "duration": 9,
    "start_time": "2022-12-06T19:18:36.566Z"
   },
   {
    "duration": 18,
    "start_time": "2022-12-06T19:18:36.577Z"
   },
   {
    "duration": 995,
    "start_time": "2022-12-06T19:18:36.596Z"
   },
   {
    "duration": 6,
    "start_time": "2022-12-06T19:18:37.594Z"
   },
   {
    "duration": 8,
    "start_time": "2022-12-06T19:18:37.603Z"
   },
   {
    "duration": 17,
    "start_time": "2022-12-06T19:18:37.613Z"
   },
   {
    "duration": 158,
    "start_time": "2022-12-06T19:18:37.650Z"
   },
   {
    "duration": 10,
    "start_time": "2022-12-06T19:18:37.810Z"
   },
   {
    "duration": 120,
    "start_time": "2022-12-06T19:21:47.508Z"
   },
   {
    "duration": 11,
    "start_time": "2022-12-06T19:22:06.085Z"
   },
   {
    "duration": 10,
    "start_time": "2022-12-06T19:22:11.681Z"
   },
   {
    "duration": 11,
    "start_time": "2022-12-06T19:22:37.192Z"
   },
   {
    "duration": 461,
    "start_time": "2022-12-06T19:23:27.801Z"
   },
   {
    "duration": 23,
    "start_time": "2022-12-06T19:23:28.264Z"
   },
   {
    "duration": 16,
    "start_time": "2022-12-06T19:23:28.288Z"
   },
   {
    "duration": 12,
    "start_time": "2022-12-06T19:23:28.306Z"
   },
   {
    "duration": 64,
    "start_time": "2022-12-06T19:23:28.320Z"
   },
   {
    "duration": 4,
    "start_time": "2022-12-06T19:23:28.386Z"
   },
   {
    "duration": 16,
    "start_time": "2022-12-06T19:23:28.391Z"
   },
   {
    "duration": 5,
    "start_time": "2022-12-06T19:23:28.408Z"
   },
   {
    "duration": 8,
    "start_time": "2022-12-06T19:23:28.415Z"
   },
   {
    "duration": 28,
    "start_time": "2022-12-06T19:23:28.424Z"
   },
   {
    "duration": 38,
    "start_time": "2022-12-06T19:23:28.454Z"
   },
   {
    "duration": 13,
    "start_time": "2022-12-06T19:23:28.493Z"
   },
   {
    "duration": 4,
    "start_time": "2022-12-06T19:23:28.507Z"
   },
   {
    "duration": 40,
    "start_time": "2022-12-06T19:23:28.514Z"
   },
   {
    "duration": 20,
    "start_time": "2022-12-06T19:23:28.555Z"
   },
   {
    "duration": 18,
    "start_time": "2022-12-06T19:23:28.577Z"
   },
   {
    "duration": 3,
    "start_time": "2022-12-06T19:23:28.597Z"
   },
   {
    "duration": 14,
    "start_time": "2022-12-06T19:23:28.601Z"
   },
   {
    "duration": 6,
    "start_time": "2022-12-06T19:23:28.617Z"
   },
   {
    "duration": 4,
    "start_time": "2022-12-06T19:23:28.651Z"
   },
   {
    "duration": 11,
    "start_time": "2022-12-06T19:23:28.657Z"
   },
   {
    "duration": 4,
    "start_time": "2022-12-06T19:23:28.669Z"
   },
   {
    "duration": 17,
    "start_time": "2022-12-06T19:23:28.675Z"
   },
   {
    "duration": 1030,
    "start_time": "2022-12-06T19:23:28.694Z"
   },
   {
    "duration": 7,
    "start_time": "2022-12-06T19:23:29.726Z"
   },
   {
    "duration": 19,
    "start_time": "2022-12-06T19:23:29.735Z"
   },
   {
    "duration": 17,
    "start_time": "2022-12-06T19:23:29.756Z"
   },
   {
    "duration": 177,
    "start_time": "2022-12-06T19:23:29.775Z"
   },
   {
    "duration": 11,
    "start_time": "2022-12-06T19:23:29.954Z"
   },
   {
    "duration": 15,
    "start_time": "2022-12-06T19:38:24.184Z"
   },
   {
    "duration": 11,
    "start_time": "2022-12-06T19:38:48.400Z"
   },
   {
    "duration": 134,
    "start_time": "2022-12-06T19:38:54.601Z"
   },
   {
    "duration": 7,
    "start_time": "2022-12-06T19:38:57.409Z"
   },
   {
    "duration": 5,
    "start_time": "2022-12-06T19:38:58.124Z"
   },
   {
    "duration": 12,
    "start_time": "2022-12-06T19:39:00.520Z"
   },
   {
    "duration": 128,
    "start_time": "2022-12-06T19:39:02.683Z"
   },
   {
    "duration": 15,
    "start_time": "2022-12-06T19:39:07.068Z"
   },
   {
    "duration": 118,
    "start_time": "2022-12-06T19:40:35.458Z"
   },
   {
    "duration": 17,
    "start_time": "2022-12-06T19:41:10.149Z"
   },
   {
    "duration": 23,
    "start_time": "2022-12-06T19:41:30.870Z"
   },
   {
    "duration": 19,
    "start_time": "2022-12-06T19:41:54.441Z"
   },
   {
    "duration": 14,
    "start_time": "2022-12-06T19:42:03.030Z"
   },
   {
    "duration": 4,
    "start_time": "2022-12-06T19:42:10.267Z"
   },
   {
    "duration": 11,
    "start_time": "2022-12-06T19:42:11.629Z"
   },
   {
    "duration": 135,
    "start_time": "2022-12-06T19:42:14.006Z"
   },
   {
    "duration": 6,
    "start_time": "2022-12-06T19:42:15.600Z"
   },
   {
    "duration": 5,
    "start_time": "2022-12-06T19:42:17.180Z"
   },
   {
    "duration": 11,
    "start_time": "2022-12-06T19:42:21.349Z"
   },
   {
    "duration": 152,
    "start_time": "2022-12-06T19:42:22.137Z"
   },
   {
    "duration": 15,
    "start_time": "2022-12-06T19:42:28.656Z"
   },
   {
    "duration": 19,
    "start_time": "2022-12-06T19:42:51.456Z"
   },
   {
    "duration": 17,
    "start_time": "2022-12-06T19:43:20.137Z"
   },
   {
    "duration": 24,
    "start_time": "2022-12-06T19:43:58.430Z"
   },
   {
    "duration": 18,
    "start_time": "2022-12-06T19:44:09.141Z"
   },
   {
    "duration": 3,
    "start_time": "2022-12-06T19:44:19.278Z"
   },
   {
    "duration": 13,
    "start_time": "2022-12-06T19:44:21.081Z"
   },
   {
    "duration": 135,
    "start_time": "2022-12-06T19:44:24.201Z"
   },
   {
    "duration": 5,
    "start_time": "2022-12-06T19:44:25.785Z"
   },
   {
    "duration": 4,
    "start_time": "2022-12-06T19:44:27.641Z"
   },
   {
    "duration": 12,
    "start_time": "2022-12-06T19:44:30.025Z"
   },
   {
    "duration": 143,
    "start_time": "2022-12-06T19:44:32.853Z"
   },
   {
    "duration": 16,
    "start_time": "2022-12-06T19:44:38.694Z"
   },
   {
    "duration": 17,
    "start_time": "2022-12-06T19:49:37.209Z"
   },
   {
    "duration": 75,
    "start_time": "2022-12-06T19:49:40.760Z"
   },
   {
    "duration": 71,
    "start_time": "2022-12-06T19:49:46.130Z"
   },
   {
    "duration": 15,
    "start_time": "2022-12-06T19:50:01.371Z"
   },
   {
    "duration": 15,
    "start_time": "2022-12-06T19:50:13.710Z"
   },
   {
    "duration": 16,
    "start_time": "2022-12-06T19:50:17.767Z"
   },
   {
    "duration": 602,
    "start_time": "2022-12-06T19:52:53.466Z"
   },
   {
    "duration": 1313,
    "start_time": "2022-12-06T19:53:27.751Z"
   },
   {
    "duration": 20,
    "start_time": "2022-12-06T19:53:49.640Z"
   },
   {
    "duration": 133,
    "start_time": "2022-12-06T19:54:24.674Z"
   },
   {
    "duration": 16,
    "start_time": "2022-12-06T19:56:09.361Z"
   },
   {
    "duration": 229,
    "start_time": "2022-12-06T19:56:14.929Z"
   },
   {
    "duration": 4,
    "start_time": "2022-12-06T20:14:22.190Z"
   },
   {
    "duration": 5,
    "start_time": "2022-12-06T20:14:41.242Z"
   },
   {
    "duration": 72,
    "start_time": "2022-12-06T20:26:55.466Z"
   },
   {
    "duration": 16,
    "start_time": "2022-12-06T20:27:17.872Z"
   },
   {
    "duration": 13,
    "start_time": "2022-12-06T20:27:28.014Z"
   },
   {
    "duration": 6,
    "start_time": "2022-12-06T20:30:49.343Z"
   },
   {
    "duration": 125,
    "start_time": "2022-12-06T20:32:36.999Z"
   },
   {
    "duration": 23,
    "start_time": "2022-12-06T20:40:34.487Z"
   },
   {
    "duration": 25,
    "start_time": "2022-12-06T20:40:40.808Z"
   },
   {
    "duration": 20,
    "start_time": "2022-12-06T20:40:44.457Z"
   },
   {
    "duration": 9,
    "start_time": "2022-12-06T20:41:03.821Z"
   },
   {
    "duration": 10,
    "start_time": "2022-12-06T20:41:12.173Z"
   },
   {
    "duration": 8,
    "start_time": "2022-12-06T20:41:20.320Z"
   },
   {
    "duration": 9,
    "start_time": "2022-12-06T20:42:16.457Z"
   },
   {
    "duration": 139,
    "start_time": "2022-12-06T20:42:19.813Z"
   },
   {
    "duration": 13,
    "start_time": "2022-12-06T22:08:58.635Z"
   },
   {
    "duration": 129,
    "start_time": "2022-12-06T22:09:53.349Z"
   },
   {
    "duration": 134,
    "start_time": "2022-12-06T22:10:09.919Z"
   },
   {
    "duration": 15,
    "start_time": "2022-12-06T22:41:43.518Z"
   },
   {
    "duration": 14,
    "start_time": "2022-12-06T22:41:50.771Z"
   },
   {
    "duration": 18,
    "start_time": "2022-12-06T22:41:55.263Z"
   },
   {
    "duration": 144,
    "start_time": "2022-12-06T22:42:00.430Z"
   },
   {
    "duration": 13,
    "start_time": "2022-12-06T22:42:30.051Z"
   },
   {
    "duration": 129,
    "start_time": "2022-12-06T22:42:33.112Z"
   },
   {
    "duration": 13,
    "start_time": "2022-12-06T22:49:08.711Z"
   },
   {
    "duration": 11,
    "start_time": "2022-12-06T22:49:13.383Z"
   },
   {
    "duration": 127,
    "start_time": "2022-12-06T22:49:15.402Z"
   },
   {
    "duration": 19,
    "start_time": "2022-12-06T22:49:48.447Z"
   },
   {
    "duration": 18,
    "start_time": "2022-12-06T22:49:54.186Z"
   },
   {
    "duration": 14,
    "start_time": "2022-12-06T22:50:12.179Z"
   },
   {
    "duration": 8,
    "start_time": "2022-12-06T22:50:15.978Z"
   },
   {
    "duration": 171,
    "start_time": "2022-12-06T22:50:18.962Z"
   },
   {
    "duration": 50,
    "start_time": "2022-12-07T10:52:08.898Z"
   },
   {
    "duration": 719,
    "start_time": "2022-12-07T10:52:43.195Z"
   },
   {
    "duration": 26,
    "start_time": "2022-12-07T10:52:43.916Z"
   },
   {
    "duration": 16,
    "start_time": "2022-12-07T10:52:43.944Z"
   },
   {
    "duration": 10,
    "start_time": "2022-12-07T10:52:43.962Z"
   },
   {
    "duration": 45,
    "start_time": "2022-12-07T10:52:43.975Z"
   },
   {
    "duration": 4,
    "start_time": "2022-12-07T10:52:44.022Z"
   },
   {
    "duration": 9,
    "start_time": "2022-12-07T10:52:44.028Z"
   },
   {
    "duration": 5,
    "start_time": "2022-12-07T10:52:44.038Z"
   },
   {
    "duration": 9,
    "start_time": "2022-12-07T10:52:44.044Z"
   },
   {
    "duration": 4,
    "start_time": "2022-12-07T10:52:44.055Z"
   },
   {
    "duration": 66,
    "start_time": "2022-12-07T10:52:44.061Z"
   },
   {
    "duration": 9,
    "start_time": "2022-12-07T10:52:44.128Z"
   },
   {
    "duration": 4,
    "start_time": "2022-12-07T10:52:44.139Z"
   },
   {
    "duration": 11,
    "start_time": "2022-12-07T10:52:44.146Z"
   },
   {
    "duration": 48,
    "start_time": "2022-12-07T10:52:44.159Z"
   },
   {
    "duration": 17,
    "start_time": "2022-12-07T10:52:44.209Z"
   },
   {
    "duration": 4,
    "start_time": "2022-12-07T10:52:44.228Z"
   },
   {
    "duration": 13,
    "start_time": "2022-12-07T10:52:44.233Z"
   },
   {
    "duration": 6,
    "start_time": "2022-12-07T10:52:44.248Z"
   },
   {
    "duration": 4,
    "start_time": "2022-12-07T10:52:44.255Z"
   },
   {
    "duration": 35,
    "start_time": "2022-12-07T10:52:44.261Z"
   },
   {
    "duration": 3,
    "start_time": "2022-12-07T10:52:44.298Z"
   },
   {
    "duration": 13,
    "start_time": "2022-12-07T10:52:44.303Z"
   },
   {
    "duration": 1097,
    "start_time": "2022-12-07T10:52:44.317Z"
   },
   {
    "duration": 5,
    "start_time": "2022-12-07T10:52:45.416Z"
   },
   {
    "duration": 10,
    "start_time": "2022-12-07T10:52:45.422Z"
   },
   {
    "duration": 12,
    "start_time": "2022-12-07T10:52:45.433Z"
   },
   {
    "duration": 141,
    "start_time": "2022-12-07T10:52:45.447Z"
   },
   {
    "duration": 21,
    "start_time": "2022-12-07T10:52:45.589Z"
   },
   {
    "duration": 143,
    "start_time": "2022-12-07T10:52:45.611Z"
   },
   {
    "duration": 13,
    "start_time": "2022-12-07T10:52:45.756Z"
   },
   {
    "duration": 155,
    "start_time": "2022-12-07T10:52:45.771Z"
   },
   {
    "duration": 13,
    "start_time": "2022-12-07T10:52:45.928Z"
   },
   {
    "duration": 7,
    "start_time": "2022-12-07T10:52:45.943Z"
   },
   {
    "duration": 132,
    "start_time": "2022-12-07T10:52:45.952Z"
   },
   {
    "duration": 21,
    "start_time": "2022-12-07T10:52:46.086Z"
   },
   {
    "duration": 16,
    "start_time": "2022-12-07T10:53:02.912Z"
   },
   {
    "duration": 15,
    "start_time": "2022-12-07T10:53:09.467Z"
   },
   {
    "duration": 121,
    "start_time": "2022-12-07T10:54:04.647Z"
   },
   {
    "duration": 3,
    "start_time": "2022-12-07T11:24:43.166Z"
   },
   {
    "duration": 106,
    "start_time": "2022-12-07T11:24:47.504Z"
   },
   {
    "duration": 3,
    "start_time": "2022-12-07T11:25:15.650Z"
   },
   {
    "duration": 78,
    "start_time": "2022-12-07T11:25:17.522Z"
   },
   {
    "duration": 4,
    "start_time": "2022-12-07T11:27:47.260Z"
   },
   {
    "duration": 26,
    "start_time": "2022-12-07T11:27:50.732Z"
   },
   {
    "duration": 8,
    "start_time": "2022-12-07T11:28:34.505Z"
   },
   {
    "duration": 23,
    "start_time": "2022-12-07T11:31:34.761Z"
   },
   {
    "duration": 4,
    "start_time": "2022-12-07T11:32:46.001Z"
   },
   {
    "duration": 24,
    "start_time": "2022-12-07T11:32:48.374Z"
   },
   {
    "duration": 128,
    "start_time": "2022-12-07T11:32:52.274Z"
   },
   {
    "duration": 6,
    "start_time": "2022-12-07T11:33:09.302Z"
   },
   {
    "duration": 5,
    "start_time": "2022-12-07T11:33:10.092Z"
   },
   {
    "duration": 9,
    "start_time": "2022-12-07T11:33:12.035Z"
   },
   {
    "duration": 207,
    "start_time": "2022-12-07T11:33:12.832Z"
   },
   {
    "duration": 17,
    "start_time": "2022-12-07T11:33:16.732Z"
   },
   {
    "duration": 15,
    "start_time": "2022-12-07T11:33:22.380Z"
   },
   {
    "duration": 16,
    "start_time": "2022-12-07T11:33:24.750Z"
   },
   {
    "duration": 126,
    "start_time": "2022-12-07T11:33:26.227Z"
   },
   {
    "duration": 13,
    "start_time": "2022-12-07T11:33:30.166Z"
   },
   {
    "duration": 134,
    "start_time": "2022-12-07T11:33:31.205Z"
   },
   {
    "duration": 24,
    "start_time": "2022-12-07T11:34:20.425Z"
   },
   {
    "duration": 145,
    "start_time": "2022-12-07T11:34:24.801Z"
   },
   {
    "duration": 31,
    "start_time": "2022-12-07T11:34:53.197Z"
   },
   {
    "duration": 131,
    "start_time": "2022-12-07T11:34:55.582Z"
   },
   {
    "duration": 883,
    "start_time": "2022-12-07T12:05:40.445Z"
   },
   {
    "duration": 4,
    "start_time": "2022-12-07T12:05:52.230Z"
   },
   {
    "duration": 6,
    "start_time": "2022-12-07T12:06:56.930Z"
   },
   {
    "duration": 66,
    "start_time": "2022-12-07T12:07:23.876Z"
   },
   {
    "duration": 6,
    "start_time": "2022-12-07T12:07:30.345Z"
   },
   {
    "duration": 6,
    "start_time": "2022-12-07T12:07:40.552Z"
   },
   {
    "duration": 5,
    "start_time": "2022-12-07T12:09:01.723Z"
   },
   {
    "duration": 4,
    "start_time": "2022-12-07T13:03:36.803Z"
   },
   {
    "duration": 5,
    "start_time": "2022-12-07T13:04:59.116Z"
   },
   {
    "duration": 4,
    "start_time": "2022-12-07T13:06:55.116Z"
   },
   {
    "duration": 4,
    "start_time": "2022-12-07T13:07:15.979Z"
   },
   {
    "duration": 4,
    "start_time": "2022-12-07T13:07:18.855Z"
   },
   {
    "duration": 7,
    "start_time": "2022-12-07T13:07:24.959Z"
   },
   {
    "duration": 48,
    "start_time": "2022-12-07T16:43:12.142Z"
   },
   {
    "duration": 45,
    "start_time": "2022-12-07T16:43:20.129Z"
   },
   {
    "duration": 9,
    "start_time": "2022-12-07T16:43:34.551Z"
   },
   {
    "duration": 3,
    "start_time": "2022-12-07T16:43:54.754Z"
   },
   {
    "duration": 9,
    "start_time": "2022-12-07T16:44:18.013Z"
   },
   {
    "duration": 9,
    "start_time": "2022-12-07T16:44:29.421Z"
   },
   {
    "duration": 8,
    "start_time": "2022-12-07T16:44:44.553Z"
   },
   {
    "duration": 8,
    "start_time": "2022-12-07T16:45:29.966Z"
   },
   {
    "duration": 10,
    "start_time": "2022-12-07T16:45:39.535Z"
   },
   {
    "duration": 5,
    "start_time": "2022-12-07T16:46:05.085Z"
   },
   {
    "duration": 8,
    "start_time": "2022-12-07T16:46:36.361Z"
   },
   {
    "duration": 8,
    "start_time": "2022-12-07T16:48:25.469Z"
   },
   {
    "duration": 49,
    "start_time": "2022-12-07T16:49:54.612Z"
   },
   {
    "duration": 55,
    "start_time": "2022-12-07T16:49:58.785Z"
   },
   {
    "duration": 56,
    "start_time": "2022-12-07T16:50:30.399Z"
   },
   {
    "duration": 4,
    "start_time": "2022-12-07T16:50:48.220Z"
   },
   {
    "duration": 9,
    "start_time": "2022-12-07T16:51:39.249Z"
   },
   {
    "duration": 10,
    "start_time": "2022-12-07T16:51:50.347Z"
   },
   {
    "duration": 4,
    "start_time": "2022-12-07T16:52:00.495Z"
   },
   {
    "duration": 8,
    "start_time": "2022-12-07T16:52:54.715Z"
   },
   {
    "duration": 9,
    "start_time": "2022-12-07T16:53:19.592Z"
   },
   {
    "duration": 14,
    "start_time": "2022-12-07T16:54:02.388Z"
   },
   {
    "duration": 5,
    "start_time": "2022-12-07T16:57:18.477Z"
   },
   {
    "duration": 9,
    "start_time": "2022-12-07T16:57:26.479Z"
   },
   {
    "duration": 15,
    "start_time": "2022-12-07T16:59:02.977Z"
   },
   {
    "duration": 13,
    "start_time": "2022-12-07T16:59:21.972Z"
   },
   {
    "duration": 7,
    "start_time": "2022-12-07T16:59:33.325Z"
   },
   {
    "duration": 9,
    "start_time": "2022-12-07T17:00:10.373Z"
   },
   {
    "duration": 6,
    "start_time": "2022-12-07T17:00:19.692Z"
   },
   {
    "duration": 9,
    "start_time": "2022-12-07T17:02:17.561Z"
   },
   {
    "duration": 3,
    "start_time": "2022-12-07T17:02:37.928Z"
   },
   {
    "duration": 4,
    "start_time": "2022-12-07T17:02:43.748Z"
   },
   {
    "duration": 6,
    "start_time": "2022-12-07T17:03:33.767Z"
   },
   {
    "duration": 5,
    "start_time": "2022-12-07T17:03:54.487Z"
   },
   {
    "duration": 5,
    "start_time": "2022-12-07T17:04:27.512Z"
   },
   {
    "duration": 8,
    "start_time": "2022-12-07T17:07:35.641Z"
   },
   {
    "duration": 7,
    "start_time": "2022-12-07T17:22:08.059Z"
   },
   {
    "duration": 5,
    "start_time": "2022-12-07T17:22:10.040Z"
   },
   {
    "duration": 4,
    "start_time": "2022-12-07T17:22:11.582Z"
   },
   {
    "duration": 7,
    "start_time": "2022-12-07T17:22:20.239Z"
   },
   {
    "duration": 3,
    "start_time": "2022-12-07T17:22:43.344Z"
   },
   {
    "duration": 8,
    "start_time": "2022-12-07T17:22:50.448Z"
   },
   {
    "duration": 7,
    "start_time": "2022-12-07T17:34:56.690Z"
   },
   {
    "duration": 4,
    "start_time": "2022-12-07T17:34:57.372Z"
   },
   {
    "duration": 5,
    "start_time": "2022-12-07T17:35:00.663Z"
   },
   {
    "duration": 7,
    "start_time": "2022-12-07T17:35:13.797Z"
   },
   {
    "duration": 4,
    "start_time": "2022-12-07T17:35:15.106Z"
   },
   {
    "duration": 6,
    "start_time": "2022-12-07T17:35:15.995Z"
   },
   {
    "duration": 8,
    "start_time": "2022-12-07T17:36:31.446Z"
   },
   {
    "duration": 4,
    "start_time": "2022-12-07T17:36:32.211Z"
   },
   {
    "duration": 5,
    "start_time": "2022-12-07T17:36:32.951Z"
   },
   {
    "duration": 7,
    "start_time": "2022-12-07T17:36:44.792Z"
   },
   {
    "duration": 6,
    "start_time": "2022-12-07T17:36:46.131Z"
   },
   {
    "duration": 5,
    "start_time": "2022-12-07T17:36:46.846Z"
   },
   {
    "duration": 7,
    "start_time": "2022-12-07T17:43:36.709Z"
   },
   {
    "duration": 5,
    "start_time": "2022-12-07T17:43:37.924Z"
   },
   {
    "duration": 5,
    "start_time": "2022-12-07T17:43:38.672Z"
   },
   {
    "duration": 7,
    "start_time": "2022-12-07T17:43:55.836Z"
   },
   {
    "duration": 5,
    "start_time": "2022-12-07T17:43:57.510Z"
   },
   {
    "duration": 7,
    "start_time": "2022-12-07T17:44:00.766Z"
   },
   {
    "duration": 7,
    "start_time": "2022-12-07T17:44:27.228Z"
   },
   {
    "duration": 4,
    "start_time": "2022-12-07T17:44:27.966Z"
   },
   {
    "duration": 5,
    "start_time": "2022-12-07T17:44:28.679Z"
   },
   {
    "duration": 7,
    "start_time": "2022-12-07T17:44:36.163Z"
   },
   {
    "duration": 4,
    "start_time": "2022-12-07T17:44:37.634Z"
   },
   {
    "duration": 4,
    "start_time": "2022-12-07T17:44:39.342Z"
   },
   {
    "duration": 9,
    "start_time": "2022-12-07T17:45:04.762Z"
   },
   {
    "duration": 4,
    "start_time": "2022-12-07T17:45:06.509Z"
   },
   {
    "duration": 5,
    "start_time": "2022-12-07T17:45:07.138Z"
   },
   {
    "duration": 8,
    "start_time": "2022-12-07T17:45:23.794Z"
   },
   {
    "duration": 5,
    "start_time": "2022-12-07T17:45:25.076Z"
   },
   {
    "duration": 4,
    "start_time": "2022-12-07T17:45:25.602Z"
   },
   {
    "duration": 5,
    "start_time": "2022-12-07T17:50:43.718Z"
   },
   {
    "duration": 5,
    "start_time": "2022-12-07T17:51:15.279Z"
   },
   {
    "duration": 8,
    "start_time": "2022-12-07T17:51:56.543Z"
   },
   {
    "duration": 682,
    "start_time": "2022-12-07T17:52:36.069Z"
   },
   {
    "duration": 663,
    "start_time": "2022-12-07T17:54:06.300Z"
   },
   {
    "duration": 5,
    "start_time": "2022-12-07T17:54:21.619Z"
   },
   {
    "duration": 4,
    "start_time": "2022-12-07T17:54:24.310Z"
   },
   {
    "duration": 4,
    "start_time": "2022-12-07T17:56:03.532Z"
   },
   {
    "duration": 55,
    "start_time": "2022-12-10T13:41:27.194Z"
   },
   {
    "duration": 616,
    "start_time": "2022-12-10T13:41:44.445Z"
   },
   {
    "duration": 33,
    "start_time": "2022-12-10T13:41:45.064Z"
   },
   {
    "duration": 25,
    "start_time": "2022-12-10T13:41:45.099Z"
   },
   {
    "duration": 24,
    "start_time": "2022-12-10T13:41:45.126Z"
   },
   {
    "duration": 42,
    "start_time": "2022-12-10T13:41:45.153Z"
   },
   {
    "duration": 4,
    "start_time": "2022-12-10T13:41:45.196Z"
   },
   {
    "duration": 14,
    "start_time": "2022-12-10T13:41:45.202Z"
   },
   {
    "duration": 25,
    "start_time": "2022-12-10T13:41:45.218Z"
   },
   {
    "duration": 14,
    "start_time": "2022-12-10T13:41:45.246Z"
   },
   {
    "duration": 5,
    "start_time": "2022-12-10T13:41:45.263Z"
   },
   {
    "duration": 44,
    "start_time": "2022-12-10T13:41:45.270Z"
   },
   {
    "duration": 13,
    "start_time": "2022-12-10T13:41:45.316Z"
   },
   {
    "duration": 19,
    "start_time": "2022-12-10T13:41:45.331Z"
   },
   {
    "duration": 17,
    "start_time": "2022-12-10T13:41:45.354Z"
   },
   {
    "duration": 30,
    "start_time": "2022-12-10T13:41:45.374Z"
   },
   {
    "duration": 35,
    "start_time": "2022-12-10T13:41:45.406Z"
   },
   {
    "duration": 18,
    "start_time": "2022-12-10T13:41:45.444Z"
   },
   {
    "duration": 15,
    "start_time": "2022-12-10T13:41:45.464Z"
   },
   {
    "duration": 17,
    "start_time": "2022-12-10T13:41:45.481Z"
   },
   {
    "duration": 5,
    "start_time": "2022-12-10T13:41:45.500Z"
   },
   {
    "duration": 42,
    "start_time": "2022-12-10T13:41:45.508Z"
   },
   {
    "duration": 10,
    "start_time": "2022-12-10T13:41:45.552Z"
   },
   {
    "duration": 33,
    "start_time": "2022-12-10T13:41:45.563Z"
   },
   {
    "duration": 1157,
    "start_time": "2022-12-10T13:41:45.598Z"
   },
   {
    "duration": 6,
    "start_time": "2022-12-10T13:41:46.757Z"
   },
   {
    "duration": 29,
    "start_time": "2022-12-10T13:41:46.765Z"
   },
   {
    "duration": 15,
    "start_time": "2022-12-10T13:41:46.796Z"
   },
   {
    "duration": 179,
    "start_time": "2022-12-10T13:41:46.816Z"
   },
   {
    "duration": 35,
    "start_time": "2022-12-10T13:41:46.997Z"
   },
   {
    "duration": 139,
    "start_time": "2022-12-10T13:41:47.035Z"
   },
   {
    "duration": 43,
    "start_time": "2022-12-10T13:41:47.176Z"
   },
   {
    "duration": 145,
    "start_time": "2022-12-10T13:41:47.225Z"
   },
   {
    "duration": 7,
    "start_time": "2022-12-10T13:41:47.371Z"
   },
   {
    "duration": 54,
    "start_time": "2022-12-10T13:41:47.379Z"
   },
   {
    "duration": 10,
    "start_time": "2022-12-10T13:41:47.435Z"
   },
   {
    "duration": 144,
    "start_time": "2022-12-10T13:41:47.448Z"
   },
   {
    "duration": 4,
    "start_time": "2022-12-10T13:41:47.594Z"
   },
   {
    "duration": 22,
    "start_time": "2022-12-10T13:41:47.600Z"
   },
   {
    "duration": 5,
    "start_time": "2022-12-10T13:41:47.630Z"
   },
   {
    "duration": 34,
    "start_time": "2022-12-10T13:41:47.638Z"
   },
   {
    "duration": 160,
    "start_time": "2022-12-10T13:41:47.676Z"
   },
   {
    "duration": 358,
    "start_time": "2022-12-10T13:41:47.838Z"
   },
   {
    "duration": 8,
    "start_time": "2022-12-10T13:41:48.198Z"
   },
   {
    "duration": 14,
    "start_time": "2022-12-10T13:41:48.214Z"
   },
   {
    "duration": 9,
    "start_time": "2022-12-10T13:41:48.230Z"
   },
   {
    "duration": 97,
    "start_time": "2022-12-10T13:59:50.396Z"
   },
   {
    "duration": 5,
    "start_time": "2022-12-10T14:00:03.770Z"
   },
   {
    "duration": 97,
    "start_time": "2022-12-10T14:00:26.413Z"
   },
   {
    "duration": 128,
    "start_time": "2022-12-10T14:01:07.135Z"
   },
   {
    "duration": 5,
    "start_time": "2022-12-10T14:01:58.843Z"
   },
   {
    "duration": 4,
    "start_time": "2022-12-10T14:02:39.175Z"
   },
   {
    "duration": 17,
    "start_time": "2022-12-10T14:32:26.674Z"
   },
   {
    "duration": 19,
    "start_time": "2022-12-10T14:32:28.583Z"
   },
   {
    "duration": 31,
    "start_time": "2022-12-10T14:39:37.311Z"
   },
   {
    "duration": 20,
    "start_time": "2022-12-10T14:40:05.226Z"
   },
   {
    "duration": 19,
    "start_time": "2022-12-10T14:40:22.868Z"
   },
   {
    "duration": 93,
    "start_time": "2022-12-10T14:41:21.804Z"
   },
   {
    "duration": 13,
    "start_time": "2022-12-10T14:42:12.129Z"
   },
   {
    "duration": 12,
    "start_time": "2022-12-10T14:44:11.827Z"
   },
   {
    "duration": 12,
    "start_time": "2022-12-10T14:44:30.267Z"
   },
   {
    "duration": 44,
    "start_time": "2022-12-19T19:01:14.660Z"
   },
   {
    "duration": 7,
    "start_time": "2022-12-19T19:01:36.884Z"
   },
   {
    "duration": 9,
    "start_time": "2022-12-19T19:01:45.018Z"
   },
   {
    "duration": 8,
    "start_time": "2022-12-19T19:01:59.815Z"
   },
   {
    "duration": 697,
    "start_time": "2022-12-19T19:02:10.062Z"
   },
   {
    "duration": 22,
    "start_time": "2022-12-19T19:02:13.816Z"
   },
   {
    "duration": 15,
    "start_time": "2022-12-19T19:02:14.723Z"
   },
   {
    "duration": 9,
    "start_time": "2022-12-19T19:02:15.542Z"
   },
   {
    "duration": 32,
    "start_time": "2022-12-19T19:02:15.957Z"
   },
   {
    "duration": 4,
    "start_time": "2022-12-19T19:02:16.607Z"
   },
   {
    "duration": 9,
    "start_time": "2022-12-19T19:02:17.044Z"
   },
   {
    "duration": 4,
    "start_time": "2022-12-19T19:02:17.716Z"
   },
   {
    "duration": 6,
    "start_time": "2022-12-19T19:02:18.142Z"
   },
   {
    "duration": 4,
    "start_time": "2022-12-19T19:02:18.583Z"
   },
   {
    "duration": 35,
    "start_time": "2022-12-19T19:02:19.238Z"
   },
   {
    "duration": 10,
    "start_time": "2022-12-19T19:02:19.680Z"
   },
   {
    "duration": 5,
    "start_time": "2022-12-19T19:02:20.346Z"
   },
   {
    "duration": 18,
    "start_time": "2022-12-19T19:02:21.021Z"
   },
   {
    "duration": 28,
    "start_time": "2022-12-19T19:02:21.478Z"
   },
   {
    "duration": 18,
    "start_time": "2022-12-19T19:02:21.726Z"
   },
   {
    "duration": 3,
    "start_time": "2022-12-19T19:02:22.407Z"
   },
   {
    "duration": 10,
    "start_time": "2022-12-19T19:02:22.632Z"
   },
   {
    "duration": 6,
    "start_time": "2022-12-19T19:02:23.134Z"
   },
   {
    "duration": 3,
    "start_time": "2022-12-19T19:02:23.604Z"
   },
   {
    "duration": 8,
    "start_time": "2022-12-19T19:02:23.846Z"
   },
   {
    "duration": 3,
    "start_time": "2022-12-19T19:02:25.626Z"
   },
   {
    "duration": 27,
    "start_time": "2022-12-19T19:02:27.201Z"
   },
   {
    "duration": 1021,
    "start_time": "2022-12-19T19:02:28.658Z"
   },
   {
    "duration": 5,
    "start_time": "2022-12-19T19:02:31.442Z"
   },
   {
    "duration": 5,
    "start_time": "2022-12-19T19:02:32.514Z"
   },
   {
    "duration": 11,
    "start_time": "2022-12-19T19:02:34.138Z"
   },
   {
    "duration": 137,
    "start_time": "2022-12-19T19:02:35.059Z"
   },
   {
    "duration": 17,
    "start_time": "2022-12-19T19:02:36.712Z"
   },
   {
    "duration": 122,
    "start_time": "2022-12-19T19:02:38.199Z"
   },
   {
    "duration": 31,
    "start_time": "2022-12-19T19:02:40.941Z"
   },
   {
    "duration": 129,
    "start_time": "2022-12-19T19:02:41.734Z"
   },
   {
    "duration": 6,
    "start_time": "2022-12-19T19:02:42.516Z"
   },
   {
    "duration": 26,
    "start_time": "2022-12-19T19:02:47.327Z"
   },
   {
    "duration": 7,
    "start_time": "2022-12-19T19:02:53.249Z"
   },
   {
    "duration": 114,
    "start_time": "2022-12-19T19:02:54.163Z"
   },
   {
    "duration": 4,
    "start_time": "2022-12-19T19:02:54.980Z"
   },
   {
    "duration": 5,
    "start_time": "2022-12-19T19:02:55.724Z"
   },
   {
    "duration": 4,
    "start_time": "2022-12-19T19:02:56.344Z"
   },
   {
    "duration": 30,
    "start_time": "2022-12-19T19:03:00.048Z"
   },
   {
    "duration": 121,
    "start_time": "2022-12-19T19:03:00.723Z"
   },
   {
    "duration": 5,
    "start_time": "2022-12-19T19:03:01.503Z"
   },
   {
    "duration": 4,
    "start_time": "2022-12-19T19:03:02.262Z"
   },
   {
    "duration": 69,
    "start_time": "2022-12-19T19:03:07.718Z"
   },
   {
    "duration": 9,
    "start_time": "2022-12-19T19:03:21.340Z"
   },
   {
    "duration": 3,
    "start_time": "2022-12-19T19:03:24.458Z"
   },
   {
    "duration": 5,
    "start_time": "2022-12-19T19:03:26.206Z"
   },
   {
    "duration": 11,
    "start_time": "2022-12-19T19:04:14.248Z"
   },
   {
    "duration": 48,
    "start_time": "2022-12-28T11:42:45.426Z"
   },
   {
    "duration": 1026,
    "start_time": "2022-12-28T11:43:20.572Z"
   },
   {
    "duration": 22,
    "start_time": "2022-12-28T11:43:21.600Z"
   },
   {
    "duration": 14,
    "start_time": "2022-12-28T11:43:21.624Z"
   },
   {
    "duration": 10,
    "start_time": "2022-12-28T11:43:21.640Z"
   },
   {
    "duration": 33,
    "start_time": "2022-12-28T11:43:21.652Z"
   },
   {
    "duration": 4,
    "start_time": "2022-12-28T11:43:21.687Z"
   },
   {
    "duration": 10,
    "start_time": "2022-12-28T11:43:21.713Z"
   },
   {
    "duration": 5,
    "start_time": "2022-12-28T11:43:21.725Z"
   },
   {
    "duration": 14,
    "start_time": "2022-12-28T11:43:21.732Z"
   },
   {
    "duration": 6,
    "start_time": "2022-12-28T11:43:21.747Z"
   },
   {
    "duration": 67,
    "start_time": "2022-12-28T11:43:21.754Z"
   },
   {
    "duration": 10,
    "start_time": "2022-12-28T11:43:21.823Z"
   },
   {
    "duration": 5,
    "start_time": "2022-12-28T11:43:21.835Z"
   },
   {
    "duration": 11,
    "start_time": "2022-12-28T11:43:21.844Z"
   },
   {
    "duration": 19,
    "start_time": "2022-12-28T11:43:21.857Z"
   },
   {
    "duration": 57,
    "start_time": "2022-12-28T11:43:21.878Z"
   },
   {
    "duration": 5,
    "start_time": "2022-12-28T11:43:21.936Z"
   },
   {
    "duration": 16,
    "start_time": "2022-12-28T11:43:21.942Z"
   },
   {
    "duration": 9,
    "start_time": "2022-12-28T11:43:21.960Z"
   },
   {
    "duration": 3,
    "start_time": "2022-12-28T11:43:21.971Z"
   },
   {
    "duration": 12,
    "start_time": "2022-12-28T11:43:21.975Z"
   },
   {
    "duration": 4,
    "start_time": "2022-12-28T11:43:21.989Z"
   },
   {
    "duration": 40,
    "start_time": "2022-12-28T11:43:21.995Z"
   },
   {
    "duration": 1020,
    "start_time": "2022-12-28T11:43:22.036Z"
   },
   {
    "duration": 6,
    "start_time": "2022-12-28T11:43:23.058Z"
   },
   {
    "duration": 10,
    "start_time": "2022-12-28T11:43:23.065Z"
   },
   {
    "duration": 14,
    "start_time": "2022-12-28T11:43:23.077Z"
   },
   {
    "duration": 146,
    "start_time": "2022-12-28T11:43:23.093Z"
   },
   {
    "duration": 17,
    "start_time": "2022-12-28T11:43:23.240Z"
   },
   {
    "duration": 140,
    "start_time": "2022-12-28T11:43:23.258Z"
   },
   {
    "duration": 37,
    "start_time": "2022-12-28T11:43:23.400Z"
   },
   {
    "duration": 149,
    "start_time": "2022-12-28T11:43:23.438Z"
   },
   {
    "duration": 5,
    "start_time": "2022-12-28T11:43:23.589Z"
   },
   {
    "duration": 38,
    "start_time": "2022-12-28T11:43:23.596Z"
   },
   {
    "duration": 6,
    "start_time": "2022-12-28T11:43:23.636Z"
   },
   {
    "duration": 132,
    "start_time": "2022-12-28T11:43:23.644Z"
   },
   {
    "duration": 4,
    "start_time": "2022-12-28T11:43:23.778Z"
   },
   {
    "duration": 6,
    "start_time": "2022-12-28T11:43:23.784Z"
   },
   {
    "duration": 21,
    "start_time": "2022-12-28T11:43:23.792Z"
   },
   {
    "duration": 33,
    "start_time": "2022-12-28T11:43:23.814Z"
   },
   {
    "duration": 136,
    "start_time": "2022-12-28T11:43:23.850Z"
   },
   {
    "duration": 4,
    "start_time": "2022-12-28T11:43:23.988Z"
   },
   {
    "duration": 9,
    "start_time": "2022-12-28T11:43:23.993Z"
   },
   {
    "duration": 109,
    "start_time": "2022-12-28T11:43:24.011Z"
   },
   {
    "duration": 0,
    "start_time": "2022-12-28T11:43:24.122Z"
   },
   {
    "duration": 0,
    "start_time": "2022-12-28T11:43:24.123Z"
   },
   {
    "duration": 0,
    "start_time": "2022-12-28T11:43:24.124Z"
   },
   {
    "duration": 10,
    "start_time": "2022-12-28T11:43:49.295Z"
   },
   {
    "duration": 4,
    "start_time": "2022-12-28T11:43:53.504Z"
   },
   {
    "duration": 4,
    "start_time": "2022-12-28T11:43:56.386Z"
   },
   {
    "duration": 21,
    "start_time": "2022-12-28T11:45:33.373Z"
   },
   {
    "duration": 16,
    "start_time": "2022-12-28T11:45:36.068Z"
   },
   {
    "duration": 529,
    "start_time": "2022-12-28T17:26:17.264Z"
   },
   {
    "duration": 22,
    "start_time": "2022-12-28T17:26:17.795Z"
   },
   {
    "duration": 24,
    "start_time": "2022-12-28T17:26:17.819Z"
   },
   {
    "duration": 28,
    "start_time": "2022-12-28T17:26:17.846Z"
   },
   {
    "duration": 42,
    "start_time": "2022-12-28T17:26:17.876Z"
   },
   {
    "duration": 3,
    "start_time": "2022-12-28T17:26:17.920Z"
   },
   {
    "duration": 25,
    "start_time": "2022-12-28T17:26:17.924Z"
   },
   {
    "duration": 9,
    "start_time": "2022-12-28T17:26:17.950Z"
   },
   {
    "duration": 10,
    "start_time": "2022-12-28T17:26:17.960Z"
   },
   {
    "duration": 9,
    "start_time": "2022-12-28T17:26:17.974Z"
   },
   {
    "duration": 55,
    "start_time": "2022-12-28T17:26:17.984Z"
   },
   {
    "duration": 9,
    "start_time": "2022-12-28T17:26:18.045Z"
   },
   {
    "duration": 6,
    "start_time": "2022-12-28T17:26:18.055Z"
   },
   {
    "duration": 16,
    "start_time": "2022-12-28T17:26:18.063Z"
   },
   {
    "duration": 33,
    "start_time": "2022-12-28T17:26:18.081Z"
   },
   {
    "duration": 19,
    "start_time": "2022-12-28T17:26:18.115Z"
   },
   {
    "duration": 4,
    "start_time": "2022-12-28T17:26:18.138Z"
   },
   {
    "duration": 16,
    "start_time": "2022-12-28T17:26:18.144Z"
   },
   {
    "duration": 6,
    "start_time": "2022-12-28T17:26:18.162Z"
   },
   {
    "duration": 6,
    "start_time": "2022-12-28T17:26:18.169Z"
   },
   {
    "duration": 29,
    "start_time": "2022-12-28T17:26:18.177Z"
   },
   {
    "duration": 7,
    "start_time": "2022-12-28T17:26:18.208Z"
   },
   {
    "duration": 34,
    "start_time": "2022-12-28T17:26:18.217Z"
   },
   {
    "duration": 1031,
    "start_time": "2022-12-28T17:26:18.253Z"
   },
   {
    "duration": 6,
    "start_time": "2022-12-28T17:26:19.286Z"
   },
   {
    "duration": 11,
    "start_time": "2022-12-28T17:26:19.294Z"
   },
   {
    "duration": 35,
    "start_time": "2022-12-28T17:26:19.307Z"
   },
   {
    "duration": 134,
    "start_time": "2022-12-28T17:26:19.346Z"
   },
   {
    "duration": 16,
    "start_time": "2022-12-28T17:26:19.481Z"
   },
   {
    "duration": 114,
    "start_time": "2022-12-28T17:26:19.498Z"
   },
   {
    "duration": 42,
    "start_time": "2022-12-28T17:26:19.614Z"
   },
   {
    "duration": 136,
    "start_time": "2022-12-28T17:26:19.657Z"
   },
   {
    "duration": 5,
    "start_time": "2022-12-28T17:26:19.795Z"
   },
   {
    "duration": 41,
    "start_time": "2022-12-28T17:26:19.802Z"
   },
   {
    "duration": 7,
    "start_time": "2022-12-28T17:26:19.844Z"
   },
   {
    "duration": 137,
    "start_time": "2022-12-28T17:26:19.853Z"
   },
   {
    "duration": 4,
    "start_time": "2022-12-28T17:26:19.992Z"
   },
   {
    "duration": 26,
    "start_time": "2022-12-28T17:26:19.998Z"
   },
   {
    "duration": 39,
    "start_time": "2022-12-28T17:26:20.026Z"
   },
   {
    "duration": 69,
    "start_time": "2022-12-28T17:26:20.066Z"
   },
   {
    "duration": 120,
    "start_time": "2022-12-28T17:26:20.137Z"
   },
   {
    "duration": 4,
    "start_time": "2022-12-28T17:26:20.260Z"
   },
   {
    "duration": 33,
    "start_time": "2022-12-28T17:26:20.266Z"
   },
   {
    "duration": 27,
    "start_time": "2022-12-28T17:26:20.301Z"
   },
   {
    "duration": 18,
    "start_time": "2022-12-28T17:26:20.330Z"
   },
   {
    "duration": 18,
    "start_time": "2022-12-28T17:26:20.349Z"
   },
   {
    "duration": 50,
    "start_time": "2023-02-07T11:03:39.779Z"
   },
   {
    "duration": 502,
    "start_time": "2023-02-07T11:03:58.031Z"
   },
   {
    "duration": 21,
    "start_time": "2023-02-07T11:03:58.534Z"
   },
   {
    "duration": 15,
    "start_time": "2023-02-07T11:03:58.557Z"
   },
   {
    "duration": 9,
    "start_time": "2023-02-07T11:03:58.574Z"
   },
   {
    "duration": 46,
    "start_time": "2023-02-07T11:03:58.584Z"
   },
   {
    "duration": 3,
    "start_time": "2023-02-07T11:03:58.631Z"
   },
   {
    "duration": 13,
    "start_time": "2023-02-07T11:03:58.636Z"
   },
   {
    "duration": 6,
    "start_time": "2023-02-07T11:03:58.650Z"
   },
   {
    "duration": 9,
    "start_time": "2023-02-07T11:03:58.657Z"
   },
   {
    "duration": 5,
    "start_time": "2023-02-07T11:03:58.668Z"
   },
   {
    "duration": 59,
    "start_time": "2023-02-07T11:03:58.674Z"
   },
   {
    "duration": 9,
    "start_time": "2023-02-07T11:03:58.735Z"
   },
   {
    "duration": 4,
    "start_time": "2023-02-07T11:03:58.746Z"
   },
   {
    "duration": 12,
    "start_time": "2023-02-07T11:03:58.752Z"
   },
   {
    "duration": 20,
    "start_time": "2023-02-07T11:03:58.765Z"
   },
   {
    "duration": 39,
    "start_time": "2023-02-07T11:03:58.786Z"
   },
   {
    "duration": 4,
    "start_time": "2023-02-07T11:03:58.826Z"
   },
   {
    "duration": 11,
    "start_time": "2023-02-07T11:03:58.831Z"
   },
   {
    "duration": 10,
    "start_time": "2023-02-07T11:03:58.843Z"
   },
   {
    "duration": 3,
    "start_time": "2023-02-07T11:03:58.855Z"
   },
   {
    "duration": 27,
    "start_time": "2023-02-07T11:03:58.859Z"
   },
   {
    "duration": 4,
    "start_time": "2023-02-07T11:03:58.888Z"
   },
   {
    "duration": 48,
    "start_time": "2023-02-07T11:03:58.894Z"
   },
   {
    "duration": 1004,
    "start_time": "2023-02-07T11:03:58.944Z"
   },
   {
    "duration": 5,
    "start_time": "2023-02-07T11:03:59.949Z"
   },
   {
    "duration": 7,
    "start_time": "2023-02-07T11:03:59.955Z"
   },
   {
    "duration": 9,
    "start_time": "2023-02-07T11:03:59.963Z"
   },
   {
    "duration": 134,
    "start_time": "2023-02-07T11:03:59.975Z"
   },
   {
    "duration": 15,
    "start_time": "2023-02-07T11:04:00.111Z"
   },
   {
    "duration": 126,
    "start_time": "2023-02-07T11:04:00.128Z"
   },
   {
    "duration": 31,
    "start_time": "2023-02-07T11:04:00.255Z"
   },
   {
    "duration": 134,
    "start_time": "2023-02-07T11:04:00.288Z"
   },
   {
    "duration": 5,
    "start_time": "2023-02-07T11:04:00.424Z"
   },
   {
    "duration": 66,
    "start_time": "2023-02-07T11:04:00.430Z"
   },
   {
    "duration": 13,
    "start_time": "2023-02-07T11:04:00.497Z"
   },
   {
    "duration": 129,
    "start_time": "2023-02-07T11:04:00.512Z"
   },
   {
    "duration": 4,
    "start_time": "2023-02-07T11:04:00.643Z"
   },
   {
    "duration": 22,
    "start_time": "2023-02-07T11:04:00.648Z"
   },
   {
    "duration": 34,
    "start_time": "2023-02-07T11:04:00.672Z"
   },
   {
    "duration": 44,
    "start_time": "2023-02-07T11:04:00.708Z"
   },
   {
    "duration": 113,
    "start_time": "2023-02-07T11:04:00.754Z"
   },
   {
    "duration": 4,
    "start_time": "2023-02-07T11:04:00.868Z"
   },
   {
    "duration": 65,
    "start_time": "2023-02-07T11:04:00.873Z"
   },
   {
    "duration": 25,
    "start_time": "2023-02-07T11:04:00.939Z"
   },
   {
    "duration": 31,
    "start_time": "2023-02-07T11:04:00.965Z"
   },
   {
    "duration": 9,
    "start_time": "2023-02-07T11:04:00.998Z"
   },
   {
    "duration": 18,
    "start_time": "2023-02-07T11:04:01.009Z"
   },
   {
    "duration": 13,
    "start_time": "2023-02-07T11:04:46.066Z"
   },
   {
    "duration": 16,
    "start_time": "2023-02-07T11:05:08.611Z"
   },
   {
    "duration": 97,
    "start_time": "2023-02-07T11:09:11.234Z"
   },
   {
    "duration": 14,
    "start_time": "2023-02-07T11:09:42.186Z"
   },
   {
    "duration": 76,
    "start_time": "2023-02-07T11:18:32.513Z"
   },
   {
    "duration": 14,
    "start_time": "2023-02-07T11:18:35.695Z"
   },
   {
    "duration": 62,
    "start_time": "2023-02-07T11:19:21.689Z"
   },
   {
    "duration": 13,
    "start_time": "2023-02-07T11:19:22.713Z"
   },
   {
    "duration": 68,
    "start_time": "2023-02-07T11:21:16.592Z"
   },
   {
    "duration": 8,
    "start_time": "2023-02-07T11:21:35.171Z"
   },
   {
    "duration": 13,
    "start_time": "2023-02-07T11:21:44.585Z"
   },
   {
    "duration": 9,
    "start_time": "2023-02-07T11:23:36.801Z"
   },
   {
    "duration": 15,
    "start_time": "2023-02-07T11:24:10.222Z"
   },
   {
    "duration": 18,
    "start_time": "2023-02-07T11:24:15.315Z"
   },
   {
    "duration": 10,
    "start_time": "2023-02-07T11:24:58.010Z"
   },
   {
    "duration": 67,
    "start_time": "2023-02-07T11:25:05.364Z"
   },
   {
    "duration": 20,
    "start_time": "2023-02-07T11:25:06.091Z"
   },
   {
    "duration": 12,
    "start_time": "2023-02-07T11:25:07.071Z"
   },
   {
    "duration": 8,
    "start_time": "2023-02-07T11:25:11.629Z"
   },
   {
    "duration": 5,
    "start_time": "2023-02-07T11:25:48.888Z"
   },
   {
    "duration": 365,
    "start_time": "2023-02-07T11:32:23.979Z"
   },
   {
    "duration": 3,
    "start_time": "2023-02-07T11:33:06.003Z"
   },
   {
    "duration": 7,
    "start_time": "2023-02-07T11:33:25.161Z"
   },
   {
    "duration": 397,
    "start_time": "2023-02-07T11:33:37.567Z"
   },
   {
    "duration": 4,
    "start_time": "2023-02-07T11:33:43.096Z"
   },
   {
    "duration": 10,
    "start_time": "2023-02-07T11:33:45.296Z"
   },
   {
    "duration": 7,
    "start_time": "2023-02-07T11:36:54.712Z"
   },
   {
    "duration": 61,
    "start_time": "2023-02-07T11:37:09.186Z"
   },
   {
    "duration": 15,
    "start_time": "2023-02-07T11:37:09.847Z"
   },
   {
    "duration": 12,
    "start_time": "2023-02-07T11:37:12.021Z"
   },
   {
    "duration": 4,
    "start_time": "2023-02-07T11:37:15.427Z"
   },
   {
    "duration": 7,
    "start_time": "2023-02-07T11:37:16.299Z"
   },
   {
    "duration": 9,
    "start_time": "2023-02-07T11:37:34.516Z"
   },
   {
    "duration": 63,
    "start_time": "2023-02-07T11:37:44.554Z"
   },
   {
    "duration": 14,
    "start_time": "2023-02-07T11:37:45.166Z"
   },
   {
    "duration": 16,
    "start_time": "2023-02-07T11:37:45.785Z"
   },
   {
    "duration": 4,
    "start_time": "2023-02-07T11:37:57.897Z"
   },
   {
    "duration": 8,
    "start_time": "2023-02-07T11:37:58.482Z"
   },
   {
    "duration": 70,
    "start_time": "2023-02-07T11:39:35.257Z"
   },
   {
    "duration": 14,
    "start_time": "2023-02-07T11:39:35.851Z"
   },
   {
    "duration": 16,
    "start_time": "2023-02-07T11:39:37.963Z"
   },
   {
    "duration": 8,
    "start_time": "2023-02-07T11:39:40.776Z"
   },
   {
    "duration": 11,
    "start_time": "2023-02-07T11:39:41.921Z"
   },
   {
    "duration": 12,
    "start_time": "2023-02-07T11:39:52.375Z"
   },
   {
    "duration": 9,
    "start_time": "2023-02-07T11:42:16.244Z"
   },
   {
    "duration": 9,
    "start_time": "2023-02-07T11:42:44.825Z"
   },
   {
    "duration": 8,
    "start_time": "2023-02-07T11:43:01.756Z"
   },
   {
    "duration": 11,
    "start_time": "2023-02-07T11:46:56.346Z"
   },
   {
    "duration": 3,
    "start_time": "2023-02-07T11:52:38.824Z"
   },
   {
    "duration": 2,
    "start_time": "2023-02-07T11:52:46.229Z"
   },
   {
    "duration": 3,
    "start_time": "2023-02-07T11:53:12.698Z"
   },
   {
    "duration": 41,
    "start_time": "2023-02-07T12:02:26.454Z"
   },
   {
    "duration": 67,
    "start_time": "2023-02-07T12:24:17.822Z"
   },
   {
    "duration": 14,
    "start_time": "2023-02-07T12:24:17.891Z"
   },
   {
    "duration": 17,
    "start_time": "2023-02-07T12:24:17.906Z"
   },
   {
    "duration": 9,
    "start_time": "2023-02-07T12:24:17.924Z"
   },
   {
    "duration": 30,
    "start_time": "2023-02-07T12:24:17.935Z"
   },
   {
    "duration": 2,
    "start_time": "2023-02-07T12:24:17.967Z"
   },
   {
    "duration": 10,
    "start_time": "2023-02-07T12:24:17.971Z"
   },
   {
    "duration": 29,
    "start_time": "2023-02-07T12:24:17.983Z"
   },
   {
    "duration": 7,
    "start_time": "2023-02-07T12:24:18.013Z"
   },
   {
    "duration": 4,
    "start_time": "2023-02-07T12:24:18.022Z"
   },
   {
    "duration": 31,
    "start_time": "2023-02-07T12:24:18.027Z"
   },
   {
    "duration": 8,
    "start_time": "2023-02-07T12:24:18.060Z"
   },
   {
    "duration": 6,
    "start_time": "2023-02-07T12:24:18.069Z"
   },
   {
    "duration": 34,
    "start_time": "2023-02-07T12:24:18.077Z"
   },
   {
    "duration": 18,
    "start_time": "2023-02-07T12:24:18.112Z"
   },
   {
    "duration": 17,
    "start_time": "2023-02-07T12:24:18.131Z"
   },
   {
    "duration": 3,
    "start_time": "2023-02-07T12:24:18.150Z"
   },
   {
    "duration": 15,
    "start_time": "2023-02-07T12:24:18.154Z"
   },
   {
    "duration": 8,
    "start_time": "2023-02-07T12:24:18.171Z"
   },
   {
    "duration": 5,
    "start_time": "2023-02-07T12:24:18.181Z"
   },
   {
    "duration": 25,
    "start_time": "2023-02-07T12:24:18.187Z"
   },
   {
    "duration": 4,
    "start_time": "2023-02-07T12:24:18.213Z"
   },
   {
    "duration": 26,
    "start_time": "2023-02-07T12:24:18.219Z"
   },
   {
    "duration": 131,
    "start_time": "2023-02-07T12:24:18.246Z"
   },
   {
    "duration": 5,
    "start_time": "2023-02-07T12:24:18.379Z"
   },
   {
    "duration": 6,
    "start_time": "2023-02-07T12:24:18.385Z"
   },
   {
    "duration": 24,
    "start_time": "2023-02-07T12:24:18.392Z"
   },
   {
    "duration": 164,
    "start_time": "2023-02-07T12:24:18.419Z"
   },
   {
    "duration": 27,
    "start_time": "2023-02-07T12:24:18.584Z"
   },
   {
    "duration": 119,
    "start_time": "2023-02-07T12:24:18.613Z"
   },
   {
    "duration": 28,
    "start_time": "2023-02-07T12:24:18.733Z"
   },
   {
    "duration": 134,
    "start_time": "2023-02-07T12:24:18.762Z"
   },
   {
    "duration": 4,
    "start_time": "2023-02-07T12:24:18.898Z"
   },
   {
    "duration": 24,
    "start_time": "2023-02-07T12:24:18.910Z"
   },
   {
    "duration": 6,
    "start_time": "2023-02-07T12:24:18.936Z"
   },
   {
    "duration": 132,
    "start_time": "2023-02-07T12:24:18.944Z"
   },
   {
    "duration": 5,
    "start_time": "2023-02-07T12:24:19.078Z"
   },
   {
    "duration": 17,
    "start_time": "2023-02-07T12:24:19.084Z"
   },
   {
    "duration": 9,
    "start_time": "2023-02-07T12:24:19.102Z"
   },
   {
    "duration": 35,
    "start_time": "2023-02-07T12:24:19.113Z"
   },
   {
    "duration": 126,
    "start_time": "2023-02-07T12:24:19.150Z"
   },
   {
    "duration": 5,
    "start_time": "2023-02-07T12:24:19.277Z"
   },
   {
    "duration": 23,
    "start_time": "2023-02-07T12:24:19.284Z"
   },
   {
    "duration": 69,
    "start_time": "2023-02-07T12:24:19.308Z"
   },
   {
    "duration": 8,
    "start_time": "2023-02-07T12:24:19.378Z"
   },
   {
    "duration": 35,
    "start_time": "2023-02-07T12:24:19.387Z"
   },
   {
    "duration": 24,
    "start_time": "2023-02-07T12:24:19.424Z"
   },
   {
    "duration": 11,
    "start_time": "2023-02-07T12:24:19.449Z"
   },
   {
    "duration": 15,
    "start_time": "2023-02-07T12:24:19.461Z"
   },
   {
    "duration": 15,
    "start_time": "2023-02-07T12:24:19.477Z"
   },
   {
    "duration": 95,
    "start_time": "2023-02-07T12:34:49.596Z"
   },
   {
    "duration": 35,
    "start_time": "2023-02-07T12:34:49.693Z"
   },
   {
    "duration": 21,
    "start_time": "2023-02-07T12:34:49.730Z"
   },
   {
    "duration": 10,
    "start_time": "2023-02-07T12:34:49.754Z"
   },
   {
    "duration": 54,
    "start_time": "2023-02-07T12:34:49.765Z"
   },
   {
    "duration": 4,
    "start_time": "2023-02-07T12:34:49.820Z"
   },
   {
    "duration": 11,
    "start_time": "2023-02-07T12:34:49.826Z"
   },
   {
    "duration": 4,
    "start_time": "2023-02-07T12:34:49.839Z"
   },
   {
    "duration": 6,
    "start_time": "2023-02-07T12:34:49.844Z"
   },
   {
    "duration": 4,
    "start_time": "2023-02-07T12:34:49.853Z"
   },
   {
    "duration": 62,
    "start_time": "2023-02-07T12:34:49.858Z"
   },
   {
    "duration": 10,
    "start_time": "2023-02-07T12:34:49.921Z"
   },
   {
    "duration": 4,
    "start_time": "2023-02-07T12:34:49.932Z"
   },
   {
    "duration": 12,
    "start_time": "2023-02-07T12:34:49.937Z"
   },
   {
    "duration": 19,
    "start_time": "2023-02-07T12:34:49.950Z"
   },
   {
    "duration": 53,
    "start_time": "2023-02-07T12:34:49.971Z"
   },
   {
    "duration": 5,
    "start_time": "2023-02-07T12:34:50.025Z"
   },
   {
    "duration": 28,
    "start_time": "2023-02-07T12:34:50.032Z"
   },
   {
    "duration": 8,
    "start_time": "2023-02-07T12:34:50.062Z"
   },
   {
    "duration": 4,
    "start_time": "2023-02-07T12:34:50.072Z"
   },
   {
    "duration": 16,
    "start_time": "2023-02-07T12:34:50.078Z"
   },
   {
    "duration": 3,
    "start_time": "2023-02-07T12:34:50.095Z"
   },
   {
    "duration": 35,
    "start_time": "2023-02-07T12:34:50.099Z"
   },
   {
    "duration": 137,
    "start_time": "2023-02-07T12:34:50.136Z"
   },
   {
    "duration": 6,
    "start_time": "2023-02-07T12:34:50.274Z"
   },
   {
    "duration": 8,
    "start_time": "2023-02-07T12:34:50.281Z"
   },
   {
    "duration": 20,
    "start_time": "2023-02-07T12:34:50.291Z"
   },
   {
    "duration": 118,
    "start_time": "2023-02-07T12:34:50.314Z"
   },
   {
    "duration": 14,
    "start_time": "2023-02-07T12:34:50.434Z"
   },
   {
    "duration": 127,
    "start_time": "2023-02-07T12:34:50.450Z"
   },
   {
    "duration": 38,
    "start_time": "2023-02-07T12:34:50.579Z"
   },
   {
    "duration": 125,
    "start_time": "2023-02-07T12:34:50.619Z"
   },
   {
    "duration": 4,
    "start_time": "2023-02-07T12:34:50.746Z"
   },
   {
    "duration": 31,
    "start_time": "2023-02-07T12:34:50.751Z"
   },
   {
    "duration": 7,
    "start_time": "2023-02-07T12:34:50.783Z"
   },
   {
    "duration": 129,
    "start_time": "2023-02-07T12:34:50.791Z"
   },
   {
    "duration": 4,
    "start_time": "2023-02-07T12:34:50.922Z"
   },
   {
    "duration": 19,
    "start_time": "2023-02-07T12:34:50.928Z"
   },
   {
    "duration": 19,
    "start_time": "2023-02-07T12:34:50.949Z"
   },
   {
    "duration": 36,
    "start_time": "2023-02-07T12:34:50.970Z"
   },
   {
    "duration": 120,
    "start_time": "2023-02-07T12:34:51.007Z"
   },
   {
    "duration": 3,
    "start_time": "2023-02-07T12:34:51.129Z"
   },
   {
    "duration": 23,
    "start_time": "2023-02-07T12:34:51.134Z"
   },
   {
    "duration": 68,
    "start_time": "2023-02-07T12:34:51.158Z"
   },
   {
    "duration": 8,
    "start_time": "2023-02-07T12:34:51.228Z"
   },
   {
    "duration": 21,
    "start_time": "2023-02-07T12:34:51.237Z"
   },
   {
    "duration": 14,
    "start_time": "2023-02-07T12:34:51.259Z"
   },
   {
    "duration": 11,
    "start_time": "2023-02-07T12:34:51.275Z"
   },
   {
    "duration": 7,
    "start_time": "2023-02-07T12:34:51.287Z"
   },
   {
    "duration": 17,
    "start_time": "2023-02-07T12:34:51.295Z"
   },
   {
    "duration": 697,
    "start_time": "2023-11-08T01:15:49.415Z"
   },
   {
    "duration": 19,
    "start_time": "2023-11-08T01:15:50.114Z"
   },
   {
    "duration": 28,
    "start_time": "2023-11-08T01:15:50.134Z"
   },
   {
    "duration": 10,
    "start_time": "2023-11-08T01:15:50.164Z"
   },
   {
    "duration": 49,
    "start_time": "2023-11-08T01:15:50.175Z"
   },
   {
    "duration": 3,
    "start_time": "2023-11-08T01:15:50.226Z"
   },
   {
    "duration": 8,
    "start_time": "2023-11-08T01:15:50.231Z"
   },
   {
    "duration": 4,
    "start_time": "2023-11-08T01:15:50.240Z"
   },
   {
    "duration": 6,
    "start_time": "2023-11-08T01:15:50.246Z"
   },
   {
    "duration": 3,
    "start_time": "2023-11-08T01:15:50.256Z"
   },
   {
    "duration": 58,
    "start_time": "2023-11-08T01:15:50.261Z"
   },
   {
    "duration": 7,
    "start_time": "2023-11-08T01:15:50.321Z"
   },
   {
    "duration": 3,
    "start_time": "2023-11-08T01:15:50.329Z"
   },
   {
    "duration": 14,
    "start_time": "2023-11-08T01:15:50.333Z"
   },
   {
    "duration": 16,
    "start_time": "2023-11-08T01:15:50.348Z"
   },
   {
    "duration": 15,
    "start_time": "2023-11-08T01:15:50.365Z"
   },
   {
    "duration": 3,
    "start_time": "2023-11-08T01:15:50.381Z"
   },
   {
    "duration": 10,
    "start_time": "2023-11-08T01:15:50.385Z"
   },
   {
    "duration": 18,
    "start_time": "2023-11-08T01:15:50.396Z"
   },
   {
    "duration": 3,
    "start_time": "2023-11-08T01:15:50.415Z"
   },
   {
    "duration": 20,
    "start_time": "2023-11-08T01:15:50.419Z"
   },
   {
    "duration": 3,
    "start_time": "2023-11-08T01:15:50.440Z"
   },
   {
    "duration": 24,
    "start_time": "2023-11-08T01:15:50.444Z"
   },
   {
    "duration": 931,
    "start_time": "2023-11-08T01:15:50.469Z"
   },
   {
    "duration": 4,
    "start_time": "2023-11-08T01:15:51.401Z"
   },
   {
    "duration": 5,
    "start_time": "2023-11-08T01:15:51.406Z"
   },
   {
    "duration": 8,
    "start_time": "2023-11-08T01:15:51.413Z"
   },
   {
    "duration": 115,
    "start_time": "2023-11-08T01:15:51.424Z"
   },
   {
    "duration": 17,
    "start_time": "2023-11-08T01:15:51.541Z"
   },
   {
    "duration": 114,
    "start_time": "2023-11-08T01:15:51.559Z"
   },
   {
    "duration": 25,
    "start_time": "2023-11-08T01:15:51.674Z"
   },
   {
    "duration": 121,
    "start_time": "2023-11-08T01:15:51.700Z"
   },
   {
    "duration": 5,
    "start_time": "2023-11-08T01:15:51.822Z"
   },
   {
    "duration": 23,
    "start_time": "2023-11-08T01:15:51.839Z"
   },
   {
    "duration": 7,
    "start_time": "2023-11-08T01:15:51.864Z"
   },
   {
    "duration": 120,
    "start_time": "2023-11-08T01:15:51.872Z"
   },
   {
    "duration": 4,
    "start_time": "2023-11-08T01:15:51.994Z"
   },
   {
    "duration": 6,
    "start_time": "2023-11-08T01:15:51.999Z"
   },
   {
    "duration": 5,
    "start_time": "2023-11-08T01:15:52.006Z"
   },
   {
    "duration": 40,
    "start_time": "2023-11-08T01:15:52.013Z"
   },
   {
    "duration": 118,
    "start_time": "2023-11-08T01:15:52.055Z"
   },
   {
    "duration": 4,
    "start_time": "2023-11-08T01:15:52.175Z"
   },
   {
    "duration": 8,
    "start_time": "2023-11-08T01:15:52.181Z"
   },
   {
    "duration": 71,
    "start_time": "2023-11-08T01:15:52.191Z"
   },
   {
    "duration": 8,
    "start_time": "2023-11-08T01:15:52.263Z"
   },
   {
    "duration": 11,
    "start_time": "2023-11-08T01:15:52.272Z"
   },
   {
    "duration": 13,
    "start_time": "2023-11-08T01:15:52.284Z"
   },
   {
    "duration": 6,
    "start_time": "2023-11-08T01:15:52.299Z"
   },
   {
    "duration": 4,
    "start_time": "2023-11-08T01:15:52.306Z"
   },
   {
    "duration": 4,
    "start_time": "2023-11-08T01:15:52.311Z"
   }
  ],
  "colab": {
   "name": "dpp_template_part2.ipynb",
   "provenance": []
  },
  "kernelspec": {
   "display_name": "Python 3 (ipykernel)",
   "language": "python",
   "name": "python3"
  },
  "language_info": {
   "codemirror_mode": {
    "name": "ipython",
    "version": 3
   },
   "file_extension": ".py",
   "mimetype": "text/x-python",
   "name": "python",
   "nbconvert_exporter": "python",
   "pygments_lexer": "ipython3",
   "version": "3.11.5"
  },
  "toc": {
   "base_numbering": 1,
   "nav_menu": {},
   "number_sections": true,
   "sideBar": true,
   "skip_h1_title": true,
   "title_cell": "Table of Contents",
   "title_sidebar": "Contents",
   "toc_cell": false,
   "toc_position": {},
   "toc_section_display": true,
   "toc_window_display": true
  }
 },
 "nbformat": 4,
 "nbformat_minor": 5
}
