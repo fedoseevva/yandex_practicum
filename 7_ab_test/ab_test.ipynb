{
 "cells": [
  {
   "cell_type": "markdown",
   "metadata": {},
   "source": [
    "# Исследование гипотез"
   ]
  },
  {
   "cell_type": "markdown",
   "metadata": {},
   "source": [
    "Были получены 3 датасета интернет-магазина, два последних из которых были получены в ходе проведения A/B теста:  \n",
    "1. 9 гипотез по увеличению выручки, хранящие в себе информацию об охвате аудитории, влиянии, уверенности и трудозатратах. Предстоит выполнить приоритезацию этих гипотез по ICE и RICE;  \n",
    "\n",
    "2. Массив данных о заказах и пользователей, разбитых по группам A и B. Предстоит снять и оценить показатели обеих групп, а также относительные показатели. Также необходимо проверить гипотезы об отличии показателей групп, чтобы принять решение об окончании или продолжении теста."
   ]
  },
  {
   "cell_type": "code",
   "execution_count": 1,
   "metadata": {},
   "outputs": [],
   "source": [
    "import pandas as pd\n",
    "import numpy as np\n",
    "import matplotlib.pyplot as plt\n",
    "import math\n",
    "import datetime as dt\n",
    "import scipy.stats as stats\n",
    "from scipy import stats as st"
   ]
  },
  {
   "cell_type": "markdown",
   "metadata": {},
   "source": [
    "## Гипотезы"
   ]
  },
  {
   "cell_type": "markdown",
   "metadata": {},
   "source": [
    "### Предобработка данных"
   ]
  },
  {
   "cell_type": "code",
   "execution_count": 2,
   "metadata": {},
   "outputs": [],
   "source": [
    "hypothesis = pd.read_csv('/datasets/hypothesis.csv')"
   ]
  },
  {
   "cell_type": "code",
   "execution_count": 3,
   "metadata": {},
   "outputs": [],
   "source": [
    "def information(dataset):\n",
    "    return(\n",
    "        print(\n",
    "            display(dataset.head(10)),\n",
    "            display(dataset.info()),\n",
    "            display(dataset.describe(percentiles=[0.05, 0.1, 1/4, 1/2, 3/4, 0.9, 0.95, 0.99]).T),\n",
    "            \"Явные дубликаты:\", dataset.duplicated().sum()))\n",
    "                   "
   ]
  },
  {
   "cell_type": "code",
   "execution_count": 4,
   "metadata": {
    "scrolled": true
   },
   "outputs": [
    {
     "data": {
      "text/html": [
       "<div>\n",
       "<style scoped>\n",
       "    .dataframe tbody tr th:only-of-type {\n",
       "        vertical-align: middle;\n",
       "    }\n",
       "\n",
       "    .dataframe tbody tr th {\n",
       "        vertical-align: top;\n",
       "    }\n",
       "\n",
       "    .dataframe thead th {\n",
       "        text-align: right;\n",
       "    }\n",
       "</style>\n",
       "<table border=\"1\" class=\"dataframe\">\n",
       "  <thead>\n",
       "    <tr style=\"text-align: right;\">\n",
       "      <th></th>\n",
       "      <th>Hypothesis</th>\n",
       "      <th>Reach</th>\n",
       "      <th>Impact</th>\n",
       "      <th>Confidence</th>\n",
       "      <th>Efforts</th>\n",
       "    </tr>\n",
       "  </thead>\n",
       "  <tbody>\n",
       "    <tr>\n",
       "      <th>0</th>\n",
       "      <td>Добавить два новых канала привлечения трафика, что позволит привлекать на 30% больше пользователей</td>\n",
       "      <td>3</td>\n",
       "      <td>10</td>\n",
       "      <td>8</td>\n",
       "      <td>6</td>\n",
       "    </tr>\n",
       "    <tr>\n",
       "      <th>1</th>\n",
       "      <td>Запустить собственную службу доставки, что сократит срок доставки заказов</td>\n",
       "      <td>2</td>\n",
       "      <td>5</td>\n",
       "      <td>4</td>\n",
       "      <td>10</td>\n",
       "    </tr>\n",
       "    <tr>\n",
       "      <th>2</th>\n",
       "      <td>Добавить блоки рекомендаций товаров на сайт интернет магазина, чтобы повысить конверсию и средний чек заказа</td>\n",
       "      <td>8</td>\n",
       "      <td>3</td>\n",
       "      <td>7</td>\n",
       "      <td>3</td>\n",
       "    </tr>\n",
       "    <tr>\n",
       "      <th>3</th>\n",
       "      <td>Изменить структура категорий, что увеличит конверсию, т.к. пользователи быстрее найдут нужный товар</td>\n",
       "      <td>8</td>\n",
       "      <td>3</td>\n",
       "      <td>3</td>\n",
       "      <td>8</td>\n",
       "    </tr>\n",
       "    <tr>\n",
       "      <th>4</th>\n",
       "      <td>Изменить цвет фона главной страницы, чтобы увеличить вовлеченность пользователей</td>\n",
       "      <td>3</td>\n",
       "      <td>1</td>\n",
       "      <td>1</td>\n",
       "      <td>1</td>\n",
       "    </tr>\n",
       "    <tr>\n",
       "      <th>5</th>\n",
       "      <td>Добавить страницу отзывов клиентов о магазине, что позволит увеличить количество заказов</td>\n",
       "      <td>3</td>\n",
       "      <td>2</td>\n",
       "      <td>2</td>\n",
       "      <td>3</td>\n",
       "    </tr>\n",
       "    <tr>\n",
       "      <th>6</th>\n",
       "      <td>Показать на главной странице баннеры с актуальными акциями и распродажами, чтобы увеличить конверсию</td>\n",
       "      <td>5</td>\n",
       "      <td>3</td>\n",
       "      <td>8</td>\n",
       "      <td>3</td>\n",
       "    </tr>\n",
       "    <tr>\n",
       "      <th>7</th>\n",
       "      <td>Добавить форму подписки на все основные страницы, чтобы собрать базу клиентов для email-рассылок</td>\n",
       "      <td>10</td>\n",
       "      <td>7</td>\n",
       "      <td>8</td>\n",
       "      <td>5</td>\n",
       "    </tr>\n",
       "    <tr>\n",
       "      <th>8</th>\n",
       "      <td>Запустить акцию, дающую скидку на товар в день рождения</td>\n",
       "      <td>1</td>\n",
       "      <td>9</td>\n",
       "      <td>9</td>\n",
       "      <td>5</td>\n",
       "    </tr>\n",
       "  </tbody>\n",
       "</table>\n",
       "</div>"
      ],
      "text/plain": [
       "                                                                                                     Hypothesis  \\\n",
       "0  Добавить два новых канала привлечения трафика, что позволит привлекать на 30% больше пользователей             \n",
       "1  Запустить собственную службу доставки, что сократит срок доставки заказов                                      \n",
       "2  Добавить блоки рекомендаций товаров на сайт интернет магазина, чтобы повысить конверсию и средний чек заказа   \n",
       "3  Изменить структура категорий, что увеличит конверсию, т.к. пользователи быстрее найдут нужный товар            \n",
       "4  Изменить цвет фона главной страницы, чтобы увеличить вовлеченность пользователей                               \n",
       "5  Добавить страницу отзывов клиентов о магазине, что позволит увеличить количество заказов                       \n",
       "6  Показать на главной странице баннеры с актуальными акциями и распродажами, чтобы увеличить конверсию           \n",
       "7  Добавить форму подписки на все основные страницы, чтобы собрать базу клиентов для email-рассылок               \n",
       "8  Запустить акцию, дающую скидку на товар в день рождения                                                        \n",
       "\n",
       "   Reach  Impact  Confidence  Efforts  \n",
       "0  3      10      8           6        \n",
       "1  2      5       4           10       \n",
       "2  8      3       7           3        \n",
       "3  8      3       3           8        \n",
       "4  3      1       1           1        \n",
       "5  3      2       2           3        \n",
       "6  5      3       8           3        \n",
       "7  10     7       8           5        \n",
       "8  1      9       9           5        "
      ]
     },
     "metadata": {},
     "output_type": "display_data"
    },
    {
     "name": "stdout",
     "output_type": "stream",
     "text": [
      "<class 'pandas.core.frame.DataFrame'>\n",
      "RangeIndex: 9 entries, 0 to 8\n",
      "Data columns (total 5 columns):\n",
      " #   Column      Non-Null Count  Dtype \n",
      "---  ------      --------------  ----- \n",
      " 0   Hypothesis  9 non-null      object\n",
      " 1   Reach       9 non-null      int64 \n",
      " 2   Impact      9 non-null      int64 \n",
      " 3   Confidence  9 non-null      int64 \n",
      " 4   Efforts     9 non-null      int64 \n",
      "dtypes: int64(4), object(1)\n",
      "memory usage: 488.0+ bytes\n"
     ]
    },
    {
     "data": {
      "text/plain": [
       "None"
      ]
     },
     "metadata": {},
     "output_type": "display_data"
    },
    {
     "data": {
      "text/html": [
       "<div>\n",
       "<style scoped>\n",
       "    .dataframe tbody tr th:only-of-type {\n",
       "        vertical-align: middle;\n",
       "    }\n",
       "\n",
       "    .dataframe tbody tr th {\n",
       "        vertical-align: top;\n",
       "    }\n",
       "\n",
       "    .dataframe thead th {\n",
       "        text-align: right;\n",
       "    }\n",
       "</style>\n",
       "<table border=\"1\" class=\"dataframe\">\n",
       "  <thead>\n",
       "    <tr style=\"text-align: right;\">\n",
       "      <th></th>\n",
       "      <th>count</th>\n",
       "      <th>mean</th>\n",
       "      <th>std</th>\n",
       "      <th>min</th>\n",
       "      <th>5%</th>\n",
       "      <th>10%</th>\n",
       "      <th>25%</th>\n",
       "      <th>50%</th>\n",
       "      <th>75%</th>\n",
       "      <th>90%</th>\n",
       "      <th>95%</th>\n",
       "      <th>99%</th>\n",
       "      <th>max</th>\n",
       "    </tr>\n",
       "  </thead>\n",
       "  <tbody>\n",
       "    <tr>\n",
       "      <th>Reach</th>\n",
       "      <td>9.0</td>\n",
       "      <td>4.777778</td>\n",
       "      <td>3.153481</td>\n",
       "      <td>1.0</td>\n",
       "      <td>1.4</td>\n",
       "      <td>1.8</td>\n",
       "      <td>3.0</td>\n",
       "      <td>3.0</td>\n",
       "      <td>8.0</td>\n",
       "      <td>8.4</td>\n",
       "      <td>9.2</td>\n",
       "      <td>9.84</td>\n",
       "      <td>10.0</td>\n",
       "    </tr>\n",
       "    <tr>\n",
       "      <th>Impact</th>\n",
       "      <td>9.0</td>\n",
       "      <td>4.777778</td>\n",
       "      <td>3.192874</td>\n",
       "      <td>1.0</td>\n",
       "      <td>1.4</td>\n",
       "      <td>1.8</td>\n",
       "      <td>3.0</td>\n",
       "      <td>3.0</td>\n",
       "      <td>7.0</td>\n",
       "      <td>9.2</td>\n",
       "      <td>9.6</td>\n",
       "      <td>9.92</td>\n",
       "      <td>10.0</td>\n",
       "    </tr>\n",
       "    <tr>\n",
       "      <th>Confidence</th>\n",
       "      <td>9.0</td>\n",
       "      <td>5.555556</td>\n",
       "      <td>3.045944</td>\n",
       "      <td>1.0</td>\n",
       "      <td>1.4</td>\n",
       "      <td>1.8</td>\n",
       "      <td>3.0</td>\n",
       "      <td>7.0</td>\n",
       "      <td>8.0</td>\n",
       "      <td>8.2</td>\n",
       "      <td>8.6</td>\n",
       "      <td>8.92</td>\n",
       "      <td>9.0</td>\n",
       "    </tr>\n",
       "    <tr>\n",
       "      <th>Efforts</th>\n",
       "      <td>9.0</td>\n",
       "      <td>4.888889</td>\n",
       "      <td>2.803767</td>\n",
       "      <td>1.0</td>\n",
       "      <td>1.8</td>\n",
       "      <td>2.6</td>\n",
       "      <td>3.0</td>\n",
       "      <td>5.0</td>\n",
       "      <td>6.0</td>\n",
       "      <td>8.4</td>\n",
       "      <td>9.2</td>\n",
       "      <td>9.84</td>\n",
       "      <td>10.0</td>\n",
       "    </tr>\n",
       "  </tbody>\n",
       "</table>\n",
       "</div>"
      ],
      "text/plain": [
       "            count      mean       std  min   5%  10%  25%  50%  75%  90%  95%  \\\n",
       "Reach       9.0    4.777778  3.153481  1.0  1.4  1.8  3.0  3.0  8.0  8.4  9.2   \n",
       "Impact      9.0    4.777778  3.192874  1.0  1.4  1.8  3.0  3.0  7.0  9.2  9.6   \n",
       "Confidence  9.0    5.555556  3.045944  1.0  1.4  1.8  3.0  7.0  8.0  8.2  8.6   \n",
       "Efforts     9.0    4.888889  2.803767  1.0  1.8  2.6  3.0  5.0  6.0  8.4  9.2   \n",
       "\n",
       "             99%   max  \n",
       "Reach       9.84  10.0  \n",
       "Impact      9.92  10.0  \n",
       "Confidence  8.92  9.0   \n",
       "Efforts     9.84  10.0  "
      ]
     },
     "metadata": {},
     "output_type": "display_data"
    },
    {
     "name": "stdout",
     "output_type": "stream",
     "text": [
      "None None None Явные дубликаты: 0\n"
     ]
    }
   ],
   "source": [
    "pd.set_option('display.max_colwidth', False)\n",
    "information(hypothesis)"
   ]
  },
  {
   "cell_type": "markdown",
   "metadata": {},
   "source": [
    "В нашем распоряжении 9 гипотез. Дубликатов нет, но названия столбцов необходимо привести к snake_case."
   ]
  },
  {
   "cell_type": "code",
   "execution_count": 5,
   "metadata": {},
   "outputs": [
    {
     "data": {
      "text/html": [
       "<div>\n",
       "<style scoped>\n",
       "    .dataframe tbody tr th:only-of-type {\n",
       "        vertical-align: middle;\n",
       "    }\n",
       "\n",
       "    .dataframe tbody tr th {\n",
       "        vertical-align: top;\n",
       "    }\n",
       "\n",
       "    .dataframe thead th {\n",
       "        text-align: right;\n",
       "    }\n",
       "</style>\n",
       "<table border=\"1\" class=\"dataframe\">\n",
       "  <thead>\n",
       "    <tr style=\"text-align: right;\">\n",
       "      <th></th>\n",
       "      <th>Hypothesis</th>\n",
       "      <th>Reach</th>\n",
       "      <th>Impact</th>\n",
       "      <th>Confidence</th>\n",
       "      <th>Efforts</th>\n",
       "    </tr>\n",
       "  </thead>\n",
       "  <tbody>\n",
       "    <tr>\n",
       "      <th>0</th>\n",
       "      <td>Добавить два новых канала привлечения трафика, что позволит привлекать на 30% больше пользователей</td>\n",
       "      <td>3</td>\n",
       "      <td>10</td>\n",
       "      <td>8</td>\n",
       "      <td>6</td>\n",
       "    </tr>\n",
       "    <tr>\n",
       "      <th>1</th>\n",
       "      <td>Запустить собственную службу доставки, что сократит срок доставки заказов</td>\n",
       "      <td>2</td>\n",
       "      <td>5</td>\n",
       "      <td>4</td>\n",
       "      <td>10</td>\n",
       "    </tr>\n",
       "    <tr>\n",
       "      <th>2</th>\n",
       "      <td>Добавить блоки рекомендаций товаров на сайт интернет магазина, чтобы повысить конверсию и средний чек заказа</td>\n",
       "      <td>8</td>\n",
       "      <td>3</td>\n",
       "      <td>7</td>\n",
       "      <td>3</td>\n",
       "    </tr>\n",
       "    <tr>\n",
       "      <th>3</th>\n",
       "      <td>Изменить структура категорий, что увеличит конверсию, т.к. пользователи быстрее найдут нужный товар</td>\n",
       "      <td>8</td>\n",
       "      <td>3</td>\n",
       "      <td>3</td>\n",
       "      <td>8</td>\n",
       "    </tr>\n",
       "    <tr>\n",
       "      <th>4</th>\n",
       "      <td>Изменить цвет фона главной страницы, чтобы увеличить вовлеченность пользователей</td>\n",
       "      <td>3</td>\n",
       "      <td>1</td>\n",
       "      <td>1</td>\n",
       "      <td>1</td>\n",
       "    </tr>\n",
       "    <tr>\n",
       "      <th>5</th>\n",
       "      <td>Добавить страницу отзывов клиентов о магазине, что позволит увеличить количество заказов</td>\n",
       "      <td>3</td>\n",
       "      <td>2</td>\n",
       "      <td>2</td>\n",
       "      <td>3</td>\n",
       "    </tr>\n",
       "    <tr>\n",
       "      <th>6</th>\n",
       "      <td>Показать на главной странице баннеры с актуальными акциями и распродажами, чтобы увеличить конверсию</td>\n",
       "      <td>5</td>\n",
       "      <td>3</td>\n",
       "      <td>8</td>\n",
       "      <td>3</td>\n",
       "    </tr>\n",
       "    <tr>\n",
       "      <th>7</th>\n",
       "      <td>Добавить форму подписки на все основные страницы, чтобы собрать базу клиентов для email-рассылок</td>\n",
       "      <td>10</td>\n",
       "      <td>7</td>\n",
       "      <td>8</td>\n",
       "      <td>5</td>\n",
       "    </tr>\n",
       "    <tr>\n",
       "      <th>8</th>\n",
       "      <td>Запустить акцию, дающую скидку на товар в день рождения</td>\n",
       "      <td>1</td>\n",
       "      <td>9</td>\n",
       "      <td>9</td>\n",
       "      <td>5</td>\n",
       "    </tr>\n",
       "  </tbody>\n",
       "</table>\n",
       "</div>"
      ],
      "text/plain": [
       "                                                                                                     Hypothesis  \\\n",
       "0  Добавить два новых канала привлечения трафика, что позволит привлекать на 30% больше пользователей             \n",
       "1  Запустить собственную службу доставки, что сократит срок доставки заказов                                      \n",
       "2  Добавить блоки рекомендаций товаров на сайт интернет магазина, чтобы повысить конверсию и средний чек заказа   \n",
       "3  Изменить структура категорий, что увеличит конверсию, т.к. пользователи быстрее найдут нужный товар            \n",
       "4  Изменить цвет фона главной страницы, чтобы увеличить вовлеченность пользователей                               \n",
       "5  Добавить страницу отзывов клиентов о магазине, что позволит увеличить количество заказов                       \n",
       "6  Показать на главной странице баннеры с актуальными акциями и распродажами, чтобы увеличить конверсию           \n",
       "7  Добавить форму подписки на все основные страницы, чтобы собрать базу клиентов для email-рассылок               \n",
       "8  Запустить акцию, дающую скидку на товар в день рождения                                                        \n",
       "\n",
       "   Reach  Impact  Confidence  Efforts  \n",
       "0  3      10      8           6        \n",
       "1  2      5       4           10       \n",
       "2  8      3       7           3        \n",
       "3  8      3       3           8        \n",
       "4  3      1       1           1        \n",
       "5  3      2       2           3        \n",
       "6  5      3       8           3        \n",
       "7  10     7       8           5        \n",
       "8  1      9       9           5        "
      ]
     },
     "execution_count": 5,
     "metadata": {},
     "output_type": "execute_result"
    }
   ],
   "source": [
    "df_hyp = hypothesis.copy()\n",
    "pd.set_option('display.max_colwidth', False)\n",
    "df_hyp"
   ]
  },
  {
   "cell_type": "code",
   "execution_count": 6,
   "metadata": {},
   "outputs": [
    {
     "name": "stdout",
     "output_type": "stream",
     "text": [
      "<class 'pandas.core.frame.DataFrame'>\n",
      "RangeIndex: 9 entries, 0 to 8\n",
      "Data columns (total 5 columns):\n",
      " #   Column      Non-Null Count  Dtype \n",
      "---  ------      --------------  ----- \n",
      " 0   hypothesis  9 non-null      object\n",
      " 1   reach       9 non-null      int64 \n",
      " 2   impact      9 non-null      int64 \n",
      " 3   confidence  9 non-null      int64 \n",
      " 4   efforts     9 non-null      int64 \n",
      "dtypes: int64(4), object(1)\n",
      "memory usage: 488.0+ bytes\n"
     ]
    }
   ],
   "source": [
    "df_hyp.columns = [x.lower() for x in df_hyp.columns.values]\n",
    "df_hyp.info()"
   ]
  },
  {
   "cell_type": "markdown",
   "metadata": {},
   "source": [
    "#### Вывод"
   ]
  },
  {
   "cell_type": "markdown",
   "metadata": {},
   "source": [
    "Дубликатов и неопределенных значений обнаружено не было. Названия столбцов были приведены к snake_case"
   ]
  },
  {
   "cell_type": "markdown",
   "metadata": {},
   "source": [
    "### Приоритизация гипотез"
   ]
  },
  {
   "cell_type": "markdown",
   "metadata": {},
   "source": [
    "#### Расчет показателей"
   ]
  },
  {
   "cell_type": "code",
   "execution_count": 7,
   "metadata": {},
   "outputs": [
    {
     "data": {
      "text/html": [
       "<div>\n",
       "<style scoped>\n",
       "    .dataframe tbody tr th:only-of-type {\n",
       "        vertical-align: middle;\n",
       "    }\n",
       "\n",
       "    .dataframe tbody tr th {\n",
       "        vertical-align: top;\n",
       "    }\n",
       "\n",
       "    .dataframe thead th {\n",
       "        text-align: right;\n",
       "    }\n",
       "</style>\n",
       "<table border=\"1\" class=\"dataframe\">\n",
       "  <thead>\n",
       "    <tr style=\"text-align: right;\">\n",
       "      <th></th>\n",
       "      <th>hypothesis</th>\n",
       "      <th>reach</th>\n",
       "      <th>impact</th>\n",
       "      <th>confidence</th>\n",
       "      <th>efforts</th>\n",
       "      <th>ice</th>\n",
       "    </tr>\n",
       "  </thead>\n",
       "  <tbody>\n",
       "    <tr>\n",
       "      <th>8</th>\n",
       "      <td>Запустить акцию, дающую скидку на товар в день рождения</td>\n",
       "      <td>1</td>\n",
       "      <td>9</td>\n",
       "      <td>9</td>\n",
       "      <td>5</td>\n",
       "      <td>16.20</td>\n",
       "    </tr>\n",
       "    <tr>\n",
       "      <th>0</th>\n",
       "      <td>Добавить два новых канала привлечения трафика, что позволит привлекать на 30% больше пользователей</td>\n",
       "      <td>3</td>\n",
       "      <td>10</td>\n",
       "      <td>8</td>\n",
       "      <td>6</td>\n",
       "      <td>13.33</td>\n",
       "    </tr>\n",
       "    <tr>\n",
       "      <th>7</th>\n",
       "      <td>Добавить форму подписки на все основные страницы, чтобы собрать базу клиентов для email-рассылок</td>\n",
       "      <td>10</td>\n",
       "      <td>7</td>\n",
       "      <td>8</td>\n",
       "      <td>5</td>\n",
       "      <td>11.20</td>\n",
       "    </tr>\n",
       "    <tr>\n",
       "      <th>6</th>\n",
       "      <td>Показать на главной странице баннеры с актуальными акциями и распродажами, чтобы увеличить конверсию</td>\n",
       "      <td>5</td>\n",
       "      <td>3</td>\n",
       "      <td>8</td>\n",
       "      <td>3</td>\n",
       "      <td>8.00</td>\n",
       "    </tr>\n",
       "    <tr>\n",
       "      <th>2</th>\n",
       "      <td>Добавить блоки рекомендаций товаров на сайт интернет магазина, чтобы повысить конверсию и средний чек заказа</td>\n",
       "      <td>8</td>\n",
       "      <td>3</td>\n",
       "      <td>7</td>\n",
       "      <td>3</td>\n",
       "      <td>7.00</td>\n",
       "    </tr>\n",
       "    <tr>\n",
       "      <th>1</th>\n",
       "      <td>Запустить собственную службу доставки, что сократит срок доставки заказов</td>\n",
       "      <td>2</td>\n",
       "      <td>5</td>\n",
       "      <td>4</td>\n",
       "      <td>10</td>\n",
       "      <td>2.00</td>\n",
       "    </tr>\n",
       "    <tr>\n",
       "      <th>5</th>\n",
       "      <td>Добавить страницу отзывов клиентов о магазине, что позволит увеличить количество заказов</td>\n",
       "      <td>3</td>\n",
       "      <td>2</td>\n",
       "      <td>2</td>\n",
       "      <td>3</td>\n",
       "      <td>1.33</td>\n",
       "    </tr>\n",
       "    <tr>\n",
       "      <th>3</th>\n",
       "      <td>Изменить структура категорий, что увеличит конверсию, т.к. пользователи быстрее найдут нужный товар</td>\n",
       "      <td>8</td>\n",
       "      <td>3</td>\n",
       "      <td>3</td>\n",
       "      <td>8</td>\n",
       "      <td>1.12</td>\n",
       "    </tr>\n",
       "    <tr>\n",
       "      <th>4</th>\n",
       "      <td>Изменить цвет фона главной страницы, чтобы увеличить вовлеченность пользователей</td>\n",
       "      <td>3</td>\n",
       "      <td>1</td>\n",
       "      <td>1</td>\n",
       "      <td>1</td>\n",
       "      <td>1.00</td>\n",
       "    </tr>\n",
       "  </tbody>\n",
       "</table>\n",
       "</div>"
      ],
      "text/plain": [
       "                                                                                                     hypothesis  \\\n",
       "8  Запустить акцию, дающую скидку на товар в день рождения                                                        \n",
       "0  Добавить два новых канала привлечения трафика, что позволит привлекать на 30% больше пользователей             \n",
       "7  Добавить форму подписки на все основные страницы, чтобы собрать базу клиентов для email-рассылок               \n",
       "6  Показать на главной странице баннеры с актуальными акциями и распродажами, чтобы увеличить конверсию           \n",
       "2  Добавить блоки рекомендаций товаров на сайт интернет магазина, чтобы повысить конверсию и средний чек заказа   \n",
       "1  Запустить собственную службу доставки, что сократит срок доставки заказов                                      \n",
       "5  Добавить страницу отзывов клиентов о магазине, что позволит увеличить количество заказов                       \n",
       "3  Изменить структура категорий, что увеличит конверсию, т.к. пользователи быстрее найдут нужный товар            \n",
       "4  Изменить цвет фона главной страницы, чтобы увеличить вовлеченность пользователей                               \n",
       "\n",
       "   reach  impact  confidence  efforts    ice  \n",
       "8  1      9       9           5        16.20  \n",
       "0  3      10      8           6        13.33  \n",
       "7  10     7       8           5        11.20  \n",
       "6  5      3       8           3        8.00   \n",
       "2  8      3       7           3        7.00   \n",
       "1  2      5       4           10       2.00   \n",
       "5  3      2       2           3        1.33   \n",
       "3  8      3       3           8        1.12   \n",
       "4  3      1       1           1        1.00   "
      ]
     },
     "execution_count": 7,
     "metadata": {},
     "output_type": "execute_result"
    }
   ],
   "source": [
    "df_hyp['ice'] = (df_hyp['impact'] *\n",
    "                 df_hyp['confidence']/\n",
    "                 df_hyp['efforts']).round(2)\n",
    "df_hyp.sort_values(by='ice', ascending=False)"
   ]
  },
  {
   "cell_type": "code",
   "execution_count": 8,
   "metadata": {},
   "outputs": [
    {
     "data": {
      "text/html": [
       "<div>\n",
       "<style scoped>\n",
       "    .dataframe tbody tr th:only-of-type {\n",
       "        vertical-align: middle;\n",
       "    }\n",
       "\n",
       "    .dataframe tbody tr th {\n",
       "        vertical-align: top;\n",
       "    }\n",
       "\n",
       "    .dataframe thead th {\n",
       "        text-align: right;\n",
       "    }\n",
       "</style>\n",
       "<table border=\"1\" class=\"dataframe\">\n",
       "  <thead>\n",
       "    <tr style=\"text-align: right;\">\n",
       "      <th></th>\n",
       "      <th>hypothesis</th>\n",
       "      <th>reach</th>\n",
       "      <th>impact</th>\n",
       "      <th>confidence</th>\n",
       "      <th>efforts</th>\n",
       "      <th>ice</th>\n",
       "      <th>rice</th>\n",
       "    </tr>\n",
       "  </thead>\n",
       "  <tbody>\n",
       "    <tr>\n",
       "      <th>7</th>\n",
       "      <td>Добавить форму подписки на все основные страницы, чтобы собрать базу клиентов для email-рассылок</td>\n",
       "      <td>10</td>\n",
       "      <td>7</td>\n",
       "      <td>8</td>\n",
       "      <td>5</td>\n",
       "      <td>11.20</td>\n",
       "      <td>112.0</td>\n",
       "    </tr>\n",
       "    <tr>\n",
       "      <th>2</th>\n",
       "      <td>Добавить блоки рекомендаций товаров на сайт интернет магазина, чтобы повысить конверсию и средний чек заказа</td>\n",
       "      <td>8</td>\n",
       "      <td>3</td>\n",
       "      <td>7</td>\n",
       "      <td>3</td>\n",
       "      <td>7.00</td>\n",
       "      <td>56.0</td>\n",
       "    </tr>\n",
       "    <tr>\n",
       "      <th>0</th>\n",
       "      <td>Добавить два новых канала привлечения трафика, что позволит привлекать на 30% больше пользователей</td>\n",
       "      <td>3</td>\n",
       "      <td>10</td>\n",
       "      <td>8</td>\n",
       "      <td>6</td>\n",
       "      <td>13.33</td>\n",
       "      <td>40.0</td>\n",
       "    </tr>\n",
       "    <tr>\n",
       "      <th>6</th>\n",
       "      <td>Показать на главной странице баннеры с актуальными акциями и распродажами, чтобы увеличить конверсию</td>\n",
       "      <td>5</td>\n",
       "      <td>3</td>\n",
       "      <td>8</td>\n",
       "      <td>3</td>\n",
       "      <td>8.00</td>\n",
       "      <td>40.0</td>\n",
       "    </tr>\n",
       "    <tr>\n",
       "      <th>8</th>\n",
       "      <td>Запустить акцию, дающую скидку на товар в день рождения</td>\n",
       "      <td>1</td>\n",
       "      <td>9</td>\n",
       "      <td>9</td>\n",
       "      <td>5</td>\n",
       "      <td>16.20</td>\n",
       "      <td>16.2</td>\n",
       "    </tr>\n",
       "    <tr>\n",
       "      <th>3</th>\n",
       "      <td>Изменить структура категорий, что увеличит конверсию, т.к. пользователи быстрее найдут нужный товар</td>\n",
       "      <td>8</td>\n",
       "      <td>3</td>\n",
       "      <td>3</td>\n",
       "      <td>8</td>\n",
       "      <td>1.12</td>\n",
       "      <td>9.0</td>\n",
       "    </tr>\n",
       "    <tr>\n",
       "      <th>1</th>\n",
       "      <td>Запустить собственную службу доставки, что сократит срок доставки заказов</td>\n",
       "      <td>2</td>\n",
       "      <td>5</td>\n",
       "      <td>4</td>\n",
       "      <td>10</td>\n",
       "      <td>2.00</td>\n",
       "      <td>4.0</td>\n",
       "    </tr>\n",
       "    <tr>\n",
       "      <th>5</th>\n",
       "      <td>Добавить страницу отзывов клиентов о магазине, что позволит увеличить количество заказов</td>\n",
       "      <td>3</td>\n",
       "      <td>2</td>\n",
       "      <td>2</td>\n",
       "      <td>3</td>\n",
       "      <td>1.33</td>\n",
       "      <td>4.0</td>\n",
       "    </tr>\n",
       "    <tr>\n",
       "      <th>4</th>\n",
       "      <td>Изменить цвет фона главной страницы, чтобы увеличить вовлеченность пользователей</td>\n",
       "      <td>3</td>\n",
       "      <td>1</td>\n",
       "      <td>1</td>\n",
       "      <td>1</td>\n",
       "      <td>1.00</td>\n",
       "      <td>3.0</td>\n",
       "    </tr>\n",
       "  </tbody>\n",
       "</table>\n",
       "</div>"
      ],
      "text/plain": [
       "                                                                                                     hypothesis  \\\n",
       "7  Добавить форму подписки на все основные страницы, чтобы собрать базу клиентов для email-рассылок               \n",
       "2  Добавить блоки рекомендаций товаров на сайт интернет магазина, чтобы повысить конверсию и средний чек заказа   \n",
       "0  Добавить два новых канала привлечения трафика, что позволит привлекать на 30% больше пользователей             \n",
       "6  Показать на главной странице баннеры с актуальными акциями и распродажами, чтобы увеличить конверсию           \n",
       "8  Запустить акцию, дающую скидку на товар в день рождения                                                        \n",
       "3  Изменить структура категорий, что увеличит конверсию, т.к. пользователи быстрее найдут нужный товар            \n",
       "1  Запустить собственную службу доставки, что сократит срок доставки заказов                                      \n",
       "5  Добавить страницу отзывов клиентов о магазине, что позволит увеличить количество заказов                       \n",
       "4  Изменить цвет фона главной страницы, чтобы увеличить вовлеченность пользователей                               \n",
       "\n",
       "   reach  impact  confidence  efforts    ice   rice  \n",
       "7  10     7       8           5        11.20  112.0  \n",
       "2  8      3       7           3        7.00   56.0   \n",
       "0  3      10      8           6        13.33  40.0   \n",
       "6  5      3       8           3        8.00   40.0   \n",
       "8  1      9       9           5        16.20  16.2   \n",
       "3  8      3       3           8        1.12   9.0    \n",
       "1  2      5       4           10       2.00   4.0    \n",
       "5  3      2       2           3        1.33   4.0    \n",
       "4  3      1       1           1        1.00   3.0    "
      ]
     },
     "execution_count": 8,
     "metadata": {},
     "output_type": "execute_result"
    }
   ],
   "source": [
    "df_hyp['rice'] = (df_hyp['impact'] *\n",
    "                 df_hyp['confidence'] *\n",
    "                 df_hyp['reach']/\n",
    "                 df_hyp['efforts']).round(2)\n",
    "df_hyp.sort_values(by='rice', ascending=False)"
   ]
  },
  {
   "cell_type": "markdown",
   "metadata": {},
   "source": [
    "Рассмотрим изменение приоритизации"
   ]
  },
  {
   "cell_type": "markdown",
   "metadata": {},
   "source": [
    "#### Изменение приоритезации по ICE и по RICE"
   ]
  },
  {
   "cell_type": "code",
   "execution_count": 9,
   "metadata": {},
   "outputs": [
    {
     "data": {
      "image/png": "[encoded data removed]",
      "text/plain": [
       "<Figure size 432x288 with 1 Axes>"
      ]
     },
     "metadata": {
      "needs_background": "light"
     },
     "output_type": "display_data"
    }
   ],
   "source": [
    "ax = (df_hyp[['hypothesis', 'ice']]\n",
    "     .set_index('hypothesis')\n",
    "     .sort_values('ice', ascending=False)\n",
    "     .plot(kind='barh', color='b'))\n",
    "ax.set_xlabel('Приоритет')\n",
    "ax.set_ylabel('Гипотезы')\n",
    "ax.set_title('Приоритезация гипотез по методу ICE')\n",
    "plt.show()"
   ]
  },
  {
   "cell_type": "code",
   "execution_count": 10,
   "metadata": {},
   "outputs": [
    {
     "data": {
      "image/png": "[encoded data removed]",
      "text/plain": [
       "<Figure size 432x288 with 1 Axes>"
      ]
     },
     "metadata": {
      "needs_background": "light"
     },
     "output_type": "display_data"
    }
   ],
   "source": [
    "ax = (df_hyp[['hypothesis', 'rice']]\n",
    "     .set_index('hypothesis')\n",
    "     .sort_values('rice', ascending=False)\n",
    "     .plot(kind='barh', color='b'))\n",
    "ax.set_xlabel('Приоритет')\n",
    "ax.set_ylabel('Гипотезы')\n",
    "ax.set_title('Приоритезация гипотез по методу RICE')\n",
    "plt.show()"
   ]
  },
  {
   "cell_type": "markdown",
   "metadata": {},
   "source": [
    "#### Вывод"
   ]
  },
  {
   "cell_type": "markdown",
   "metadata": {},
   "source": [
    "В обоих случаях изменение цвета фона главной страницы обладает наименьшим приоритетом. В остальном приоритеты по методам ICE и RICE меняются местами, но в обоих случаях в топ-3 входят гипотезы:  \n",
    "- \"Добавить форму подписки на все основные страницы, чтобы собрать базу клиентов для email-рассылок\";\n",
    "- \"Добавить два новых канала привлечения трафика, что позволит привлекать на 30% больше пользователей\".  \n",
    "\n",
    "Разница приоритетов объясняется тем, что приоритезация по RICE учитывает охват аудитории в то время, как приотезация по ICE подразумевает использование только параметров важности и уверенности в ее успешности, так:  \n",
    "- по ICE гипотеза о добавлении формы подписки на все основные каналы находится на третьем месте;  \n",
    "- по RICE эта гипотеза находится на первом месте, так как затрагивает всех пользователей."
   ]
  },
  {
   "cell_type": "markdown",
   "metadata": {},
   "source": [
    "## A/B тест"
   ]
  },
  {
   "cell_type": "markdown",
   "metadata": {},
   "source": [
    "В ходе A/B теста были получены данные о заказах и пользователях"
   ]
  },
  {
   "cell_type": "code",
   "execution_count": 11,
   "metadata": {},
   "outputs": [],
   "source": [
    "orders = pd.read_csv('/datasets/orders.csv')\n",
    "visitors = pd.read_csv('/datasets/visitors.csv')"
   ]
  },
  {
   "cell_type": "markdown",
   "metadata": {},
   "source": [
    "### Задача"
   ]
  },
  {
   "cell_type": "markdown",
   "metadata": {},
   "source": [
    "Проанализировать A/B тест:  \n",
    "1. Построить график кумулятивной выручки по группам. Сделать выводы и предположения;  \n",
    "2. Построить график кумулятивного среднего чека по группам. Сделать выводы и предположения;  \n",
    "3. Построить график относительного изменения кумулятивного среднего чека группы B к группе A. Сделать выводы и предположения;  \n",
    "4. Построить график кумулятивного среднего количества заказов на посетителя по группам. Сделать выводы и предположения;  \n",
    "5. Построить график относительного изменения кумулятивного среднего количества заказов на посетителя группы B к группе A. Сделать выводы и предположения;  \n",
    "6. Построить точечный график количества заказов по пользователям. Сделать выводы и предположения;  \n",
    "7. Посчитать 95-й и 99-й перцентили количества заказов на пользователя. Выбрать границу для определения аномальных пользователей;  \n",
    "8. Построить точечный график стоимостей заказов. Сделать выводы и предположения;  \n",
    "9. Посчитать 95-й и 99-й перцентили стоимости заказов. Выбрать границу для определения аномальных заказов;  \n",
    "10. Посчитать статистическую значимость различий в среднем количестве заказов на посетителя между группами по «сырым» данным. Сделать выводы и предположения;  \n",
    "11. Посчитать статистическую значимость различий в среднем чеке заказа между группами по «сырым» данным. Сделать выводы и предположения;  \n",
    "12. Посчитать статистическую значимость различий в среднем количестве заказов на посетителя между группами по «очищенным» данным. Сделать выводы и предположения;  \n",
    "13. Посчитать статистическую значимость различий в среднем чеке заказа между группами по «очищенным» данным. Сделать выводы и предположения;  \n",
    "14. Принять решение по результатам теста."
   ]
  },
  {
   "cell_type": "markdown",
   "metadata": {},
   "source": [
    "### Изучение данных"
   ]
  },
  {
   "cell_type": "markdown",
   "metadata": {},
   "source": [
    "#### Изучение данных и предобработка"
   ]
  },
  {
   "cell_type": "markdown",
   "metadata": {},
   "source": [
    "##### Заказы"
   ]
  },
  {
   "cell_type": "code",
   "execution_count": 12,
   "metadata": {},
   "outputs": [
    {
     "data": {
      "text/html": [
       "<div>\n",
       "<style scoped>\n",
       "    .dataframe tbody tr th:only-of-type {\n",
       "        vertical-align: middle;\n",
       "    }\n",
       "\n",
       "    .dataframe tbody tr th {\n",
       "        vertical-align: top;\n",
       "    }\n",
       "\n",
       "    .dataframe thead th {\n",
       "        text-align: right;\n",
       "    }\n",
       "</style>\n",
       "<table border=\"1\" class=\"dataframe\">\n",
       "  <thead>\n",
       "    <tr style=\"text-align: right;\">\n",
       "      <th></th>\n",
       "      <th>transactionId</th>\n",
       "      <th>visitorId</th>\n",
       "      <th>date</th>\n",
       "      <th>revenue</th>\n",
       "      <th>group</th>\n",
       "    </tr>\n",
       "  </thead>\n",
       "  <tbody>\n",
       "    <tr>\n",
       "      <th>0</th>\n",
       "      <td>3667963787</td>\n",
       "      <td>3312258926</td>\n",
       "      <td>2019-08-15</td>\n",
       "      <td>1650</td>\n",
       "      <td>B</td>\n",
       "    </tr>\n",
       "    <tr>\n",
       "      <th>1</th>\n",
       "      <td>2804400009</td>\n",
       "      <td>3642806036</td>\n",
       "      <td>2019-08-15</td>\n",
       "      <td>730</td>\n",
       "      <td>B</td>\n",
       "    </tr>\n",
       "    <tr>\n",
       "      <th>2</th>\n",
       "      <td>2961555356</td>\n",
       "      <td>4069496402</td>\n",
       "      <td>2019-08-15</td>\n",
       "      <td>400</td>\n",
       "      <td>A</td>\n",
       "    </tr>\n",
       "    <tr>\n",
       "      <th>3</th>\n",
       "      <td>3797467345</td>\n",
       "      <td>1196621759</td>\n",
       "      <td>2019-08-15</td>\n",
       "      <td>9759</td>\n",
       "      <td>B</td>\n",
       "    </tr>\n",
       "    <tr>\n",
       "      <th>4</th>\n",
       "      <td>2282983706</td>\n",
       "      <td>2322279887</td>\n",
       "      <td>2019-08-15</td>\n",
       "      <td>2308</td>\n",
       "      <td>B</td>\n",
       "    </tr>\n",
       "    <tr>\n",
       "      <th>5</th>\n",
       "      <td>182168103</td>\n",
       "      <td>935554773</td>\n",
       "      <td>2019-08-15</td>\n",
       "      <td>2210</td>\n",
       "      <td>B</td>\n",
       "    </tr>\n",
       "    <tr>\n",
       "      <th>6</th>\n",
       "      <td>398296753</td>\n",
       "      <td>2900797465</td>\n",
       "      <td>2019-08-15</td>\n",
       "      <td>1860</td>\n",
       "      <td>B</td>\n",
       "    </tr>\n",
       "    <tr>\n",
       "      <th>7</th>\n",
       "      <td>2626614568</td>\n",
       "      <td>78758296</td>\n",
       "      <td>2019-08-15</td>\n",
       "      <td>1044</td>\n",
       "      <td>A</td>\n",
       "    </tr>\n",
       "    <tr>\n",
       "      <th>8</th>\n",
       "      <td>1576988021</td>\n",
       "      <td>295230930</td>\n",
       "      <td>2019-08-15</td>\n",
       "      <td>13710</td>\n",
       "      <td>A</td>\n",
       "    </tr>\n",
       "    <tr>\n",
       "      <th>9</th>\n",
       "      <td>1506739906</td>\n",
       "      <td>1882260405</td>\n",
       "      <td>2019-08-15</td>\n",
       "      <td>1855</td>\n",
       "      <td>B</td>\n",
       "    </tr>\n",
       "  </tbody>\n",
       "</table>\n",
       "</div>"
      ],
      "text/plain": [
       "   transactionId   visitorId        date  revenue group\n",
       "0  3667963787     3312258926  2019-08-15  1650     B   \n",
       "1  2804400009     3642806036  2019-08-15  730      B   \n",
       "2  2961555356     4069496402  2019-08-15  400      A   \n",
       "3  3797467345     1196621759  2019-08-15  9759     B   \n",
       "4  2282983706     2322279887  2019-08-15  2308     B   \n",
       "5  182168103      935554773   2019-08-15  2210     B   \n",
       "6  398296753      2900797465  2019-08-15  1860     B   \n",
       "7  2626614568     78758296    2019-08-15  1044     A   \n",
       "8  1576988021     295230930   2019-08-15  13710    A   \n",
       "9  1506739906     1882260405  2019-08-15  1855     B   "
      ]
     },
     "metadata": {},
     "output_type": "display_data"
    },
    {
     "name": "stdout",
     "output_type": "stream",
     "text": [
      "<class 'pandas.core.frame.DataFrame'>\n",
      "RangeIndex: 1197 entries, 0 to 1196\n",
      "Data columns (total 5 columns):\n",
      " #   Column         Non-Null Count  Dtype \n",
      "---  ------         --------------  ----- \n",
      " 0   transactionId  1197 non-null   int64 \n",
      " 1   visitorId      1197 non-null   int64 \n",
      " 2   date           1197 non-null   object\n",
      " 3   revenue        1197 non-null   int64 \n",
      " 4   group          1197 non-null   object\n",
      "dtypes: int64(3), object(2)\n",
      "memory usage: 46.9+ KB\n"
     ]
    },
    {
     "data": {
      "text/plain": [
       "None"
      ]
     },
     "metadata": {},
     "output_type": "display_data"
    },
    {
     "data": {
      "text/html": [
       "<div>\n",
       "<style scoped>\n",
       "    .dataframe tbody tr th:only-of-type {\n",
       "        vertical-align: middle;\n",
       "    }\n",
       "\n",
       "    .dataframe tbody tr th {\n",
       "        vertical-align: top;\n",
       "    }\n",
       "\n",
       "    .dataframe thead th {\n",
       "        text-align: right;\n",
       "    }\n",
       "</style>\n",
       "<table border=\"1\" class=\"dataframe\">\n",
       "  <thead>\n",
       "    <tr style=\"text-align: right;\">\n",
       "      <th></th>\n",
       "      <th>count</th>\n",
       "      <th>mean</th>\n",
       "      <th>std</th>\n",
       "      <th>min</th>\n",
       "      <th>5%</th>\n",
       "      <th>10%</th>\n",
       "      <th>25%</th>\n",
       "      <th>50%</th>\n",
       "      <th>75%</th>\n",
       "      <th>90%</th>\n",
       "      <th>95%</th>\n",
       "      <th>99%</th>\n",
       "      <th>max</th>\n",
       "    </tr>\n",
       "  </thead>\n",
       "  <tbody>\n",
       "    <tr>\n",
       "      <th>transactionId</th>\n",
       "      <td>1197.0</td>\n",
       "      <td>2.155621e+09</td>\n",
       "      <td>1.229085e+09</td>\n",
       "      <td>1062393.0</td>\n",
       "      <td>233632506.4</td>\n",
       "      <td>430055406.0</td>\n",
       "      <td>1.166776e+09</td>\n",
       "      <td>2.145194e+09</td>\n",
       "      <td>3.237740e+09</td>\n",
       "      <td>3.832582e+09</td>\n",
       "      <td>4.067471e+09</td>\n",
       "      <td>4.239148e+09</td>\n",
       "      <td>4.293856e+09</td>\n",
       "    </tr>\n",
       "    <tr>\n",
       "      <th>visitorId</th>\n",
       "      <td>1197.0</td>\n",
       "      <td>2.165960e+09</td>\n",
       "      <td>1.236014e+09</td>\n",
       "      <td>5114589.0</td>\n",
       "      <td>236484761.4</td>\n",
       "      <td>407107204.6</td>\n",
       "      <td>1.111826e+09</td>\n",
       "      <td>2.217985e+09</td>\n",
       "      <td>3.177606e+09</td>\n",
       "      <td>3.909872e+09</td>\n",
       "      <td>4.080749e+09</td>\n",
       "      <td>4.256040e+09</td>\n",
       "      <td>4.283872e+09</td>\n",
       "    </tr>\n",
       "    <tr>\n",
       "      <th>revenue</th>\n",
       "      <td>1197.0</td>\n",
       "      <td>8.348006e+03</td>\n",
       "      <td>3.919113e+04</td>\n",
       "      <td>50.0</td>\n",
       "      <td>300.0</td>\n",
       "      <td>470.0</td>\n",
       "      <td>1.220000e+03</td>\n",
       "      <td>2.978000e+03</td>\n",
       "      <td>8.290000e+03</td>\n",
       "      <td>1.816800e+04</td>\n",
       "      <td>2.800000e+04</td>\n",
       "      <td>5.823320e+04</td>\n",
       "      <td>1.294500e+06</td>\n",
       "    </tr>\n",
       "  </tbody>\n",
       "</table>\n",
       "</div>"
      ],
      "text/plain": [
       "                count          mean           std        min           5%  \\\n",
       "transactionId  1197.0  2.155621e+09  1.229085e+09  1062393.0  233632506.4   \n",
       "visitorId      1197.0  2.165960e+09  1.236014e+09  5114589.0  236484761.4   \n",
       "revenue        1197.0  8.348006e+03  3.919113e+04  50.0       300.0         \n",
       "\n",
       "                       10%           25%           50%           75%  \\\n",
       "transactionId  430055406.0  1.166776e+09  2.145194e+09  3.237740e+09   \n",
       "visitorId      407107204.6  1.111826e+09  2.217985e+09  3.177606e+09   \n",
       "revenue        470.0        1.220000e+03  2.978000e+03  8.290000e+03   \n",
       "\n",
       "                        90%           95%           99%           max  \n",
       "transactionId  3.832582e+09  4.067471e+09  4.239148e+09  4.293856e+09  \n",
       "visitorId      3.909872e+09  4.080749e+09  4.256040e+09  4.283872e+09  \n",
       "revenue        1.816800e+04  2.800000e+04  5.823320e+04  1.294500e+06  "
      ]
     },
     "metadata": {},
     "output_type": "display_data"
    },
    {
     "name": "stdout",
     "output_type": "stream",
     "text": [
      "None None None Явные дубликаты: 0\n"
     ]
    }
   ],
   "source": [
    "information(orders)"
   ]
  },
  {
   "cell_type": "markdown",
   "metadata": {},
   "source": [
    "Явных дубликатов нет, как и неопределенных значений, но поле с датой представлено в формате \"object\", а названия некоторых столбцов необходимо привест к snake_case."
   ]
  },
  {
   "cell_type": "code",
   "execution_count": 13,
   "metadata": {},
   "outputs": [
    {
     "name": "stdout",
     "output_type": "stream",
     "text": [
      "<class 'pandas.core.frame.DataFrame'>\n",
      "RangeIndex: 1197 entries, 0 to 1196\n",
      "Data columns (total 5 columns):\n",
      " #   Column         Non-Null Count  Dtype         \n",
      "---  ------         --------------  -----         \n",
      " 0   transactionid  1197 non-null   int64         \n",
      " 1   visitorid      1197 non-null   int64         \n",
      " 2   date           1197 non-null   datetime64[ns]\n",
      " 3   revenue        1197 non-null   int64         \n",
      " 4   group          1197 non-null   object        \n",
      "dtypes: datetime64[ns](1), int64(3), object(1)\n",
      "memory usage: 46.9+ KB\n"
     ]
    }
   ],
   "source": [
    "df_orders = orders.copy()\n",
    "df_orders['date'] = df_orders['date'].apply(pd.to_datetime)\n",
    "df_orders.columns = [x.lower() for x in df_orders.columns.values]\n",
    "df_orders.info()"
   ]
  },
  {
   "cell_type": "markdown",
   "metadata": {},
   "source": [
    "Рассмотрим распределение пользователей по группам"
   ]
  },
  {
   "cell_type": "code",
   "execution_count": 14,
   "metadata": {},
   "outputs": [
    {
     "data": {
      "text/plain": [
       "B    640\n",
       "A    557\n",
       "Name: group, dtype: int64"
      ]
     },
     "execution_count": 14,
     "metadata": {},
     "output_type": "execute_result"
    }
   ],
   "source": [
    "df_orders['group'].value_counts()"
   ]
  },
  {
   "cell_type": "markdown",
   "metadata": {},
   "source": [
    "Распределение неравное, разница составляет 13%"
   ]
  },
  {
   "cell_type": "markdown",
   "metadata": {},
   "source": [
    "Проверим не пересекаются ли пользователи в группах"
   ]
  },
  {
   "cell_type": "code",
   "execution_count": 15,
   "metadata": {},
   "outputs": [
    {
     "name": "stdout",
     "output_type": "stream",
     "text": [
      "Количество пересекающихся пользователей между группами A и B: 58\n",
      "Доля пересекающихся пользователей относительно массива: 0.04845446950710108\n"
     ]
    }
   ],
   "source": [
    "visit_a = set(df_orders[df_orders['group'] == 'A']['visitorid'].unique())\n",
    "visit_b = set(df_orders[df_orders['group'] == 'B']['visitorid'].unique())\n",
    "visit_ab = visit_a.intersection(visit_b)\n",
    "print(f'Количество пересекающихся пользователей между группами A и B: {len(visit_ab)}')\n",
    "print(f'Доля пересекающихся пользователей относительно массива: {len(visit_ab)/len(df_orders)}') "
   ]
  },
  {
   "cell_type": "markdown",
   "metadata": {},
   "source": [
    "Наличие 5% пересекающихся пользователей от общего объема данных может повлиять на результат теста. Удалим этих пользователей из обеих групп, так как неизвестно, какая версия повлияла на их решение."
   ]
  },
  {
   "cell_type": "code",
   "execution_count": 16,
   "metadata": {
    "scrolled": true
   },
   "outputs": [
    {
     "name": "stdout",
     "output_type": "stream",
     "text": [
      "<class 'pandas.core.frame.DataFrame'>\n",
      "Int64Index: 1016 entries, 0 to 1196\n",
      "Data columns (total 5 columns):\n",
      " #   Column         Non-Null Count  Dtype         \n",
      "---  ------         --------------  -----         \n",
      " 0   transactionid  1016 non-null   int64         \n",
      " 1   visitorid      1016 non-null   int64         \n",
      " 2   date           1016 non-null   datetime64[ns]\n",
      " 3   revenue        1016 non-null   int64         \n",
      " 4   group          1016 non-null   object        \n",
      "dtypes: datetime64[ns](1), int64(3), object(1)\n",
      "memory usage: 47.6+ KB\n"
     ]
    }
   ],
   "source": [
    "df_orders = df_orders.query('visitorid not in list(@visit_ab)')\n",
    "df_orders.info()"
   ]
  },
  {
   "cell_type": "code",
   "execution_count": 17,
   "metadata": {},
   "outputs": [
    {
     "data": {
      "text/plain": [
       "B    548\n",
       "A    468\n",
       "Name: group, dtype: int64"
      ]
     },
     "execution_count": 17,
     "metadata": {},
     "output_type": "execute_result"
    }
   ],
   "source": [
    "df_orders['group'].value_counts()"
   ]
  },
  {
   "cell_type": "markdown",
   "metadata": {},
   "source": [
    "##### Пользователи"
   ]
  },
  {
   "cell_type": "code",
   "execution_count": 18,
   "metadata": {},
   "outputs": [
    {
     "data": {
      "text/html": [
       "<div>\n",
       "<style scoped>\n",
       "    .dataframe tbody tr th:only-of-type {\n",
       "        vertical-align: middle;\n",
       "    }\n",
       "\n",
       "    .dataframe tbody tr th {\n",
       "        vertical-align: top;\n",
       "    }\n",
       "\n",
       "    .dataframe thead th {\n",
       "        text-align: right;\n",
       "    }\n",
       "</style>\n",
       "<table border=\"1\" class=\"dataframe\">\n",
       "  <thead>\n",
       "    <tr style=\"text-align: right;\">\n",
       "      <th></th>\n",
       "      <th>date</th>\n",
       "      <th>group</th>\n",
       "      <th>visitors</th>\n",
       "    </tr>\n",
       "  </thead>\n",
       "  <tbody>\n",
       "    <tr>\n",
       "      <th>0</th>\n",
       "      <td>2019-08-01</td>\n",
       "      <td>A</td>\n",
       "      <td>719</td>\n",
       "    </tr>\n",
       "    <tr>\n",
       "      <th>1</th>\n",
       "      <td>2019-08-02</td>\n",
       "      <td>A</td>\n",
       "      <td>619</td>\n",
       "    </tr>\n",
       "    <tr>\n",
       "      <th>2</th>\n",
       "      <td>2019-08-03</td>\n",
       "      <td>A</td>\n",
       "      <td>507</td>\n",
       "    </tr>\n",
       "    <tr>\n",
       "      <th>3</th>\n",
       "      <td>2019-08-04</td>\n",
       "      <td>A</td>\n",
       "      <td>717</td>\n",
       "    </tr>\n",
       "    <tr>\n",
       "      <th>4</th>\n",
       "      <td>2019-08-05</td>\n",
       "      <td>A</td>\n",
       "      <td>756</td>\n",
       "    </tr>\n",
       "    <tr>\n",
       "      <th>5</th>\n",
       "      <td>2019-08-06</td>\n",
       "      <td>A</td>\n",
       "      <td>667</td>\n",
       "    </tr>\n",
       "    <tr>\n",
       "      <th>6</th>\n",
       "      <td>2019-08-07</td>\n",
       "      <td>A</td>\n",
       "      <td>644</td>\n",
       "    </tr>\n",
       "    <tr>\n",
       "      <th>7</th>\n",
       "      <td>2019-08-08</td>\n",
       "      <td>A</td>\n",
       "      <td>610</td>\n",
       "    </tr>\n",
       "    <tr>\n",
       "      <th>8</th>\n",
       "      <td>2019-08-09</td>\n",
       "      <td>A</td>\n",
       "      <td>617</td>\n",
       "    </tr>\n",
       "    <tr>\n",
       "      <th>9</th>\n",
       "      <td>2019-08-10</td>\n",
       "      <td>A</td>\n",
       "      <td>406</td>\n",
       "    </tr>\n",
       "  </tbody>\n",
       "</table>\n",
       "</div>"
      ],
      "text/plain": [
       "         date group  visitors\n",
       "0  2019-08-01  A     719     \n",
       "1  2019-08-02  A     619     \n",
       "2  2019-08-03  A     507     \n",
       "3  2019-08-04  A     717     \n",
       "4  2019-08-05  A     756     \n",
       "5  2019-08-06  A     667     \n",
       "6  2019-08-07  A     644     \n",
       "7  2019-08-08  A     610     \n",
       "8  2019-08-09  A     617     \n",
       "9  2019-08-10  A     406     "
      ]
     },
     "metadata": {},
     "output_type": "display_data"
    },
    {
     "name": "stdout",
     "output_type": "stream",
     "text": [
      "<class 'pandas.core.frame.DataFrame'>\n",
      "RangeIndex: 62 entries, 0 to 61\n",
      "Data columns (total 3 columns):\n",
      " #   Column    Non-Null Count  Dtype \n",
      "---  ------    --------------  ----- \n",
      " 0   date      62 non-null     object\n",
      " 1   group     62 non-null     object\n",
      " 2   visitors  62 non-null     int64 \n",
      "dtypes: int64(1), object(2)\n",
      "memory usage: 1.6+ KB\n"
     ]
    },
    {
     "data": {
      "text/plain": [
       "None"
      ]
     },
     "metadata": {},
     "output_type": "display_data"
    },
    {
     "data": {
      "text/html": [
       "<div>\n",
       "<style scoped>\n",
       "    .dataframe tbody tr th:only-of-type {\n",
       "        vertical-align: middle;\n",
       "    }\n",
       "\n",
       "    .dataframe tbody tr th {\n",
       "        vertical-align: top;\n",
       "    }\n",
       "\n",
       "    .dataframe thead th {\n",
       "        text-align: right;\n",
       "    }\n",
       "</style>\n",
       "<table border=\"1\" class=\"dataframe\">\n",
       "  <thead>\n",
       "    <tr style=\"text-align: right;\">\n",
       "      <th></th>\n",
       "      <th>count</th>\n",
       "      <th>mean</th>\n",
       "      <th>std</th>\n",
       "      <th>min</th>\n",
       "      <th>5%</th>\n",
       "      <th>10%</th>\n",
       "      <th>25%</th>\n",
       "      <th>50%</th>\n",
       "      <th>75%</th>\n",
       "      <th>90%</th>\n",
       "      <th>95%</th>\n",
       "      <th>99%</th>\n",
       "      <th>max</th>\n",
       "    </tr>\n",
       "  </thead>\n",
       "  <tbody>\n",
       "    <tr>\n",
       "      <th>visitors</th>\n",
       "      <td>62.0</td>\n",
       "      <td>607.290323</td>\n",
       "      <td>114.40056</td>\n",
       "      <td>361.0</td>\n",
       "      <td>395.55</td>\n",
       "      <td>413.8</td>\n",
       "      <td>534.0</td>\n",
       "      <td>624.5</td>\n",
       "      <td>710.5</td>\n",
       "      <td>733.7</td>\n",
       "      <td>747.9</td>\n",
       "      <td>769.39</td>\n",
       "      <td>770.0</td>\n",
       "    </tr>\n",
       "  </tbody>\n",
       "</table>\n",
       "</div>"
      ],
      "text/plain": [
       "          count        mean        std    min      5%    10%    25%    50%  \\\n",
       "visitors  62.0   607.290323  114.40056  361.0  395.55  413.8  534.0  624.5   \n",
       "\n",
       "            75%    90%    95%     99%    max  \n",
       "visitors  710.5  733.7  747.9  769.39  770.0  "
      ]
     },
     "metadata": {},
     "output_type": "display_data"
    },
    {
     "name": "stdout",
     "output_type": "stream",
     "text": [
      "None None None Явные дубликаты: 0\n"
     ]
    }
   ],
   "source": [
    "information(visitors)"
   ]
  },
  {
   "cell_type": "markdown",
   "metadata": {},
   "source": [
    "Явных дубликатов нет, как и неопределенных значений, но поле с датой представлено в формате \"object\"."
   ]
  },
  {
   "cell_type": "code",
   "execution_count": 19,
   "metadata": {},
   "outputs": [],
   "source": [
    "df_visitors = visitors.copy()"
   ]
  },
  {
   "cell_type": "code",
   "execution_count": 20,
   "metadata": {},
   "outputs": [
    {
     "name": "stdout",
     "output_type": "stream",
     "text": [
      "<class 'pandas.core.frame.DataFrame'>\n",
      "RangeIndex: 62 entries, 0 to 61\n",
      "Data columns (total 3 columns):\n",
      " #   Column    Non-Null Count  Dtype         \n",
      "---  ------    --------------  -----         \n",
      " 0   date      62 non-null     datetime64[ns]\n",
      " 1   group     62 non-null     object        \n",
      " 2   visitors  62 non-null     int64         \n",
      "dtypes: datetime64[ns](1), int64(1), object(1)\n",
      "memory usage: 1.6+ KB\n"
     ]
    }
   ],
   "source": [
    "df_visitors['date'] = df_visitors['date'].apply(pd.to_datetime)\n",
    "df_visitors.info()"
   ]
  },
  {
   "cell_type": "code",
   "execution_count": 21,
   "metadata": {},
   "outputs": [
    {
     "data": {
      "text/plain": [
       "B    31\n",
       "A    31\n",
       "Name: group, dtype: int64"
      ]
     },
     "execution_count": 21,
     "metadata": {},
     "output_type": "execute_result"
    }
   ],
   "source": [
    "df_visitors['group'].value_counts()"
   ]
  },
  {
   "cell_type": "markdown",
   "metadata": {},
   "source": [
    "##### Вывод"
   ]
  },
  {
   "cell_type": "markdown",
   "metadata": {},
   "source": [
    "1. Заказы:  \n",
    "    - явных дубликатов не обнаружено;  \n",
    "    - неопределенных значений нет;\n",
    "    - названия полей приведены к snake_case;\n",
    "    - формат поля с датой был приведен к формату datetime;\n",
    "    - из данных были удалены пользователи, состоящие в обеих группах;\n",
    "    - распределение пользователей 468 в группе A и 548 в группе B.\n",
    "2. Пользователи:\n",
    "    - явных дубликатов не обнаружено;\n",
    "    - неопределенных значений нет;\n",
    "    - формат поля с датой был приведен к формату datetime;\n",
    "    - распределение групп равное - по 31."
   ]
  },
  {
   "cell_type": "markdown",
   "metadata": {},
   "source": [
    "### Анализ A/B теста"
   ]
  },
  {
   "cell_type": "markdown",
   "metadata": {},
   "source": [
    "#### Кумулятивная выручка по группам"
   ]
  },
  {
   "cell_type": "code",
   "execution_count": 22,
   "metadata": {},
   "outputs": [],
   "source": [
    "df_orders_grouped_a = (df_orders[df_orders['group'] == 'A'].groupby('date')\n",
    "                    .agg({'transactionid':'nunique',\n",
    "                         'visitorid':'nunique',\n",
    "                         'revenue':'sum'})\n",
    "                    .sort_values(by='date').\n",
    "                    cumsum()\n",
    "                    .reset_index())\n",
    "\n",
    "df_orders_grouped_b = (df_orders[df_orders['group'] == 'B'].groupby('date')\n",
    "                    .agg({'transactionid':'nunique',\n",
    "                         'visitorid':'nunique',\n",
    "                         'revenue':'sum'})\n",
    "                    .sort_values(by='date').\n",
    "                    cumsum()\n",
    "                    .reset_index())"
   ]
  },
  {
   "cell_type": "code",
   "execution_count": 23,
   "metadata": {},
   "outputs": [
    {
     "data": {
      "image/png": "[encoded data removed]",
      "text/plain": [
       "<Figure size 1440x720 with 1 Axes>"
      ]
     },
     "metadata": {
      "needs_background": "light"
     },
     "output_type": "display_data"
    }
   ],
   "source": [
    "fig, ax = plt.subplots(figsize = (20, 10))\n",
    "ax.plot(df_orders_grouped_a['date'], df_orders_grouped_a['revenue'], label = 'A')\n",
    "ax.plot(df_orders_grouped_b['date'], df_orders_grouped_b['revenue'], label = 'B')\n",
    "plt.legend()\n",
    "plt.grid()\n",
    "ax.set_xlabel('Дата')\n",
    "ax.set_ylabel('Выручка')\n",
    "plt.title('Кумулятивная выручка')\n",
    "plt.show()"
   ]
  },
  {
   "cell_type": "markdown",
   "metadata": {},
   "source": [
    "Выручка в течение всего периода наблюдения растет в обеих группах. Скачок в группе B может быть вызван увеличением числа заказов или их стоимостью"
   ]
  },
  {
   "cell_type": "code",
   "execution_count": 24,
   "metadata": {},
   "outputs": [
    {
     "data": {
      "text/plain": [
       "Text(0.5, 1.0, 'Распределение числа заказов по дням')"
      ]
     },
     "execution_count": 24,
     "metadata": {},
     "output_type": "execute_result"
    },
    {
     "data": {
      "image/png": "[encoded data removed]",
      "text/plain": [
       "<Figure size 1440x720 with 1 Axes>"
      ]
     },
     "metadata": {
      "needs_background": "light"
     },
     "output_type": "display_data"
    }
   ],
   "source": [
    "df_orders[df_orders['group']=='B']['date'].hist(bins=62, figsize = (20,10))\n",
    "ax.set_xlabel('Дата')\n",
    "ax.set_ylabel('Число заказов')\n",
    "plt.title('Распределение числа заказов по дням')"
   ]
  },
  {
   "cell_type": "markdown",
   "metadata": {},
   "source": [
    "Как видно из распределения с период с 17.08.2019 по 21.08.2019 после спада наблюдается резкий всплеск. Динамика изменения выручки и распределение заказов по этим датам говорят о том, что стоимость заказов росла. Т.е. скачок в группе B связан с тем, что стоимость заказов росла, но количество заказов падало, а затем произошел резкий рост числа заказов."
   ]
  },
  {
   "cell_type": "markdown",
   "metadata": {},
   "source": [
    "#### Кумулятивный средний чек"
   ]
  },
  {
   "cell_type": "code",
   "execution_count": 25,
   "metadata": {},
   "outputs": [
    {
     "data": {
      "image/png": "[encoded data removed]",
      "text/plain": [
       "<Figure size 1440x720 with 1 Axes>"
      ]
     },
     "metadata": {
      "needs_background": "light"
     },
     "output_type": "display_data"
    }
   ],
   "source": [
    "fig, ax = plt.subplots(figsize = (20, 10))\n",
    "ax.plot(df_orders_grouped_a['date'],\n",
    "        df_orders_grouped_a['revenue']/df_orders_grouped_a['transactionid'],\n",
    "        label = 'A')\n",
    "ax.plot(df_orders_grouped_b['date'],\n",
    "        df_orders_grouped_b['revenue']/df_orders_grouped_b['transactionid'],\n",
    "        label = 'B')\n",
    "plt.legend()\n",
    "plt.grid()\n",
    "ax.set_xlabel('Дата')\n",
    "ax.set_ylabel('Выручка')\n",
    "plt.title('Кумулятивная выручка')\n",
    "plt.show()"
   ]
  },
  {
   "cell_type": "markdown",
   "metadata": {},
   "source": [
    "Средний чек в группе A сначала падал, а потом начал расти и стабилизировался, а в группе B в период с 17.08.2019 по 21.08.2019 средний чек испытал скачок, что говорит о том, что стоимость заказов или количество товаров в каждом заказе увеличилась."
   ]
  },
  {
   "cell_type": "markdown",
   "metadata": {},
   "source": [
    "#### Кумулятивный средний чек группы B к группе A"
   ]
  },
  {
   "cell_type": "code",
   "execution_count": 26,
   "metadata": {},
   "outputs": [],
   "source": [
    "df_orders_grouped = df_orders_grouped_a.merge(df_orders_grouped_b,\n",
    "                                              on='date',\n",
    "                                              how='left',\n",
    "                                              suffixes=('_a', '_b'))\n",
    "df_orders_grouped['rel'] = ((df_orders_grouped['revenue_b'] / df_orders_grouped['transactionid_b']) / \n",
    "                           (df_orders_grouped['revenue_a'] / df_orders_grouped['transactionid_a'])\n",
    "                            - 1)"
   ]
  },
  {
   "cell_type": "code",
   "execution_count": 27,
   "metadata": {},
   "outputs": [
    {
     "data": {
      "image/png": "[encoded data removed]",
      "text/plain": [
       "<Figure size 1440x720 with 1 Axes>"
      ]
     },
     "metadata": {
      "needs_background": "light"
     },
     "output_type": "display_data"
    }
   ],
   "source": [
    "df_orders_grouped.plot('date', 'rel', figsize=(20,10))\n",
    "ax.set_xlabel('Дата')\n",
    "ax.set_ylabel('Средний чек')\n",
    "plt.title('Относительный средний чек')\n",
    "plt.grid()"
   ]
  },
  {
   "cell_type": "markdown",
   "metadata": {},
   "source": [
    "5 и 19 августа происходят резкие скачки, связанные с тем, что в эти даты были выполнен заказы с большой общей стоимостью"
   ]
  },
  {
   "cell_type": "markdown",
   "metadata": {},
   "source": [
    "#### Кумулятивное среднее количество заказов на посетителя по группам"
   ]
  },
  {
   "cell_type": "code",
   "execution_count": 28,
   "metadata": {},
   "outputs": [],
   "source": [
    "df_orders_grouped_a['vis_a'] = (df_visitors[df_visitors['group'] == 'A']['visitors']\n",
    "                                 .reset_index(drop=True).cumsum(axis=0))\n",
    "df_orders_grouped_b['vis_b'] = (df_visitors[df_visitors['group'] == 'B']['visitors']\n",
    "                                 .reset_index(drop=True).cumsum(axis=0))\n",
    "\n",
    "df_orders_grouped_a['conv_a'] = (df_orders_grouped_a['transactionid'] / df_orders_grouped_a['vis_a'])\n",
    "df_orders_grouped_b['conv_b'] = (df_orders_grouped_b['transactionid'] / df_orders_grouped_b['vis_b'])"
   ]
  },
  {
   "cell_type": "code",
   "execution_count": 29,
   "metadata": {},
   "outputs": [
    {
     "data": {
      "image/png": "[encoded data removed]",
      "text/plain": [
       "<Figure size 1440x720 with 1 Axes>"
      ]
     },
     "metadata": {
      "needs_background": "light"
     },
     "output_type": "display_data"
    }
   ],
   "source": [
    "fig, ax = plt.subplots(figsize = (20, 10))\n",
    "ax.plot(df_orders_grouped_a['date'], df_orders_grouped_a['conv_a'], label = 'A')\n",
    "ax.plot(df_orders_grouped_b['date'], df_orders_grouped_b['conv_b'], label = 'B')\n",
    "plt.legend()\n",
    "plt.grid()\n",
    "ax.set_xlabel('Дата')\n",
    "ax.set_ylabel('Конверсия')\n",
    "plt.title('Среднее количество заказов на посетителя')\n",
    "plt.show()"
   ]
  },
  {
   "cell_type": "markdown",
   "metadata": {},
   "source": [
    "Группы A в начале наблюдения имеет пиковую конверсию, а группа B - минимальную. Затем конверсия группы B выросла, а группы A уменьшилась"
   ]
  },
  {
   "cell_type": "markdown",
   "metadata": {},
   "source": [
    "#### Относительное изменение количества заказов на посетителя группы B к группе A"
   ]
  },
  {
   "cell_type": "code",
   "execution_count": 30,
   "metadata": {},
   "outputs": [],
   "source": [
    "df_orders_grouped['rel_trans'] = ((df_orders_grouped['transactionid_b']) /\n",
    "                            df_orders_grouped['transactionid_a']\n",
    "                            - 1)"
   ]
  },
  {
   "cell_type": "code",
   "execution_count": 31,
   "metadata": {},
   "outputs": [
    {
     "data": {
      "text/plain": [
       "<matplotlib.lines.Line2D at 0x7f86f80eba60>"
      ]
     },
     "execution_count": 31,
     "metadata": {},
     "output_type": "execute_result"
    },
    {
     "data": {
      "image/png": "[encoded data removed]",
      "text/plain": [
       "<Figure size 1440x720 with 1 Axes>"
      ]
     },
     "metadata": {
      "needs_background": "light"
     },
     "output_type": "display_data"
    }
   ],
   "source": [
    "df_orders_grouped.plot('date', 'rel_trans', figsize=(20,10))\n",
    "ax.set_xlabel('Дата')\n",
    "ax.set_ylabel('Относительная конверсия')\n",
    "plt.title('Относительное количество заказов')\n",
    "plt.grid()\n",
    "plt.axhline(y=0.1, color='black', linestyle='--')\n",
    "plt.axhline(y=0.2, color='grey', linestyle='--')"
   ]
  },
  {
   "cell_type": "markdown",
   "metadata": {},
   "source": [
    "Количество заказов группы B превосходит количество заказов группы A. К 10 числу этот показатель резко возрастает и стабилизируется между 0.1 и 0.2."
   ]
  },
  {
   "cell_type": "markdown",
   "metadata": {},
   "source": [
    "#### Распределение заказов по пользователям"
   ]
  },
  {
   "cell_type": "code",
   "execution_count": 32,
   "metadata": {},
   "outputs": [
    {
     "data": {
      "text/plain": [
       "visitorid\n",
       "5114589     1\n",
       "6958315     1\n",
       "11685486    1\n",
       "39475350    1\n",
       "47206413    1\n",
       "Name: transactionid, dtype: int64"
      ]
     },
     "execution_count": 32,
     "metadata": {},
     "output_type": "execute_result"
    }
   ],
   "source": [
    "orders_by_user = df_orders.groupby('visitorid')['transactionid'].nunique()\n",
    "orders_by_user.head()"
   ]
  },
  {
   "cell_type": "code",
   "execution_count": 33,
   "metadata": {},
   "outputs": [
    {
     "data": {
      "text/plain": [
       "Text(0.5, 1.0, 'Распределение количества заказов по пользователям')"
      ]
     },
     "execution_count": 33,
     "metadata": {},
     "output_type": "execute_result"
    },
    {
     "data": {
      "image/png": "[encoded data removed]",
      "text/plain": [
       "<Figure size 432x288 with 1 Axes>"
      ]
     },
     "metadata": {
      "needs_background": "light"
     },
     "output_type": "display_data"
    }
   ],
   "source": [
    "plt.scatter(pd.Series(range(0, len(orders_by_user))), orders_by_user)\n",
    "ax.set_xlabel('Распределение клиентов')\n",
    "ax.set_ylabel('Количество заказов')\n",
    "plt.title('Распределение количества заказов по пользователям')"
   ]
  },
  {
   "cell_type": "markdown",
   "metadata": {},
   "source": [
    "Большинство посетителей сделали один заказ, часть сделала 2 заказа, а 7 пользователей сделали по 3 заказа"
   ]
  },
  {
   "cell_type": "markdown",
   "metadata": {},
   "source": [
    "#### Выбор границы для определения аномальных пользователей"
   ]
  },
  {
   "cell_type": "code",
   "execution_count": 34,
   "metadata": {},
   "outputs": [
    {
     "data": {
      "text/plain": [
       "count    973.000000\n",
       "mean     1.044193  \n",
       "std      0.238090  \n",
       "min      1.000000  \n",
       "5%       1.000000  \n",
       "50%      1.000000  \n",
       "90%      1.000000  \n",
       "95%      1.000000  \n",
       "99%      2.000000  \n",
       "max      3.000000  \n",
       "Name: transactionid, dtype: float64"
      ]
     },
     "execution_count": 34,
     "metadata": {},
     "output_type": "execute_result"
    }
   ],
   "source": [
    "orders_by_user.describe(percentiles=[0.05, 0.5, 0.9, 0.95, 0.99])"
   ]
  },
  {
   "cell_type": "code",
   "execution_count": 35,
   "metadata": {},
   "outputs": [
    {
     "data": {
      "text/plain": [
       "0.03699897225077081"
      ]
     },
     "execution_count": 35,
     "metadata": {},
     "output_type": "execute_result"
    }
   ],
   "source": [
    "len(orders_by_user[orders_by_user>1])/len(orders_by_user)"
   ]
  },
  {
   "cell_type": "markdown",
   "metadata": {},
   "source": [
    "Большинство пользователей сделало 1 заказ. Около 4% пользователей сделали по 2 или 3 заказа - такие заказы можно отсеять. Тогда при дальнейшей работе с \"очищенными\" данными все пользователи будут иметь по одному заказу"
   ]
  },
  {
   "cell_type": "markdown",
   "metadata": {},
   "source": [
    "#### Стоимость заказов"
   ]
  },
  {
   "cell_type": "code",
   "execution_count": 36,
   "metadata": {},
   "outputs": [
    {
     "data": {
      "text/plain": [
       "Text(0.5, 1.0, 'Распределение стоимости заказов')"
      ]
     },
     "execution_count": 36,
     "metadata": {},
     "output_type": "execute_result"
    },
    {
     "data": {
      "image/png": "[encoded data removed]",
      "text/plain": [
       "<Figure size 432x288 with 1 Axes>"
      ]
     },
     "metadata": {
      "needs_background": "light"
     },
     "output_type": "display_data"
    }
   ],
   "source": [
    "plt.scatter(pd.Series(range(0, len(df_orders))), df_orders['revenue'])\n",
    "ax.set_xlabel('Распределение клиентов')\n",
    "ax.set_ylabel('Стоимость заказов')\n",
    "plt.title('Распределение стоимости заказов')"
   ]
  },
  {
   "cell_type": "markdown",
   "metadata": {},
   "source": [
    "Присутствует два выброса, один свыше 1 млн. и второй в районе 200 тыс. "
   ]
  },
  {
   "cell_type": "code",
   "execution_count": 37,
   "metadata": {},
   "outputs": [
    {
     "data": {
      "text/plain": [
       "Text(0.5, 1.0, 'Распределение стоимости заказов')"
      ]
     },
     "execution_count": 37,
     "metadata": {},
     "output_type": "execute_result"
    },
    {
     "data": {
      "image/png": "[encoded data removed]",
      "text/plain": [
       "<Figure size 432x288 with 1 Axes>"
      ]
     },
     "metadata": {
      "needs_background": "light"
     },
     "output_type": "display_data"
    }
   ],
   "source": [
    "plt.scatter(pd.Series(range(0, len(df_orders))), df_orders['revenue'])\n",
    "ax.set_xlabel('Распределение клиентов')\n",
    "ax.set_ylabel('Стоимость заказов')\n",
    "plt.ylim(0,150000)\n",
    "plt.title('Распределение стоимости заказов')"
   ]
  },
  {
   "cell_type": "markdown",
   "metadata": {},
   "source": [
    "В основной части большинство пользователей делает заказы стоимостью не более 40000. Рассмотрим это подробнее далее."
   ]
  },
  {
   "cell_type": "markdown",
   "metadata": {},
   "source": [
    "#### Выбор аномальных заказов"
   ]
  },
  {
   "cell_type": "code",
   "execution_count": 38,
   "metadata": {},
   "outputs": [
    {
     "data": {
      "text/plain": [
       "count    1016.000   \n",
       "mean     8300.815   \n",
       "std      42121.992  \n",
       "min      50.000     \n",
       "5%       300.000    \n",
       "50%      2955.000   \n",
       "90%      17990.000  \n",
       "95%      26785.000  \n",
       "99%      53904.000  \n",
       "max      1294500.000\n",
       "Name: revenue, dtype: float64"
      ]
     },
     "execution_count": 38,
     "metadata": {},
     "output_type": "execute_result"
    }
   ],
   "source": [
    "df_orders['revenue'].describe(percentiles=[0.05, 0.5, 0.9, 0.95, 0.99]).round(3)"
   ]
  },
  {
   "cell_type": "markdown",
   "metadata": {},
   "source": [
    "5% процентов заказов дороже 27 тыс. - такие заказы можно отсеять"
   ]
  },
  {
   "cell_type": "markdown",
   "metadata": {},
   "source": [
    "#### Статистическая значимость различий в среднем количестве заказов на посетителя"
   ]
  },
  {
   "cell_type": "markdown",
   "metadata": {},
   "source": [
    "Выполним расчет для конверсии по \"сырым данным\""
   ]
  },
  {
   "cell_type": "code",
   "execution_count": 39,
   "metadata": {
    "scrolled": true
   },
   "outputs": [
    {
     "data": {
      "text/html": [
       "<div>\n",
       "<style scoped>\n",
       "    .dataframe tbody tr th:only-of-type {\n",
       "        vertical-align: middle;\n",
       "    }\n",
       "\n",
       "    .dataframe tbody tr th {\n",
       "        vertical-align: top;\n",
       "    }\n",
       "\n",
       "    .dataframe thead th {\n",
       "        text-align: right;\n",
       "    }\n",
       "</style>\n",
       "<table border=\"1\" class=\"dataframe\">\n",
       "  <thead>\n",
       "    <tr style=\"text-align: right;\">\n",
       "      <th></th>\n",
       "      <th>date</th>\n",
       "      <th>group</th>\n",
       "      <th>transactionid</th>\n",
       "      <th>visitorid</th>\n",
       "      <th>revenue</th>\n",
       "    </tr>\n",
       "  </thead>\n",
       "  <tbody>\n",
       "    <tr>\n",
       "      <th>0</th>\n",
       "      <td>2019-08-01</td>\n",
       "      <td>A</td>\n",
       "      <td>23</td>\n",
       "      <td>19</td>\n",
       "      <td>142779</td>\n",
       "    </tr>\n",
       "    <tr>\n",
       "      <th>1</th>\n",
       "      <td>2019-08-01</td>\n",
       "      <td>B</td>\n",
       "      <td>17</td>\n",
       "      <td>17</td>\n",
       "      <td>59758</td>\n",
       "    </tr>\n",
       "    <tr>\n",
       "      <th>2</th>\n",
       "      <td>2019-08-02</td>\n",
       "      <td>A</td>\n",
       "      <td>19</td>\n",
       "      <td>18</td>\n",
       "      <td>91602</td>\n",
       "    </tr>\n",
       "    <tr>\n",
       "      <th>3</th>\n",
       "      <td>2019-08-02</td>\n",
       "      <td>B</td>\n",
       "      <td>23</td>\n",
       "      <td>22</td>\n",
       "      <td>162043</td>\n",
       "    </tr>\n",
       "    <tr>\n",
       "      <th>4</th>\n",
       "      <td>2019-08-03</td>\n",
       "      <td>A</td>\n",
       "      <td>24</td>\n",
       "      <td>24</td>\n",
       "      <td>112473</td>\n",
       "    </tr>\n",
       "    <tr>\n",
       "      <th>...</th>\n",
       "      <td>...</td>\n",
       "      <td>...</td>\n",
       "      <td>...</td>\n",
       "      <td>...</td>\n",
       "      <td>...</td>\n",
       "    </tr>\n",
       "    <tr>\n",
       "      <th>57</th>\n",
       "      <td>2019-08-29</td>\n",
       "      <td>B</td>\n",
       "      <td>15</td>\n",
       "      <td>15</td>\n",
       "      <td>106100</td>\n",
       "    </tr>\n",
       "    <tr>\n",
       "      <th>58</th>\n",
       "      <td>2019-08-30</td>\n",
       "      <td>A</td>\n",
       "      <td>9</td>\n",
       "      <td>8</td>\n",
       "      <td>78180</td>\n",
       "    </tr>\n",
       "    <tr>\n",
       "      <th>59</th>\n",
       "      <td>2019-08-30</td>\n",
       "      <td>B</td>\n",
       "      <td>21</td>\n",
       "      <td>21</td>\n",
       "      <td>209223</td>\n",
       "    </tr>\n",
       "    <tr>\n",
       "      <th>60</th>\n",
       "      <td>2019-08-31</td>\n",
       "      <td>A</td>\n",
       "      <td>8</td>\n",
       "      <td>8</td>\n",
       "      <td>53243</td>\n",
       "    </tr>\n",
       "    <tr>\n",
       "      <th>61</th>\n",
       "      <td>2019-08-31</td>\n",
       "      <td>B</td>\n",
       "      <td>17</td>\n",
       "      <td>17</td>\n",
       "      <td>113139</td>\n",
       "    </tr>\n",
       "  </tbody>\n",
       "</table>\n",
       "<p>62 rows × 5 columns</p>\n",
       "</div>"
      ],
      "text/plain": [
       "         date group  transactionid  visitorid  revenue\n",
       "0  2019-08-01  A     23             19         142779 \n",
       "1  2019-08-01  B     17             17         59758  \n",
       "2  2019-08-02  A     19             18         91602  \n",
       "3  2019-08-02  B     23             22         162043 \n",
       "4  2019-08-03  A     24             24         112473 \n",
       "..        ... ..     ..             ..            ... \n",
       "57 2019-08-29  B     15             15         106100 \n",
       "58 2019-08-30  A     9              8          78180  \n",
       "59 2019-08-30  B     21             21         209223 \n",
       "60 2019-08-31  A     8              8          53243  \n",
       "61 2019-08-31  B     17             17         113139 \n",
       "\n",
       "[62 rows x 5 columns]"
      ]
     },
     "execution_count": 39,
     "metadata": {},
     "output_type": "execute_result"
    }
   ],
   "source": [
    "#подготовка\n",
    "orders_dt = (df_orders.groupby(['date', 'group'])\n",
    "                     .agg({'transactionid':'nunique',\n",
    "                           'visitorid':'nunique',\n",
    "                           'revenue':'sum'})\n",
    "                    .sort_values(by=['date', 'group'])\n",
    "                    .reset_index())\n",
    "orders_dt"
   ]
  },
  {
   "cell_type": "code",
   "execution_count": 40,
   "metadata": {},
   "outputs": [
    {
     "data": {
      "text/html": [
       "<div>\n",
       "<style scoped>\n",
       "    .dataframe tbody tr th:only-of-type {\n",
       "        vertical-align: middle;\n",
       "    }\n",
       "\n",
       "    .dataframe tbody tr th {\n",
       "        vertical-align: top;\n",
       "    }\n",
       "\n",
       "    .dataframe thead th {\n",
       "        text-align: right;\n",
       "    }\n",
       "</style>\n",
       "<table border=\"1\" class=\"dataframe\">\n",
       "  <thead>\n",
       "    <tr style=\"text-align: right;\">\n",
       "      <th></th>\n",
       "      <th>date</th>\n",
       "      <th>orders</th>\n",
       "      <th>revenue</th>\n",
       "      <th>visitors</th>\n",
       "      <th>orders_daile</th>\n",
       "      <th>revenue_daily</th>\n",
       "      <th>visitors_daily</th>\n",
       "    </tr>\n",
       "  </thead>\n",
       "  <tbody>\n",
       "    <tr>\n",
       "      <th>0</th>\n",
       "      <td>2019-08-01</td>\n",
       "      <td>23</td>\n",
       "      <td>142779</td>\n",
       "      <td>719</td>\n",
       "      <td>23</td>\n",
       "      <td>142779</td>\n",
       "      <td>719</td>\n",
       "    </tr>\n",
       "    <tr>\n",
       "      <th>1</th>\n",
       "      <td>2019-08-02</td>\n",
       "      <td>42</td>\n",
       "      <td>234381</td>\n",
       "      <td>1338</td>\n",
       "      <td>19</td>\n",
       "      <td>91602</td>\n",
       "      <td>619</td>\n",
       "    </tr>\n",
       "    <tr>\n",
       "      <th>2</th>\n",
       "      <td>2019-08-03</td>\n",
       "      <td>66</td>\n",
       "      <td>346854</td>\n",
       "      <td>1845</td>\n",
       "      <td>24</td>\n",
       "      <td>112473</td>\n",
       "      <td>507</td>\n",
       "    </tr>\n",
       "    <tr>\n",
       "      <th>3</th>\n",
       "      <td>2019-08-04</td>\n",
       "      <td>77</td>\n",
       "      <td>388030</td>\n",
       "      <td>2562</td>\n",
       "      <td>11</td>\n",
       "      <td>41176</td>\n",
       "      <td>717</td>\n",
       "    </tr>\n",
       "    <tr>\n",
       "      <th>4</th>\n",
       "      <td>2019-08-05</td>\n",
       "      <td>99</td>\n",
       "      <td>474413</td>\n",
       "      <td>3318</td>\n",
       "      <td>22</td>\n",
       "      <td>86383</td>\n",
       "      <td>756</td>\n",
       "    </tr>\n",
       "  </tbody>\n",
       "</table>\n",
       "</div>"
      ],
      "text/plain": [
       "        date  orders  revenue  visitors  orders_daile  revenue_daily  \\\n",
       "0 2019-08-01  23      142779   719       23            142779          \n",
       "1 2019-08-02  42      234381   1338      19            91602           \n",
       "2 2019-08-03  66      346854   1845      24            112473          \n",
       "3 2019-08-04  77      388030   2562      11            41176           \n",
       "4 2019-08-05  99      474413   3318      22            86383           \n",
       "\n",
       "   visitors_daily  \n",
       "0  719             \n",
       "1  619             \n",
       "2  507             \n",
       "3  717             \n",
       "4  756             "
      ]
     },
     "execution_count": 40,
     "metadata": {},
     "output_type": "execute_result"
    }
   ],
   "source": [
    "a = (df_orders_grouped_a[['date', 'transactionid', 'revenue', 'vis_a']]\n",
    "     .merge(orders_dt[orders_dt['group'] == 'A'][['date', 'transactionid', 'revenue']],\n",
    "           on='date', how='left'))\n",
    "\n",
    "a = a.merge(df_visitors[visitors['group'] == 'A'][['date', 'visitors']], on = 'date', how='left')\n",
    "\n",
    "a.set_axis(['date', 'orders', 'revenue', 'visitors', 'orders_daile', 'revenue_daily', 'visitors_daily'],\n",
    "           axis='columns',\n",
    "           inplace=True)\n",
    "a.head()"
   ]
  },
  {
   "cell_type": "code",
   "execution_count": 41,
   "metadata": {},
   "outputs": [
    {
     "data": {
      "text/html": [
       "<div>\n",
       "<style scoped>\n",
       "    .dataframe tbody tr th:only-of-type {\n",
       "        vertical-align: middle;\n",
       "    }\n",
       "\n",
       "    .dataframe tbody tr th {\n",
       "        vertical-align: top;\n",
       "    }\n",
       "\n",
       "    .dataframe thead th {\n",
       "        text-align: right;\n",
       "    }\n",
       "</style>\n",
       "<table border=\"1\" class=\"dataframe\">\n",
       "  <thead>\n",
       "    <tr style=\"text-align: right;\">\n",
       "      <th></th>\n",
       "      <th>date</th>\n",
       "      <th>orders</th>\n",
       "      <th>revenue</th>\n",
       "      <th>visitors</th>\n",
       "      <th>orders_daile</th>\n",
       "      <th>revenue_daily</th>\n",
       "      <th>visitors_daily</th>\n",
       "    </tr>\n",
       "  </thead>\n",
       "  <tbody>\n",
       "    <tr>\n",
       "      <th>0</th>\n",
       "      <td>2019-08-01</td>\n",
       "      <td>17</td>\n",
       "      <td>59758</td>\n",
       "      <td>713</td>\n",
       "      <td>17</td>\n",
       "      <td>59758</td>\n",
       "      <td>713</td>\n",
       "    </tr>\n",
       "    <tr>\n",
       "      <th>1</th>\n",
       "      <td>2019-08-02</td>\n",
       "      <td>40</td>\n",
       "      <td>221801</td>\n",
       "      <td>1294</td>\n",
       "      <td>23</td>\n",
       "      <td>162043</td>\n",
       "      <td>581</td>\n",
       "    </tr>\n",
       "    <tr>\n",
       "      <th>2</th>\n",
       "      <td>2019-08-03</td>\n",
       "      <td>54</td>\n",
       "      <td>288850</td>\n",
       "      <td>1803</td>\n",
       "      <td>14</td>\n",
       "      <td>67049</td>\n",
       "      <td>509</td>\n",
       "    </tr>\n",
       "    <tr>\n",
       "      <th>3</th>\n",
       "      <td>2019-08-04</td>\n",
       "      <td>68</td>\n",
       "      <td>385740</td>\n",
       "      <td>2573</td>\n",
       "      <td>14</td>\n",
       "      <td>96890</td>\n",
       "      <td>770</td>\n",
       "    </tr>\n",
       "    <tr>\n",
       "      <th>4</th>\n",
       "      <td>2019-08-05</td>\n",
       "      <td>89</td>\n",
       "      <td>475648</td>\n",
       "      <td>3280</td>\n",
       "      <td>21</td>\n",
       "      <td>89908</td>\n",
       "      <td>707</td>\n",
       "    </tr>\n",
       "  </tbody>\n",
       "</table>\n",
       "</div>"
      ],
      "text/plain": [
       "        date  orders  revenue  visitors  orders_daile  revenue_daily  \\\n",
       "0 2019-08-01  17      59758    713       17            59758           \n",
       "1 2019-08-02  40      221801   1294      23            162043          \n",
       "2 2019-08-03  54      288850   1803      14            67049           \n",
       "3 2019-08-04  68      385740   2573      14            96890           \n",
       "4 2019-08-05  89      475648   3280      21            89908           \n",
       "\n",
       "   visitors_daily  \n",
       "0  713             \n",
       "1  581             \n",
       "2  509             \n",
       "3  770             \n",
       "4  707             "
      ]
     },
     "execution_count": 41,
     "metadata": {},
     "output_type": "execute_result"
    }
   ],
   "source": [
    "b = (df_orders_grouped_b[['date', 'transactionid', 'revenue', 'vis_b']]\n",
    "     .merge(orders_dt[orders_dt['group'] == 'B'][['date', 'transactionid', 'revenue']],\n",
    "           on='date', how='left'))\n",
    "\n",
    "b = b.merge(df_visitors[visitors['group'] == 'B'][['date', 'visitors']], on = 'date', how='left')\n",
    "\n",
    "b.set_axis(['date', 'orders', 'revenue', 'visitors', 'orders_daile', 'revenue_daily', 'visitors_daily'],\n",
    "           axis='columns',\n",
    "           inplace=True)\n",
    "b.head()"
   ]
  },
  {
   "cell_type": "code",
   "execution_count": 42,
   "metadata": {},
   "outputs": [],
   "source": [
    "order_by_users_a = (df_orders[df_orders['group'] == 'A'].groupby('visitorid', as_index=False)\n",
    "                   .agg({'transactionid':pd.Series.nunique}))\n",
    "order_by_users_b = (df_orders[df_orders['group'] == 'B'].groupby('visitorid', as_index=False)\n",
    "                   .agg({'transactionid':pd.Series.nunique}))"
   ]
  },
  {
   "cell_type": "code",
   "execution_count": 43,
   "metadata": {},
   "outputs": [],
   "source": [
    "sample_a = pd.concat([order_by_users_a['transactionid'], \n",
    "                     pd.Series(0,index=np.arange(a['visitors_daily'].sum() - len(order_by_users_a['transactionid'])), \n",
    "                               name='orders')], axis=0)\n",
    "sample_b = pd.concat([order_by_users_b['transactionid'], \n",
    "                     pd.Series(0,index=np.arange(b['visitors_daily'].sum() - len(order_by_users_b['transactionid'])), \n",
    "                               name='orders')], axis=0)"
   ]
  },
  {
   "cell_type": "markdown",
   "metadata": {},
   "source": [
    "H0: Конверсии в группах A и B не отличаются  \n",
    "H1: Конверсии в группах A и B отличаются"
   ]
  },
  {
   "cell_type": "code",
   "execution_count": 44,
   "metadata": {},
   "outputs": [
    {
     "name": "stdout",
     "output_type": "stream",
     "text": [
      "p_value: 0.011\n",
      "Отвергаем нулевую теорию: между группами есть разница\n",
      "Относительная разница: 16.0%\n"
     ]
    }
   ],
   "source": [
    "alpha = 0.05\n",
    "p_value = st.mannwhitneyu(sample_a, sample_b)[1]\n",
    "\n",
    "print('p_value: {0:.3f}'.format(p_value))\n",
    "\n",
    "if p_value < alpha:\n",
    "    print('Отвергаем нулевую теорию: между группами есть разница')\n",
    "else:\n",
    "    print('Не получилось отвергнуть нулевую гипотезу, нет оснований считать группы разными')\n",
    "print('Относительная разница: {0:.1%}'.format(sample_b.mean()/sample_a.mean()-1))    "
   ]
  },
  {
   "cell_type": "markdown",
   "metadata": {},
   "source": [
    "#### Статистическая значимость различий в среднем чеке"
   ]
  },
  {
   "cell_type": "markdown",
   "metadata": {},
   "source": [
    "H0: Средний чек в группах A и B не отличается  \n",
    "H1: Средний чек в группах A и B отличается"
   ]
  },
  {
   "cell_type": "code",
   "execution_count": 45,
   "metadata": {},
   "outputs": [
    {
     "name": "stdout",
     "output_type": "stream",
     "text": [
      "p_value: 0.829\n",
      "Не получилось отвергнуть нулевую гипотезу, нет оснований считать группы разными\n",
      "Относительная разница: 28.7%\n"
     ]
    }
   ],
   "source": [
    "p_value = st.mannwhitneyu(df_orders[df_orders['group']=='A']['revenue'],\n",
    "                          df_orders[df_orders['group']=='B']['revenue'])[1]\n",
    "\n",
    "print('p_value: {0:.3f}'.format(p_value))\n",
    "\n",
    "if p_value < alpha:\n",
    "    print('Отвергаем нулевую теорию: между группами есть разница')\n",
    "else:\n",
    "    print('Не получилось отвергнуть нулевую гипотезу, нет оснований считать группы разными')\n",
    "print('Относительная разница: {0:.1%}'.format(df_orders[df_orders['group']=='B']\n",
    "                                              ['revenue'].mean()/df_orders[df_orders['group']=='A']['revenue'].mean()-1))    "
   ]
  },
  {
   "cell_type": "markdown",
   "metadata": {},
   "source": [
    "#### Статистическая значимость различий в среднем количестве заказов по \"очищенным\" данным"
   ]
  },
  {
   "cell_type": "code",
   "execution_count": 46,
   "metadata": {},
   "outputs": [
    {
     "data": {
      "text/html": [
       "<div>\n",
       "<style scoped>\n",
       "    .dataframe tbody tr th:only-of-type {\n",
       "        vertical-align: middle;\n",
       "    }\n",
       "\n",
       "    .dataframe tbody tr th {\n",
       "        vertical-align: top;\n",
       "    }\n",
       "\n",
       "    .dataframe thead th {\n",
       "        text-align: right;\n",
       "    }\n",
       "</style>\n",
       "<table border=\"1\" class=\"dataframe\">\n",
       "  <thead>\n",
       "    <tr style=\"text-align: right;\">\n",
       "      <th></th>\n",
       "      <th>transactionid</th>\n",
       "      <th>visitorid</th>\n",
       "      <th>date</th>\n",
       "      <th>revenue</th>\n",
       "      <th>group</th>\n",
       "    </tr>\n",
       "  </thead>\n",
       "  <tbody>\n",
       "    <tr>\n",
       "      <th>0</th>\n",
       "      <td>3667963787</td>\n",
       "      <td>3312258926</td>\n",
       "      <td>2019-08-15</td>\n",
       "      <td>1650</td>\n",
       "      <td>B</td>\n",
       "    </tr>\n",
       "    <tr>\n",
       "      <th>1</th>\n",
       "      <td>2804400009</td>\n",
       "      <td>3642806036</td>\n",
       "      <td>2019-08-15</td>\n",
       "      <td>730</td>\n",
       "      <td>B</td>\n",
       "    </tr>\n",
       "    <tr>\n",
       "      <th>3</th>\n",
       "      <td>3797467345</td>\n",
       "      <td>1196621759</td>\n",
       "      <td>2019-08-15</td>\n",
       "      <td>9759</td>\n",
       "      <td>B</td>\n",
       "    </tr>\n",
       "    <tr>\n",
       "      <th>4</th>\n",
       "      <td>2282983706</td>\n",
       "      <td>2322279887</td>\n",
       "      <td>2019-08-15</td>\n",
       "      <td>2308</td>\n",
       "      <td>B</td>\n",
       "    </tr>\n",
       "    <tr>\n",
       "      <th>5</th>\n",
       "      <td>182168103</td>\n",
       "      <td>935554773</td>\n",
       "      <td>2019-08-15</td>\n",
       "      <td>2210</td>\n",
       "      <td>B</td>\n",
       "    </tr>\n",
       "  </tbody>\n",
       "</table>\n",
       "</div>"
      ],
      "text/plain": [
       "   transactionid   visitorid       date  revenue group\n",
       "0  3667963787     3312258926 2019-08-15  1650     B   \n",
       "1  2804400009     3642806036 2019-08-15  730      B   \n",
       "3  3797467345     1196621759 2019-08-15  9759     B   \n",
       "4  2282983706     2322279887 2019-08-15  2308     B   \n",
       "5  182168103      935554773  2019-08-15  2210     B   "
      ]
     },
     "execution_count": 46,
     "metadata": {},
     "output_type": "execute_result"
    }
   ],
   "source": [
    "df_orders.head()"
   ]
  },
  {
   "cell_type": "code",
   "execution_count": 47,
   "metadata": {},
   "outputs": [
    {
     "data": {
      "text/plain": [
       "0    visitorid    \n",
       "1    transactionid\n",
       "2    2947100995   \n",
       "3    787824685    \n",
       "4    3288820196   \n",
       "Name: visitorid, dtype: object"
      ]
     },
     "execution_count": 47,
     "metadata": {},
     "output_type": "execute_result"
    }
   ],
   "source": [
    "clear_orders = df_orders.groupby('visitorid')['transactionid'].count().reset_index()\n",
    "clear_orders = clear_orders[clear_orders['transactionid'] > 1]\n",
    "reach_orders = df_orders[df_orders['revenue'] > 27000]['visitorid'].reset_index(drop=True)\n",
    "annomaly_users = pd.Series( (list(clear_orders) + list(reach_orders)), name='visitorid').drop_duplicates()\n",
    "\n",
    "annomaly_users.head()"
   ]
  },
  {
   "cell_type": "code",
   "execution_count": 48,
   "metadata": {},
   "outputs": [],
   "source": [
    "clear_sample_a = pd.concat([order_by_users_a.query('not visitorid in @annomaly_users')['transactionid'], \n",
    "                          pd.Series(0, index=np.arange(a['visitors_daily'].sum() - len(order_by_users_a['transactionid'])), \n",
    "                                    name='orders')], axis=0)\n",
    "clear_sample_b = pd.concat([order_by_users_b.query('not visitorid in @annomaly_users')['transactionid'], \n",
    "                          pd.Series(0, index=np.arange(b['visitors_daily'].sum() - len(order_by_users_b['transactionid'])), \n",
    "                                    name='orders')], axis=0)"
   ]
  },
  {
   "cell_type": "markdown",
   "metadata": {},
   "source": [
    "H0: Конверсии в группах A и B не отличаются  \n",
    "H1: Конверсии в группах A и B отличаются"
   ]
  },
  {
   "cell_type": "code",
   "execution_count": 49,
   "metadata": {},
   "outputs": [
    {
     "name": "stdout",
     "output_type": "stream",
     "text": [
      "p_value: 0.017\n",
      "Отвергаем нулевую теорию: между группами есть разница\n",
      "Относительная разница: 15.6%\n"
     ]
    }
   ],
   "source": [
    "p_value = st.mannwhitneyu(clear_sample_a, clear_sample_b)[1]\n",
    "\n",
    "print('p_value: {0:.3f}'.format(p_value))\n",
    "\n",
    "if p_value < alpha:\n",
    "    print('Отвергаем нулевую теорию: между группами есть разница')\n",
    "else:\n",
    "    print('Не получилось отвергнуть нулевую гипотезу, нет оснований считать группы разными')\n",
    "print('Относительная разница: {0:.1%}'.format(clear_sample_b.mean()/clear_sample_a.mean()-1))    "
   ]
  },
  {
   "cell_type": "markdown",
   "metadata": {},
   "source": [
    "По \"очищенным\" данным также есть разница, а относительная разница уменьшилась на 0.4 процентных пункта"
   ]
  },
  {
   "cell_type": "markdown",
   "metadata": {},
   "source": [
    "#### Статистическая значимость различий в среднем чеке по \"очищенным\" данным"
   ]
  },
  {
   "cell_type": "markdown",
   "metadata": {},
   "source": [
    "H0: Средний чек в группах A и B не отличается  \n",
    "H1: Средний чек в группах A и B отличается"
   ]
  },
  {
   "cell_type": "code",
   "execution_count": 50,
   "metadata": {},
   "outputs": [
    {
     "name": "stdout",
     "output_type": "stream",
     "text": [
      "p_value: 0.741\n",
      "Не получилось отвергнуть нулевую гипотезу, нет оснований считать группы разными\n",
      "Относительная разница: -5.3%\n"
     ]
    }
   ],
   "source": [
    "p_value = st.mannwhitneyu(df_orders.query('group == \"A\" and visitorid not in @annomaly_users')['revenue'],\n",
    "                          df_orders.query('group == \"B\" and visitorid not in @annomaly_users')['revenue'])[1]\n",
    "\n",
    "print('p_value: {0:.3f}'.format(p_value))\n",
    "\n",
    "if p_value < alpha:\n",
    "    print('Отвергаем нулевую теорию: между группами есть разница')\n",
    "else:\n",
    "    print('Не получилось отвергнуть нулевую гипотезу, нет оснований считать группы разными')\n",
    "print('Относительная разница: {0:.1%}'.format(df_orders.query(\n",
    "    'group == \"B\" and visitorid not in @annomaly_users')['revenue'].mean()/\n",
    "                                              df_orders.query('group == \"A\" and visitorid not in @annomaly_users')['revenue'].mean()-1)) "
   ]
  },
  {
   "cell_type": "markdown",
   "metadata": {},
   "source": [
    "По \"очищенным\" данным нулевая гипотеза не отвергается. Средний чек в группах A и B не отличается"
   ]
  },
  {
   "cell_type": "markdown",
   "metadata": {},
   "source": [
    "#### Вывод"
   ]
  },
  {
   "cell_type": "markdown",
   "metadata": {},
   "source": [
    "1. Выручка в течение всего периода наблюдения растет в обеих группах. Выручка в группе B испытывает резкий скачок 19.08.2019;  \n",
    "2. В течение всего  периода наблюдения средний чек растет, за исключением некоторых периодов. Так в самом начала средний чек группы A падал, а потом начал рост с последующие выравниванием, а группа B имеет несколько скачков - в начале и в серидине наблюдения с последующим плавным затуханием;  \n",
    "3. Динамика относительного среднего чека имеет резкие спады и падения, ввиду того, что в эти даты были сделаны заказы с большой стоимостью корзины;  \n",
    "4. В начале наблюдения группа A достагает пиковой конверсии и в последующем падает на протяжении всего наблюдения. Группа B имеет минимальную конверсию, достигает почти максимального значения и снова падает с последующим возрастанием и выравниванием;  \n",
    "5. Количество заказов на посетителя группы B превосходит количество заказов группы A. С самого начала наблюдения показатель относительного количества заказов на посетителя группы B к группе A растет, а затем стабилизируется между 0.1 и 0.2;  \n",
    "6. Большинство посетителей сделало 1 заказ - около 95%. Остальные посетителю сделал по 2-3 заказа, что считается выбросом;  \n",
    "7. Большинство посетителей сделало заказ на сумма, не превышающую 27000;  \n",
    "8. По \"сырым\" данным конверсии в группах A и B имеют раличия;  \n",
    "9. По \"сырым\" данным средний чек не имеет различий в группах A и B;  \n",
    "10. По \"очищенным\" данным конверсии в группах A и B имеют различия;  \n",
    "11. По \"очещенным\" данным средний чек не имеет различий в группах A и B.  \n",
    "\n",
    "Нет смысла продолжать тест. Следует отдать победу группе B, так как ее конверсия значительно превышает конверсию группы A."
   ]
  },
  {
   "cell_type": "markdown",
   "metadata": {},
   "source": [
    "## Вывод"
   ]
  },
  {
   "cell_type": "markdown",
   "metadata": {},
   "source": [
    "### Гипотезы"
   ]
  },
  {
   "cell_type": "markdown",
   "metadata": {},
   "source": [
    "1. Была выполнена преобработка данных:\n",
    "    - дубликатов и неопределенных значений нет;  \n",
    "    - был изменен формат в поле с датой;  \n",
    "    - названия столбцов приведены к snake_case;\n",
    "2. Была выполнена приоритезация гипотез по ICE и RICE. В случае с RICE, помимо параметров важности и уверенности, используется параметр охвата аудитории, из-за чего по гипотезы по RICE имеют больший приоритет, чем по ICE, если они охватывают больше аудитории. В обоих случаях в топ-3 приоритетов входят \"Добавить форму подписка на все основные страницы, чтобы собрать базу клиентов для email-рассылок\" и \"Добавить два новых канала привлечения трафика, что позваолит привлекать на 30% больше пользователей\"."
   ]
  },
  {
   "cell_type": "markdown",
   "metadata": {},
   "source": [
    "### A/B тест"
   ]
  },
  {
   "cell_type": "markdown",
   "metadata": {},
   "source": [
    "Была выполнена предобработка данных. Изменен формат поля с датой. Дубликатов и неопределенных значений обнаружено не было, однако были обнаружены пользователи, участвовашие в ходе теста в обеих группах - такие пользователи были удалены, так как их наличие может дать необъективную картину исследования. Рекомендуется выполнить операции по предотвращению попадания пользователей в обе группы."
   ]
  },
  {
   "cell_type": "markdown",
   "metadata": {},
   "source": [
    "Были получены выходные данные A/B теста. По итогам расчета показателей было выявлено, что конверсия группы B значительно превышает конверсию группы A, из-за чего следует отдать победу группе B и остановить тест. При этом гипотезы о различии показателей конверсии и среднего чека имеют один и тот же результат как для \"сырых\" данных, так и для \"очищенных\" данных -  конверсия обеих групп имеет различия, а средний чек нет. В частности были выполнены шаги по снятию и изучению различных показателей:  \n",
    "1. Выручка в обеих группах растет;\n",
    "2. Средний чек растет;\n",
    "3. Динамика относительного среднего чека имеет два пика, с резким подъемом в начале и плавным падением в конце. Такие пики могут быть связаны с выбросами, представленными тем, что в эти даты были выполнены заказы с большой стоимостью;  \n",
    "4. По сравнению с началом наблюдения конверсия группы A падает в течение всего периода наблюдения, а у группы B возрастает в начале и выравнивается к концу;  \n",
    "5. Относительная конверсия растет в начале наблюдения и начинает выравниваться в середине между 0.1 и 0.2;  \n",
    "6. Было обнаружено, что большинство пользователей делает по одному заказу, а их чек не превышает 27 000;  \n",
    "7. Были проверены гипотезы о различии конверсий и среднего чека обеих групп по \"сырым\" и \"очищенным\" данным -  в обоих случаях результат одинаковый - конверсия не имеет различий, а средний чек имеет."
   ]
  }
 ],
 "metadata": {
  "ExecuteTimeLog": [
   {
    "duration": 1862,
    "start_time": "2023-08-30T03:01:28.191Z"
   },
   {
    "duration": 1007,
    "start_time": "2023-08-30T03:05:44.147Z"
   },
   {
    "duration": 228,
    "start_time": "2023-08-30T03:05:59.061Z"
   },
   {
    "duration": 157,
    "start_time": "2023-08-30T03:06:06.736Z"
   },
   {
    "duration": 156,
    "start_time": "2023-08-30T03:06:43.462Z"
   },
   {
    "duration": 4,
    "start_time": "2023-08-30T03:06:57.950Z"
   },
   {
    "duration": 79,
    "start_time": "2023-08-30T03:07:26.748Z"
   },
   {
    "duration": 9,
    "start_time": "2023-08-30T03:14:01.588Z"
   },
   {
    "duration": 20,
    "start_time": "2023-08-30T03:15:30.549Z"
   },
   {
    "duration": 9,
    "start_time": "2023-08-30T03:15:37.451Z"
   },
   {
    "duration": 11,
    "start_time": "2023-08-30T03:15:45.679Z"
   },
   {
    "duration": 9,
    "start_time": "2023-08-30T03:19:27.982Z"
   },
   {
    "duration": 19,
    "start_time": "2023-08-30T03:19:34.757Z"
   },
   {
    "duration": 12,
    "start_time": "2023-08-30T03:19:59.026Z"
   },
   {
    "duration": 12,
    "start_time": "2023-08-30T03:22:03.957Z"
   },
   {
    "duration": 12,
    "start_time": "2023-08-30T03:22:06.872Z"
   },
   {
    "duration": 12,
    "start_time": "2023-08-30T03:22:22.964Z"
   },
   {
    "duration": 13,
    "start_time": "2023-08-30T03:22:47.159Z"
   },
   {
    "duration": 38,
    "start_time": "2023-08-30T03:26:11.687Z"
   },
   {
    "duration": 19,
    "start_time": "2023-08-30T03:26:13.022Z"
   },
   {
    "duration": 1282,
    "start_time": "2023-08-30T03:26:21.577Z"
   },
   {
    "duration": 79,
    "start_time": "2023-08-30T03:26:22.861Z"
   },
   {
    "duration": 4,
    "start_time": "2023-08-30T03:26:22.941Z"
   },
   {
    "duration": 59,
    "start_time": "2023-08-30T03:26:22.946Z"
   },
   {
    "duration": 12,
    "start_time": "2023-08-30T03:26:23.011Z"
   },
   {
    "duration": 12,
    "start_time": "2023-08-30T03:26:23.025Z"
   },
   {
    "duration": 33,
    "start_time": "2023-08-30T03:26:23.038Z"
   },
   {
    "duration": 31,
    "start_time": "2023-08-30T03:26:23.073Z"
   },
   {
    "duration": 398,
    "start_time": "2023-08-30T03:30:15.779Z"
   },
   {
    "duration": 334,
    "start_time": "2023-08-30T12:14:02.365Z"
   },
   {
    "duration": 92,
    "start_time": "2023-08-30T12:14:15.482Z"
   },
   {
    "duration": 1803,
    "start_time": "2023-08-30T12:14:36.634Z"
   },
   {
    "duration": 328,
    "start_time": "2023-08-30T12:14:38.445Z"
   },
   {
    "duration": 6,
    "start_time": "2023-08-30T12:14:38.775Z"
   },
   {
    "duration": 66,
    "start_time": "2023-08-30T12:14:38.784Z"
   },
   {
    "duration": 13,
    "start_time": "2023-08-30T12:14:38.853Z"
   },
   {
    "duration": 20,
    "start_time": "2023-08-30T12:14:38.868Z"
   },
   {
    "duration": 14,
    "start_time": "2023-08-30T12:14:38.890Z"
   },
   {
    "duration": 21,
    "start_time": "2023-08-30T12:14:38.912Z"
   },
   {
    "duration": 567,
    "start_time": "2023-08-30T12:14:38.935Z"
   },
   {
    "duration": 777,
    "start_time": "2023-08-30T12:14:45.487Z"
   },
   {
    "duration": 14,
    "start_time": "2023-08-30T12:22:40.987Z"
   },
   {
    "duration": 46,
    "start_time": "2023-08-30T12:22:48.130Z"
   },
   {
    "duration": 396,
    "start_time": "2023-08-30T12:22:57.770Z"
   },
   {
    "duration": 386,
    "start_time": "2023-08-30T12:23:50.655Z"
   },
   {
    "duration": 385,
    "start_time": "2023-08-30T12:24:28.006Z"
   },
   {
    "duration": 32,
    "start_time": "2023-08-30T13:47:22.083Z"
   },
   {
    "duration": 34,
    "start_time": "2023-08-30T13:47:25.819Z"
   },
   {
    "duration": 1415,
    "start_time": "2023-08-30T13:47:31.570Z"
   },
   {
    "duration": 45,
    "start_time": "2023-08-30T13:47:32.988Z"
   },
   {
    "duration": 7,
    "start_time": "2023-08-30T13:47:33.035Z"
   },
   {
    "duration": 96,
    "start_time": "2023-08-30T13:47:33.045Z"
   },
   {
    "duration": 11,
    "start_time": "2023-08-30T13:47:33.143Z"
   },
   {
    "duration": 15,
    "start_time": "2023-08-30T13:47:33.157Z"
   },
   {
    "duration": 16,
    "start_time": "2023-08-30T13:47:33.174Z"
   },
   {
    "duration": 25,
    "start_time": "2023-08-30T13:47:33.213Z"
   },
   {
    "duration": 360,
    "start_time": "2023-08-30T13:47:33.243Z"
   },
   {
    "duration": 311,
    "start_time": "2023-08-30T13:47:33.609Z"
   },
   {
    "duration": 92,
    "start_time": "2023-08-30T13:58:42.495Z"
   },
   {
    "duration": 66,
    "start_time": "2023-08-30T13:58:57.531Z"
   },
   {
    "duration": 45,
    "start_time": "2023-08-30T13:59:24.260Z"
   },
   {
    "duration": 126,
    "start_time": "2023-08-30T14:01:01.056Z"
   },
   {
    "duration": 39,
    "start_time": "2023-08-30T14:01:05.438Z"
   },
   {
    "duration": 100,
    "start_time": "2023-08-30T14:04:54.459Z"
   },
   {
    "duration": 710,
    "start_time": "2023-08-30T14:05:28.585Z"
   },
   {
    "duration": 105,
    "start_time": "2023-08-30T14:05:54.993Z"
   },
   {
    "duration": 8,
    "start_time": "2023-08-30T14:11:49.374Z"
   },
   {
    "duration": 15,
    "start_time": "2023-08-30T14:17:24.463Z"
   },
   {
    "duration": 15,
    "start_time": "2023-08-30T14:17:28.060Z"
   },
   {
    "duration": 15,
    "start_time": "2023-08-30T14:17:37.247Z"
   },
   {
    "duration": 16,
    "start_time": "2023-08-30T14:17:44.352Z"
   },
   {
    "duration": 9,
    "start_time": "2023-08-30T14:17:47.588Z"
   },
   {
    "duration": 12,
    "start_time": "2023-08-30T14:20:25.406Z"
   },
   {
    "duration": 23,
    "start_time": "2023-08-30T14:24:14.264Z"
   },
   {
    "duration": 154,
    "start_time": "2023-08-30T14:26:50.144Z"
   },
   {
    "duration": 227,
    "start_time": "2023-08-30T14:27:13.971Z"
   },
   {
    "duration": 13,
    "start_time": "2023-08-30T14:28:00.994Z"
   },
   {
    "duration": 8,
    "start_time": "2023-08-30T14:28:35.575Z"
   },
   {
    "duration": 6,
    "start_time": "2023-08-30T14:28:45.076Z"
   },
   {
    "duration": 22,
    "start_time": "2023-08-30T14:28:56.307Z"
   },
   {
    "duration": 13,
    "start_time": "2023-08-30T14:29:19.758Z"
   },
   {
    "duration": 1529,
    "start_time": "2023-08-30T14:29:27.972Z"
   },
   {
    "duration": 44,
    "start_time": "2023-08-30T14:29:29.503Z"
   },
   {
    "duration": 7,
    "start_time": "2023-08-30T14:29:29.549Z"
   },
   {
    "duration": 69,
    "start_time": "2023-08-30T14:29:29.561Z"
   },
   {
    "duration": 12,
    "start_time": "2023-08-30T14:29:29.634Z"
   },
   {
    "duration": 18,
    "start_time": "2023-08-30T14:29:29.649Z"
   },
   {
    "duration": 18,
    "start_time": "2023-08-30T14:29:29.670Z"
   },
   {
    "duration": 41,
    "start_time": "2023-08-30T14:29:29.690Z"
   },
   {
    "duration": 398,
    "start_time": "2023-08-30T14:29:29.734Z"
   },
   {
    "duration": 401,
    "start_time": "2023-08-30T14:29:30.134Z"
   },
   {
    "duration": 119,
    "start_time": "2023-08-30T14:29:30.537Z"
   },
   {
    "duration": 105,
    "start_time": "2023-08-30T14:29:30.658Z"
   },
   {
    "duration": 136,
    "start_time": "2023-08-30T14:29:30.768Z"
   },
   {
    "duration": 12,
    "start_time": "2023-08-30T14:29:30.908Z"
   },
   {
    "duration": 104,
    "start_time": "2023-08-30T14:29:30.922Z"
   },
   {
    "duration": 137,
    "start_time": "2023-08-30T14:29:31.028Z"
   },
   {
    "duration": 95,
    "start_time": "2023-08-30T14:29:31.170Z"
   },
   {
    "duration": 16,
    "start_time": "2023-08-30T14:29:51.984Z"
   },
   {
    "duration": 12,
    "start_time": "2023-08-30T14:30:00.342Z"
   },
   {
    "duration": 97,
    "start_time": "2023-08-30T14:31:12.080Z"
   },
   {
    "duration": 1457,
    "start_time": "2023-08-30T14:31:20.484Z"
   },
   {
    "duration": 36,
    "start_time": "2023-08-30T14:31:21.946Z"
   },
   {
    "duration": 5,
    "start_time": "2023-08-30T14:31:21.985Z"
   },
   {
    "duration": 66,
    "start_time": "2023-08-30T14:31:21.992Z"
   },
   {
    "duration": 8,
    "start_time": "2023-08-30T14:31:22.062Z"
   },
   {
    "duration": 48,
    "start_time": "2023-08-30T14:31:22.073Z"
   },
   {
    "duration": 23,
    "start_time": "2023-08-30T14:31:22.124Z"
   },
   {
    "duration": 20,
    "start_time": "2023-08-30T14:31:22.149Z"
   },
   {
    "duration": 462,
    "start_time": "2023-08-30T14:31:22.171Z"
   },
   {
    "duration": 382,
    "start_time": "2023-08-30T14:31:22.636Z"
   },
   {
    "duration": 80,
    "start_time": "2023-08-30T14:31:23.021Z"
   },
   {
    "duration": 70,
    "start_time": "2023-08-30T14:31:23.103Z"
   },
   {
    "duration": 122,
    "start_time": "2023-08-30T14:31:23.174Z"
   },
   {
    "duration": 14,
    "start_time": "2023-08-30T14:31:23.298Z"
   },
   {
    "duration": 11,
    "start_time": "2023-08-30T14:31:23.336Z"
   },
   {
    "duration": 133,
    "start_time": "2023-08-30T14:31:23.351Z"
   },
   {
    "duration": 0,
    "start_time": "2023-08-30T14:31:23.487Z"
   },
   {
    "duration": 370,
    "start_time": "2023-08-30T14:31:33.900Z"
   },
   {
    "duration": 132,
    "start_time": "2023-08-30T14:31:39.443Z"
   },
   {
    "duration": 19,
    "start_time": "2023-08-30T14:32:43.032Z"
   },
   {
    "duration": 10,
    "start_time": "2023-08-30T14:32:59.290Z"
   },
   {
    "duration": 5,
    "start_time": "2023-08-30T14:38:59.544Z"
   },
   {
    "duration": 7,
    "start_time": "2023-08-30T14:39:08.731Z"
   },
   {
    "duration": 6,
    "start_time": "2023-08-30T14:40:11.580Z"
   },
   {
    "duration": 22,
    "start_time": "2023-08-30T14:40:23.464Z"
   },
   {
    "duration": 1418,
    "start_time": "2023-08-30T14:40:37.477Z"
   },
   {
    "duration": 50,
    "start_time": "2023-08-30T14:40:38.898Z"
   },
   {
    "duration": 3,
    "start_time": "2023-08-30T14:40:38.951Z"
   },
   {
    "duration": 66,
    "start_time": "2023-08-30T14:40:38.956Z"
   },
   {
    "duration": 18,
    "start_time": "2023-08-30T14:40:39.025Z"
   },
   {
    "duration": 16,
    "start_time": "2023-08-30T14:40:39.046Z"
   },
   {
    "duration": 16,
    "start_time": "2023-08-30T14:40:39.065Z"
   },
   {
    "duration": 47,
    "start_time": "2023-08-30T14:40:39.083Z"
   },
   {
    "duration": 414,
    "start_time": "2023-08-30T14:40:39.132Z"
   },
   {
    "duration": 352,
    "start_time": "2023-08-30T14:40:39.549Z"
   },
   {
    "duration": 77,
    "start_time": "2023-08-30T14:40:39.903Z"
   },
   {
    "duration": 64,
    "start_time": "2023-08-30T14:40:39.981Z"
   },
   {
    "duration": 114,
    "start_time": "2023-08-30T14:40:40.047Z"
   },
   {
    "duration": 8,
    "start_time": "2023-08-30T14:40:40.165Z"
   },
   {
    "duration": 10,
    "start_time": "2023-08-30T14:40:40.176Z"
   },
   {
    "duration": 38,
    "start_time": "2023-08-30T14:40:40.188Z"
   },
   {
    "duration": 43,
    "start_time": "2023-08-30T14:40:40.228Z"
   },
   {
    "duration": 8,
    "start_time": "2023-08-30T14:41:16.738Z"
   },
   {
    "duration": 1481,
    "start_time": "2023-08-30T14:41:50.083Z"
   },
   {
    "duration": 29,
    "start_time": "2023-08-30T14:41:51.567Z"
   },
   {
    "duration": 4,
    "start_time": "2023-08-30T14:41:51.598Z"
   },
   {
    "duration": 86,
    "start_time": "2023-08-30T14:41:51.604Z"
   },
   {
    "duration": 9,
    "start_time": "2023-08-30T14:41:51.692Z"
   },
   {
    "duration": 22,
    "start_time": "2023-08-30T14:41:51.702Z"
   },
   {
    "duration": 43,
    "start_time": "2023-08-30T14:41:51.727Z"
   },
   {
    "duration": 24,
    "start_time": "2023-08-30T14:41:51.775Z"
   },
   {
    "duration": 386,
    "start_time": "2023-08-30T14:41:51.806Z"
   },
   {
    "duration": 387,
    "start_time": "2023-08-30T14:41:52.195Z"
   },
   {
    "duration": 106,
    "start_time": "2023-08-30T14:41:52.584Z"
   },
   {
    "duration": 79,
    "start_time": "2023-08-30T14:41:52.692Z"
   },
   {
    "duration": 143,
    "start_time": "2023-08-30T14:41:52.773Z"
   },
   {
    "duration": 23,
    "start_time": "2023-08-30T14:41:52.919Z"
   },
   {
    "duration": 10,
    "start_time": "2023-08-30T14:41:52.948Z"
   },
   {
    "duration": 21,
    "start_time": "2023-08-30T14:41:52.960Z"
   },
   {
    "duration": 9,
    "start_time": "2023-08-30T14:41:52.984Z"
   },
   {
    "duration": 77,
    "start_time": "2023-08-30T14:41:52.995Z"
   },
   {
    "duration": 1355,
    "start_time": "2023-08-30T14:42:30.238Z"
   },
   {
    "duration": 44,
    "start_time": "2023-08-30T14:42:31.595Z"
   },
   {
    "duration": 5,
    "start_time": "2023-08-30T14:42:31.643Z"
   },
   {
    "duration": 92,
    "start_time": "2023-08-30T14:42:31.650Z"
   },
   {
    "duration": 10,
    "start_time": "2023-08-30T14:42:31.745Z"
   },
   {
    "duration": 36,
    "start_time": "2023-08-30T14:42:31.757Z"
   },
   {
    "duration": 55,
    "start_time": "2023-08-30T14:42:31.796Z"
   },
   {
    "duration": 23,
    "start_time": "2023-08-30T14:42:31.854Z"
   },
   {
    "duration": 393,
    "start_time": "2023-08-30T14:42:31.879Z"
   },
   {
    "duration": 377,
    "start_time": "2023-08-30T14:42:32.274Z"
   },
   {
    "duration": 104,
    "start_time": "2023-08-30T14:42:32.654Z"
   },
   {
    "duration": 71,
    "start_time": "2023-08-30T14:42:32.762Z"
   },
   {
    "duration": 165,
    "start_time": "2023-08-30T14:42:32.836Z"
   },
   {
    "duration": 28,
    "start_time": "2023-08-30T14:42:33.005Z"
   },
   {
    "duration": 17,
    "start_time": "2023-08-30T14:42:33.040Z"
   },
   {
    "duration": 134,
    "start_time": "2023-08-30T14:42:33.062Z"
   },
   {
    "duration": 0,
    "start_time": "2023-08-30T14:42:33.199Z"
   },
   {
    "duration": 0,
    "start_time": "2023-08-30T14:42:33.201Z"
   },
   {
    "duration": 19,
    "start_time": "2023-08-30T14:42:48.435Z"
   },
   {
    "duration": 9,
    "start_time": "2023-08-30T14:42:55.735Z"
   },
   {
    "duration": 34,
    "start_time": "2023-08-30T14:44:01.564Z"
   },
   {
    "duration": 136,
    "start_time": "2023-08-30T14:44:37.100Z"
   },
   {
    "duration": 14,
    "start_time": "2023-08-30T14:46:53.228Z"
   },
   {
    "duration": 4,
    "start_time": "2023-08-30T14:47:08.479Z"
   },
   {
    "duration": 27,
    "start_time": "2023-08-30T14:47:09.076Z"
   },
   {
    "duration": 19,
    "start_time": "2023-08-30T14:47:35.898Z"
   },
   {
    "duration": 11,
    "start_time": "2023-08-30T14:47:38.589Z"
   },
   {
    "duration": 9,
    "start_time": "2023-08-30T14:49:57.279Z"
   },
   {
    "duration": 1587,
    "start_time": "2023-08-30T15:04:07.508Z"
   },
   {
    "duration": 60,
    "start_time": "2023-08-30T15:04:09.098Z"
   },
   {
    "duration": 5,
    "start_time": "2023-08-30T15:04:09.160Z"
   },
   {
    "duration": 109,
    "start_time": "2023-08-30T15:04:09.168Z"
   },
   {
    "duration": 13,
    "start_time": "2023-08-30T15:04:09.279Z"
   },
   {
    "duration": 17,
    "start_time": "2023-08-30T15:04:09.309Z"
   },
   {
    "duration": 24,
    "start_time": "2023-08-30T15:04:09.329Z"
   },
   {
    "duration": 15,
    "start_time": "2023-08-30T15:04:09.361Z"
   },
   {
    "duration": 519,
    "start_time": "2023-08-30T15:04:09.380Z"
   },
   {
    "duration": 427,
    "start_time": "2023-08-30T15:04:09.903Z"
   },
   {
    "duration": 71,
    "start_time": "2023-08-30T15:04:10.332Z"
   },
   {
    "duration": 90,
    "start_time": "2023-08-30T15:04:10.405Z"
   },
   {
    "duration": 184,
    "start_time": "2023-08-30T15:04:10.497Z"
   },
   {
    "duration": 8,
    "start_time": "2023-08-30T15:04:10.683Z"
   },
   {
    "duration": 34,
    "start_time": "2023-08-30T15:04:10.694Z"
   },
   {
    "duration": 154,
    "start_time": "2023-08-30T15:04:10.730Z"
   },
   {
    "duration": 0,
    "start_time": "2023-08-30T15:04:10.886Z"
   },
   {
    "duration": 0,
    "start_time": "2023-08-30T15:04:10.887Z"
   },
   {
    "duration": 0,
    "start_time": "2023-08-30T15:04:10.888Z"
   },
   {
    "duration": 0,
    "start_time": "2023-08-30T15:04:10.889Z"
   },
   {
    "duration": 0,
    "start_time": "2023-08-30T15:04:10.890Z"
   },
   {
    "duration": 19,
    "start_time": "2023-08-30T15:04:44.441Z"
   },
   {
    "duration": 7,
    "start_time": "2023-08-30T15:04:49.880Z"
   },
   {
    "duration": 61,
    "start_time": "2023-08-30T15:05:00.563Z"
   },
   {
    "duration": 5,
    "start_time": "2023-08-30T15:05:02.518Z"
   },
   {
    "duration": 39,
    "start_time": "2023-08-30T15:05:02.825Z"
   },
   {
    "duration": 25,
    "start_time": "2023-08-30T15:05:03.125Z"
   },
   {
    "duration": 32,
    "start_time": "2023-08-30T15:22:17.382Z"
   },
   {
    "duration": 38,
    "start_time": "2023-08-30T15:22:27.036Z"
   },
   {
    "duration": 546,
    "start_time": "2023-08-30T15:24:56.856Z"
   },
   {
    "duration": 728,
    "start_time": "2023-08-30T15:25:29.770Z"
   },
   {
    "duration": 483,
    "start_time": "2023-08-30T15:26:36.135Z"
   },
   {
    "duration": 537,
    "start_time": "2023-08-30T15:27:12.675Z"
   },
   {
    "duration": 25,
    "start_time": "2023-08-30T15:29:08.313Z"
   },
   {
    "duration": 261,
    "start_time": "2023-08-30T15:29:16.370Z"
   },
   {
    "duration": 706,
    "start_time": "2023-08-30T15:29:35.959Z"
   },
   {
    "duration": 475,
    "start_time": "2023-08-30T15:29:41.840Z"
   },
   {
    "duration": 628,
    "start_time": "2023-08-30T15:29:47.442Z"
   },
   {
    "duration": 426,
    "start_time": "2023-08-30T15:30:17.152Z"
   },
   {
    "duration": 863,
    "start_time": "2023-08-30T15:30:20.654Z"
   },
   {
    "duration": 14,
    "start_time": "2023-08-30T15:30:48.050Z"
   },
   {
    "duration": 14,
    "start_time": "2023-08-30T15:31:01.210Z"
   },
   {
    "duration": 493,
    "start_time": "2023-08-30T15:31:06.175Z"
   },
   {
    "duration": 543,
    "start_time": "2023-08-30T15:31:33.689Z"
   },
   {
    "duration": 656,
    "start_time": "2023-08-30T15:32:18.791Z"
   },
   {
    "duration": 724,
    "start_time": "2023-08-30T15:34:01.943Z"
   },
   {
    "duration": 422,
    "start_time": "2023-08-30T15:38:22.906Z"
   },
   {
    "duration": 428,
    "start_time": "2023-08-30T15:40:57.139Z"
   },
   {
    "duration": 130,
    "start_time": "2023-08-30T15:51:07.435Z"
   },
   {
    "duration": 10,
    "start_time": "2023-08-30T15:51:12.260Z"
   },
   {
    "duration": 11,
    "start_time": "2023-08-30T15:52:06.571Z"
   },
   {
    "duration": 364,
    "start_time": "2023-08-30T15:52:16.531Z"
   },
   {
    "duration": 355,
    "start_time": "2023-08-30T16:08:16.863Z"
   },
   {
    "duration": 340,
    "start_time": "2023-08-30T16:08:34.942Z"
   },
   {
    "duration": 117,
    "start_time": "2023-08-30T16:14:46.088Z"
   },
   {
    "duration": 13,
    "start_time": "2023-08-30T16:14:52.983Z"
   },
   {
    "duration": 1415,
    "start_time": "2023-08-30T16:16:15.585Z"
   },
   {
    "duration": 52,
    "start_time": "2023-08-30T16:16:17.003Z"
   },
   {
    "duration": 4,
    "start_time": "2023-08-30T16:16:17.060Z"
   },
   {
    "duration": 79,
    "start_time": "2023-08-30T16:16:17.066Z"
   },
   {
    "duration": 10,
    "start_time": "2023-08-30T16:16:17.147Z"
   },
   {
    "duration": 18,
    "start_time": "2023-08-30T16:16:17.159Z"
   },
   {
    "duration": 18,
    "start_time": "2023-08-30T16:16:17.179Z"
   },
   {
    "duration": 29,
    "start_time": "2023-08-30T16:16:17.199Z"
   },
   {
    "duration": 347,
    "start_time": "2023-08-30T16:16:17.234Z"
   },
   {
    "duration": 313,
    "start_time": "2023-08-30T16:16:17.583Z"
   },
   {
    "duration": 70,
    "start_time": "2023-08-30T16:16:17.898Z"
   },
   {
    "duration": 56,
    "start_time": "2023-08-30T16:16:17.970Z"
   },
   {
    "duration": 128,
    "start_time": "2023-08-30T16:16:18.030Z"
   },
   {
    "duration": 7,
    "start_time": "2023-08-30T16:16:18.161Z"
   },
   {
    "duration": 22,
    "start_time": "2023-08-30T16:16:18.170Z"
   },
   {
    "duration": 29,
    "start_time": "2023-08-30T16:16:18.195Z"
   },
   {
    "duration": 9,
    "start_time": "2023-08-30T16:16:18.232Z"
   },
   {
    "duration": 42,
    "start_time": "2023-08-30T16:16:18.244Z"
   },
   {
    "duration": 4,
    "start_time": "2023-08-30T16:16:18.288Z"
   },
   {
    "duration": 41,
    "start_time": "2023-08-30T16:16:18.315Z"
   },
   {
    "duration": 7,
    "start_time": "2023-08-30T16:16:18.358Z"
   },
   {
    "duration": 20,
    "start_time": "2023-08-30T16:16:18.367Z"
   },
   {
    "duration": 416,
    "start_time": "2023-08-30T16:16:18.388Z"
   },
   {
    "duration": 378,
    "start_time": "2023-08-30T16:16:18.806Z"
   },
   {
    "duration": 339,
    "start_time": "2023-08-30T16:16:19.186Z"
   },
   {
    "duration": 13,
    "start_time": "2023-08-30T16:16:19.532Z"
   },
   {
    "duration": 320,
    "start_time": "2023-08-30T16:16:19.551Z"
   },
   {
    "duration": 414,
    "start_time": "2023-08-30T16:16:19.873Z"
   },
   {
    "duration": 6,
    "start_time": "2023-08-30T16:16:20.289Z"
   },
   {
    "duration": 359,
    "start_time": "2023-08-30T16:16:20.315Z"
   },
   {
    "duration": 129,
    "start_time": "2023-08-30T16:20:58.782Z"
   },
   {
    "duration": 14,
    "start_time": "2023-08-30T16:21:04.547Z"
   },
   {
    "duration": 14,
    "start_time": "2023-08-30T16:21:08.154Z"
   },
   {
    "duration": 12,
    "start_time": "2023-08-30T16:21:13.241Z"
   },
   {
    "duration": 10,
    "start_time": "2023-08-30T16:23:11.457Z"
   },
   {
    "duration": 1877,
    "start_time": "2023-08-30T16:23:20.685Z"
   },
   {
    "duration": 192,
    "start_time": "2023-08-30T16:23:52.141Z"
   },
   {
    "duration": 185,
    "start_time": "2023-08-30T16:24:12.045Z"
   },
   {
    "duration": 175,
    "start_time": "2023-08-30T16:24:23.855Z"
   },
   {
    "duration": 7,
    "start_time": "2023-08-30T16:53:19.124Z"
   },
   {
    "duration": 12,
    "start_time": "2023-08-30T16:55:01.558Z"
   },
   {
    "duration": 9,
    "start_time": "2023-08-30T16:55:29.676Z"
   },
   {
    "duration": 1546,
    "start_time": "2023-08-30T16:56:12.338Z"
   },
   {
    "duration": 9,
    "start_time": "2023-08-30T16:56:19.590Z"
   },
   {
    "duration": 15,
    "start_time": "2023-08-30T16:59:47.039Z"
   },
   {
    "duration": 14,
    "start_time": "2023-08-30T17:00:06.828Z"
   },
   {
    "duration": 10,
    "start_time": "2023-08-30T17:00:20.495Z"
   },
   {
    "duration": 171,
    "start_time": "2023-08-30T17:02:56.935Z"
   },
   {
    "duration": 4,
    "start_time": "2023-08-30T17:24:41.109Z"
   },
   {
    "duration": 15,
    "start_time": "2023-08-30T17:25:13.283Z"
   },
   {
    "duration": 37,
    "start_time": "2023-08-30T17:25:21.231Z"
   },
   {
    "duration": 10,
    "start_time": "2023-08-30T17:32:07.763Z"
   },
   {
    "duration": 16,
    "start_time": "2023-08-30T17:37:38.973Z"
   },
   {
    "duration": 2839,
    "start_time": "2023-08-30T17:40:58.153Z"
   },
   {
    "duration": 2504,
    "start_time": "2023-08-30T17:41:11.631Z"
   },
   {
    "duration": 10,
    "start_time": "2023-08-30T17:41:21.752Z"
   },
   {
    "duration": 417,
    "start_time": "2023-08-30T17:41:52.042Z"
   },
   {
    "duration": 1447,
    "start_time": "2023-08-30T17:47:18.138Z"
   },
   {
    "duration": 50,
    "start_time": "2023-08-30T17:47:19.587Z"
   },
   {
    "duration": 6,
    "start_time": "2023-08-30T17:47:19.639Z"
   },
   {
    "duration": 53,
    "start_time": "2023-08-30T17:47:19.648Z"
   },
   {
    "duration": 23,
    "start_time": "2023-08-30T17:47:19.704Z"
   },
   {
    "duration": 18,
    "start_time": "2023-08-30T17:47:19.729Z"
   },
   {
    "duration": 18,
    "start_time": "2023-08-30T17:47:19.749Z"
   },
   {
    "duration": 13,
    "start_time": "2023-08-30T17:47:19.769Z"
   },
   {
    "duration": 397,
    "start_time": "2023-08-30T17:47:19.784Z"
   },
   {
    "duration": 353,
    "start_time": "2023-08-30T17:47:20.182Z"
   },
   {
    "duration": 57,
    "start_time": "2023-08-30T17:47:20.537Z"
   },
   {
    "duration": 77,
    "start_time": "2023-08-30T17:47:20.595Z"
   },
   {
    "duration": 135,
    "start_time": "2023-08-30T17:47:20.674Z"
   },
   {
    "duration": 14,
    "start_time": "2023-08-30T17:47:20.812Z"
   },
   {
    "duration": 30,
    "start_time": "2023-08-30T17:47:20.828Z"
   },
   {
    "duration": 15,
    "start_time": "2023-08-30T17:47:20.862Z"
   },
   {
    "duration": 5,
    "start_time": "2023-08-30T17:47:20.878Z"
   },
   {
    "duration": 61,
    "start_time": "2023-08-30T17:47:20.885Z"
   },
   {
    "duration": 3,
    "start_time": "2023-08-30T17:47:20.948Z"
   },
   {
    "duration": 39,
    "start_time": "2023-08-30T17:47:20.953Z"
   },
   {
    "duration": 29,
    "start_time": "2023-08-30T17:47:20.994Z"
   },
   {
    "duration": 25,
    "start_time": "2023-08-30T17:47:21.026Z"
   },
   {
    "duration": 445,
    "start_time": "2023-08-30T17:47:21.053Z"
   },
   {
    "duration": 397,
    "start_time": "2023-08-30T17:47:21.500Z"
   },
   {
    "duration": 358,
    "start_time": "2023-08-30T17:47:21.899Z"
   },
   {
    "duration": 9,
    "start_time": "2023-08-30T17:47:22.259Z"
   },
   {
    "duration": 446,
    "start_time": "2023-08-30T17:47:22.270Z"
   },
   {
    "duration": 17,
    "start_time": "2023-08-30T17:47:22.718Z"
   },
   {
    "duration": 526,
    "start_time": "2023-08-30T17:47:22.737Z"
   },
   {
    "duration": 4,
    "start_time": "2023-08-30T17:47:23.266Z"
   },
   {
    "duration": 373,
    "start_time": "2023-08-30T17:47:23.271Z"
   },
   {
    "duration": 11,
    "start_time": "2023-08-30T17:47:23.648Z"
   },
   {
    "duration": 205,
    "start_time": "2023-08-30T17:47:23.669Z"
   },
   {
    "duration": 11,
    "start_time": "2023-08-30T17:47:23.877Z"
   },
   {
    "duration": 199,
    "start_time": "2023-08-30T17:47:23.891Z"
   },
   {
    "duration": 10,
    "start_time": "2023-08-30T17:47:24.092Z"
   },
   {
    "duration": 61,
    "start_time": "2023-08-30T17:47:24.104Z"
   },
   {
    "duration": 125,
    "start_time": "2023-08-30T17:47:24.167Z"
   },
   {
    "duration": 18,
    "start_time": "2023-08-30T17:47:31.982Z"
   },
   {
    "duration": 9,
    "start_time": "2023-08-30T17:53:58.472Z"
   },
   {
    "duration": 319,
    "start_time": "2023-08-30T17:53:59.033Z"
   },
   {
    "duration": 1426,
    "start_time": "2023-08-30T17:54:04.901Z"
   },
   {
    "duration": 36,
    "start_time": "2023-08-30T17:54:06.334Z"
   },
   {
    "duration": 4,
    "start_time": "2023-08-30T17:54:06.374Z"
   },
   {
    "duration": 85,
    "start_time": "2023-08-30T17:54:06.381Z"
   },
   {
    "duration": 11,
    "start_time": "2023-08-30T17:54:06.470Z"
   },
   {
    "duration": 19,
    "start_time": "2023-08-30T17:54:06.483Z"
   },
   {
    "duration": 29,
    "start_time": "2023-08-30T17:54:06.503Z"
   },
   {
    "duration": 20,
    "start_time": "2023-08-30T17:54:06.535Z"
   },
   {
    "duration": 357,
    "start_time": "2023-08-30T17:54:06.557Z"
   },
   {
    "duration": 313,
    "start_time": "2023-08-30T17:54:06.920Z"
   },
   {
    "duration": 56,
    "start_time": "2023-08-30T17:54:07.238Z"
   },
   {
    "duration": 58,
    "start_time": "2023-08-30T17:54:07.296Z"
   },
   {
    "duration": 107,
    "start_time": "2023-08-30T17:54:07.357Z"
   },
   {
    "duration": 5,
    "start_time": "2023-08-30T17:54:07.466Z"
   },
   {
    "duration": 14,
    "start_time": "2023-08-30T17:54:07.472Z"
   },
   {
    "duration": 33,
    "start_time": "2023-08-30T17:54:07.487Z"
   },
   {
    "duration": 8,
    "start_time": "2023-08-30T17:54:07.522Z"
   },
   {
    "duration": 45,
    "start_time": "2023-08-30T17:54:07.532Z"
   },
   {
    "duration": 3,
    "start_time": "2023-08-30T17:54:07.578Z"
   },
   {
    "duration": 53,
    "start_time": "2023-08-30T17:54:07.582Z"
   },
   {
    "duration": 12,
    "start_time": "2023-08-30T17:54:07.637Z"
   },
   {
    "duration": 17,
    "start_time": "2023-08-30T17:54:07.650Z"
   },
   {
    "duration": 424,
    "start_time": "2023-08-30T17:54:07.668Z"
   },
   {
    "duration": 367,
    "start_time": "2023-08-30T17:54:08.093Z"
   },
   {
    "duration": 337,
    "start_time": "2023-08-30T17:54:08.462Z"
   },
   {
    "duration": 37,
    "start_time": "2023-08-30T17:54:08.800Z"
   },
   {
    "duration": 329,
    "start_time": "2023-08-30T17:54:08.848Z"
   },
   {
    "duration": 10,
    "start_time": "2023-08-30T17:54:09.179Z"
   },
   {
    "duration": 2332,
    "start_time": "2023-08-30T17:54:09.191Z"
   },
   {
    "duration": 0,
    "start_time": "2023-08-30T17:54:11.527Z"
   },
   {
    "duration": 0,
    "start_time": "2023-08-30T17:54:11.528Z"
   },
   {
    "duration": 0,
    "start_time": "2023-08-30T17:54:11.529Z"
   },
   {
    "duration": 0,
    "start_time": "2023-08-30T17:54:11.530Z"
   },
   {
    "duration": 0,
    "start_time": "2023-08-30T17:54:11.531Z"
   },
   {
    "duration": 0,
    "start_time": "2023-08-30T17:54:11.532Z"
   },
   {
    "duration": 0,
    "start_time": "2023-08-30T17:54:11.534Z"
   },
   {
    "duration": 0,
    "start_time": "2023-08-30T17:54:11.539Z"
   },
   {
    "duration": 0,
    "start_time": "2023-08-30T17:54:11.543Z"
   },
   {
    "duration": 506,
    "start_time": "2023-08-30T17:55:34.011Z"
   },
   {
    "duration": 1596,
    "start_time": "2023-08-30T17:55:52.197Z"
   },
   {
    "duration": 56,
    "start_time": "2023-08-30T17:55:53.795Z"
   },
   {
    "duration": 4,
    "start_time": "2023-08-30T17:55:53.853Z"
   },
   {
    "duration": 85,
    "start_time": "2023-08-30T17:55:53.859Z"
   },
   {
    "duration": 10,
    "start_time": "2023-08-30T17:55:53.947Z"
   },
   {
    "duration": 78,
    "start_time": "2023-08-30T17:55:53.961Z"
   },
   {
    "duration": 18,
    "start_time": "2023-08-30T17:55:54.043Z"
   },
   {
    "duration": 35,
    "start_time": "2023-08-30T17:55:54.062Z"
   },
   {
    "duration": 402,
    "start_time": "2023-08-30T17:55:54.099Z"
   },
   {
    "duration": 399,
    "start_time": "2023-08-30T17:55:54.504Z"
   },
   {
    "duration": 95,
    "start_time": "2023-08-30T17:55:54.905Z"
   },
   {
    "duration": 69,
    "start_time": "2023-08-30T17:55:55.002Z"
   },
   {
    "duration": 122,
    "start_time": "2023-08-30T17:55:55.073Z"
   },
   {
    "duration": 7,
    "start_time": "2023-08-30T17:55:55.197Z"
   },
   {
    "duration": 24,
    "start_time": "2023-08-30T17:55:55.206Z"
   },
   {
    "duration": 27,
    "start_time": "2023-08-30T17:55:55.237Z"
   },
   {
    "duration": 8,
    "start_time": "2023-08-30T17:55:55.267Z"
   },
   {
    "duration": 50,
    "start_time": "2023-08-30T17:55:55.277Z"
   },
   {
    "duration": 6,
    "start_time": "2023-08-30T17:55:55.329Z"
   },
   {
    "duration": 42,
    "start_time": "2023-08-30T17:55:55.338Z"
   },
   {
    "duration": 6,
    "start_time": "2023-08-30T17:55:55.382Z"
   },
   {
    "duration": 29,
    "start_time": "2023-08-30T17:55:55.390Z"
   },
   {
    "duration": 435,
    "start_time": "2023-08-30T17:55:55.422Z"
   },
   {
    "duration": 381,
    "start_time": "2023-08-30T17:55:55.859Z"
   },
   {
    "duration": 356,
    "start_time": "2023-08-30T17:55:56.243Z"
   },
   {
    "duration": 22,
    "start_time": "2023-08-30T17:55:56.601Z"
   },
   {
    "duration": 432,
    "start_time": "2023-08-30T17:55:56.625Z"
   },
   {
    "duration": 10,
    "start_time": "2023-08-30T17:55:57.066Z"
   },
   {
    "duration": 521,
    "start_time": "2023-08-30T17:55:57.078Z"
   },
   {
    "duration": 5,
    "start_time": "2023-08-30T17:55:57.601Z"
   },
   {
    "duration": 371,
    "start_time": "2023-08-30T17:55:57.608Z"
   },
   {
    "duration": 6,
    "start_time": "2023-08-30T17:55:57.981Z"
   },
   {
    "duration": 203,
    "start_time": "2023-08-30T17:55:57.988Z"
   },
   {
    "duration": 10,
    "start_time": "2023-08-30T17:55:58.194Z"
   },
   {
    "duration": 181,
    "start_time": "2023-08-30T17:55:58.206Z"
   },
   {
    "duration": 9,
    "start_time": "2023-08-30T17:55:58.389Z"
   },
   {
    "duration": 71,
    "start_time": "2023-08-30T17:55:58.410Z"
   },
   {
    "duration": 177,
    "start_time": "2023-08-30T17:55:58.483Z"
   },
   {
    "duration": 17,
    "start_time": "2023-08-30T17:56:20.859Z"
   },
   {
    "duration": 13,
    "start_time": "2023-08-30T17:56:45.979Z"
   },
   {
    "duration": 35,
    "start_time": "2023-08-30T17:57:25.797Z"
   },
   {
    "duration": 43,
    "start_time": "2023-08-30T17:57:28.008Z"
   },
   {
    "duration": 31,
    "start_time": "2023-08-30T17:57:34.612Z"
   },
   {
    "duration": 26,
    "start_time": "2023-08-30T17:58:22.645Z"
   },
   {
    "duration": 2343,
    "start_time": "2023-08-30T18:04:43.331Z"
   },
   {
    "duration": 2091,
    "start_time": "2023-08-30T18:04:51.889Z"
   },
   {
    "duration": 156,
    "start_time": "2023-08-30T18:05:58.331Z"
   },
   {
    "duration": 2296,
    "start_time": "2023-08-30T18:07:38.564Z"
   },
   {
    "duration": 241,
    "start_time": "2023-08-30T18:08:42.079Z"
   },
   {
    "duration": 2765,
    "start_time": "2023-08-30T18:09:14.579Z"
   },
   {
    "duration": 2627,
    "start_time": "2023-08-30T18:09:27.372Z"
   },
   {
    "duration": 21674,
    "start_time": "2023-08-30T18:09:41.088Z"
   },
   {
    "duration": 181,
    "start_time": "2023-08-30T18:10:14.984Z"
   },
   {
    "duration": 11,
    "start_time": "2023-08-30T18:10:25.062Z"
   },
   {
    "duration": 2430,
    "start_time": "2023-08-30T18:10:56.659Z"
   },
   {
    "duration": 726,
    "start_time": "2023-08-30T18:15:09.862Z"
   },
   {
    "duration": 187,
    "start_time": "2023-08-30T18:15:52.192Z"
   },
   {
    "duration": 20,
    "start_time": "2023-08-30T18:15:58.842Z"
   },
   {
    "duration": 685,
    "start_time": "2023-08-30T18:16:16.148Z"
   },
   {
    "duration": 1665,
    "start_time": "2023-08-30T18:16:38.910Z"
   },
   {
    "duration": 68,
    "start_time": "2023-08-30T18:16:40.585Z"
   },
   {
    "duration": 7,
    "start_time": "2023-08-30T18:16:40.656Z"
   },
   {
    "duration": 95,
    "start_time": "2023-08-30T18:16:40.665Z"
   },
   {
    "duration": 12,
    "start_time": "2023-08-30T18:16:40.765Z"
   },
   {
    "duration": 12,
    "start_time": "2023-08-30T18:16:40.785Z"
   },
   {
    "duration": 29,
    "start_time": "2023-08-30T18:16:40.799Z"
   },
   {
    "duration": 41,
    "start_time": "2023-08-30T18:16:40.830Z"
   },
   {
    "duration": 414,
    "start_time": "2023-08-30T18:16:40.874Z"
   },
   {
    "duration": 356,
    "start_time": "2023-08-30T18:16:41.290Z"
   },
   {
    "duration": 80,
    "start_time": "2023-08-30T18:16:41.655Z"
   },
   {
    "duration": 66,
    "start_time": "2023-08-30T18:16:41.741Z"
   },
   {
    "duration": 172,
    "start_time": "2023-08-30T18:16:41.810Z"
   },
   {
    "duration": 8,
    "start_time": "2023-08-30T18:16:41.987Z"
   },
   {
    "duration": 28,
    "start_time": "2023-08-30T18:16:41.997Z"
   },
   {
    "duration": 19,
    "start_time": "2023-08-30T18:16:42.028Z"
   },
   {
    "duration": 11,
    "start_time": "2023-08-30T18:16:42.055Z"
   },
   {
    "duration": 87,
    "start_time": "2023-08-30T18:16:42.070Z"
   },
   {
    "duration": 4,
    "start_time": "2023-08-30T18:16:42.159Z"
   },
   {
    "duration": 24,
    "start_time": "2023-08-30T18:16:42.166Z"
   },
   {
    "duration": 7,
    "start_time": "2023-08-30T18:16:42.192Z"
   },
   {
    "duration": 47,
    "start_time": "2023-08-30T18:16:42.201Z"
   },
   {
    "duration": 539,
    "start_time": "2023-08-30T18:16:42.250Z"
   },
   {
    "duration": 459,
    "start_time": "2023-08-30T18:16:42.798Z"
   },
   {
    "duration": 424,
    "start_time": "2023-08-30T18:16:43.261Z"
   },
   {
    "duration": 13,
    "start_time": "2023-08-30T18:16:43.687Z"
   },
   {
    "duration": 384,
    "start_time": "2023-08-30T18:16:43.704Z"
   },
   {
    "duration": 11,
    "start_time": "2023-08-30T18:16:44.089Z"
   },
   {
    "duration": 483,
    "start_time": "2023-08-30T18:16:44.112Z"
   },
   {
    "duration": 6,
    "start_time": "2023-08-30T18:16:44.598Z"
   },
   {
    "duration": 464,
    "start_time": "2023-08-30T18:16:44.607Z"
   },
   {
    "duration": 8,
    "start_time": "2023-08-30T18:16:45.074Z"
   },
   {
    "duration": 230,
    "start_time": "2023-08-30T18:16:45.084Z"
   },
   {
    "duration": 20,
    "start_time": "2023-08-30T18:16:45.316Z"
   },
   {
    "duration": 214,
    "start_time": "2023-08-30T18:16:45.338Z"
   },
   {
    "duration": 25,
    "start_time": "2023-08-30T18:16:45.554Z"
   },
   {
    "duration": 24,
    "start_time": "2023-08-30T18:16:45.582Z"
   },
   {
    "duration": 38,
    "start_time": "2023-08-30T18:16:45.611Z"
   },
   {
    "duration": 751,
    "start_time": "2023-08-30T18:16:45.652Z"
   },
   {
    "duration": 0,
    "start_time": "2023-08-30T18:16:46.406Z"
   },
   {
    "duration": 0,
    "start_time": "2023-08-30T18:16:46.408Z"
   },
   {
    "duration": 0,
    "start_time": "2023-08-30T18:16:46.409Z"
   },
   {
    "duration": 41,
    "start_time": "2023-08-30T18:17:00.808Z"
   },
   {
    "duration": 21,
    "start_time": "2023-08-30T18:17:06.467Z"
   },
   {
    "duration": 26,
    "start_time": "2023-08-30T18:17:22.063Z"
   },
   {
    "duration": 42,
    "start_time": "2023-08-30T18:21:35.499Z"
   },
   {
    "duration": 27,
    "start_time": "2023-08-30T18:21:55.582Z"
   },
   {
    "duration": 27,
    "start_time": "2023-08-30T18:23:14.215Z"
   },
   {
    "duration": 1556,
    "start_time": "2023-08-30T18:23:24.338Z"
   },
   {
    "duration": 67,
    "start_time": "2023-08-30T18:23:25.896Z"
   },
   {
    "duration": 6,
    "start_time": "2023-08-30T18:23:25.964Z"
   },
   {
    "duration": 80,
    "start_time": "2023-08-30T18:23:25.972Z"
   },
   {
    "duration": 13,
    "start_time": "2023-08-30T18:23:26.054Z"
   },
   {
    "duration": 15,
    "start_time": "2023-08-30T18:23:26.069Z"
   },
   {
    "duration": 51,
    "start_time": "2023-08-30T18:23:26.087Z"
   },
   {
    "duration": 22,
    "start_time": "2023-08-30T18:23:26.141Z"
   },
   {
    "duration": 371,
    "start_time": "2023-08-30T18:23:26.165Z"
   },
   {
    "duration": 337,
    "start_time": "2023-08-30T18:23:26.539Z"
   },
   {
    "duration": 91,
    "start_time": "2023-08-30T18:23:26.878Z"
   },
   {
    "duration": 67,
    "start_time": "2023-08-30T18:23:26.971Z"
   },
   {
    "duration": 115,
    "start_time": "2023-08-30T18:23:27.041Z"
   },
   {
    "duration": 6,
    "start_time": "2023-08-30T18:23:27.159Z"
   },
   {
    "duration": 10,
    "start_time": "2023-08-30T18:23:27.170Z"
   },
   {
    "duration": 43,
    "start_time": "2023-08-30T18:23:27.183Z"
   },
   {
    "duration": 24,
    "start_time": "2023-08-30T18:23:27.232Z"
   },
   {
    "duration": 40,
    "start_time": "2023-08-30T18:23:27.259Z"
   },
   {
    "duration": 4,
    "start_time": "2023-08-30T18:23:27.301Z"
   },
   {
    "duration": 39,
    "start_time": "2023-08-30T18:23:27.310Z"
   },
   {
    "duration": 11,
    "start_time": "2023-08-30T18:23:27.355Z"
   },
   {
    "duration": 15,
    "start_time": "2023-08-30T18:23:27.370Z"
   },
   {
    "duration": 421,
    "start_time": "2023-08-30T18:23:27.387Z"
   },
   {
    "duration": 371,
    "start_time": "2023-08-30T18:23:27.817Z"
   },
   {
    "duration": 361,
    "start_time": "2023-08-30T18:23:28.190Z"
   },
   {
    "duration": 10,
    "start_time": "2023-08-30T18:23:28.558Z"
   },
   {
    "duration": 401,
    "start_time": "2023-08-30T18:23:28.571Z"
   },
   {
    "duration": 12,
    "start_time": "2023-08-30T18:23:28.981Z"
   },
   {
    "duration": 491,
    "start_time": "2023-08-30T18:23:28.996Z"
   },
   {
    "duration": 6,
    "start_time": "2023-08-30T18:23:29.489Z"
   },
   {
    "duration": 372,
    "start_time": "2023-08-30T18:23:29.497Z"
   },
   {
    "duration": 10,
    "start_time": "2023-08-30T18:23:29.871Z"
   },
   {
    "duration": 278,
    "start_time": "2023-08-30T18:23:29.883Z"
   },
   {
    "duration": 13,
    "start_time": "2023-08-30T18:23:30.163Z"
   },
   {
    "duration": 206,
    "start_time": "2023-08-30T18:23:30.178Z"
   },
   {
    "duration": 11,
    "start_time": "2023-08-30T18:23:30.386Z"
   },
   {
    "duration": 48,
    "start_time": "2023-08-30T18:23:30.414Z"
   },
   {
    "duration": 36,
    "start_time": "2023-08-30T18:23:30.469Z"
   },
   {
    "duration": 30,
    "start_time": "2023-08-30T18:23:30.507Z"
   },
   {
    "duration": 221,
    "start_time": "2023-08-30T18:23:30.539Z"
   },
   {
    "duration": 19,
    "start_time": "2023-08-30T18:23:30.765Z"
   },
   {
    "duration": 2335,
    "start_time": "2023-08-30T18:23:30.786Z"
   },
   {
    "duration": 7,
    "start_time": "2023-08-30T18:23:53.560Z"
   },
   {
    "duration": 18,
    "start_time": "2023-08-30T18:31:55.848Z"
   },
   {
    "duration": 24,
    "start_time": "2023-08-30T18:32:33.609Z"
   },
   {
    "duration": 10,
    "start_time": "2023-08-30T18:33:26.431Z"
   },
   {
    "duration": 19,
    "start_time": "2023-08-30T18:33:34.406Z"
   },
   {
    "duration": 35,
    "start_time": "2023-08-30T18:34:15.506Z"
   },
   {
    "duration": 16,
    "start_time": "2023-08-30T18:34:36.989Z"
   },
   {
    "duration": 1556,
    "start_time": "2023-08-30T18:34:44.576Z"
   },
   {
    "duration": 50,
    "start_time": "2023-08-30T18:34:46.139Z"
   },
   {
    "duration": 4,
    "start_time": "2023-08-30T18:34:46.194Z"
   },
   {
    "duration": 80,
    "start_time": "2023-08-30T18:34:46.200Z"
   },
   {
    "duration": 14,
    "start_time": "2023-08-30T18:34:46.283Z"
   },
   {
    "duration": 18,
    "start_time": "2023-08-30T18:34:46.299Z"
   },
   {
    "duration": 32,
    "start_time": "2023-08-30T18:34:46.321Z"
   },
   {
    "duration": 21,
    "start_time": "2023-08-30T18:34:46.359Z"
   },
   {
    "duration": 457,
    "start_time": "2023-08-30T18:34:46.382Z"
   },
   {
    "duration": 361,
    "start_time": "2023-08-30T18:34:46.843Z"
   },
   {
    "duration": 101,
    "start_time": "2023-08-30T18:34:47.206Z"
   },
   {
    "duration": 108,
    "start_time": "2023-08-30T18:34:47.309Z"
   },
   {
    "duration": 140,
    "start_time": "2023-08-30T18:34:47.431Z"
   },
   {
    "duration": 11,
    "start_time": "2023-08-30T18:34:47.574Z"
   },
   {
    "duration": 8,
    "start_time": "2023-08-30T18:34:47.586Z"
   },
   {
    "duration": 36,
    "start_time": "2023-08-30T18:34:47.596Z"
   },
   {
    "duration": 8,
    "start_time": "2023-08-30T18:34:47.635Z"
   },
   {
    "duration": 53,
    "start_time": "2023-08-30T18:34:47.646Z"
   },
   {
    "duration": 20,
    "start_time": "2023-08-30T18:34:47.700Z"
   },
   {
    "duration": 31,
    "start_time": "2023-08-30T18:34:47.741Z"
   },
   {
    "duration": 7,
    "start_time": "2023-08-30T18:34:47.773Z"
   },
   {
    "duration": 46,
    "start_time": "2023-08-30T18:34:47.782Z"
   },
   {
    "duration": 450,
    "start_time": "2023-08-30T18:34:47.833Z"
   },
   {
    "duration": 398,
    "start_time": "2023-08-30T18:34:48.285Z"
   },
   {
    "duration": 402,
    "start_time": "2023-08-30T18:34:48.685Z"
   },
   {
    "duration": 9,
    "start_time": "2023-08-30T18:34:49.095Z"
   },
   {
    "duration": 371,
    "start_time": "2023-08-30T18:34:49.107Z"
   },
   {
    "duration": 11,
    "start_time": "2023-08-30T18:34:49.480Z"
   },
   {
    "duration": 540,
    "start_time": "2023-08-30T18:34:49.494Z"
   },
   {
    "duration": 6,
    "start_time": "2023-08-30T18:34:50.037Z"
   },
   {
    "duration": 381,
    "start_time": "2023-08-30T18:34:50.046Z"
   },
   {
    "duration": 10,
    "start_time": "2023-08-30T18:34:50.430Z"
   },
   {
    "duration": 218,
    "start_time": "2023-08-30T18:34:50.446Z"
   },
   {
    "duration": 12,
    "start_time": "2023-08-30T18:34:50.666Z"
   },
   {
    "duration": 194,
    "start_time": "2023-08-30T18:34:50.682Z"
   },
   {
    "duration": 10,
    "start_time": "2023-08-30T18:34:50.878Z"
   },
   {
    "duration": 44,
    "start_time": "2023-08-30T18:34:50.890Z"
   },
   {
    "duration": 29,
    "start_time": "2023-08-30T18:34:50.936Z"
   },
   {
    "duration": 27,
    "start_time": "2023-08-30T18:34:50.969Z"
   },
   {
    "duration": 181,
    "start_time": "2023-08-30T18:34:51.010Z"
   },
   {
    "duration": 7,
    "start_time": "2023-08-30T18:34:51.192Z"
   },
   {
    "duration": 184,
    "start_time": "2023-08-30T18:34:51.201Z"
   },
   {
    "duration": 37,
    "start_time": "2023-08-30T18:36:06.896Z"
   },
   {
    "duration": 21,
    "start_time": "2023-08-30T18:36:59.059Z"
   },
   {
    "duration": 56,
    "start_time": "2023-08-30T18:37:29.692Z"
   },
   {
    "duration": 47,
    "start_time": "2023-08-30T18:37:38.394Z"
   },
   {
    "duration": 65,
    "start_time": "2023-08-30T18:37:45.491Z"
   },
   {
    "duration": 79,
    "start_time": "2023-08-30T18:38:18.506Z"
   },
   {
    "duration": 57,
    "start_time": "2023-08-30T18:38:23.903Z"
   },
   {
    "duration": 42,
    "start_time": "2023-08-30T18:38:38.941Z"
   },
   {
    "duration": 16,
    "start_time": "2023-08-30T18:48:04.901Z"
   },
   {
    "duration": 21,
    "start_time": "2023-08-30T18:49:16.436Z"
   },
   {
    "duration": 50,
    "start_time": "2023-08-30T18:50:51.985Z"
   },
   {
    "duration": 22,
    "start_time": "2023-08-30T18:50:54.230Z"
   },
   {
    "duration": 21,
    "start_time": "2023-08-30T19:04:53.669Z"
   },
   {
    "duration": 14,
    "start_time": "2023-08-30T19:05:03.863Z"
   },
   {
    "duration": 27,
    "start_time": "2023-08-30T19:05:14.837Z"
   },
   {
    "duration": 24,
    "start_time": "2023-08-30T19:05:42.007Z"
   },
   {
    "duration": 19,
    "start_time": "2023-08-30T19:06:35.705Z"
   },
   {
    "duration": 28,
    "start_time": "2023-08-30T19:06:58.642Z"
   },
   {
    "duration": 26,
    "start_time": "2023-08-30T19:07:48.639Z"
   },
   {
    "duration": 12,
    "start_time": "2023-08-30T19:08:00.069Z"
   },
   {
    "duration": 2963,
    "start_time": "2023-08-30T19:08:11.342Z"
   },
   {
    "duration": 91,
    "start_time": "2023-08-30T19:08:14.308Z"
   },
   {
    "duration": 4,
    "start_time": "2023-08-30T19:08:14.401Z"
   },
   {
    "duration": 72,
    "start_time": "2023-08-30T19:08:14.407Z"
   },
   {
    "duration": 9,
    "start_time": "2023-08-30T19:08:14.481Z"
   },
   {
    "duration": 38,
    "start_time": "2023-08-30T19:08:14.492Z"
   },
   {
    "duration": 30,
    "start_time": "2023-08-30T19:08:14.532Z"
   },
   {
    "duration": 18,
    "start_time": "2023-08-30T19:08:14.563Z"
   },
   {
    "duration": 391,
    "start_time": "2023-08-30T19:08:14.583Z"
   },
   {
    "duration": 357,
    "start_time": "2023-08-30T19:08:14.976Z"
   },
   {
    "duration": 195,
    "start_time": "2023-08-30T19:08:15.336Z"
   },
   {
    "duration": 57,
    "start_time": "2023-08-30T19:08:15.535Z"
   },
   {
    "duration": 112,
    "start_time": "2023-08-30T19:08:15.594Z"
   },
   {
    "duration": 6,
    "start_time": "2023-08-30T19:08:15.709Z"
   },
   {
    "duration": 8,
    "start_time": "2023-08-30T19:08:15.717Z"
   },
   {
    "duration": 21,
    "start_time": "2023-08-30T19:08:15.727Z"
   },
   {
    "duration": 8,
    "start_time": "2023-08-30T19:08:15.750Z"
   },
   {
    "duration": 82,
    "start_time": "2023-08-30T19:08:15.760Z"
   },
   {
    "duration": 4,
    "start_time": "2023-08-30T19:08:15.849Z"
   },
   {
    "duration": 25,
    "start_time": "2023-08-30T19:08:15.855Z"
   },
   {
    "duration": 8,
    "start_time": "2023-08-30T19:08:15.882Z"
   },
   {
    "duration": 30,
    "start_time": "2023-08-30T19:08:15.891Z"
   },
   {
    "duration": 483,
    "start_time": "2023-08-30T19:08:15.924Z"
   },
   {
    "duration": 398,
    "start_time": "2023-08-30T19:08:16.409Z"
   },
   {
    "duration": 351,
    "start_time": "2023-08-30T19:08:16.813Z"
   },
   {
    "duration": 9,
    "start_time": "2023-08-30T19:08:17.166Z"
   },
   {
    "duration": 380,
    "start_time": "2023-08-30T19:08:17.177Z"
   },
   {
    "duration": 21,
    "start_time": "2023-08-30T19:08:17.559Z"
   },
   {
    "duration": 467,
    "start_time": "2023-08-30T19:08:17.582Z"
   },
   {
    "duration": 12,
    "start_time": "2023-08-30T19:08:18.052Z"
   },
   {
    "duration": 334,
    "start_time": "2023-08-30T19:08:18.070Z"
   },
   {
    "duration": 23,
    "start_time": "2023-08-30T19:08:18.409Z"
   },
   {
    "duration": 191,
    "start_time": "2023-08-30T19:08:18.443Z"
   },
   {
    "duration": 13,
    "start_time": "2023-08-30T19:08:18.636Z"
   },
   {
    "duration": 172,
    "start_time": "2023-08-30T19:08:18.651Z"
   },
   {
    "duration": 12,
    "start_time": "2023-08-30T19:08:18.825Z"
   },
   {
    "duration": 35,
    "start_time": "2023-08-30T19:08:18.839Z"
   },
   {
    "duration": 20,
    "start_time": "2023-08-30T19:08:18.876Z"
   },
   {
    "duration": 35,
    "start_time": "2023-08-30T19:08:18.897Z"
   },
   {
    "duration": 164,
    "start_time": "2023-08-30T19:08:18.934Z"
   },
   {
    "duration": 30,
    "start_time": "2023-08-30T19:08:19.103Z"
   },
   {
    "duration": 45,
    "start_time": "2023-08-30T19:08:19.139Z"
   },
   {
    "duration": 13,
    "start_time": "2023-08-30T19:08:19.186Z"
   },
   {
    "duration": 87,
    "start_time": "2023-08-30T19:08:19.200Z"
   },
   {
    "duration": 9,
    "start_time": "2023-08-30T19:08:44.898Z"
   },
   {
    "duration": 24,
    "start_time": "2023-08-30T19:08:49.208Z"
   },
   {
    "duration": 6,
    "start_time": "2023-08-30T19:09:05.900Z"
   },
   {
    "duration": 27,
    "start_time": "2023-08-30T19:09:24.105Z"
   },
   {
    "duration": 129,
    "start_time": "2023-08-30T19:15:35.586Z"
   },
   {
    "duration": 20,
    "start_time": "2023-08-30T19:15:49.612Z"
   },
   {
    "duration": 12,
    "start_time": "2023-08-30T19:15:58.147Z"
   },
   {
    "duration": 17,
    "start_time": "2023-08-30T19:16:18.474Z"
   },
   {
    "duration": 17,
    "start_time": "2023-08-30T19:16:26.366Z"
   },
   {
    "duration": 88,
    "start_time": "2023-08-30T19:21:55.958Z"
   },
   {
    "duration": 16,
    "start_time": "2023-08-30T19:22:15.954Z"
   },
   {
    "duration": 24,
    "start_time": "2023-08-30T19:24:23.380Z"
   },
   {
    "duration": 1847,
    "start_time": "2023-08-30T19:24:30.648Z"
   },
   {
    "duration": 17,
    "start_time": "2023-08-30T19:24:40.007Z"
   },
   {
    "duration": 19,
    "start_time": "2023-08-30T19:24:46.606Z"
   },
   {
    "duration": 47,
    "start_time": "2023-08-30T19:26:13.496Z"
   },
   {
    "duration": 144,
    "start_time": "2023-08-30T19:33:02.527Z"
   },
   {
    "duration": 2582,
    "start_time": "2023-08-30T19:37:25.682Z"
   },
   {
    "duration": 14,
    "start_time": "2023-08-30T19:37:44.360Z"
   },
   {
    "duration": 25,
    "start_time": "2023-08-30T19:38:00.852Z"
   },
   {
    "duration": 1354,
    "start_time": "2023-08-30T21:03:55.841Z"
   },
   {
    "duration": 72,
    "start_time": "2023-08-30T21:03:57.197Z"
   },
   {
    "duration": 4,
    "start_time": "2023-08-30T21:03:57.274Z"
   },
   {
    "duration": 72,
    "start_time": "2023-08-30T21:03:57.281Z"
   },
   {
    "duration": 15,
    "start_time": "2023-08-30T21:03:57.355Z"
   },
   {
    "duration": 12,
    "start_time": "2023-08-30T21:03:57.372Z"
   },
   {
    "duration": 13,
    "start_time": "2023-08-30T21:03:57.386Z"
   },
   {
    "duration": 20,
    "start_time": "2023-08-30T21:03:57.401Z"
   },
   {
    "duration": 379,
    "start_time": "2023-08-30T21:03:57.426Z"
   },
   {
    "duration": 331,
    "start_time": "2023-08-30T21:03:57.811Z"
   },
   {
    "duration": 88,
    "start_time": "2023-08-30T21:03:58.144Z"
   },
   {
    "duration": 54,
    "start_time": "2023-08-30T21:03:58.238Z"
   },
   {
    "duration": 119,
    "start_time": "2023-08-30T21:03:58.295Z"
   },
   {
    "duration": 9,
    "start_time": "2023-08-30T21:03:58.419Z"
   },
   {
    "duration": 17,
    "start_time": "2023-08-30T21:03:58.436Z"
   },
   {
    "duration": 22,
    "start_time": "2023-08-30T21:03:58.459Z"
   },
   {
    "duration": 8,
    "start_time": "2023-08-30T21:03:58.483Z"
   },
   {
    "duration": 89,
    "start_time": "2023-08-30T21:03:58.492Z"
   },
   {
    "duration": 3,
    "start_time": "2023-08-30T21:03:58.589Z"
   },
   {
    "duration": 52,
    "start_time": "2023-08-30T21:03:58.594Z"
   },
   {
    "duration": 15,
    "start_time": "2023-08-30T21:03:58.650Z"
   },
   {
    "duration": 26,
    "start_time": "2023-08-30T21:03:58.668Z"
   },
   {
    "duration": 445,
    "start_time": "2023-08-30T21:03:58.696Z"
   },
   {
    "duration": 378,
    "start_time": "2023-08-30T21:03:59.143Z"
   },
   {
    "duration": 346,
    "start_time": "2023-08-30T21:03:59.523Z"
   },
   {
    "duration": 14,
    "start_time": "2023-08-30T21:03:59.871Z"
   },
   {
    "duration": 358,
    "start_time": "2023-08-30T21:03:59.887Z"
   },
   {
    "duration": 13,
    "start_time": "2023-08-30T21:04:00.247Z"
   },
   {
    "duration": 405,
    "start_time": "2023-08-30T21:04:00.262Z"
   },
   {
    "duration": 5,
    "start_time": "2023-08-30T21:04:00.672Z"
   },
   {
    "duration": 526,
    "start_time": "2023-08-30T21:04:00.679Z"
   },
   {
    "duration": 10,
    "start_time": "2023-08-30T21:04:01.208Z"
   },
   {
    "duration": 199,
    "start_time": "2023-08-30T21:04:01.222Z"
   },
   {
    "duration": 10,
    "start_time": "2023-08-30T21:04:01.422Z"
   },
   {
    "duration": 216,
    "start_time": "2023-08-30T21:04:01.434Z"
   },
   {
    "duration": 20,
    "start_time": "2023-08-30T21:04:01.653Z"
   },
   {
    "duration": 47,
    "start_time": "2023-08-30T21:04:01.676Z"
   },
   {
    "duration": 34,
    "start_time": "2023-08-30T21:04:01.725Z"
   },
   {
    "duration": 80,
    "start_time": "2023-08-30T21:04:01.762Z"
   },
   {
    "duration": 268,
    "start_time": "2023-08-30T21:04:01.857Z"
   },
   {
    "duration": 20,
    "start_time": "2023-08-30T21:04:02.136Z"
   },
   {
    "duration": 79,
    "start_time": "2023-08-30T21:04:02.161Z"
   },
   {
    "duration": 31,
    "start_time": "2023-08-30T21:04:02.242Z"
   },
   {
    "duration": 51,
    "start_time": "2023-08-30T21:04:02.275Z"
   },
   {
    "duration": 23,
    "start_time": "2023-08-30T21:04:02.331Z"
   },
   {
    "duration": 28,
    "start_time": "2023-08-30T21:04:02.356Z"
   },
   {
    "duration": 36,
    "start_time": "2023-08-30T21:04:02.387Z"
   },
   {
    "duration": 39,
    "start_time": "2023-08-30T21:04:02.425Z"
   },
   {
    "duration": 386,
    "start_time": "2023-08-30T21:04:55.991Z"
   },
   {
    "duration": 399,
    "start_time": "2023-08-30T21:05:49.799Z"
   },
   {
    "duration": 440,
    "start_time": "2023-08-30T21:06:13.796Z"
   },
   {
    "duration": 401,
    "start_time": "2023-08-30T21:06:44.703Z"
   },
   {
    "duration": 613,
    "start_time": "2023-08-30T21:07:07.844Z"
   },
   {
    "duration": 541,
    "start_time": "2023-08-30T21:07:43.843Z"
   },
   {
    "duration": 324,
    "start_time": "2023-08-30T21:08:27.415Z"
   },
   {
    "duration": 517,
    "start_time": "2023-08-30T21:08:49.951Z"
   },
   {
    "duration": 2104,
    "start_time": "2023-08-30T21:09:01.505Z"
   },
   {
    "duration": 63,
    "start_time": "2023-08-30T21:09:03.621Z"
   },
   {
    "duration": 61,
    "start_time": "2023-08-30T21:09:03.690Z"
   },
   {
    "duration": 149,
    "start_time": "2023-08-30T21:09:03.761Z"
   },
   {
    "duration": 30,
    "start_time": "2023-08-30T21:09:03.928Z"
   },
   {
    "duration": 47,
    "start_time": "2023-08-30T21:09:03.974Z"
   },
   {
    "duration": 25,
    "start_time": "2023-08-30T21:09:04.035Z"
   },
   {
    "duration": 28,
    "start_time": "2023-08-30T21:09:04.070Z"
   },
   {
    "duration": 431,
    "start_time": "2023-08-30T21:09:04.105Z"
   },
   {
    "duration": 415,
    "start_time": "2023-08-30T21:09:04.538Z"
   },
   {
    "duration": 306,
    "start_time": "2023-08-30T21:09:04.955Z"
   },
   {
    "duration": 201,
    "start_time": "2023-08-30T21:09:05.285Z"
   },
   {
    "duration": 373,
    "start_time": "2023-08-30T21:09:05.493Z"
   },
   {
    "duration": 22,
    "start_time": "2023-08-30T21:09:05.879Z"
   },
   {
    "duration": 42,
    "start_time": "2023-08-30T21:09:05.920Z"
   },
   {
    "duration": 67,
    "start_time": "2023-08-30T21:09:05.978Z"
   },
   {
    "duration": 28,
    "start_time": "2023-08-30T21:09:06.056Z"
   },
   {
    "duration": 111,
    "start_time": "2023-08-30T21:09:06.098Z"
   },
   {
    "duration": 10,
    "start_time": "2023-08-30T21:09:06.217Z"
   },
   {
    "duration": 56,
    "start_time": "2023-08-30T21:09:06.234Z"
   },
   {
    "duration": 21,
    "start_time": "2023-08-30T21:09:06.299Z"
   },
   {
    "duration": 43,
    "start_time": "2023-08-30T21:09:06.332Z"
   },
   {
    "duration": 756,
    "start_time": "2023-08-30T21:09:06.386Z"
   },
   {
    "duration": 615,
    "start_time": "2023-08-30T21:09:07.152Z"
   },
   {
    "duration": 541,
    "start_time": "2023-08-30T21:09:07.776Z"
   },
   {
    "duration": 19,
    "start_time": "2023-08-30T21:09:08.328Z"
   },
   {
    "duration": 596,
    "start_time": "2023-08-30T21:09:08.354Z"
   },
   {
    "duration": 29,
    "start_time": "2023-08-30T21:09:08.957Z"
   },
   {
    "duration": 528,
    "start_time": "2023-08-30T21:09:08.992Z"
   },
   {
    "duration": 10,
    "start_time": "2023-08-30T21:09:09.527Z"
   },
   {
    "duration": 603,
    "start_time": "2023-08-30T21:09:09.550Z"
   },
   {
    "duration": 29,
    "start_time": "2023-08-30T21:09:10.159Z"
   },
   {
    "duration": 237,
    "start_time": "2023-08-30T21:09:10.196Z"
   },
   {
    "duration": 41,
    "start_time": "2023-08-30T21:09:10.439Z"
   },
   {
    "duration": 271,
    "start_time": "2023-08-30T21:09:10.491Z"
   },
   {
    "duration": 20,
    "start_time": "2023-08-30T21:09:10.768Z"
   },
   {
    "duration": 49,
    "start_time": "2023-08-30T21:09:10.795Z"
   },
   {
    "duration": 77,
    "start_time": "2023-08-30T21:09:10.857Z"
   },
   {
    "duration": 55,
    "start_time": "2023-08-30T21:09:10.940Z"
   },
   {
    "duration": 308,
    "start_time": "2023-08-30T21:09:11.006Z"
   },
   {
    "duration": 21,
    "start_time": "2023-08-30T21:09:11.329Z"
   },
   {
    "duration": 129,
    "start_time": "2023-08-30T21:09:11.356Z"
   },
   {
    "duration": 54,
    "start_time": "2023-08-30T21:09:11.508Z"
   },
   {
    "duration": 44,
    "start_time": "2023-08-30T21:09:11.569Z"
   },
   {
    "duration": 41,
    "start_time": "2023-08-30T21:09:11.624Z"
   },
   {
    "duration": 41,
    "start_time": "2023-08-30T21:09:11.672Z"
   },
   {
    "duration": 113,
    "start_time": "2023-08-30T21:09:11.720Z"
   },
   {
    "duration": 80,
    "start_time": "2023-08-30T21:09:11.835Z"
   },
   {
    "duration": 1232,
    "start_time": "2023-08-30T21:25:13.448Z"
   },
   {
    "duration": 66,
    "start_time": "2023-08-30T21:25:14.684Z"
   },
   {
    "duration": 7,
    "start_time": "2023-08-30T21:25:14.752Z"
   },
   {
    "duration": 72,
    "start_time": "2023-08-30T21:25:14.761Z"
   },
   {
    "duration": 10,
    "start_time": "2023-08-30T21:25:14.835Z"
   },
   {
    "duration": 45,
    "start_time": "2023-08-30T21:25:14.847Z"
   },
   {
    "duration": 50,
    "start_time": "2023-08-30T21:25:14.896Z"
   },
   {
    "duration": 16,
    "start_time": "2023-08-30T21:25:14.948Z"
   },
   {
    "duration": 298,
    "start_time": "2023-08-30T21:25:14.966Z"
   },
   {
    "duration": 295,
    "start_time": "2023-08-30T21:25:15.268Z"
   },
   {
    "duration": 131,
    "start_time": "2023-08-30T21:25:15.565Z"
   },
   {
    "duration": 52,
    "start_time": "2023-08-30T21:25:15.698Z"
   },
   {
    "duration": 142,
    "start_time": "2023-08-30T21:25:15.752Z"
   },
   {
    "duration": 13,
    "start_time": "2023-08-30T21:25:15.896Z"
   },
   {
    "duration": 19,
    "start_time": "2023-08-30T21:25:15.911Z"
   },
   {
    "duration": 29,
    "start_time": "2023-08-30T21:25:15.933Z"
   },
   {
    "duration": 21,
    "start_time": "2023-08-30T21:25:15.964Z"
   },
   {
    "duration": 63,
    "start_time": "2023-08-30T21:25:15.987Z"
   },
   {
    "duration": 4,
    "start_time": "2023-08-30T21:25:16.052Z"
   },
   {
    "duration": 22,
    "start_time": "2023-08-30T21:25:16.057Z"
   },
   {
    "duration": 24,
    "start_time": "2023-08-30T21:25:16.081Z"
   },
   {
    "duration": 31,
    "start_time": "2023-08-30T21:25:16.107Z"
   },
   {
    "duration": 355,
    "start_time": "2023-08-30T21:25:16.141Z"
   },
   {
    "duration": 333,
    "start_time": "2023-08-30T21:25:16.497Z"
   },
   {
    "duration": 286,
    "start_time": "2023-08-30T21:25:16.832Z"
   },
   {
    "duration": 12,
    "start_time": "2023-08-30T21:25:17.120Z"
   },
   {
    "duration": 318,
    "start_time": "2023-08-30T21:25:17.134Z"
   },
   {
    "duration": 10,
    "start_time": "2023-08-30T21:25:17.455Z"
   },
   {
    "duration": 311,
    "start_time": "2023-08-30T21:25:17.467Z"
   },
   {
    "duration": 5,
    "start_time": "2023-08-30T21:25:17.780Z"
   },
   {
    "duration": 418,
    "start_time": "2023-08-30T21:25:17.788Z"
   },
   {
    "duration": 10,
    "start_time": "2023-08-30T21:25:18.208Z"
   },
   {
    "duration": 212,
    "start_time": "2023-08-30T21:25:18.220Z"
   },
   {
    "duration": 12,
    "start_time": "2023-08-30T21:25:18.434Z"
   },
   {
    "duration": 207,
    "start_time": "2023-08-30T21:25:18.449Z"
   },
   {
    "duration": 11,
    "start_time": "2023-08-30T21:25:18.658Z"
   },
   {
    "duration": 42,
    "start_time": "2023-08-30T21:25:18.671Z"
   },
   {
    "duration": 30,
    "start_time": "2023-08-30T21:25:18.716Z"
   },
   {
    "duration": 57,
    "start_time": "2023-08-30T21:25:18.748Z"
   },
   {
    "duration": 169,
    "start_time": "2023-08-30T21:25:18.807Z"
   },
   {
    "duration": 25,
    "start_time": "2023-08-30T21:25:18.978Z"
   },
   {
    "duration": 27,
    "start_time": "2023-08-30T21:25:19.005Z"
   },
   {
    "duration": 15,
    "start_time": "2023-08-30T21:25:19.035Z"
   },
   {
    "duration": 12,
    "start_time": "2023-08-30T21:25:19.052Z"
   },
   {
    "duration": 45,
    "start_time": "2023-08-30T21:25:19.066Z"
   },
   {
    "duration": 23,
    "start_time": "2023-08-30T21:25:19.112Z"
   },
   {
    "duration": 27,
    "start_time": "2023-08-30T21:25:19.137Z"
   },
   {
    "duration": 47,
    "start_time": "2023-08-30T21:25:19.166Z"
   },
   {
    "duration": 674,
    "start_time": "2023-08-30T22:03:49.382Z"
   },
   {
    "duration": 525,
    "start_time": "2023-08-30T22:03:57.863Z"
   },
   {
    "duration": 430,
    "start_time": "2023-08-30T22:04:27.312Z"
   },
   {
    "duration": 692,
    "start_time": "2023-08-30T22:04:39.673Z"
   },
   {
    "duration": 88,
    "start_time": "2023-08-30T22:07:40.752Z"
   },
   {
    "duration": 80,
    "start_time": "2023-08-30T22:07:47.780Z"
   },
   {
    "duration": 16,
    "start_time": "2023-08-30T22:07:56.709Z"
   },
   {
    "duration": 3013,
    "start_time": "2023-08-30T22:08:14.291Z"
   },
   {
    "duration": 1415,
    "start_time": "2023-08-30T22:08:28.583Z"
   },
   {
    "duration": 56,
    "start_time": "2023-08-30T22:08:30.001Z"
   },
   {
    "duration": 8,
    "start_time": "2023-08-30T22:08:30.059Z"
   },
   {
    "duration": 72,
    "start_time": "2023-08-30T22:08:30.069Z"
   },
   {
    "duration": 15,
    "start_time": "2023-08-30T22:08:30.146Z"
   },
   {
    "duration": 16,
    "start_time": "2023-08-30T22:08:30.167Z"
   },
   {
    "duration": 19,
    "start_time": "2023-08-30T22:08:30.188Z"
   },
   {
    "duration": 33,
    "start_time": "2023-08-30T22:08:30.210Z"
   },
   {
    "duration": 383,
    "start_time": "2023-08-30T22:08:30.246Z"
   },
   {
    "duration": 355,
    "start_time": "2023-08-30T22:08:30.636Z"
   },
   {
    "duration": 113,
    "start_time": "2023-08-30T22:08:30.993Z"
   },
   {
    "duration": 80,
    "start_time": "2023-08-30T22:08:31.108Z"
   },
   {
    "duration": 134,
    "start_time": "2023-08-30T22:08:31.190Z"
   },
   {
    "duration": 15,
    "start_time": "2023-08-30T22:08:31.333Z"
   },
   {
    "duration": 18,
    "start_time": "2023-08-30T22:08:31.355Z"
   },
   {
    "duration": 41,
    "start_time": "2023-08-30T22:08:31.375Z"
   },
   {
    "duration": 32,
    "start_time": "2023-08-30T22:08:31.425Z"
   },
   {
    "duration": 80,
    "start_time": "2023-08-30T22:08:31.461Z"
   },
   {
    "duration": 8,
    "start_time": "2023-08-30T22:08:31.547Z"
   },
   {
    "duration": 56,
    "start_time": "2023-08-30T22:08:31.563Z"
   },
   {
    "duration": 29,
    "start_time": "2023-08-30T22:08:31.639Z"
   },
   {
    "duration": 38,
    "start_time": "2023-08-30T22:08:31.670Z"
   },
   {
    "duration": 496,
    "start_time": "2023-08-30T22:08:31.721Z"
   },
   {
    "duration": 477,
    "start_time": "2023-08-30T22:08:32.222Z"
   },
   {
    "duration": 449,
    "start_time": "2023-08-30T22:08:32.706Z"
   },
   {
    "duration": 17,
    "start_time": "2023-08-30T22:08:33.166Z"
   },
   {
    "duration": 500,
    "start_time": "2023-08-30T22:08:33.194Z"
   },
   {
    "duration": 35,
    "start_time": "2023-08-30T22:08:33.700Z"
   },
   {
    "duration": 522,
    "start_time": "2023-08-30T22:08:33.742Z"
   },
   {
    "duration": 8,
    "start_time": "2023-08-30T22:08:34.270Z"
   },
   {
    "duration": 664,
    "start_time": "2023-08-30T22:08:34.286Z"
   },
   {
    "duration": 12,
    "start_time": "2023-08-30T22:08:34.958Z"
   },
   {
    "duration": 220,
    "start_time": "2023-08-30T22:08:34.976Z"
   },
   {
    "duration": 31,
    "start_time": "2023-08-30T22:08:35.202Z"
   },
   {
    "duration": 189,
    "start_time": "2023-08-30T22:08:35.239Z"
   },
   {
    "duration": 17,
    "start_time": "2023-08-30T22:08:35.434Z"
   },
   {
    "duration": 34,
    "start_time": "2023-08-30T22:08:35.473Z"
   },
   {
    "duration": 70,
    "start_time": "2023-08-30T22:08:35.513Z"
   },
   {
    "duration": 51,
    "start_time": "2023-08-30T22:08:35.586Z"
   },
   {
    "duration": 178,
    "start_time": "2023-08-30T22:08:35.639Z"
   },
   {
    "duration": 6,
    "start_time": "2023-08-30T22:08:35.819Z"
   },
   {
    "duration": 89,
    "start_time": "2023-08-30T22:08:35.832Z"
   },
   {
    "duration": 45,
    "start_time": "2023-08-30T22:08:35.924Z"
   },
   {
    "duration": 31,
    "start_time": "2023-08-30T22:08:35.972Z"
   },
   {
    "duration": 33,
    "start_time": "2023-08-30T22:08:36.005Z"
   },
   {
    "duration": 17,
    "start_time": "2023-08-30T22:08:36.040Z"
   },
   {
    "duration": 48,
    "start_time": "2023-08-30T22:08:36.059Z"
   },
   {
    "duration": 30,
    "start_time": "2023-08-30T22:08:36.109Z"
   },
   {
    "duration": 195,
    "start_time": "2023-08-30T22:12:03.453Z"
   },
   {
    "duration": 1331,
    "start_time": "2023-08-30T22:12:11.694Z"
   },
   {
    "duration": 49,
    "start_time": "2023-08-30T22:12:13.036Z"
   },
   {
    "duration": 6,
    "start_time": "2023-08-30T22:12:13.088Z"
   },
   {
    "duration": 86,
    "start_time": "2023-08-30T22:12:13.096Z"
   },
   {
    "duration": 13,
    "start_time": "2023-08-30T22:12:13.185Z"
   },
   {
    "duration": 37,
    "start_time": "2023-08-30T22:12:13.201Z"
   },
   {
    "duration": 22,
    "start_time": "2023-08-30T22:12:13.250Z"
   },
   {
    "duration": 19,
    "start_time": "2023-08-30T22:12:13.274Z"
   },
   {
    "duration": 398,
    "start_time": "2023-08-30T22:12:13.295Z"
   },
   {
    "duration": 432,
    "start_time": "2023-08-30T22:12:13.696Z"
   },
   {
    "duration": 78,
    "start_time": "2023-08-30T22:12:14.130Z"
   },
   {
    "duration": 64,
    "start_time": "2023-08-30T22:12:14.214Z"
   },
   {
    "duration": 114,
    "start_time": "2023-08-30T22:12:14.279Z"
   },
   {
    "duration": 32,
    "start_time": "2023-08-30T22:12:14.397Z"
   },
   {
    "duration": 15,
    "start_time": "2023-08-30T22:12:14.434Z"
   },
   {
    "duration": 20,
    "start_time": "2023-08-30T22:12:14.452Z"
   },
   {
    "duration": 28,
    "start_time": "2023-08-30T22:12:14.474Z"
   },
   {
    "duration": 54,
    "start_time": "2023-08-30T22:12:14.504Z"
   },
   {
    "duration": 8,
    "start_time": "2023-08-30T22:12:14.565Z"
   },
   {
    "duration": 20,
    "start_time": "2023-08-30T22:12:14.576Z"
   },
   {
    "duration": 34,
    "start_time": "2023-08-30T22:12:14.598Z"
   },
   {
    "duration": 30,
    "start_time": "2023-08-30T22:12:14.649Z"
   },
   {
    "duration": 431,
    "start_time": "2023-08-30T22:12:14.682Z"
   },
   {
    "duration": 432,
    "start_time": "2023-08-30T22:12:15.123Z"
   },
   {
    "duration": 333,
    "start_time": "2023-08-30T22:12:15.564Z"
   },
   {
    "duration": 15,
    "start_time": "2023-08-30T22:12:15.899Z"
   },
   {
    "duration": 424,
    "start_time": "2023-08-30T22:12:15.924Z"
   },
   {
    "duration": 13,
    "start_time": "2023-08-30T22:12:16.350Z"
   },
   {
    "duration": 395,
    "start_time": "2023-08-30T22:12:16.367Z"
   },
   {
    "duration": 6,
    "start_time": "2023-08-30T22:12:16.765Z"
   },
   {
    "duration": 559,
    "start_time": "2023-08-30T22:12:16.773Z"
   },
   {
    "duration": 6,
    "start_time": "2023-08-30T22:12:17.334Z"
   },
   {
    "duration": 219,
    "start_time": "2023-08-30T22:12:17.347Z"
   },
   {
    "duration": 9,
    "start_time": "2023-08-30T22:12:17.568Z"
   },
   {
    "duration": 196,
    "start_time": "2023-08-30T22:12:17.579Z"
   },
   {
    "duration": 9,
    "start_time": "2023-08-30T22:12:17.777Z"
   },
   {
    "duration": 48,
    "start_time": "2023-08-30T22:12:17.788Z"
   },
   {
    "duration": 52,
    "start_time": "2023-08-30T22:12:17.838Z"
   },
   {
    "duration": 53,
    "start_time": "2023-08-30T22:12:17.892Z"
   },
   {
    "duration": 240,
    "start_time": "2023-08-30T22:12:17.947Z"
   },
   {
    "duration": 29,
    "start_time": "2023-08-30T22:12:18.191Z"
   },
   {
    "duration": 48,
    "start_time": "2023-08-30T22:12:18.221Z"
   },
   {
    "duration": 13,
    "start_time": "2023-08-30T22:12:18.272Z"
   },
   {
    "duration": 37,
    "start_time": "2023-08-30T22:12:18.288Z"
   },
   {
    "duration": 48,
    "start_time": "2023-08-30T22:12:18.328Z"
   },
   {
    "duration": 25,
    "start_time": "2023-08-30T22:12:18.378Z"
   },
   {
    "duration": 68,
    "start_time": "2023-08-30T22:12:18.405Z"
   },
   {
    "duration": 28,
    "start_time": "2023-08-30T22:12:18.475Z"
   },
   {
    "duration": 161,
    "start_time": "2023-08-30T22:12:59.436Z"
   },
   {
    "duration": 14,
    "start_time": "2023-08-30T22:13:33.052Z"
   },
   {
    "duration": 145,
    "start_time": "2023-08-30T22:13:47.604Z"
   },
   {
    "duration": 1508,
    "start_time": "2023-08-30T22:14:00.508Z"
   },
   {
    "duration": 50,
    "start_time": "2023-08-30T22:14:02.019Z"
   },
   {
    "duration": 7,
    "start_time": "2023-08-30T22:14:02.072Z"
   },
   {
    "duration": 85,
    "start_time": "2023-08-30T22:14:02.080Z"
   },
   {
    "duration": 14,
    "start_time": "2023-08-30T22:14:02.173Z"
   },
   {
    "duration": 31,
    "start_time": "2023-08-30T22:14:02.189Z"
   },
   {
    "duration": 37,
    "start_time": "2023-08-30T22:14:02.227Z"
   },
   {
    "duration": 22,
    "start_time": "2023-08-30T22:14:02.266Z"
   },
   {
    "duration": 449,
    "start_time": "2023-08-30T22:14:02.290Z"
   },
   {
    "duration": 362,
    "start_time": "2023-08-30T22:14:02.741Z"
   },
   {
    "duration": 95,
    "start_time": "2023-08-30T22:14:03.105Z"
   },
   {
    "duration": 89,
    "start_time": "2023-08-30T22:14:03.202Z"
   },
   {
    "duration": 137,
    "start_time": "2023-08-30T22:14:03.294Z"
   },
   {
    "duration": 13,
    "start_time": "2023-08-30T22:14:03.435Z"
   },
   {
    "duration": 35,
    "start_time": "2023-08-30T22:14:03.455Z"
   },
   {
    "duration": 27,
    "start_time": "2023-08-30T22:14:03.495Z"
   },
   {
    "duration": 22,
    "start_time": "2023-08-30T22:14:03.529Z"
   },
   {
    "duration": 9,
    "start_time": "2023-08-30T22:14:03.555Z"
   },
   {
    "duration": 63,
    "start_time": "2023-08-30T22:14:03.568Z"
   },
   {
    "duration": 8,
    "start_time": "2023-08-30T22:14:03.633Z"
   },
   {
    "duration": 46,
    "start_time": "2023-08-30T22:14:03.645Z"
   },
   {
    "duration": 6,
    "start_time": "2023-08-30T22:14:03.693Z"
   },
   {
    "duration": 45,
    "start_time": "2023-08-30T22:14:03.700Z"
   },
   {
    "duration": 451,
    "start_time": "2023-08-30T22:14:03.747Z"
   },
   {
    "duration": 394,
    "start_time": "2023-08-30T22:14:04.201Z"
   },
   {
    "duration": 465,
    "start_time": "2023-08-30T22:14:04.598Z"
   },
   {
    "duration": 18,
    "start_time": "2023-08-30T22:14:05.066Z"
   },
   {
    "duration": 401,
    "start_time": "2023-08-30T22:14:05.092Z"
   },
   {
    "duration": 29,
    "start_time": "2023-08-30T22:14:05.498Z"
   },
   {
    "duration": 488,
    "start_time": "2023-08-30T22:14:05.534Z"
   },
   {
    "duration": 6,
    "start_time": "2023-08-30T22:14:06.029Z"
   },
   {
    "duration": 609,
    "start_time": "2023-08-30T22:14:06.040Z"
   },
   {
    "duration": 22,
    "start_time": "2023-08-30T22:14:06.651Z"
   },
   {
    "duration": 194,
    "start_time": "2023-08-30T22:14:06.677Z"
   },
   {
    "duration": 12,
    "start_time": "2023-08-30T22:14:06.872Z"
   },
   {
    "duration": 219,
    "start_time": "2023-08-30T22:14:06.885Z"
   },
   {
    "duration": 33,
    "start_time": "2023-08-30T22:14:07.107Z"
   },
   {
    "duration": 37,
    "start_time": "2023-08-30T22:14:07.148Z"
   },
   {
    "duration": 23,
    "start_time": "2023-08-30T22:14:07.187Z"
   },
   {
    "duration": 44,
    "start_time": "2023-08-30T22:14:07.215Z"
   },
   {
    "duration": 166,
    "start_time": "2023-08-30T22:14:07.268Z"
   },
   {
    "duration": 8,
    "start_time": "2023-08-30T22:14:07.438Z"
   },
   {
    "duration": 55,
    "start_time": "2023-08-30T22:14:07.452Z"
   },
   {
    "duration": 27,
    "start_time": "2023-08-30T22:14:07.521Z"
   },
   {
    "duration": 34,
    "start_time": "2023-08-30T22:14:07.553Z"
   },
   {
    "duration": 31,
    "start_time": "2023-08-30T22:14:07.590Z"
   },
   {
    "duration": 35,
    "start_time": "2023-08-30T22:14:07.628Z"
   },
   {
    "duration": 58,
    "start_time": "2023-08-30T22:14:07.667Z"
   },
   {
    "duration": 48,
    "start_time": "2023-08-30T22:14:07.727Z"
   },
   {
    "duration": 8,
    "start_time": "2023-08-30T22:15:00.502Z"
   },
   {
    "duration": 1341,
    "start_time": "2023-08-30T22:15:08.315Z"
   },
   {
    "duration": 29,
    "start_time": "2023-08-30T22:15:09.660Z"
   },
   {
    "duration": 6,
    "start_time": "2023-08-30T22:15:09.692Z"
   },
   {
    "duration": 85,
    "start_time": "2023-08-30T22:15:09.704Z"
   },
   {
    "duration": 12,
    "start_time": "2023-08-30T22:15:09.792Z"
   },
   {
    "duration": 41,
    "start_time": "2023-08-30T22:15:09.807Z"
   },
   {
    "duration": 22,
    "start_time": "2023-08-30T22:15:09.851Z"
   },
   {
    "duration": 15,
    "start_time": "2023-08-30T22:15:09.875Z"
   },
   {
    "duration": 354,
    "start_time": "2023-08-30T22:15:09.892Z"
   },
   {
    "duration": 325,
    "start_time": "2023-08-30T22:15:10.252Z"
   },
   {
    "duration": 96,
    "start_time": "2023-08-30T22:15:10.584Z"
   },
   {
    "duration": 58,
    "start_time": "2023-08-30T22:15:10.682Z"
   },
   {
    "duration": 149,
    "start_time": "2023-08-30T22:15:10.742Z"
   },
   {
    "duration": 16,
    "start_time": "2023-08-30T22:15:10.892Z"
   },
   {
    "duration": 25,
    "start_time": "2023-08-30T22:15:10.911Z"
   },
   {
    "duration": 17,
    "start_time": "2023-08-30T22:15:10.939Z"
   },
   {
    "duration": 16,
    "start_time": "2023-08-30T22:15:10.960Z"
   },
   {
    "duration": 72,
    "start_time": "2023-08-30T22:15:10.979Z"
   },
   {
    "duration": 5,
    "start_time": "2023-08-30T22:15:11.053Z"
   },
   {
    "duration": 33,
    "start_time": "2023-08-30T22:15:11.061Z"
   },
   {
    "duration": 10,
    "start_time": "2023-08-30T22:15:11.096Z"
   },
   {
    "duration": 24,
    "start_time": "2023-08-30T22:15:11.108Z"
   },
   {
    "duration": 439,
    "start_time": "2023-08-30T22:15:11.134Z"
   },
   {
    "duration": 380,
    "start_time": "2023-08-30T22:15:11.575Z"
   },
   {
    "duration": 323,
    "start_time": "2023-08-30T22:15:11.957Z"
   },
   {
    "duration": 11,
    "start_time": "2023-08-30T22:15:12.282Z"
   },
   {
    "duration": 409,
    "start_time": "2023-08-30T22:15:12.294Z"
   },
   {
    "duration": 18,
    "start_time": "2023-08-30T22:15:12.709Z"
   },
   {
    "duration": 484,
    "start_time": "2023-08-30T22:15:12.729Z"
   },
   {
    "duration": 5,
    "start_time": "2023-08-30T22:15:13.216Z"
   },
   {
    "duration": 527,
    "start_time": "2023-08-30T22:15:13.223Z"
   },
   {
    "duration": 17,
    "start_time": "2023-08-30T22:15:13.752Z"
   },
   {
    "duration": 192,
    "start_time": "2023-08-30T22:15:13.771Z"
   },
   {
    "duration": 9,
    "start_time": "2023-08-30T22:15:13.965Z"
   },
   {
    "duration": 171,
    "start_time": "2023-08-30T22:15:13.976Z"
   },
   {
    "duration": 16,
    "start_time": "2023-08-30T22:15:14.152Z"
   },
   {
    "duration": 28,
    "start_time": "2023-08-30T22:15:14.171Z"
   },
   {
    "duration": 36,
    "start_time": "2023-08-30T22:15:14.217Z"
   },
   {
    "duration": 22,
    "start_time": "2023-08-30T22:15:14.257Z"
   },
   {
    "duration": 202,
    "start_time": "2023-08-30T22:15:14.281Z"
   },
   {
    "duration": 8,
    "start_time": "2023-08-30T22:15:14.484Z"
   },
   {
    "duration": 53,
    "start_time": "2023-08-30T22:15:14.493Z"
   },
   {
    "duration": 23,
    "start_time": "2023-08-30T22:15:14.548Z"
   },
   {
    "duration": 10,
    "start_time": "2023-08-30T22:15:14.574Z"
   },
   {
    "duration": 50,
    "start_time": "2023-08-30T22:15:14.586Z"
   },
   {
    "duration": 24,
    "start_time": "2023-08-30T22:15:14.638Z"
   },
   {
    "duration": 48,
    "start_time": "2023-08-30T22:15:14.665Z"
   },
   {
    "duration": 38,
    "start_time": "2023-08-30T22:15:14.715Z"
   },
   {
    "duration": 12,
    "start_time": "2023-08-30T22:21:24.508Z"
   },
   {
    "duration": 7,
    "start_time": "2023-08-30T22:22:13.159Z"
   },
   {
    "duration": 338,
    "start_time": "2023-08-30T22:28:15.491Z"
   },
   {
    "duration": 1413,
    "start_time": "2023-08-30T22:28:36.969Z"
   },
   {
    "duration": 44,
    "start_time": "2023-08-30T22:28:38.387Z"
   },
   {
    "duration": 20,
    "start_time": "2023-08-30T22:28:38.442Z"
   },
   {
    "duration": 87,
    "start_time": "2023-08-30T22:28:38.472Z"
   },
   {
    "duration": 13,
    "start_time": "2023-08-30T22:28:38.562Z"
   },
   {
    "duration": 29,
    "start_time": "2023-08-30T22:28:38.577Z"
   },
   {
    "duration": 64,
    "start_time": "2023-08-30T22:28:38.608Z"
   },
   {
    "duration": 35,
    "start_time": "2023-08-30T22:28:38.678Z"
   },
   {
    "duration": 446,
    "start_time": "2023-08-30T22:28:38.719Z"
   },
   {
    "duration": 356,
    "start_time": "2023-08-30T22:28:39.169Z"
   },
   {
    "duration": 127,
    "start_time": "2023-08-30T22:28:39.528Z"
   },
   {
    "duration": 75,
    "start_time": "2023-08-30T22:28:39.658Z"
   },
   {
    "duration": 164,
    "start_time": "2023-08-30T22:28:39.739Z"
   },
   {
    "duration": 23,
    "start_time": "2023-08-30T22:28:39.908Z"
   },
   {
    "duration": 24,
    "start_time": "2023-08-30T22:28:39.933Z"
   },
   {
    "duration": 28,
    "start_time": "2023-08-30T22:28:39.967Z"
   },
   {
    "duration": 26,
    "start_time": "2023-08-30T22:28:39.998Z"
   },
   {
    "duration": 62,
    "start_time": "2023-08-30T22:28:40.029Z"
   },
   {
    "duration": 3,
    "start_time": "2023-08-30T22:28:40.094Z"
   },
   {
    "duration": 44,
    "start_time": "2023-08-30T22:28:40.099Z"
   },
   {
    "duration": 16,
    "start_time": "2023-08-30T22:28:40.144Z"
   },
   {
    "duration": 21,
    "start_time": "2023-08-30T22:28:40.162Z"
   },
   {
    "duration": 494,
    "start_time": "2023-08-30T22:28:40.185Z"
   },
   {
    "duration": 412,
    "start_time": "2023-08-30T22:28:40.681Z"
   },
   {
    "duration": 432,
    "start_time": "2023-08-30T22:28:41.095Z"
   },
   {
    "duration": 12,
    "start_time": "2023-08-30T22:28:41.529Z"
   },
   {
    "duration": 381,
    "start_time": "2023-08-30T22:28:41.543Z"
   },
   {
    "duration": 12,
    "start_time": "2023-08-30T22:28:41.926Z"
   },
   {
    "duration": 378,
    "start_time": "2023-08-30T22:28:41.940Z"
   },
   {
    "duration": 8,
    "start_time": "2023-08-30T22:28:42.320Z"
   },
   {
    "duration": 667,
    "start_time": "2023-08-30T22:28:42.330Z"
   },
   {
    "duration": 19,
    "start_time": "2023-08-30T22:28:42.999Z"
   },
   {
    "duration": 210,
    "start_time": "2023-08-30T22:28:43.020Z"
   },
   {
    "duration": 11,
    "start_time": "2023-08-30T22:28:43.232Z"
   },
   {
    "duration": 13,
    "start_time": "2023-08-30T22:28:43.248Z"
   },
   {
    "duration": 209,
    "start_time": "2023-08-30T22:28:43.264Z"
   },
   {
    "duration": 313,
    "start_time": "2023-08-30T22:28:43.479Z"
   },
   {
    "duration": 0,
    "start_time": "2023-08-30T22:28:43.795Z"
   },
   {
    "duration": 1,
    "start_time": "2023-08-30T22:28:43.796Z"
   },
   {
    "duration": 0,
    "start_time": "2023-08-30T22:28:43.799Z"
   },
   {
    "duration": 0,
    "start_time": "2023-08-30T22:28:43.816Z"
   },
   {
    "duration": 0,
    "start_time": "2023-08-30T22:28:43.817Z"
   },
   {
    "duration": 0,
    "start_time": "2023-08-30T22:28:43.818Z"
   },
   {
    "duration": 0,
    "start_time": "2023-08-30T22:28:43.819Z"
   },
   {
    "duration": 0,
    "start_time": "2023-08-30T22:28:43.820Z"
   },
   {
    "duration": 0,
    "start_time": "2023-08-30T22:28:43.820Z"
   },
   {
    "duration": 0,
    "start_time": "2023-08-30T22:28:43.821Z"
   },
   {
    "duration": 0,
    "start_time": "2023-08-30T22:28:43.822Z"
   },
   {
    "duration": 0,
    "start_time": "2023-08-30T22:28:43.826Z"
   },
   {
    "duration": 0,
    "start_time": "2023-08-30T22:28:43.827Z"
   },
   {
    "duration": 213,
    "start_time": "2023-08-30T22:29:56.275Z"
   },
   {
    "duration": 186,
    "start_time": "2023-08-30T22:30:10.453Z"
   },
   {
    "duration": 165,
    "start_time": "2023-08-30T22:30:19.359Z"
   },
   {
    "duration": 181,
    "start_time": "2023-08-30T22:30:30.562Z"
   },
   {
    "duration": 175,
    "start_time": "2023-08-30T22:31:31.773Z"
   },
   {
    "duration": 176,
    "start_time": "2023-08-30T22:31:42.975Z"
   },
   {
    "duration": 143,
    "start_time": "2023-08-30T22:32:00.150Z"
   },
   {
    "duration": 207,
    "start_time": "2023-08-30T22:32:11.657Z"
   },
   {
    "duration": 1499,
    "start_time": "2023-08-30T22:34:01.667Z"
   },
   {
    "duration": 57,
    "start_time": "2023-08-30T22:34:03.181Z"
   },
   {
    "duration": 6,
    "start_time": "2023-08-30T22:34:03.245Z"
   },
   {
    "duration": 118,
    "start_time": "2023-08-30T22:34:03.254Z"
   },
   {
    "duration": 13,
    "start_time": "2023-08-30T22:34:03.375Z"
   },
   {
    "duration": 12,
    "start_time": "2023-08-30T22:34:03.390Z"
   },
   {
    "duration": 23,
    "start_time": "2023-08-30T22:34:03.404Z"
   },
   {
    "duration": 38,
    "start_time": "2023-08-30T22:34:03.428Z"
   },
   {
    "duration": 358,
    "start_time": "2023-08-30T22:34:03.468Z"
   },
   {
    "duration": 335,
    "start_time": "2023-08-30T22:34:03.836Z"
   },
   {
    "duration": 82,
    "start_time": "2023-08-30T22:34:04.172Z"
   },
   {
    "duration": 60,
    "start_time": "2023-08-30T22:34:04.263Z"
   },
   {
    "duration": 131,
    "start_time": "2023-08-30T22:34:04.325Z"
   },
   {
    "duration": 7,
    "start_time": "2023-08-30T22:34:04.462Z"
   },
   {
    "duration": 26,
    "start_time": "2023-08-30T22:34:04.471Z"
   },
   {
    "duration": 46,
    "start_time": "2023-08-30T22:34:04.499Z"
   },
   {
    "duration": 18,
    "start_time": "2023-08-30T22:34:04.547Z"
   },
   {
    "duration": 59,
    "start_time": "2023-08-30T22:34:04.567Z"
   },
   {
    "duration": 6,
    "start_time": "2023-08-30T22:34:04.628Z"
   },
   {
    "duration": 36,
    "start_time": "2023-08-30T22:34:04.637Z"
   },
   {
    "duration": 15,
    "start_time": "2023-08-30T22:34:04.676Z"
   },
   {
    "duration": 23,
    "start_time": "2023-08-30T22:34:04.693Z"
   },
   {
    "duration": 472,
    "start_time": "2023-08-30T22:34:04.719Z"
   },
   {
    "duration": 434,
    "start_time": "2023-08-30T22:34:05.194Z"
   },
   {
    "duration": 342,
    "start_time": "2023-08-30T22:34:05.631Z"
   },
   {
    "duration": 9,
    "start_time": "2023-08-30T22:34:05.975Z"
   },
   {
    "duration": 380,
    "start_time": "2023-08-30T22:34:05.986Z"
   },
   {
    "duration": 12,
    "start_time": "2023-08-30T22:34:06.368Z"
   },
   {
    "duration": 463,
    "start_time": "2023-08-30T22:34:06.382Z"
   },
   {
    "duration": 12,
    "start_time": "2023-08-30T22:34:06.848Z"
   },
   {
    "duration": 620,
    "start_time": "2023-08-30T22:34:06.866Z"
   },
   {
    "duration": 7,
    "start_time": "2023-08-30T22:34:07.488Z"
   },
   {
    "duration": 204,
    "start_time": "2023-08-30T22:34:07.497Z"
   },
   {
    "duration": 29,
    "start_time": "2023-08-30T22:34:07.703Z"
   },
   {
    "duration": 12,
    "start_time": "2023-08-30T22:34:07.735Z"
   },
   {
    "duration": 193,
    "start_time": "2023-08-30T22:34:07.750Z"
   },
   {
    "duration": 183,
    "start_time": "2023-08-30T22:34:07.953Z"
   },
   {
    "duration": 21,
    "start_time": "2023-08-30T22:34:08.145Z"
   },
   {
    "duration": 28,
    "start_time": "2023-08-30T22:34:08.168Z"
   },
   {
    "duration": 27,
    "start_time": "2023-08-30T22:34:08.199Z"
   },
   {
    "duration": 41,
    "start_time": "2023-08-30T22:34:08.236Z"
   },
   {
    "duration": 153,
    "start_time": "2023-08-30T22:34:08.279Z"
   },
   {
    "duration": 8,
    "start_time": "2023-08-30T22:34:08.434Z"
   },
   {
    "duration": 41,
    "start_time": "2023-08-30T22:34:08.444Z"
   },
   {
    "duration": 45,
    "start_time": "2023-08-30T22:34:08.487Z"
   },
   {
    "duration": 19,
    "start_time": "2023-08-30T22:34:08.535Z"
   },
   {
    "duration": 17,
    "start_time": "2023-08-30T22:34:08.556Z"
   },
   {
    "duration": 14,
    "start_time": "2023-08-30T22:34:08.575Z"
   },
   {
    "duration": 58,
    "start_time": "2023-08-30T22:34:08.591Z"
   },
   {
    "duration": 28,
    "start_time": "2023-08-30T22:34:08.663Z"
   },
   {
    "duration": 1395,
    "start_time": "2023-08-31T06:11:46.647Z"
   },
   {
    "duration": 84,
    "start_time": "2023-08-31T06:11:48.045Z"
   },
   {
    "duration": 5,
    "start_time": "2023-08-31T06:11:48.131Z"
   },
   {
    "duration": 50,
    "start_time": "2023-08-31T06:11:48.138Z"
   },
   {
    "duration": 8,
    "start_time": "2023-08-31T06:11:48.190Z"
   },
   {
    "duration": 10,
    "start_time": "2023-08-31T06:11:48.201Z"
   },
   {
    "duration": 14,
    "start_time": "2023-08-31T06:11:48.213Z"
   },
   {
    "duration": 19,
    "start_time": "2023-08-31T06:11:48.260Z"
   },
   {
    "duration": 289,
    "start_time": "2023-08-31T06:11:48.281Z"
   },
   {
    "duration": 275,
    "start_time": "2023-08-31T06:11:48.573Z"
   },
   {
    "duration": 138,
    "start_time": "2023-08-31T06:11:48.850Z"
   },
   {
    "duration": 58,
    "start_time": "2023-08-31T06:11:48.990Z"
   },
   {
    "duration": 88,
    "start_time": "2023-08-31T06:11:49.050Z"
   },
   {
    "duration": 6,
    "start_time": "2023-08-31T06:11:49.140Z"
   },
   {
    "duration": 7,
    "start_time": "2023-08-31T06:11:49.159Z"
   },
   {
    "duration": 22,
    "start_time": "2023-08-31T06:11:49.168Z"
   },
   {
    "duration": 6,
    "start_time": "2023-08-31T06:11:49.192Z"
   },
   {
    "duration": 62,
    "start_time": "2023-08-31T06:11:49.200Z"
   },
   {
    "duration": 3,
    "start_time": "2023-08-31T06:11:49.264Z"
   },
   {
    "duration": 23,
    "start_time": "2023-08-31T06:11:49.269Z"
   },
   {
    "duration": 8,
    "start_time": "2023-08-31T06:11:49.294Z"
   },
   {
    "duration": 18,
    "start_time": "2023-08-31T06:11:49.304Z"
   },
   {
    "duration": 363,
    "start_time": "2023-08-31T06:11:49.324Z"
   },
   {
    "duration": 318,
    "start_time": "2023-08-31T06:11:49.689Z"
   },
   {
    "duration": 307,
    "start_time": "2023-08-31T06:11:50.009Z"
   },
   {
    "duration": 9,
    "start_time": "2023-08-31T06:11:50.318Z"
   },
   {
    "duration": 298,
    "start_time": "2023-08-31T06:11:50.329Z"
   },
   {
    "duration": 10,
    "start_time": "2023-08-31T06:11:50.630Z"
   },
   {
    "duration": 343,
    "start_time": "2023-08-31T06:11:50.642Z"
   },
   {
    "duration": 4,
    "start_time": "2023-08-31T06:11:50.987Z"
   },
   {
    "duration": 586,
    "start_time": "2023-08-31T06:11:50.992Z"
   },
   {
    "duration": 7,
    "start_time": "2023-08-31T06:11:51.580Z"
   },
   {
    "duration": 168,
    "start_time": "2023-08-31T06:11:51.588Z"
   },
   {
    "duration": 10,
    "start_time": "2023-08-31T06:11:51.759Z"
   },
   {
    "duration": 23,
    "start_time": "2023-08-31T06:11:51.770Z"
   },
   {
    "duration": 156,
    "start_time": "2023-08-31T06:11:51.794Z"
   },
   {
    "duration": 165,
    "start_time": "2023-08-31T06:11:51.951Z"
   },
   {
    "duration": 10,
    "start_time": "2023-08-31T06:11:52.118Z"
   },
   {
    "duration": 107,
    "start_time": "2023-08-31T06:11:52.129Z"
   },
   {
    "duration": 77,
    "start_time": "2023-08-31T06:11:52.238Z"
   },
   {
    "duration": 46,
    "start_time": "2023-08-31T06:11:52.317Z"
   },
   {
    "duration": 173,
    "start_time": "2023-08-31T06:11:52.364Z"
   },
   {
    "duration": 7,
    "start_time": "2023-08-31T06:11:52.538Z"
   },
   {
    "duration": 51,
    "start_time": "2023-08-31T06:11:52.546Z"
   },
   {
    "duration": 12,
    "start_time": "2023-08-31T06:11:52.599Z"
   },
   {
    "duration": 9,
    "start_time": "2023-08-31T06:11:52.612Z"
   },
   {
    "duration": 11,
    "start_time": "2023-08-31T06:11:52.623Z"
   },
   {
    "duration": 31,
    "start_time": "2023-08-31T06:11:52.636Z"
   },
   {
    "duration": 22,
    "start_time": "2023-08-31T06:11:52.669Z"
   },
   {
    "duration": 23,
    "start_time": "2023-08-31T06:11:52.694Z"
   },
   {
    "duration": 1488,
    "start_time": "2023-10-04T15:54:56.409Z"
   },
   {
    "duration": 61,
    "start_time": "2023-10-04T15:54:57.900Z"
   },
   {
    "duration": 7,
    "start_time": "2023-10-04T15:54:57.964Z"
   },
   {
    "duration": 87,
    "start_time": "2023-10-04T15:54:57.974Z"
   },
   {
    "duration": 19,
    "start_time": "2023-10-04T15:54:58.063Z"
   },
   {
    "duration": 34,
    "start_time": "2023-10-04T15:54:58.084Z"
   },
   {
    "duration": 45,
    "start_time": "2023-10-04T15:54:58.120Z"
   },
   {
    "duration": 20,
    "start_time": "2023-10-04T15:54:58.167Z"
   },
   {
    "duration": 323,
    "start_time": "2023-10-04T15:54:58.189Z"
   },
   {
    "duration": 285,
    "start_time": "2023-10-04T15:54:58.516Z"
   },
   {
    "duration": 139,
    "start_time": "2023-10-04T15:54:58.803Z"
   },
   {
    "duration": 63,
    "start_time": "2023-10-04T15:54:58.945Z"
   },
   {
    "duration": 148,
    "start_time": "2023-10-04T15:54:59.010Z"
   },
   {
    "duration": 6,
    "start_time": "2023-10-04T15:54:59.160Z"
   },
   {
    "duration": 24,
    "start_time": "2023-10-04T15:54:59.168Z"
   },
   {
    "duration": 25,
    "start_time": "2023-10-04T15:54:59.194Z"
   },
   {
    "duration": 14,
    "start_time": "2023-10-04T15:54:59.221Z"
   },
   {
    "duration": 54,
    "start_time": "2023-10-04T15:54:59.237Z"
   },
   {
    "duration": 3,
    "start_time": "2023-10-04T15:54:59.293Z"
   },
   {
    "duration": 16,
    "start_time": "2023-10-04T15:54:59.298Z"
   },
   {
    "duration": 42,
    "start_time": "2023-10-04T15:54:59.316Z"
   },
   {
    "duration": 26,
    "start_time": "2023-10-04T15:54:59.360Z"
   },
   {
    "duration": 423,
    "start_time": "2023-10-04T15:54:59.388Z"
   },
   {
    "duration": 313,
    "start_time": "2023-10-04T15:54:59.813Z"
   },
   {
    "duration": 293,
    "start_time": "2023-10-04T15:55:00.129Z"
   },
   {
    "duration": 10,
    "start_time": "2023-10-04T15:55:00.424Z"
   },
   {
    "duration": 327,
    "start_time": "2023-10-04T15:55:00.436Z"
   },
   {
    "duration": 16,
    "start_time": "2023-10-04T15:55:00.767Z"
   },
   {
    "duration": 368,
    "start_time": "2023-10-04T15:55:00.785Z"
   },
   {
    "duration": 5,
    "start_time": "2023-10-04T15:55:01.155Z"
   },
   {
    "duration": 671,
    "start_time": "2023-10-04T15:55:01.162Z"
   },
   {
    "duration": 8,
    "start_time": "2023-10-04T15:55:01.835Z"
   },
   {
    "duration": 416,
    "start_time": "2023-10-04T15:55:01.846Z"
   },
   {
    "duration": 23,
    "start_time": "2023-10-04T15:55:02.264Z"
   },
   {
    "duration": 150,
    "start_time": "2023-10-04T15:55:02.289Z"
   },
   {
    "duration": 247,
    "start_time": "2023-10-04T15:55:02.441Z"
   },
   {
    "duration": 161,
    "start_time": "2023-10-04T15:55:02.690Z"
   },
   {
    "duration": 10,
    "start_time": "2023-10-04T15:55:02.853Z"
   },
   {
    "duration": 84,
    "start_time": "2023-10-04T15:55:02.882Z"
   },
   {
    "duration": 25,
    "start_time": "2023-10-04T15:55:02.968Z"
   },
   {
    "duration": 54,
    "start_time": "2023-10-04T15:55:02.995Z"
   },
   {
    "duration": 352,
    "start_time": "2023-10-04T15:55:03.051Z"
   },
   {
    "duration": 8,
    "start_time": "2023-10-04T15:55:03.406Z"
   },
   {
    "duration": 177,
    "start_time": "2023-10-04T15:55:03.417Z"
   },
   {
    "duration": 216,
    "start_time": "2023-10-04T15:55:03.596Z"
   },
   {
    "duration": 27,
    "start_time": "2023-10-04T15:55:03.815Z"
   },
   {
    "duration": 21,
    "start_time": "2023-10-04T15:55:03.844Z"
   },
   {
    "duration": 23,
    "start_time": "2023-10-04T15:55:03.867Z"
   },
   {
    "duration": 28,
    "start_time": "2023-10-04T15:55:03.892Z"
   },
   {
    "duration": 19,
    "start_time": "2023-10-04T15:55:03.922Z"
   },
   {
    "duration": 1133,
    "start_time": "2023-10-23T15:04:01.438Z"
   },
   {
    "duration": 62,
    "start_time": "2023-10-23T15:04:02.573Z"
   },
   {
    "duration": 5,
    "start_time": "2023-10-23T15:04:02.637Z"
   },
   {
    "duration": 81,
    "start_time": "2023-10-23T15:04:02.643Z"
   },
   {
    "duration": 9,
    "start_time": "2023-10-23T15:04:02.726Z"
   },
   {
    "duration": 45,
    "start_time": "2023-10-23T15:04:02.737Z"
   },
   {
    "duration": 69,
    "start_time": "2023-10-23T15:04:02.783Z"
   },
   {
    "duration": 30,
    "start_time": "2023-10-23T15:04:02.853Z"
   },
   {
    "duration": 291,
    "start_time": "2023-10-23T15:04:02.885Z"
   },
   {
    "duration": 273,
    "start_time": "2023-10-23T15:04:03.177Z"
   },
   {
    "duration": 133,
    "start_time": "2023-10-23T15:04:03.452Z"
   },
   {
    "duration": 41,
    "start_time": "2023-10-23T15:04:03.586Z"
   },
   {
    "duration": 91,
    "start_time": "2023-10-23T15:04:03.629Z"
   },
   {
    "duration": 5,
    "start_time": "2023-10-23T15:04:03.724Z"
   },
   {
    "duration": 50,
    "start_time": "2023-10-23T15:04:03.730Z"
   },
   {
    "duration": 69,
    "start_time": "2023-10-23T15:04:03.782Z"
   },
   {
    "duration": 30,
    "start_time": "2023-10-23T15:04:03.853Z"
   },
   {
    "duration": 42,
    "start_time": "2023-10-23T15:04:03.884Z"
   },
   {
    "duration": 14,
    "start_time": "2023-10-23T15:04:03.928Z"
   },
   {
    "duration": 31,
    "start_time": "2023-10-23T15:04:03.944Z"
   },
   {
    "duration": 37,
    "start_time": "2023-10-23T15:04:03.977Z"
   },
   {
    "duration": 33,
    "start_time": "2023-10-23T15:04:04.015Z"
   },
   {
    "duration": 342,
    "start_time": "2023-10-23T15:04:04.049Z"
   },
   {
    "duration": 318,
    "start_time": "2023-10-23T15:04:04.393Z"
   },
   {
    "duration": 268,
    "start_time": "2023-10-23T15:04:04.713Z"
   },
   {
    "duration": 8,
    "start_time": "2023-10-23T15:04:04.983Z"
   },
   {
    "duration": 295,
    "start_time": "2023-10-23T15:04:04.993Z"
   },
   {
    "duration": 17,
    "start_time": "2023-10-23T15:04:05.290Z"
   },
   {
    "duration": 268,
    "start_time": "2023-10-23T15:04:05.309Z"
   },
   {
    "duration": 4,
    "start_time": "2023-10-23T15:04:05.579Z"
   },
   {
    "duration": 506,
    "start_time": "2023-10-23T15:04:05.584Z"
   },
   {
    "duration": 16,
    "start_time": "2023-10-23T15:04:06.092Z"
   },
   {
    "duration": 168,
    "start_time": "2023-10-23T15:04:06.110Z"
   },
   {
    "duration": 9,
    "start_time": "2023-10-23T15:04:06.279Z"
   },
   {
    "duration": 24,
    "start_time": "2023-10-23T15:04:06.290Z"
   },
   {
    "duration": 146,
    "start_time": "2023-10-23T15:04:06.316Z"
   },
   {
    "duration": 134,
    "start_time": "2023-10-23T15:04:06.463Z"
   },
   {
    "duration": 14,
    "start_time": "2023-10-23T15:04:06.599Z"
   },
   {
    "duration": 43,
    "start_time": "2023-10-23T15:04:06.614Z"
   },
   {
    "duration": 17,
    "start_time": "2023-10-23T15:04:06.659Z"
   },
   {
    "duration": 23,
    "start_time": "2023-10-23T15:04:06.679Z"
   },
   {
    "duration": 126,
    "start_time": "2023-10-23T15:04:06.703Z"
   },
   {
    "duration": 7,
    "start_time": "2023-10-23T15:04:06.830Z"
   },
   {
    "duration": 67,
    "start_time": "2023-10-23T15:04:06.838Z"
   },
   {
    "duration": 11,
    "start_time": "2023-10-23T15:04:06.906Z"
   },
   {
    "duration": 14,
    "start_time": "2023-10-23T15:04:06.919Z"
   },
   {
    "duration": 10,
    "start_time": "2023-10-23T15:04:06.935Z"
   },
   {
    "duration": 14,
    "start_time": "2023-10-23T15:04:06.947Z"
   },
   {
    "duration": 30,
    "start_time": "2023-10-23T15:04:06.963Z"
   },
   {
    "duration": 28,
    "start_time": "2023-10-23T15:04:06.995Z"
   },
   {
    "duration": 968,
    "start_time": "2023-11-08T02:10:31.682Z"
   },
   {
    "duration": 60,
    "start_time": "2023-11-08T02:10:32.652Z"
   },
   {
    "duration": 4,
    "start_time": "2023-11-08T02:10:32.713Z"
   },
   {
    "duration": 37,
    "start_time": "2023-11-08T02:10:32.718Z"
   },
   {
    "duration": 8,
    "start_time": "2023-11-08T02:10:32.757Z"
   },
   {
    "duration": 9,
    "start_time": "2023-11-08T02:10:32.767Z"
   },
   {
    "duration": 11,
    "start_time": "2023-11-08T02:10:32.777Z"
   },
   {
    "duration": 11,
    "start_time": "2023-11-08T02:10:32.789Z"
   },
   {
    "duration": 270,
    "start_time": "2023-11-08T02:10:32.801Z"
   },
   {
    "duration": 226,
    "start_time": "2023-11-08T02:10:33.072Z"
   },
   {
    "duration": 131,
    "start_time": "2023-11-08T02:10:33.300Z"
   },
   {
    "duration": 32,
    "start_time": "2023-11-08T02:10:33.432Z"
   },
   {
    "duration": 95,
    "start_time": "2023-11-08T02:10:33.466Z"
   },
   {
    "duration": 5,
    "start_time": "2023-11-08T02:10:33.564Z"
   },
   {
    "duration": 5,
    "start_time": "2023-11-08T02:10:33.570Z"
   },
   {
    "duration": 19,
    "start_time": "2023-11-08T02:10:33.577Z"
   },
   {
    "duration": 4,
    "start_time": "2023-11-08T02:10:33.598Z"
   },
   {
    "duration": 46,
    "start_time": "2023-11-08T02:10:33.604Z"
   },
   {
    "duration": 2,
    "start_time": "2023-11-08T02:10:33.652Z"
   },
   {
    "duration": 15,
    "start_time": "2023-11-08T02:10:33.655Z"
   },
   {
    "duration": 5,
    "start_time": "2023-11-08T02:10:33.672Z"
   },
   {
    "duration": 13,
    "start_time": "2023-11-08T02:10:33.678Z"
   },
   {
    "duration": 318,
    "start_time": "2023-11-08T02:10:33.692Z"
   },
   {
    "duration": 257,
    "start_time": "2023-11-08T02:10:34.011Z"
   },
   {
    "duration": 241,
    "start_time": "2023-11-08T02:10:34.270Z"
   },
   {
    "duration": 6,
    "start_time": "2023-11-08T02:10:34.513Z"
   },
   {
    "duration": 287,
    "start_time": "2023-11-08T02:10:34.521Z"
   },
   {
    "duration": 7,
    "start_time": "2023-11-08T02:10:34.810Z"
   },
   {
    "duration": 249,
    "start_time": "2023-11-08T02:10:34.818Z"
   },
   {
    "duration": 3,
    "start_time": "2023-11-08T02:10:35.068Z"
   },
   {
    "duration": 408,
    "start_time": "2023-11-08T02:10:35.072Z"
   },
   {
    "duration": 5,
    "start_time": "2023-11-08T02:10:35.481Z"
   },
   {
    "duration": 126,
    "start_time": "2023-11-08T02:10:35.487Z"
   },
   {
    "duration": 8,
    "start_time": "2023-11-08T02:10:35.614Z"
   },
   {
    "duration": 22,
    "start_time": "2023-11-08T02:10:35.624Z"
   },
   {
    "duration": 123,
    "start_time": "2023-11-08T02:10:35.648Z"
   },
   {
    "duration": 121,
    "start_time": "2023-11-08T02:10:35.773Z"
   },
   {
    "duration": 8,
    "start_time": "2023-11-08T02:10:35.895Z"
   },
   {
    "duration": 27,
    "start_time": "2023-11-08T02:10:35.905Z"
   },
   {
    "duration": 26,
    "start_time": "2023-11-08T02:10:35.933Z"
   },
   {
    "duration": 19,
    "start_time": "2023-11-08T02:10:35.962Z"
   },
   {
    "duration": 158,
    "start_time": "2023-11-08T02:10:35.982Z"
   },
   {
    "duration": 6,
    "start_time": "2023-11-08T02:10:36.141Z"
   },
   {
    "duration": 41,
    "start_time": "2023-11-08T02:10:36.148Z"
   },
   {
    "duration": 11,
    "start_time": "2023-11-08T02:10:36.190Z"
   },
   {
    "duration": 8,
    "start_time": "2023-11-08T02:10:36.202Z"
   },
   {
    "duration": 15,
    "start_time": "2023-11-08T02:10:36.211Z"
   },
   {
    "duration": 14,
    "start_time": "2023-11-08T02:10:36.227Z"
   },
   {
    "duration": 22,
    "start_time": "2023-11-08T02:10:36.243Z"
   },
   {
    "duration": 15,
    "start_time": "2023-11-08T02:10:36.267Z"
   }
  ],
  "kernelspec": {
   "display_name": "Python 3 (ipykernel)",
   "language": "python",
   "name": "python3"
  },
  "language_info": {
   "codemirror_mode": {
    "name": "ipython",
    "version": 3
   },
   "file_extension": ".py",
   "mimetype": "text/x-python",
   "name": "python",
   "nbconvert_exporter": "python",
   "pygments_lexer": "ipython3",
   "version": "3.11.5"
  },
  "toc": {
   "base_numbering": 1,
   "nav_menu": {},
   "number_sections": true,
   "sideBar": true,
   "skip_h1_title": true,
   "title_cell": "Table of Contents",
   "title_sidebar": "Contents",
   "toc_cell": false,
   "toc_position": {},
   "toc_section_display": true,
   "toc_window_display": true
  }
 },
 "nbformat": 4,
 "nbformat_minor": 2
}
